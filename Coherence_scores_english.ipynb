{
  "nbformat": 4,
  "nbformat_minor": 0,
  "metadata": {
    "colab": {
      "name": "Coherence scores english.ipynb",
      "provenance": [],
      "collapsed_sections": []
    },
    "kernelspec": {
      "display_name": "Python 3",
      "name": "python3"
    },
    "language_info": {
      "name": "python"
    }
  },
  "cells": [
    {
      "cell_type": "markdown",
      "metadata": {
        "id": "l69lYX4D4zDl"
      },
      "source": [
        "In this block we import all the needed python dependencies for basic data analysis. Notable ones:\n",
        "\n",
        "\n",
        "*   pandas - allows csv files to be converted into a dataframe, allowing for quick iteration and data cleansing\n",
        "*   warnings - catches depreciation warnings that overide the actual output\n",
        "\n",
        "Then, using the pandas package, we read the csv file and drop all the uneeded data columns. Finally, by looping thruogh the enitre dataframe - all rows that containt non-english text is dropped based on the metadata within the 'lang' column.\n",
        "\n",
        "\n"
      ]
    },
    {
      "cell_type": "code",
      "metadata": {
        "colab": {
          "base_uri": "https://localhost:8080/",
          "height": 746
        },
        "id": "jOwgAJZp4q_b",
        "outputId": "ef3d3825-ebff-46eb-d6de-8a9970a097ba"
      },
      "source": [
        "import os\n",
        "import pandas as pd\n",
        "import re\n",
        "import string\n",
        "from datetime import datetime\n",
        "import warnings\n",
        "warnings.filterwarnings(\"ignore\",category=DeprecationWarning)\n",
        "\n",
        "\n",
        "papers = pd.read_csv('FCovid_Jl20_Cleaned.csv', low_memory=False)\n",
        "papers.head()\n",
        "\n",
        "\n",
        "papers.drop(columns=['ID', 'ref_category_title', 'ref_url', 'pageid', 'verifiedby', 'title', 'published_date', 'country1', 'country2', 'country3', 'country4', 'article_source', 'ref_source', 'source_title', 'category'], axis=1)\n",
        "\n",
        "for index, row in papers.iterrows():\n",
        "  if row['lang'] == 'en':  \n",
        "    continue\n",
        "  else:\n",
        "    papers.drop([index], inplace = True)\n",
        "\n",
        "papers.head()\n",
        "\n"
      ],
      "execution_count": null,
      "outputs": [
        {
          "output_type": "execute_result",
          "data": {
            "text/html": [
              "<div>\n",
              "<style scoped>\n",
              "    .dataframe tbody tr th:only-of-type {\n",
              "        vertical-align: middle;\n",
              "    }\n",
              "\n",
              "    .dataframe tbody tr th {\n",
              "        vertical-align: top;\n",
              "    }\n",
              "\n",
              "    .dataframe thead th {\n",
              "        text-align: right;\n",
              "    }\n",
              "</style>\n",
              "<table border=\"1\" class=\"dataframe\">\n",
              "  <thead>\n",
              "    <tr style=\"text-align: right;\">\n",
              "      <th></th>\n",
              "      <th>ID</th>\n",
              "      <th>ref_category_title</th>\n",
              "      <th>ref_url</th>\n",
              "      <th>pageid</th>\n",
              "      <th>verifiedby</th>\n",
              "      <th>country</th>\n",
              "      <th>class</th>\n",
              "      <th>title</th>\n",
              "      <th>published_date</th>\n",
              "      <th>country1</th>\n",
              "      <th>country2</th>\n",
              "      <th>country3</th>\n",
              "      <th>country4</th>\n",
              "      <th>article_source</th>\n",
              "      <th>ref_source</th>\n",
              "      <th>source_title</th>\n",
              "      <th>content_text</th>\n",
              "      <th>category</th>\n",
              "      <th>lang</th>\n",
              "      <th>Unnamed: 19</th>\n",
              "      <th>Unnamed: 20</th>\n",
              "      <th>Unnamed: 21</th>\n",
              "      <th>Unnamed: 22</th>\n",
              "      <th>Unnamed: 23</th>\n",
              "      <th>Unnamed: 24</th>\n",
              "      <th>Unnamed: 25</th>\n",
              "      <th>Unnamed: 26</th>\n",
              "      <th>Unnamed: 27</th>\n",
              "      <th>Unnamed: 28</th>\n",
              "      <th>Unnamed: 29</th>\n",
              "      <th>Unnamed: 30</th>\n",
              "      <th>Unnamed: 31</th>\n",
              "      <th>Unnamed: 32</th>\n",
              "      <th>Unnamed: 33</th>\n",
              "      <th>Unnamed: 34</th>\n",
              "      <th>Unnamed: 35</th>\n",
              "      <th>Unnamed: 36</th>\n",
              "      <th>Unnamed: 37</th>\n",
              "      <th>Unnamed: 38</th>\n",
              "      <th>Unnamed: 39</th>\n",
              "      <th>...</th>\n",
              "      <th>Unnamed: 853</th>\n",
              "      <th>Unnamed: 854</th>\n",
              "      <th>Unnamed: 855</th>\n",
              "      <th>Unnamed: 856</th>\n",
              "      <th>Unnamed: 857</th>\n",
              "      <th>Unnamed: 858</th>\n",
              "      <th>Unnamed: 859</th>\n",
              "      <th>Unnamed: 860</th>\n",
              "      <th>Unnamed: 861</th>\n",
              "      <th>Unnamed: 862</th>\n",
              "      <th>Unnamed: 863</th>\n",
              "      <th>Unnamed: 864</th>\n",
              "      <th>Unnamed: 865</th>\n",
              "      <th>Unnamed: 866</th>\n",
              "      <th>Unnamed: 867</th>\n",
              "      <th>Unnamed: 868</th>\n",
              "      <th>Unnamed: 869</th>\n",
              "      <th>Unnamed: 870</th>\n",
              "      <th>Unnamed: 871</th>\n",
              "      <th>Unnamed: 872</th>\n",
              "      <th>Unnamed: 873</th>\n",
              "      <th>Unnamed: 874</th>\n",
              "      <th>Unnamed: 875</th>\n",
              "      <th>Unnamed: 876</th>\n",
              "      <th>Unnamed: 877</th>\n",
              "      <th>Unnamed: 878</th>\n",
              "      <th>Unnamed: 879</th>\n",
              "      <th>Unnamed: 880</th>\n",
              "      <th>Unnamed: 881</th>\n",
              "      <th>Unnamed: 882</th>\n",
              "      <th>Unnamed: 883</th>\n",
              "      <th>Unnamed: 884</th>\n",
              "      <th>Unnamed: 885</th>\n",
              "      <th>Unnamed: 886</th>\n",
              "      <th>Unnamed: 887</th>\n",
              "      <th>Unnamed: 888</th>\n",
              "      <th>Unnamed: 889</th>\n",
              "      <th>Unnamed: 890</th>\n",
              "      <th>Unnamed: 891</th>\n",
              "      <th>Unnamed: 892</th>\n",
              "    </tr>\n",
              "  </thead>\n",
              "  <tbody>\n",
              "    <tr>\n",
              "      <th>0</th>\n",
              "      <td>FC3145</td>\n",
              "      <td>FALSE: A photograph shared thousands of times ...</td>\n",
              "      <td>https://www.poynter.org/?ifcn_misinformation=a...</td>\n",
              "      <td>https://www.poynter.org/ifcn-covid-19-misinfor...</td>\n",
              "      <td>AFP</td>\n",
              "      <td>Africa</td>\n",
              "      <td>FALSE</td>\n",
              "      <td>A photograph shared thousands of times on Fac...</td>\n",
              "      <td>4/14/2020</td>\n",
              "      <td>Africa</td>\n",
              "      <td>NaN</td>\n",
              "      <td>NaN</td>\n",
              "      <td>NaN</td>\n",
              "      <td>https://factcheck.afp.com/picture-shows-work-m...</td>\n",
              "      <td>poynter</td>\n",
              "      <td>This picture shows the work of a make-up artis...</td>\n",
              "      <td>The post claims that the condition is caused b...</td>\n",
              "      <td>NaN</td>\n",
              "      <td>en</td>\n",
              "      <td>NaN</td>\n",
              "      <td>NaN</td>\n",
              "      <td>NaN</td>\n",
              "      <td>NaN</td>\n",
              "      <td>NaN</td>\n",
              "      <td>NaN</td>\n",
              "      <td>NaN</td>\n",
              "      <td>NaN</td>\n",
              "      <td>NaN</td>\n",
              "      <td>NaN</td>\n",
              "      <td>NaN</td>\n",
              "      <td>NaN</td>\n",
              "      <td>NaN</td>\n",
              "      <td>NaN</td>\n",
              "      <td>NaN</td>\n",
              "      <td>NaN</td>\n",
              "      <td>NaN</td>\n",
              "      <td>NaN</td>\n",
              "      <td>NaN</td>\n",
              "      <td>NaN</td>\n",
              "      <td>NaN</td>\n",
              "      <td>...</td>\n",
              "      <td>NaN</td>\n",
              "      <td>NaN</td>\n",
              "      <td>NaN</td>\n",
              "      <td>NaN</td>\n",
              "      <td>NaN</td>\n",
              "      <td>NaN</td>\n",
              "      <td>NaN</td>\n",
              "      <td>NaN</td>\n",
              "      <td>NaN</td>\n",
              "      <td>NaN</td>\n",
              "      <td>NaN</td>\n",
              "      <td>NaN</td>\n",
              "      <td>NaN</td>\n",
              "      <td>NaN</td>\n",
              "      <td>NaN</td>\n",
              "      <td>NaN</td>\n",
              "      <td>NaN</td>\n",
              "      <td>NaN</td>\n",
              "      <td>NaN</td>\n",
              "      <td>NaN</td>\n",
              "      <td>NaN</td>\n",
              "      <td>NaN</td>\n",
              "      <td>NaN</td>\n",
              "      <td>NaN</td>\n",
              "      <td>NaN</td>\n",
              "      <td>NaN</td>\n",
              "      <td>NaN</td>\n",
              "      <td>NaN</td>\n",
              "      <td>NaN</td>\n",
              "      <td>NaN</td>\n",
              "      <td>NaN</td>\n",
              "      <td>NaN</td>\n",
              "      <td>NaN</td>\n",
              "      <td>NaN</td>\n",
              "      <td>NaN</td>\n",
              "      <td>NaN</td>\n",
              "      <td>NaN</td>\n",
              "      <td>NaN</td>\n",
              "      <td>NaN</td>\n",
              "      <td>NaN</td>\n",
              "    </tr>\n",
              "    <tr>\n",
              "      <th>1</th>\n",
              "      <td>FC1779</td>\n",
              "      <td>FALSE: Facebook posts shared thousands of time...</td>\n",
              "      <td>https://www.poynter.org/?ifcn_misinformation=f...</td>\n",
              "      <td>https://www.poynter.org/ifcn-covid-19-misinfor...</td>\n",
              "      <td>AFP</td>\n",
              "      <td>Argentina</td>\n",
              "      <td>FALSE</td>\n",
              "      <td>Facebook posts shared thousands of times accu...</td>\n",
              "      <td>5/30/2020</td>\n",
              "      <td>Argentina</td>\n",
              "      <td>NaN</td>\n",
              "      <td>NaN</td>\n",
              "      <td>NaN</td>\n",
              "      <td>https://factcheck.afp.com/empty-body-bags-were...</td>\n",
              "      <td>poynter</td>\n",
              "      <td>Empty body bags were used in protests and not ...</td>\n",
              "      <td>This South African Facebook post shared more t...</td>\n",
              "      <td>NaN</td>\n",
              "      <td>en</td>\n",
              "      <td>NaN</td>\n",
              "      <td>NaN</td>\n",
              "      <td>NaN</td>\n",
              "      <td>NaN</td>\n",
              "      <td>NaN</td>\n",
              "      <td>NaN</td>\n",
              "      <td>NaN</td>\n",
              "      <td>NaN</td>\n",
              "      <td>NaN</td>\n",
              "      <td>NaN</td>\n",
              "      <td>NaN</td>\n",
              "      <td>NaN</td>\n",
              "      <td>NaN</td>\n",
              "      <td>NaN</td>\n",
              "      <td>NaN</td>\n",
              "      <td>NaN</td>\n",
              "      <td>NaN</td>\n",
              "      <td>NaN</td>\n",
              "      <td>NaN</td>\n",
              "      <td>NaN</td>\n",
              "      <td>NaN</td>\n",
              "      <td>...</td>\n",
              "      <td>NaN</td>\n",
              "      <td>NaN</td>\n",
              "      <td>NaN</td>\n",
              "      <td>NaN</td>\n",
              "      <td>NaN</td>\n",
              "      <td>NaN</td>\n",
              "      <td>NaN</td>\n",
              "      <td>NaN</td>\n",
              "      <td>NaN</td>\n",
              "      <td>NaN</td>\n",
              "      <td>NaN</td>\n",
              "      <td>NaN</td>\n",
              "      <td>NaN</td>\n",
              "      <td>NaN</td>\n",
              "      <td>NaN</td>\n",
              "      <td>NaN</td>\n",
              "      <td>NaN</td>\n",
              "      <td>NaN</td>\n",
              "      <td>NaN</td>\n",
              "      <td>NaN</td>\n",
              "      <td>NaN</td>\n",
              "      <td>NaN</td>\n",
              "      <td>NaN</td>\n",
              "      <td>NaN</td>\n",
              "      <td>NaN</td>\n",
              "      <td>NaN</td>\n",
              "      <td>NaN</td>\n",
              "      <td>NaN</td>\n",
              "      <td>NaN</td>\n",
              "      <td>NaN</td>\n",
              "      <td>NaN</td>\n",
              "      <td>NaN</td>\n",
              "      <td>NaN</td>\n",
              "      <td>NaN</td>\n",
              "      <td>NaN</td>\n",
              "      <td>NaN</td>\n",
              "      <td>NaN</td>\n",
              "      <td>NaN</td>\n",
              "      <td>NaN</td>\n",
              "      <td>NaN</td>\n",
              "    </tr>\n",
              "    <tr>\n",
              "      <th>2</th>\n",
              "      <td>FC6686</td>\n",
              "      <td>misleading: Two photos which show human throat...</td>\n",
              "      <td>https://www.poynter.org/?ifcn_misinformation=t...</td>\n",
              "      <td>https://www.poynter.org/ifcn-covid-19-misinfor...</td>\n",
              "      <td>Chequeado</td>\n",
              "      <td>Argentina</td>\n",
              "      <td>misleading</td>\n",
              "      <td>Two photos which show human throats have been...</td>\n",
              "      <td>6/22/2020</td>\n",
              "      <td>Argentina</td>\n",
              "      <td>NaN</td>\n",
              "      <td>NaN</td>\n",
              "      <td>NaN</td>\n",
              "      <td>https://factcheck.afp.com/these-photos-have-ci...</td>\n",
              "      <td>poynter</td>\n",
              "      <td>These photos have circulated in reports before...</td>\n",
              "      <td>\"The post’s caption states in part: “When you ...</td>\n",
              "      <td>NaN</td>\n",
              "      <td>en</td>\n",
              "      <td>NaN</td>\n",
              "      <td>NaN</td>\n",
              "      <td>NaN</td>\n",
              "      <td>NaN</td>\n",
              "      <td>NaN</td>\n",
              "      <td>NaN</td>\n",
              "      <td>NaN</td>\n",
              "      <td>NaN</td>\n",
              "      <td>NaN</td>\n",
              "      <td>NaN</td>\n",
              "      <td>NaN</td>\n",
              "      <td>NaN</td>\n",
              "      <td>NaN</td>\n",
              "      <td>NaN</td>\n",
              "      <td>NaN</td>\n",
              "      <td>NaN</td>\n",
              "      <td>NaN</td>\n",
              "      <td>NaN</td>\n",
              "      <td>NaN</td>\n",
              "      <td>NaN</td>\n",
              "      <td>NaN</td>\n",
              "      <td>...</td>\n",
              "      <td>NaN</td>\n",
              "      <td>NaN</td>\n",
              "      <td>NaN</td>\n",
              "      <td>NaN</td>\n",
              "      <td>NaN</td>\n",
              "      <td>NaN</td>\n",
              "      <td>NaN</td>\n",
              "      <td>NaN</td>\n",
              "      <td>NaN</td>\n",
              "      <td>NaN</td>\n",
              "      <td>NaN</td>\n",
              "      <td>NaN</td>\n",
              "      <td>NaN</td>\n",
              "      <td>NaN</td>\n",
              "      <td>NaN</td>\n",
              "      <td>NaN</td>\n",
              "      <td>NaN</td>\n",
              "      <td>NaN</td>\n",
              "      <td>NaN</td>\n",
              "      <td>NaN</td>\n",
              "      <td>NaN</td>\n",
              "      <td>NaN</td>\n",
              "      <td>NaN</td>\n",
              "      <td>NaN</td>\n",
              "      <td>NaN</td>\n",
              "      <td>NaN</td>\n",
              "      <td>NaN</td>\n",
              "      <td>NaN</td>\n",
              "      <td>NaN</td>\n",
              "      <td>NaN</td>\n",
              "      <td>NaN</td>\n",
              "      <td>NaN</td>\n",
              "      <td>NaN</td>\n",
              "      <td>NaN</td>\n",
              "      <td>NaN</td>\n",
              "      <td>NaN</td>\n",
              "      <td>NaN</td>\n",
              "      <td>NaN</td>\n",
              "      <td>NaN</td>\n",
              "      <td>NaN</td>\n",
              "    </tr>\n",
              "    <tr>\n",
              "      <th>3</th>\n",
              "      <td>FC60</td>\n",
              "      <td>FALSE: Videos showing black people being attac...</td>\n",
              "      <td>https://www.poynter.org/?ifcn_misinformation=v...</td>\n",
              "      <td>https://www.poynter.org/ifcn-covid-19-misinfor...</td>\n",
              "      <td>AFP</td>\n",
              "      <td>Asia, Africa</td>\n",
              "      <td>FALSE</td>\n",
              "      <td>Videos showing black people being attacked by...</td>\n",
              "      <td>4/19/2020</td>\n",
              "      <td>Asia</td>\n",
              "      <td>Africa</td>\n",
              "      <td>NaN</td>\n",
              "      <td>NaN</td>\n",
              "      <td>https://factcheck.afp.com/viral-videos-african...</td>\n",
              "      <td>poynter</td>\n",
              "      <td>Viral videos of Africans attacked in China wer...</td>\n",
              "      <td>The accompanying footage shows a black man pus...</td>\n",
              "      <td>NaN</td>\n",
              "      <td>en</td>\n",
              "      <td>NaN</td>\n",
              "      <td>NaN</td>\n",
              "      <td>NaN</td>\n",
              "      <td>NaN</td>\n",
              "      <td>NaN</td>\n",
              "      <td>NaN</td>\n",
              "      <td>NaN</td>\n",
              "      <td>NaN</td>\n",
              "      <td>NaN</td>\n",
              "      <td>NaN</td>\n",
              "      <td>NaN</td>\n",
              "      <td>NaN</td>\n",
              "      <td>NaN</td>\n",
              "      <td>NaN</td>\n",
              "      <td>NaN</td>\n",
              "      <td>NaN</td>\n",
              "      <td>NaN</td>\n",
              "      <td>NaN</td>\n",
              "      <td>NaN</td>\n",
              "      <td>NaN</td>\n",
              "      <td>NaN</td>\n",
              "      <td>...</td>\n",
              "      <td>NaN</td>\n",
              "      <td>NaN</td>\n",
              "      <td>NaN</td>\n",
              "      <td>NaN</td>\n",
              "      <td>NaN</td>\n",
              "      <td>NaN</td>\n",
              "      <td>NaN</td>\n",
              "      <td>NaN</td>\n",
              "      <td>NaN</td>\n",
              "      <td>NaN</td>\n",
              "      <td>NaN</td>\n",
              "      <td>NaN</td>\n",
              "      <td>NaN</td>\n",
              "      <td>NaN</td>\n",
              "      <td>NaN</td>\n",
              "      <td>NaN</td>\n",
              "      <td>NaN</td>\n",
              "      <td>NaN</td>\n",
              "      <td>NaN</td>\n",
              "      <td>NaN</td>\n",
              "      <td>NaN</td>\n",
              "      <td>NaN</td>\n",
              "      <td>NaN</td>\n",
              "      <td>NaN</td>\n",
              "      <td>NaN</td>\n",
              "      <td>NaN</td>\n",
              "      <td>NaN</td>\n",
              "      <td>NaN</td>\n",
              "      <td>NaN</td>\n",
              "      <td>NaN</td>\n",
              "      <td>NaN</td>\n",
              "      <td>NaN</td>\n",
              "      <td>NaN</td>\n",
              "      <td>NaN</td>\n",
              "      <td>NaN</td>\n",
              "      <td>NaN</td>\n",
              "      <td>NaN</td>\n",
              "      <td>NaN</td>\n",
              "      <td>NaN</td>\n",
              "      <td>NaN</td>\n",
              "    </tr>\n",
              "    <tr>\n",
              "      <th>4</th>\n",
              "      <td>FC51</td>\n",
              "      <td>False: A video of food packets deposited on a ...</td>\n",
              "      <td>https://www.poynter.org/?ifcn_misinformation=a...</td>\n",
              "      <td>https://www.poynter.org/ifcn-covid-19-misinfor...</td>\n",
              "      <td>AFP</td>\n",
              "      <td>Australia</td>\n",
              "      <td>FALSE</td>\n",
              "      <td>A video of food packets deposited on a street...</td>\n",
              "      <td>3/23/2020</td>\n",
              "      <td>Australia</td>\n",
              "      <td>NaN</td>\n",
              "      <td>NaN</td>\n",
              "      <td>NaN</td>\n",
              "      <td>https://factcheck.afp.com/video-shows-donation...</td>\n",
              "      <td>poynter</td>\n",
              "      <td>This video shows donations for victims of a de...</td>\n",
              "      <td>The post’s caption reads: “In #Turkey, people ...</td>\n",
              "      <td>NaN</td>\n",
              "      <td>en</td>\n",
              "      <td>NaN</td>\n",
              "      <td>NaN</td>\n",
              "      <td>NaN</td>\n",
              "      <td>NaN</td>\n",
              "      <td>NaN</td>\n",
              "      <td>NaN</td>\n",
              "      <td>NaN</td>\n",
              "      <td>NaN</td>\n",
              "      <td>NaN</td>\n",
              "      <td>NaN</td>\n",
              "      <td>NaN</td>\n",
              "      <td>NaN</td>\n",
              "      <td>NaN</td>\n",
              "      <td>NaN</td>\n",
              "      <td>NaN</td>\n",
              "      <td>NaN</td>\n",
              "      <td>NaN</td>\n",
              "      <td>NaN</td>\n",
              "      <td>NaN</td>\n",
              "      <td>NaN</td>\n",
              "      <td>NaN</td>\n",
              "      <td>...</td>\n",
              "      <td>NaN</td>\n",
              "      <td>NaN</td>\n",
              "      <td>NaN</td>\n",
              "      <td>NaN</td>\n",
              "      <td>NaN</td>\n",
              "      <td>NaN</td>\n",
              "      <td>NaN</td>\n",
              "      <td>NaN</td>\n",
              "      <td>NaN</td>\n",
              "      <td>NaN</td>\n",
              "      <td>NaN</td>\n",
              "      <td>NaN</td>\n",
              "      <td>NaN</td>\n",
              "      <td>NaN</td>\n",
              "      <td>NaN</td>\n",
              "      <td>NaN</td>\n",
              "      <td>NaN</td>\n",
              "      <td>NaN</td>\n",
              "      <td>NaN</td>\n",
              "      <td>NaN</td>\n",
              "      <td>NaN</td>\n",
              "      <td>NaN</td>\n",
              "      <td>NaN</td>\n",
              "      <td>NaN</td>\n",
              "      <td>NaN</td>\n",
              "      <td>NaN</td>\n",
              "      <td>NaN</td>\n",
              "      <td>NaN</td>\n",
              "      <td>NaN</td>\n",
              "      <td>NaN</td>\n",
              "      <td>NaN</td>\n",
              "      <td>NaN</td>\n",
              "      <td>NaN</td>\n",
              "      <td>NaN</td>\n",
              "      <td>NaN</td>\n",
              "      <td>NaN</td>\n",
              "      <td>NaN</td>\n",
              "      <td>NaN</td>\n",
              "      <td>NaN</td>\n",
              "      <td>NaN</td>\n",
              "    </tr>\n",
              "  </tbody>\n",
              "</table>\n",
              "<p>5 rows × 893 columns</p>\n",
              "</div>"
            ],
            "text/plain": [
              "       ID  ... Unnamed: 892\n",
              "0  FC3145  ...          NaN\n",
              "1  FC1779  ...          NaN\n",
              "2  FC6686  ...          NaN\n",
              "3    FC60  ...          NaN\n",
              "4    FC51  ...          NaN\n",
              "\n",
              "[5 rows x 893 columns]"
            ]
          },
          "metadata": {
            "tags": []
          },
          "execution_count": 50
        }
      ]
    },
    {
      "cell_type": "markdown",
      "metadata": {
        "id": "fby1ZwkB55jT"
      },
      "source": [
        "Here we complete more data cleansing. Subsituting non-letter symbols with a null string thus deleting them from the to be analyzed text.\n",
        "Other important processess:\n",
        "\n",
        "\n",
        "*   Lower all capatalized letters\n",
        "*   Print out cleaned dataset\n",
        "\n"
      ]
    },
    {
      "cell_type": "code",
      "metadata": {
        "colab": {
          "base_uri": "https://localhost:8080/"
        },
        "id": "eED6xd-y5P8T",
        "outputId": "2421b5dc-9936-4ffa-97df-3239f26d8d9b"
      },
      "source": [
        "# Data cleaning\n",
        "# Data Cleansing Begins\n",
        "\n",
        "papers['content_text_processed'] = papers['content_text'].map(lambda x: re.sub('[,\\\\.!?]|', '', x))\n",
        "\n",
        "papers['content_text_processed'] = papers['content_text_processed'].map(lambda x: x.lower())\n",
        "\n",
        "papers['content_text_processed'].head()"
      ],
      "execution_count": null,
      "outputs": [
        {
          "output_type": "execute_result",
          "data": {
            "text/plain": [
              "0    the post claims that the condition is caused b...\n",
              "1    this south african facebook post shared more t...\n",
              "2    \"the post’s caption states in part: “when you ...\n",
              "3    the accompanying footage shows a black man pus...\n",
              "4    the post’s caption reads: “in #turkey people h...\n",
              "Name: content_text_processed, dtype: object"
            ]
          },
          "metadata": {
            "tags": []
          },
          "execution_count": 51
        }
      ]
    },
    {
      "cell_type": "markdown",
      "metadata": {
        "id": "uapGnz3_6eAK"
      },
      "source": [
        "Importing gensim - the LDA model used to analzye the words and create topics\n",
        "\n",
        "\n",
        "*   Importint simple_preprocess to complete data cleansing\n",
        "*   Creating function to process each row of data\n",
        "*  Segmenting each word and appending them into a list\n",
        "\n"
      ]
    },
    {
      "cell_type": "code",
      "metadata": {
        "colab": {
          "base_uri": "https://localhost:8080/"
        },
        "id": "PqgE0n315X_K",
        "outputId": "124b4bc8-246a-439e-8f7c-0f90af4a13d2"
      },
      "source": [
        "import gensim\n",
        "from gensim.utils import simple_preprocess\n",
        "\n",
        "def sentToWords(sentences):\n",
        "    for sentences in sentences:\n",
        "        yield (gensim.utils.simple_preprocess(str(sentences), deacc=True)) #deacc removes punctuation\n",
        "\n",
        "data = papers.content_text_processed.values.tolist()\n",
        "data_words = list(sentToWords(data))\n",
        "\n",
        "print(data_words[:1][0][:30])"
      ],
      "execution_count": null,
      "outputs": [
        {
          "output_type": "stream",
          "text": [
            "['the', 'post', 'claims', 'that', 'the', 'condition', 'is', 'caused', 'by', 'the', 'flour', 'semolina', 'or', 'semo', 'and', 'urges', 'people', 'to', 'avoid', 'eating', 'the', 'wheat', 'substance', 'found', 'in', 'pasta', 'and', 'couscous', 'the', 'accompanying']\n"
          ],
          "name": "stdout"
        }
      ]
    },
    {
      "cell_type": "markdown",
      "metadata": {
        "id": "uFGKpYID8CWH"
      },
      "source": [
        "Building bigram and trigram models - though bigram models are the only ones used\n",
        "\n",
        "\n",
        "*   Bigrams are common phrases that are made up of two seperate words (Ex: Thank you, evidence of, etc) - can improve readibility later on\n",
        "*   Two ways to generate bigrams - the second manner is faster\n",
        "\n"
      ]
    },
    {
      "cell_type": "code",
      "metadata": {
        "id": "OpnNlgMo5a7s"
      },
      "source": [
        "# Build the bigram and trigram models\n",
        "bigram = gensim.models.Phrases(data_words, min_count=5, threshold=100) # higher threshold fewer phrases.\n",
        "trigram = gensim.models.Phrases(bigram[data_words], threshold=100)\n",
        "\n",
        "#faster way\n",
        "bigram_mod = gensim.models.phrases.Phraser(bigram)\n",
        "trigram_mod = gensim.models.phrases.Phraser(trigram)"
      ],
      "execution_count": null,
      "outputs": []
    },
    {
      "cell_type": "markdown",
      "metadata": {
        "id": "8MFghSja8yzt"
      },
      "source": [
        "NLTK package includes stopwords from a multitude of langauges\n",
        "Stopwords are filler or useless words winthin a language that don't mean anything but simply help with syntax and grammar (EX: a, the, who, why, etc)\n",
        "\n",
        "\n",
        "*   download the english stopwords\n",
        "*   then remove all the stopwords from the list\n",
        "*   define the lemmatization() function to lemmatize all the words - using lemmatization instead of stemming because it is more complex - factors in part of speech (noun, adverb, adjective, ect) and other points \n",
        "\n"
      ]
    },
    {
      "cell_type": "code",
      "metadata": {
        "colab": {
          "base_uri": "https://localhost:8080/"
        },
        "id": "fc6PpDO65dwn",
        "outputId": "27bae025-9a90-4495-912f-51943f0945d5"
      },
      "source": [
        "# Remove Stopwords, Make Bigrams and Lemmatize\n",
        "import nltk\n",
        "nltk.download('stopwords')\n",
        "from nltk.corpus import stopwords\n",
        "\n",
        "stop_words = stopwords.words('english')\n",
        "stop_words.extend(['from', 'subject', 're', 'edu', 'use'])\n",
        "\n",
        "def remove_stopwords(texts):\n",
        "    return  [[word for word in simple_preprocess(str(doc)) if word not in stop_words] for doc in texts]\n",
        "\n",
        "def make_bigrams(texts):\n",
        "    return [bigram_mod[doc] for doc in texts]\n",
        "\n",
        "def lemmatization(texts, allowed_postags=['NOUN', 'ADJ', 'VERB', 'ADV']):\n",
        "    \"\"\"https://aspacy.io/api/annotation\"\"\"\n",
        "    texts_out = []\n",
        "    for sent in texts:\n",
        "        doc = nlp(\" \".join(sent)) \n",
        "        texts_out.append([token.lemma_ for token in doc if token.pos_ in allowed_postags])\n",
        "    return texts_out\n"
      ],
      "execution_count": null,
      "outputs": [
        {
          "output_type": "stream",
          "text": [
            "[nltk_data] Downloading package stopwords to /root/nltk_data...\n",
            "[nltk_data]   Package stopwords is already up-to-date!\n"
          ],
          "name": "stdout"
        }
      ]
    },
    {
      "cell_type": "markdown",
      "metadata": {
        "id": "wVPxn8n2-MeN"
      },
      "source": [
        "Importing Spacy - spacy is an open-source library that providees the NLP (natural language processesing tool) This allows us to tokenize the words and eventually tag and count the number of appearances of important words\n",
        "\n",
        "\n",
        "\n",
        "*   Using the medium english model - the nlp is passed into the lemmatization() function to lemmatize all the previous data which is passed into the list data_lemmatized\n",
        "*   results are then printed\n",
        "\n"
      ]
    },
    {
      "cell_type": "code",
      "metadata": {
        "colab": {
          "base_uri": "https://localhost:8080/"
        },
        "id": "4PLirR6Q_B8Q",
        "outputId": "8ec65f4b-278c-4114-f7f4-91d321589539"
      },
      "source": [
        "import spacy #for\n",
        "# Remove Stop Words\n",
        "data_words_nostops = remove_stopwords(data_words)\n",
        "\n",
        "# Form Bigrams\n",
        "data_words_bigrams = make_bigrams(data_words_nostops)\n",
        "\n",
        "# Initialize spacy 'en' model, keeping only tagger component (for efficiency)\n",
        "# python3 -m spacy download en\n",
        "nlp = spacy.load('en_core_web_md', disable=['parser', 'ner'])\n",
        "\n",
        "# Do lemmatization keeping only noun, adj, vb, adv\n",
        "data_lemmatized = lemmatization(data_words_bigrams, allowed_postags=['NOUN', 'ADJ', 'VERB', 'ADV'])\n",
        "\n",
        "print(data_lemmatized[:1])\n"
      ],
      "execution_count": null,
      "outputs": [
        {
          "output_type": "stream",
          "text": [
            "[['claim', 'condition', 'cause', 'flour', 'semolina', 'urge', 'people', 'avoid', 'eat', 'wheat', 'substance', 'find', 'pasta', 'couscous', 'accompany', 'photo', 'show', 'person', 'hand', 'arm', 'cover', 'red', 'blister', 'graphic', 'content', 'show', 'hide', 'fact', 'check', 'image', 'search', 'trace', 'photograph', 'account', 'base', 'make', 'artist', 'work', 'earlier', 'read', 'caption', 'show', 'gruesome', 'picture', 'fake', 'real', 'special', 'effect', 'makeup', 'contact', 'fact', 'check', 'confirm', 'show', 'work', 'reject', 'post', 'claim', 'show', 'disease', 'fake', 'create', 'effect', 'use', 'type', 'wax', 'fake', 'blood', 'effect', 'create', 'call', 'fear', 'small', 'hole', 'bump', 'person', 'effect', 'hand', 'sister', 'say', 'page', 'feature', 'image', 'hand', 'various', 'angle', 'find', 'furthermore', 'medical', 'expert', 'tell', 'fact', 'check', 'eat', 'semolina', 'can', 'cause', 'kind', 'reaction', 'show', 'picture', 'image', 'accurate', 'say', 'clinical', 'occasionally', 'people', 'celiac', 'disease', 'develop', 'condition', 'call', 'dermatitis', 'herpetiformis', 'develop', 'blisters', 'skin', 'eat', 'gluten', 'contain', 'food', 'wheat', 'however', 'typically', 'dangerous', 'disfigure', 'image', 'portray', 'facebook', 'post', 'epidemiology', 'dismiss', 'claim', 'utter', 'nonsense', 'previously', 'debunk', 'claim', 'french', 'photograph', 'show', 'victim', 'user', 'access', 'consult', 'website', 'share_feature', 'available', 'purpose', 'particular', 'public', 'distribution', 'content', 'website', 'whole', 'part', 'purpose', 'fact', 'check', 'content', 'provide', 'verification', 'obtain', 'right', 'author', 'content', 'liability', 'logo']]\n"
          ],
          "name": "stdout"
        }
      ]
    },
    {
      "cell_type": "markdown",
      "metadata": {
        "id": "KYDRtOdfCx3Z"
      },
      "source": [
        "Creating the data structures needed to run the Gensim LDA from the all the previous steps. \n",
        "\n",
        "\n",
        "*   We need an id2word (or a dictionary that maps the numerical id assigned to a corresponding word)\n",
        "*   corpus - List that keep tracks of the frequency of each word\n",
        "\n"
      ]
    },
    {
      "cell_type": "code",
      "metadata": {
        "colab": {
          "base_uri": "https://localhost:8080/"
        },
        "id": "f1qF0iF1AJM0",
        "outputId": "93081e2f-25e8-46c2-f79f-0a00f0565e3e"
      },
      "source": [
        "import gensim.corpora as corpora\n",
        "\n",
        "#New Dictionary\n",
        "id2word = corpora.Dictionary(data_lemmatized)\n",
        "\n",
        "#New Corpus\n",
        "texts = data_lemmatized\n",
        "\n",
        "#Term Document Frequency\n",
        "corpus = [id2word.doc2bow(text) for text in texts]\n",
        "\n",
        "print(corpus[:1])"
      ],
      "execution_count": null,
      "outputs": [
        {
          "output_type": "stream",
          "text": [
            "[[(0, 1), (1, 1), (2, 1), (3, 1), (4, 1), (5, 1), (6, 1), (7, 1), (8, 1), (9, 1), (10, 1), (11, 1), (12, 1), (13, 1), (14, 1), (15, 2), (16, 1), (17, 1), (18, 2), (19, 1), (20, 4), (21, 4), (22, 1), (23, 2), (24, 1), (25, 1), (26, 1), (27, 1), (28, 4), (29, 1), (30, 1), (31, 2), (32, 1), (33, 1), (34, 1), (35, 2), (36, 2), (37, 1), (38, 1), (39, 1), (40, 1), (41, 3), (42, 4), (43, 1), (44, 1), (45, 1), (46, 4), (47, 3), (48, 1), (49, 1), (50, 2), (51, 1), (52, 1), (53, 1), (54, 1), (55, 1), (56, 1), (57, 1), (58, 3), (59, 1), (60, 1), (61, 1), (62, 1), (63, 4), (64, 1), (65, 1), (66, 1), (67, 1), (68, 1), (69, 1), (70, 1), (71, 1), (72, 1), (73, 1), (74, 1), (75, 1), (76, 1), (77, 2), (78, 2), (79, 1), (80, 2), (81, 2), (82, 1), (83, 2), (84, 1), (85, 1), (86, 1), (87, 2), (88, 1), (89, 1), (90, 1), (91, 1), (92, 1), (93, 1), (94, 2), (95, 1), (96, 2), (97, 1), (98, 7), (99, 1), (100, 1), (101, 1), (102, 1), (103, 1), (104, 1), (105, 1), (106, 1), (107, 1), (108, 1), (109, 1), (110, 1), (111, 1), (112, 1), (113, 1), (114, 1), (115, 1), (116, 2), (117, 2), (118, 1), (119, 2)]]\n"
          ],
          "name": "stdout"
        }
      ]
    },
    {
      "cell_type": "markdown",
      "metadata": {
        "id": "dneTKlnRDtv_"
      },
      "source": [
        "Finding baseline model - running it with num_topics = 10. Notice both id2word corpus are based into the model"
      ]
    },
    {
      "cell_type": "code",
      "metadata": {
        "id": "r7xASqmoAkLR"
      },
      "source": [
        "# Build LDA model\n",
        "lda_model = gensim.models.LdaMulticore(corpus=corpus,\n",
        "                                       id2word=id2word,\n",
        "                                       num_topics=10, \n",
        "                                       random_state=100,\n",
        "                                       chunksize=100,\n",
        "                                       passes=10,\n",
        "                                       per_word_topics=True)"
      ],
      "execution_count": null,
      "outputs": []
    },
    {
      "cell_type": "markdown",
      "metadata": {
        "id": "03aBxUxzZpeK"
      },
      "source": [
        "Printing the Results of the baseline model"
      ]
    },
    {
      "cell_type": "code",
      "metadata": {
        "colab": {
          "base_uri": "https://localhost:8080/"
        },
        "id": "jM0W1wleBget",
        "outputId": "93af51ab-8a83-4f7e-dc64-e8aa4cbbd0fb"
      },
      "source": [
        "from pprint import pprint\n",
        "# Print the Keyword in the 10 topics\n",
        "pprint(lda_model.print_topics())\n",
        "doc_lda = lda_model[corpus]\n"
      ],
      "execution_count": null,
      "outputs": [
        {
          "output_type": "stream",
          "text": [
            "[(0,\n",
            "  '0.065*\"vaccine\" + 0.027*\"fact\" + 0.021*\"test\" + 0.020*\"medium\" + '\n",
            "  '0.020*\"drug\" + 0.017*\"claim\" + 0.015*\"check\" + 0.013*\"post\" + 0.012*\"find\" '\n",
            "  '+ 0.012*\"public\"'),\n",
            " (1,\n",
            "  '0.036*\"message\" + 0.026*\"claim\" + 0.024*\"coronavirus\" + 0.021*\"drink\" + '\n",
            "  '0.017*\"cure\" + 0.016*\"prevent\" + 0.015*\"information\" + 0.014*\"check\" + '\n",
            "  '0.013*\"water\" + 0.013*\"social\"'),\n",
            " (2,\n",
            "  '0.021*\"medium\" + 0.019*\"coronavirus\" + 0.017*\"post\" + 0.017*\"claim\" + '\n",
            "  '0.016*\"fact\" + 0.013*\"check\" + 0.012*\"social\" + 0.011*\"report\" + '\n",
            "  '0.011*\"people\" + 0.010*\"also\"'),\n",
            " (3,\n",
            "  '0.059*\"patient\" + 0.034*\"hospital\" + 0.031*\"coronavirus\" + 0.020*\"treat\" + '\n",
            "  '0.018*\"die\" + 0.018*\"test\" + 0.017*\"doctor\" + 0.016*\"covid\" + 0.016*\"death\" '\n",
            "  '+ 0.015*\"say\"'),\n",
            " (4,\n",
            "  '0.048*\"coronavirus\" + 0.034*\"rumor\" + 0.027*\"virus\" + 0.020*\"coincide\" + '\n",
            "  '0.020*\"violence\" + 0.013*\"medium\" + 0.013*\"people\" + 0.013*\"claim\" + '\n",
            "  '0.012*\"month\" + 0.012*\"spread\"'),\n",
            " (5,\n",
            "  '0.024*\"say\" + 0.013*\"may\" + 0.011*\"would\" + 0.011*\"trump\" + '\n",
            "  '0.010*\"pandemic\" + 0.009*\"number\" + 0.009*\"make\" + 0.009*\"death\" + '\n",
            "  '0.008*\"case\" + 0.008*\"people\"'),\n",
            " (6,\n",
            "  '0.114*\"video\" + 0.045*\"custody\" + 0.041*\"show\" + 0.019*\"police\" + '\n",
            "  '0.015*\"claim\" + 0.014*\"clip\" + 0.013*\"people\" + 0.012*\"footage\" + '\n",
            "  '0.012*\"incident\" + 0.012*\"take\"'),\n",
            " (7,\n",
            "  '0.132*\"app\" + 0.034*\"banknote\" + 0.021*\"download\" + 0.019*\"plead\" + '\n",
            "  '0.010*\"automatically\" + 0.007*\"kitchen\" + 0.007*\"trash\" + '\n",
            "  '0.007*\"notification\" + 0.006*\"tracer\" + 0.006*\"holiday\"'),\n",
            " (8,\n",
            "  '0.027*\"virus\" + 0.020*\"mask\" + 0.014*\"study\" + 0.013*\"coronavirus\" + '\n",
            "  '0.012*\"claim\" + 0.011*\"people\" + 0.010*\"spread\" + 0.009*\"may\" + 0.008*\"say\" '\n",
            "  '+ 0.008*\"infection\"'),\n",
            " (9,\n",
            "  '0.012*\"state\" + 0.012*\"public\" + 0.011*\"order\" + 0.010*\"government\" + '\n",
            "  '0.010*\"post\" + 0.009*\"people\" + 0.009*\"may\" + 0.008*\"store\" + '\n",
            "  '0.008*\"provide\" + 0.008*\"access\"')]\n"
          ],
          "name": "stdout"
        }
      ]
    },
    {
      "cell_type": "markdown",
      "metadata": {
        "id": "IIiizheDZu5O"
      },
      "source": [
        "Printing the Coherence Score of the baseline Model"
      ]
    },
    {
      "cell_type": "code",
      "metadata": {
        "colab": {
          "base_uri": "https://localhost:8080/"
        },
        "id": "Ht1XAqmQBo4-",
        "outputId": "230cda55-a88c-413a-98ab-75698d910a22"
      },
      "source": [
        "from gensim.models import CoherenceModel\n",
        "\n",
        "# Compute Coherence Score\n",
        "coherence_model_lda = CoherenceModel(model=lda_model, texts=data_lemmatized, dictionary=id2word, coherence='c_v')\n",
        "coherence_lda = coherence_model_lda.get_coherence()\n",
        "print('\\nCoherence Score: ', coherence_lda)"
      ],
      "execution_count": null,
      "outputs": [
        {
          "output_type": "stream",
          "text": [
            "\n",
            "Coherence Score:  0.4453381437437279\n"
          ],
          "name": "stdout"
        }
      ]
    },
    {
      "cell_type": "markdown",
      "metadata": {
        "id": "9S8qRI_dZ0ob"
      },
      "source": [
        "Defining a function to train an LDA model based on different hyperparameters - in this case soley K_topics will change."
      ]
    },
    {
      "cell_type": "code",
      "metadata": {
        "id": "IdP7I9sPCU8P"
      },
      "source": [
        "#tuning Hyperparemeters - (Number of Topics (k), Dirichlet hyperparameter alpha (Document-Topic Density), Word-Topic Density) - defining function to increase eficiney\n",
        "\n",
        "def compute_coherence_values(corpus, dictionary, k):\n",
        "  lda_model = gensim.models.LdaMulticore(corpus=corpus,\n",
        "                                       id2word=id2word,\n",
        "                                       num_topics=k, \n",
        "                                       random_state=100,\n",
        "                                       chunksize=100,\n",
        "                                       passes=10,\n",
        "                                       per_word_topics=True)\n",
        "  coherence_model_lda = CoherenceModel(model=lda_model, texts=data_lemmatized, dictionary=id2word, coherence='c_v')\n",
        "\n",
        "  return coherence_model_lda.get_coherence()\n",
        "\n",
        "    "
      ],
      "execution_count": null,
      "outputs": []
    },
    {
      "cell_type": "markdown",
      "metadata": {
        "id": "SQ2e9aKpaDac"
      },
      "source": [
        "Setting up the loop that will use the previos function compute_coherence_values() to find the optimal number of k topics\n",
        "\n",
        "\n",
        "*   First definie the range of topics (in this case 2 - 12 topics)\n",
        "*   Second, using  two for loops - 1 to loop through 2-12 topics, 2 to train the model 5 different times with same k_topics to make verify the coherence scores are not an outlier \n",
        "*   By Averaging the 5 coherence scores - we eliminate outlier scores and allow for a more accurate representation of the coherence of a certain value of k_topics \n",
        "\n"
      ]
    },
    {
      "cell_type": "code",
      "metadata": {
        "colab": {
          "base_uri": "https://localhost:8080/"
        },
        "id": "ISRVBY23Cxui",
        "outputId": "de2fe07f-a9df-485e-e42c-cc9ec3e2db90"
      },
      "source": [
        "import numpy as np\n",
        "import tqdm\n",
        "grid = {}\n",
        "grid['Validation_Set'] = {}\n",
        "# Topics range\n",
        "min_topics = 2\n",
        "max_topics = 13\n",
        "step_size = 1\n",
        "topics_range = range(min_topics, max_topics, step_size)\n",
        "# Alpha parameter\n",
        "alpha = list(np.arange(0.01, 1, 0.3))\n",
        "alpha.append('symmetric')\n",
        "alpha.append('asymmetric')\n",
        "# Beta parameter\n",
        "beta = list(np.arange(0.01, 1, 0.3))\n",
        "beta.append('symmetric')\n",
        "# Validation sets\n",
        "num_of_docs = int(len(corpus))\n",
        "corpus_sets = [gensim.utils.ClippedCorpus(corpus, num_of_docs*0.75), \n",
        "               corpus]\n",
        "corpus_title = ['75% Corpus', '100% Corpus']\n",
        "model_results = {'Validation_Set': [],\n",
        "                 'Topics': [],\n",
        "                 'Alpha': [],\n",
        "                 'Beta': [],\n",
        "                 'Coherence': []\n",
        "                }\n",
        "averageDict = {}\n",
        "# Can take a long time to run\n",
        "if 1 == 1:\n",
        "    pbar = tqdm.tqdm(total=55)\n",
        "    \n",
        "    for k in topics_range:\n",
        "      \n",
        "      model_results['Topics'].append(k)\n",
        "      for i in range(0, 5):\n",
        "        # iterate through alpha values\n",
        "        # get the coherence score for the given parameters\n",
        "        cv = compute_coherence_values(corpus, id2word, k)\n",
        "        # Save the model results\n",
        "        if k in averageDict:\n",
        "          averageDict[k].append(cv)\n",
        "        else:\n",
        "          averageDict[k] = [cv]\n",
        "            \n",
        "        pbar.update(1)\n",
        "    \n",
        "    pbar.close()\n",
        "\n",
        "for averageList in averageDict.values():\n",
        "  model_results['Coherence'].append(sum(averageList) / len(averageList))"
      ],
      "execution_count": null,
      "outputs": [
        {
          "output_type": "stream",
          "text": [
            "100%|██████████| 55/55 [53:27<00:00, 58.32s/it]\n"
          ],
          "name": "stderr"
        }
      ]
    },
    {
      "cell_type": "markdown",
      "metadata": {
        "id": "_Q53fTr5bCR2"
      },
      "source": [
        "The data is then printed out"
      ]
    },
    {
      "cell_type": "code",
      "metadata": {
        "id": "SUGRbixpYRMD",
        "colab": {
          "base_uri": "https://localhost:8080/"
        },
        "outputId": "b4a911b5-e3cd-460a-ccf2-970f238629ec"
      },
      "source": [
        "#Printing Results\n",
        "print(averageDict)\n",
        "print(model_results['Topics'])\n",
        "print(model_results['Coherence'])\n",
        "\n",
        "maxCoherence = max(model_results['Coherence'])\n",
        "index1 = model_results['Coherence'].index(maxCoherence)\n",
        "numTopics = model_results['Topics'][index1]\n",
        "print('Optimal Topcis: ' + str(numTopics))"
      ],
      "execution_count": null,
      "outputs": [
        {
          "output_type": "stream",
          "text": [
            "{2: [0.3250034090601571, 0.3250034090601571, 0.3250034090601571, 0.3250034090601571, 0.325003409060157], 3: [0.39256822896047305, 0.39449415727093085, 0.39449415727093085, 0.3868746674247648, 0.3868746674247648], 4: [0.3674668196300343, 0.374498963118074, 0.3807357319124574, 0.374498963118074, 0.3674668196300343], 5: [0.4415551699403766, 0.4415551699403766, 0.45081054213105415, 0.44232006521217937, 0.44499387445291044], 6: [0.4339483560833834, 0.43919022556179144, 0.43769901219481366, 0.43769901219481366, 0.4324571427164056], 7: [0.4365645800746229, 0.4322903702638882, 0.436564580074623, 0.43656458007462307, 0.436564580074623], 8: [0.45172277801645344, 0.45191262506023566, 0.44284232365121373, 0.4561371411668418, 0.45594729412305957], 9: [0.4975999311101213, 0.49309870165775166, 0.49127763005444547, 0.49157953770765583, 0.49157953770765583], 10: [0.4465984075366386, 0.44695625580108855, 0.44566156038950905, 0.44695625580108855, 0.44695625580108855], 11: [0.46291496617881267, 0.4669251272525088, 0.4669251272525088, 0.4669251272525088, 0.46452798952659263], 12: [0.43626959986425645, 0.4395803552569478, 0.43554079676558394, 0.43818478350024376, 0.43999238834250604]}\n",
            "[2, 3, 4, 5, 6, 7, 8, 9, 10, 11, 12]\n",
            "[0.3250034090601571, 0.39106117567037285, 0.3729334594817348, 0.4442469643353794, 0.43619874975024153, 0.43570973811247604, 0.4517124324035608, 0.4930270676475261, 0.44662574706588265, 0.4656436674925863, 0.4379135847459076]\n",
            "Optimal Topcis: 9\n"
          ],
          "name": "stdout"
        }
      ]
    },
    {
      "cell_type": "markdown",
      "metadata": {
        "id": "rRnWwIi2bKh7"
      },
      "source": [
        "Using the elbow method, the averaged coherence scores are graphed to visually represent what the optimal value is. Clearly when k = 9 is the optimal value"
      ]
    },
    {
      "cell_type": "code",
      "metadata": {
        "id": "-tmOHVoUSFI9",
        "colab": {
          "base_uri": "https://localhost:8080/",
          "height": 286
        },
        "outputId": "105f9e5c-2d6a-4cb8-cf7b-43965d2f0ac5"
      },
      "source": [
        "# plotting results\n",
        "\n",
        "import matplotlib.pyplot as plt\n",
        "\n",
        "plt.plot(model_results['Topics'], model_results['Coherence'], color='red', marker = 'o')\n",
        "plt.ylabel('Coherence Scores (C_v)', fontsize=14)\n",
        "plt.xlabel('Number of Topics (K)', fontsize=14)\n",
        "plt.grid(True)\n",
        "plt.show()\n",
        "\n",
        "\n",
        "\n"
      ],
      "execution_count": null,
      "outputs": [
        {
          "output_type": "display_data",
          "data": {
            "image/png": "[encoded data removed]",
            "text/plain": [
              "<Figure size 432x288 with 1 Axes>"
            ]
          },
          "metadata": {
            "tags": [],
            "needs_background": "light"
          }
        }
      ]
    },
    {
      "cell_type": "markdown",
      "metadata": {
        "id": "lS7xuzD_cV0p"
      },
      "source": [
        "Final model with optimal hyperparameters are trained"
      ]
    },
    {
      "cell_type": "code",
      "metadata": {
        "id": "Y8Nbfz4ranM1"
      },
      "source": [
        "lda_model = gensim.models.LdaMulticore(corpus=corpus,\n",
        "                                           id2word=id2word,\n",
        "                                           num_topics=numTopics, \n",
        "                                           random_state=100,\n",
        "                                           chunksize=100,\n",
        "                                           passes=10,\n",
        "                                           alpha=0.01,\n",
        "                                           eta=0.9)\n",
        "\n",
        "lda_model.save(temp_file)\n",
        "\n"
      ],
      "execution_count": null,
      "outputs": []
    },
    {
      "cell_type": "markdown",
      "metadata": {
        "id": "qeueXL-ucZcB"
      },
      "source": [
        "Using the pyLDAvis package to display the results of the LDA in a readable and accessible manner "
      ]
    },
    {
      "cell_type": "code",
      "metadata": {
        "colab": {
          "base_uri": "https://localhost:8080/",
          "height": 861
        },
        "id": "aVUeyvhZa5ql",
        "outputId": "16df27d0-c8ac-443d-8b87-59e906bce5db"
      },
      "source": [
        "import pyLDAvis.gensim_models\n",
        "import pickle \n",
        "import pyLDAvis\n",
        "# Visualize the topics\n",
        "pyLDAvis.enable_notebook()\n",
        "LDAvis_prepared = pyLDAvis.gensim_models.prepare(lda_model, corpus, id2word)\n",
        "LDAvis_prepared"
      ],
      "execution_count": null,
      "outputs": [
        {
          "output_type": "execute_result",
          "data": {
            "text/html": [
              "\n",
              "<link rel=\"stylesheet\" type=\"text/css\" href=\"https://cdn.jsdelivr.net/gh/bmabey/pyLDAvis@3.3.1/pyLDAvis/js/ldavis.v1.0.0.css\">\n",
              "\n",
              "\n",
              "<div id=\"ldavis_el2971400509858448166192561363\"></div>\n",
              "<script type=\"text/javascript\">\n",
              "\n",
              "var ldavis_el2971400509858448166192561363_data = {\"mdsDat\": {\"x\": [-0.2691507910344677, -0.25752441153186023, -0.19884620740248096, 0.11101328512822402, 0.11465514770231573, 0.12522718471030753, 0.1249792463759139, 0.12502455401021323, 0.1246219920418345], \"y\": [-0.0256811587316132, -0.09292968945877897, 0.14485493369986877, -0.10117156037185869, 0.016668140473268218, 0.01483235099388195, 0.0154462217684988, 0.013654084024502505, 0.014326677602230622], \"topics\": [1, 2, 3, 4, 5, 6, 7, 8, 9], \"cluster\": [1, 1, 1, 1, 1, 1, 1, 1, 1], \"Freq\": [47.71507308915898, 33.84509447530451, 14.99046915916453, 2.4421863220359907, 0.8008815588300284, 0.0826480115451413, 0.07269048431065515, 0.037998228819466795, 0.012958670830706811]}, \"tinfo\": {\"Term\": [\"video\", \"virus\", \"trump\", \"prevent\", \"kill\", \"say\", \"coincide\", \"state\", \"coronavirus\", \"violence\", \"would\", \"check\", \"website\", \"vaccine\", \"cure\", \"may\", \"treat\", \"government\", \"vandalized_prove\", \"past_arrest\", \"study\", \"disease\", \"treatment\", \"post\", \"vitamin\", \"clip\", \"product\", \"pandemic\", \"medium\", \"drug\", \"photo\", \"screenshot\", \"search\", \"caption\", \"logo\", \"police\", \"share_feature\", \"incident\", \"verification\", \"coffin\", \"liability\", \"lockdown\", \"street\", \"satire\", \"satirical\", \"protest\", \"click\", \"image\", \"translate\", \"pm\", \"boom\", \"watch\", \"boy\", \"photograph\", \"joke\", \"app\", \"photographer\", \"copyright\", \"prayer\", \"scam\", \"video\", \"content\", \"user\", \"woman\", \"website\", \"site\", \"message\", \"read\", \"check\", \"twitter\", \"hoax\", \"text\", \"share\", \"story\", \"medium\", \"post\", \"fact\", \"news\", \"purpose\", \"man\", \"fake\", \"social\", \"page\", \"see\", \"show\", \"claim\", \"false\", \"report\", \"mislead\", \"tweet\", \"people\", \"also\", \"late\", \"rumor\", \"coronavirus\", \"die\", \"find\", \"make\", \"take\", \"say\", \"facebook\", \"case\", \"time\", \"spread\", \"study\", \"flu\", \"scientist\", \"vaccine\", \"coronaviruse\", \"respiratory\", \"protein\", \"cell\", \"influenza\", \"droplet\", \"researcher\", \"animal\", \"feedback\", \"pathogen\", \"lab\", \"respirator\", \"bat\", \"ibuprofen\", \"bacteria\", \"blood\", \"severe\", \"pneumonia\", \"particle\", \"clinical\", \"strain\", \"sequence\", \"patent\", \"oxygen\", \"transmission\", \"immune\", \"infectious\", \"human\", \"symptom\", \"develop\", \"scientific\", \"infection\", \"mask\", \"virus\", \"illness\", \"risk\", \"disease\", \"research\", \"cause\", \"expert\", \"patient\", \"evidence\", \"coronavirus\", \"death\", \"health\", \"say\", \"spread\", \"suggest\", \"case\", \"know\", \"people\", \"may\", \"could\", \"claim\", \"test\", \"new\", \"also\", \"make\", \"time\", \"would\", \"report\", \"number\", \"include\", \"medium\", \"payment\", \"budget\", \"vote\", \"legislation\", \"bill\", \"trump\", \"governor\", \"stimulus\", \"congressional\", \"provision\", \"income\", \"debt\", \"mandate\", \"federal\", \"loan\", \"immigrant\", \"trademark\", \"constitution\", \"taxis\", \"bipartisan\", \"tax\", \"exemption\", \"revenue\", \"fund\", \"senator\", \"spouse\", \"microchip\", \"reopen\", \"taxpayer\", \"waive\", \"administration\", \"financial\", \"funding\", \"business\", \"policy\", \"legal\", \"school\", \"law\", \"employee\", \"customer\", \"store\", \"grant\", \"cost\", \"job\", \"supply\", \"money\", \"state\", \"decision\", \"company\", \"order\", \"response\", \"would\", \"emergency\", \"plan\", \"service\", \"government\", \"say\", \"pandemic\", \"may\", \"pay\", \"month\", \"health\", \"want\", \"coincide\", \"public\", \"rumor\", \"include\", \"time\", \"make\", \"test\", \"country\", \"violence\", \"could\", \"go\", \"vitamin\", \"drink\", \"dettol\", \"lemon\", \"diet\", \"salt\", \"vegetarian\", \"garlic\", \"sanitizer\", \"alcohol\", \"bleach\", \"ingest\", \"chloroquine\", \"gargle\", \"taste\", \"ph\", \"beer\", \"vinegar\", \"vodka\", \"uv\", \"tea\", \"intravenous\", \"onion\", \"bath\", \"quinine\", \"drinking\", \"fat\", \"boil\", \"herbal\", \"consumption\", \"remedy\", \"zinc\", \"cure\", \"anosmia\", \"water\", \"soap\", \"disinfectant\", \"throat\", \"consume\", \"product\", \"prevent\", \"eat\", \"drug\", \"medicine\", \"treat\", \"treatment\", \"recommend\", \"food\", \"effective\", \"kill\", \"hand\", \"clean\", \"sulfur\", \"coal\", \"gunshot\", \"banana\", \"explosion\", \"box\", \"circuitry\", \"quip\", \"simpson\", \"poem\", \"plate\", \"garbage\", \"exotic\", \"scooter\", \"unloading\", \"camera\", \"nostradamus\", \"atmospheric\", \"dolly\", \"pence\", \"chopstick\", \"cat\", \"miniserie\", \"sidewalk\", \"railroad\", \"baffling\", \"connector\", \"inscribe\", \"dump\", \"quatrain\", \"sand\", \"montage\", \"notebook\", \"tower\", \"whip\", \"dead_bird\", \"darkness\", \"tank\", \"penny\", \"episode\", \"predict\", \"book\", \"juvenile\", \"dog\", \"video\", \"clip\", \"panel\", \"film\", \"car\", \"coincide\", \"past_arrest\", \"vandalized_prove\", \"footage\", \"violence\", \"equipment\", \"catch\", \"barrier\", \"encounter\", \"custody\", \"swan\", \"dolphin\", \"canal\", \"waterway\", \"tranquil\", \"var\", \"reset\", \"examples\", \"halts\", \"sediment\", \"sighting\", \"uncrowded\", \"reorganization\", \"sundae\", \"undefined\", \"orthopedist\", \"eager\", \"musk\", \"upend\", \"martini\", \"agitation\", \"amazement\", \"banal\", \"bronchi\", \"chilling\", \"destiny\", \"disassembly\", \"diversified\", \"emptiness\", \"ferocity\", \"finely\", \"grueling\", \"ffp\", \"swim\", \"insult\", \"flier\", \"silence\", \"enfamil\", \"formula\", \"horse\", \"surcharge\", \"breastmilk\", \"equitable\", \"motherload\", \"dependable\", \"devalue\", \"hooded\", \"thoroughbred\", \"steakhouse\", \"slum\", \"scholarship\", \"catastrophize\", \"disenfranchise\", \"exposed\", \"innumerable\", \"newcomer\", \"pursuit\", \"unfailing\", \"whoop\", \"bicentennial\", \"attitude\", \"scourge\", \"deere\", \"exorbitantly\", \"promo\", \"revoking\", \"rib\", \"nutrition\", \"patience\", \"nutritional\", \"pity\", \"committed\", \"currency\", \"bootlegger\", \"availability\", \"substitute\", \"milk\", \"harass\", \"scared\", \"pen\", \"bitly\", \"receipt\", \"discount\", \"sorry\", \"heme\", \"reef\", \"eject\", \"dissociation\", \"silico\", \"oximetry\", \"porphyrin\", \"vibration\", \"atoll\", \"innacurate\", \"islet\", \"maritime\", \"navigation\", \"overflight\", \"silo\", \"sovereignty\", \"submerged\", \"turf\", \"underpin\", \"ion\", \"markedly\", \"binds\", \"charitably\", \"desaturate\", \"desaturation\", \"globular\", \"hyp\", \"hypoxemic\", \"orf\", \"subunit\", \"clap\", \"troubling\", \"arterial\", \"iron\", \"maximize\", \"hypoxemia\", \"distraction\", \"bead\", \"handwork\", \"keepsake\", \"tassel\", \"hallmark\", \"punishment\", \"foil\", \"glitter\", \"ornament\", \"mural\", \"homosexuality\", \"submission\", \"greeting\", \"arab\", \"bow\", \"divine\", \"facile\", \"lackey\", \"petty\", \"masterpiece\", \"imposed\", \"ribbon\", \"educated\", \"pathetic\", \"ultrasound\", \"positivity\", \"stool\", \"timepoints\", \"clapping\", \"astrological\", \"ian\", \"greet\", \"baselessly\", \"flock\", \"painting\", \"recirculate\", \"illegitimate\", \"nostalgia\", \"veneer\", \"pride\", \"israeli\", \"divisive\", \"nostalgic\", \"acquaintance\", \"outrage\", \"inauthentic\", \"overseas\", \"parade\", \"wrap\"], \"Freq\": [3122.0, 4386.0, 1132.0, 737.0, 1864.0, 6389.0, 1685.0, 1855.0, 10267.0, 1848.0, 1960.0, 3457.0, 2877.0, 1348.0, 407.0, 3597.0, 632.0, 1627.0, 854.0, 854.0, 1219.0, 1863.0, 604.0, 5055.0, 336.0, 356.0, 429.0, 2429.0, 6163.0, 453.0, 905.3283453455986, 574.7164918326033, 472.85961573788745, 320.69137096553266, 327.46799626630843, 638.3275041769192, 208.65184787149974, 362.64054195553797, 242.85163962951611, 181.26675401149438, 221.66079584207534, 479.27088518357596, 215.11559475862367, 112.4257158532628, 121.96671614559132, 231.23212798417586, 102.14190081156063, 1260.7833946055762, 179.30338859736625, 136.36816332708915, 87.76146688216922, 160.61286192938104, 74.05659879838065, 382.1651202404791, 167.48167080786047, 274.5133758038257, 82.87752858792864, 131.6987476900641, 69.62527147541662, 159.48176608962734, 3004.0200683122393, 1137.6717253828658, 1562.0880357050214, 260.6493258383006, 2717.5694946470403, 768.0184746103952, 1112.8476494677473, 1441.21847305689, 3189.2256747541323, 873.0528811314102, 329.1155317587592, 605.858057202561, 2363.3586823677956, 1582.7736889835605, 5218.089172942713, 4249.940188263565, 3550.748059241576, 1920.074550703743, 594.1675237351719, 554.3617415859097, 1187.644654473575, 2997.7398532480624, 895.8607243691506, 1878.6298833937276, 2252.726063328885, 5395.187376660235, 1922.9160175998875, 2827.059378880587, 1310.9031937057075, 1066.5952540282642, 4233.366301234657, 2707.528872728877, 1206.6837004068414, 2214.0380673888467, 5002.873672421866, 1720.2253063557646, 1600.8487983838033, 2095.976855345554, 1583.965578463463, 2321.3085660907277, 1265.8577608562953, 1563.5556962744056, 1367.639865414364, 1304.2425125503883, 1211.6985328490268, 528.5472581597392, 576.446450190955, 1336.7264026987884, 290.5042506077634, 316.6104966118746, 185.02268032136985, 369.8066165185362, 207.8255092537338, 138.804914755011, 377.6112530544195, 480.2703311056273, 121.52144390381575, 143.46644249800087, 511.4237269112739, 168.82725171369063, 301.23817695170993, 105.79064596472419, 146.33309686602243, 309.1653982987743, 237.51922411601637, 160.65967986788314, 91.4463467584119, 167.95379214126135, 215.71524413920497, 143.92074365161844, 268.5336026889617, 91.37850376812078, 331.7183438211926, 123.11170203004579, 303.63370273446094, 939.5452943100876, 578.9102073906276, 362.5358230099917, 416.6076803808478, 915.082264123997, 1268.8775662577052, 3790.872847838764, 340.3244822503318, 712.3074992640062, 1591.3312897585488, 627.8108817782808, 1174.2407226574803, 552.7948234854467, 1276.145542027303, 1486.8694381297187, 5126.529563098203, 1423.5812306767293, 1294.312848050413, 2650.4979765661506, 1431.689155992499, 656.3599494450315, 1466.900780565464, 1176.6352214138863, 2421.4826885909392, 1562.7635249455168, 937.5800398978816, 2465.3574647221963, 818.9027742855368, 866.4610462382243, 1220.80072500281, 1147.836770683358, 1024.0544994520417, 851.1083190806415, 1033.2755106537409, 783.9806658058319, 777.1119136103489, 794.589847949872, 252.44467339711863, 128.05645407655044, 174.8306461485897, 113.16485560279517, 287.03618546454857, 1099.859528659278, 277.32925483208396, 80.78341706880812, 69.7114657182363, 80.98743273886937, 107.0094060541113, 57.447973743811914, 78.07104614342131, 563.3139107697937, 45.82264964359678, 160.1923949789193, 76.98787298894182, 45.83876013407914, 46.04868638589744, 41.38755262472862, 93.56981619929037, 45.83832274519726, 41.16442889238124, 359.3064752832269, 45.80984289713552, 69.3257645384964, 39.62294217191903, 150.93670970810638, 44.15257642371541, 31.39193658244966, 310.8766554881116, 110.55275753654088, 158.0638857241683, 361.8692942021234, 223.83020286938213, 100.03425474968522, 456.86684685333, 262.7355590098471, 213.3698436445569, 193.98126928885185, 471.04314538152045, 185.17142908496237, 138.19056785031182, 140.48467836759204, 269.65383809592606, 194.36832929005143, 965.6090881576249, 177.732307318348, 399.87981100879205, 538.960471065569, 410.9390080995684, 824.5493775429592, 360.6349711137718, 244.4425329980527, 270.81370010102745, 651.3810774106711, 1416.658406280555, 782.4766260755163, 939.8443403278872, 244.14230926953448, 514.3556552231537, 487.0415010182659, 427.43353768391154, 429.15803957625326, 423.3982228508537, 507.0007570596329, 421.3274955833241, 469.3745359564304, 429.4661013135347, 351.5429975855184, 357.5898813818694, 348.64008839948383, 330.4592438881124, 326.62377495110866, 333.0180868065943, 247.02524310618497, 112.89527427896275, 45.75399290719681, 47.06561955463925, 43.77396599015704, 59.10103145723564, 30.2476945754032, 32.675092028138884, 126.08737406196563, 46.44068833302831, 28.087389681898458, 153.39251850123998, 33.36747286189028, 73.69967683701724, 21.686367143958957, 46.84913320654547, 16.85453429373621, 15.998023410158615, 20.93130810825657, 30.67416287609954, 26.555694803364574, 17.928354313385306, 16.689459842928656, 29.644689798306818, 34.709901802909364, 14.765876561200466, 12.128250129448597, 13.262887102032137, 53.52054135582993, 45.68446067236913, 42.17824376541309, 284.944284050611, 40.23318818773079, 155.80202174061284, 58.24592862421574, 84.7076906836954, 51.11725178086148, 51.40995527857645, 164.68574524469054, 170.6689986120999, 62.98052807762683, 83.7141960529465, 71.51064277160717, 81.0378814844136, 76.22156569337326, 61.9957743815141, 69.343727071233, 57.441663827121175, 76.82465217920647, 55.19465456263501, 46.149463193388776, 18.635355175935622, 11.222677962251081, 11.700843761214623, 10.369170998347908, 7.006799421253637, 40.42016802939184, 5.704923612038671, 7.403363679391739, 8.833670422052528, 6.878145401679296, 8.39359751425178, 3.374397664229078, 7.703554106864629, 3.795634438091932, 3.115564164626176, 10.287726490216285, 2.7961073211714225, 5.405206775229673, 2.860371393251944, 11.681234615147048, 8.380226678889764, 40.17776687953477, 2.531171356606026, 4.698330647042013, 3.5550893274353945, 2.8030189407090003, 2.8085019989347724, 4.5925071247681295, 2.7895686542816596, 2.129540145723487, 11.721903590263171, 8.56290991546687, 9.596753349578439, 17.629143264479715, 8.726645786614627, 5.577685379291124, 5.725130977892214, 7.661415754399219, 15.268933152373855, 11.851507906893348, 22.349226990061833, 14.124195971729508, 8.37306860526328, 12.253177597017329, 78.4676916991682, 23.45562451388167, 9.067150619351333, 12.862284983090932, 11.57468419351865, 18.668416789440176, 16.07634541233129, 16.07634541233129, 13.068171046470697, 16.363611799844808, 11.637898576818479, 10.62126019300962, 10.677548935995638, 10.262112089901436, 9.76021628294885, 1.6275276175677929, 1.8897348357579573, 0.9872213606410999, 0.6742719547284167, 0.6057358224940713, 0.7413379801870331, 0.3373099902654429, 0.3106054084047565, 0.3106054084047565, 0.3106054084047565, 0.3106054084047565, 0.3106054084047565, 0.7573578419496884, 0.40948714632384575, 0.1888548159086512, 0.49674744613831373, 0.2746396875994311, 0.27797033697123114, 0.27802486873037635, 0.2147368717100377, 0.2560213682216116, 0.2560213682216116, 0.2560213682216116, 0.2560213682216116, 0.2560213682216116, 0.2560213682216116, 0.2560213682216116, 0.2560213682216116, 0.2560213682216116, 0.2560213682216116, 0.2560213682216116, 0.2560213682216116, 0.35805012881646425, 0.3735686585103743, 0.3534862128445622, 0.2792509973289864, 0.28774849872663344, 2.220667680608509, 2.8524231740251116, 0.45493407211305875, 0.9892804066230192, 0.44827932825706734, 0.3555241237241102, 0.24473853997802922, 0.2596435180972463, 0.13793889673797033, 0.1313553036266678, 0.10769267557969711, 0.16128394813038777, 0.12008147378657835, 0.1165214833219672, 0.10560008438636305, 0.10560008438636305, 0.10560008438636305, 0.10560008438636305, 0.10560008438636305, 0.10560008438636305, 0.10560008438636305, 0.10409657243584602, 0.10633917830043935, 0.10189475947634558, 0.1023810646357423, 0.09572251014268937, 0.09572251014268937, 0.09572251014268937, 0.09572251014268937, 0.09572251014268937, 0.3004036757488146, 0.19549613046196343, 0.1432251199311126, 0.13273844469293675, 0.17927125795394033, 0.23303800362497853, 0.1321896705371101, 0.34219464253975257, 0.2650883033831828, 0.21965928816140656, 0.12105121375537739, 0.1396908000104169, 0.14263372885467934, 0.1275137572789849, 0.12217849776180033, 0.122080750325784, 0.11147444653525519, 0.21051698006826014, 0.09911486193087865, 0.09359442192694199, 0.07434551315458453, 0.07434551315458453, 0.055192758640573776, 0.055192758640573776, 0.04288186485099822, 0.043711612017401695, 0.043711612017401695, 0.043711612017401695, 0.043711612017401695, 0.043711612017401695, 0.043711612017401695, 0.043711612017401695, 0.043711612017401695, 0.043711612017401695, 0.043711612017401695, 0.04330822461434223, 0.05414817777473328, 0.05477958137548185, 0.03614518324073579, 0.03614518324073579, 0.03614518324073579, 0.03614518324073579, 0.03614518324073579, 0.03614518324073579, 0.03614518324073579, 0.03614518324073579, 0.03614518324073579, 0.051703424897322305, 0.05046540833173068, 0.04929155989542163, 0.05404052994488, 0.04111287854294192, 0.037636852951135856, 0.03842981329735395, 0.028192830189031653, 0.028192830189031653, 0.028192830189031653, 0.028192830189031653, 0.06474877888767383, 0.018142442439815103, 0.016881259005898177, 0.016881259005898177, 0.016881259005898177, 0.019739675942039087, 0.009360688062834072, 0.011249532896235138, 0.014095885746843046, 0.00935635560420268, 0.016852297386439043, 0.012251711555266694, 0.007450671213049165, 0.007450671213049165, 0.007450671213049165, 0.008528115549040578, 0.006651452644047286, 0.011556412126717151, 0.005869812198836544, 0.005869812198836544, 0.005869812198836544, 0.005869812198836544, 0.005869812198836544, 0.005869812198836544, 0.005869812198836544, 0.005869812198836544, 0.00661273086178335, 0.014301306673375353, 0.010837873074980917, 0.012315988226609936, 0.01721353180045446, 0.014781062031326451, 0.01583158399675054, 0.01394232450767246, 0.01394232450767246, 0.012176892042773894, 0.012920803232607164, 0.01342267019906129, 0.012004068850072087, 0.010014267962834656, 0.011206842266776946, 0.014146454834164462, 0.012770720563857712, 0.011507679371679643, 0.011438331045490517], \"Total\": [3122.0, 4386.0, 1132.0, 737.0, 1864.0, 6389.0, 1685.0, 1855.0, 10267.0, 1848.0, 1960.0, 3457.0, 2877.0, 1348.0, 407.0, 3597.0, 632.0, 1627.0, 854.0, 854.0, 1219.0, 1863.0, 604.0, 5055.0, 336.0, 356.0, 429.0, 2429.0, 6163.0, 453.0, 907.9587401578472, 577.6383229770596, 475.7886869048023, 322.96795109182887, 329.87896323396933, 645.1338527659163, 211.20917095533312, 367.3847457401964, 246.10743129752515, 184.24490096434724, 225.4092874595414, 488.0386589361649, 219.20250406495404, 114.66611347481256, 124.4617788154674, 235.97667203155856, 104.24698967371476, 1287.8409389423841, 183.30388323248027, 139.4415633836083, 89.83198437752782, 164.68706148076132, 75.99483842027482, 392.45280143040003, 172.18862064015298, 282.2979777559057, 85.26366831812297, 135.53406082993016, 71.71780862149073, 164.66813578742125, 3122.3395265466015, 1181.353695389902, 1640.6159152158361, 269.18472395014857, 2877.3638676476394, 803.2235549029807, 1179.2499601780332, 1536.3247889971315, 3457.138661920515, 922.8470185830828, 342.088284866898, 639.9218064730782, 2653.638499764819, 1753.9218093206273, 6163.009518352154, 5055.894693709565, 4239.823756256589, 2211.934592375918, 638.4841180090457, 593.1231585658844, 1337.1145012557872, 3604.3474796718633, 1001.2072792082622, 2271.450090647619, 2943.7558495930834, 8005.985634038075, 2460.104800266301, 3927.0280375631983, 1611.5279709760823, 1260.7970524086152, 6722.956143131727, 3958.2193591649548, 1483.4598121394492, 3344.5309044466912, 10267.447030672281, 2421.5109659128784, 2262.3626621979615, 3674.476957253053, 2350.8005428828096, 6389.716664814175, 1622.3210740898467, 3081.9311357554207, 2862.3414588500386, 2740.879271627373, 1219.599676276892, 532.0480936086504, 580.6591837460188, 1348.449465095539, 293.1756520442858, 320.730867119606, 187.91216511192738, 375.76100777422096, 211.44214200329617, 141.2842006316891, 384.6888287266552, 489.44986206538556, 124.11351161355194, 146.59143974124893, 522.6891692050267, 172.5479058932377, 307.9530169863582, 108.17968198436243, 149.64316729329587, 316.77553240052026, 243.47182427648295, 164.7983350651468, 93.83493873479881, 172.39231373403982, 221.85426769699708, 148.0614798550525, 276.5173928783772, 94.16138820781404, 341.825480350365, 126.95602529642436, 313.27136470138925, 985.68199227972, 605.7067666046759, 379.0483657920603, 437.3131504495373, 980.5847275882654, 1395.1696786134596, 4386.776251113472, 358.87815910632764, 780.2921419913569, 1863.8805218128612, 692.9638574631913, 1383.6257221772469, 628.3147626384269, 1633.153564077382, 2138.3974375413254, 10267.447030672281, 2152.7226035257195, 2107.2181570269167, 6389.716664814175, 2740.879271627373, 932.1968949666983, 3081.9311357554207, 2257.3074633901892, 6722.956143131727, 3597.6354152332065, 1644.6439554310264, 8005.985634038075, 1355.207914583555, 1667.7496163647525, 3958.2193591649548, 3674.476957253053, 2862.3414588500386, 1960.6869452091503, 3927.0280375631983, 1881.0182564723068, 1995.5206019471352, 6163.009518352154, 255.74825906436672, 130.54254481047943, 178.9764929991983, 116.14148605518719, 294.9077121210958, 1132.688192570694, 286.0959771030775, 83.68191701726073, 72.41594651892451, 84.73084073971415, 112.25959222415396, 60.290980217586984, 81.9563909933662, 591.6805317326344, 48.28310999430375, 168.80826031659433, 81.47944826550743, 48.557105316701026, 48.833901350576525, 43.94223468869694, 99.43621109409105, 48.97193429076306, 44.061108673894054, 385.0829452499997, 49.273194276110395, 74.5676221766982, 42.66230249238946, 163.18709364139528, 47.86096728403437, 34.095900958475646, 337.71223130031274, 120.42872251616686, 172.8676111347634, 406.3758295003232, 250.63260843421955, 109.44920307328906, 544.5960146219782, 306.8399570471507, 248.54771012132335, 230.93713667684779, 614.2530957191427, 221.77168419217156, 160.78060758725206, 164.58282296819598, 357.2803518172706, 246.82554857669118, 1855.6622114684856, 228.12595561134427, 666.1124545045668, 1031.8542572328738, 733.8355897166933, 1960.6869452091503, 627.693412601415, 365.58469858703035, 427.21794739955124, 1627.9423009309553, 6389.716664814175, 2429.147069447043, 3597.6354152332065, 367.89329400884776, 2310.282879002775, 2107.2181570269167, 1567.5709671551938, 1685.986299628106, 1886.685676386627, 3344.5309044466912, 1995.5206019471352, 2862.3414588500386, 3674.476957253053, 1355.207914583555, 1563.094930255555, 1848.3575268741854, 1644.6439554310264, 1847.2676653704884, 336.8984880328336, 252.40805039807705, 115.90704119812197, 48.163162351091614, 49.99301570414487, 46.57970441464697, 63.37421454610119, 32.64545273248046, 35.31912830237065, 136.4002273740596, 52.34454095872578, 32.02479030066009, 175.44172017104952, 38.29475667592223, 84.84681732663178, 25.05904717886059, 54.21084067422195, 19.745740453918668, 18.793070702619428, 24.855428168613404, 36.53138057634724, 31.671400216416348, 21.383282643180724, 19.951302183116777, 35.51377569378755, 41.63902046671676, 17.787959152648316, 14.624709020157614, 15.999451315753562, 64.89693555782233, 58.05947540280922, 53.66335664215025, 407.8826258744574, 53.04253929465755, 262.49906162954034, 89.1648564541314, 144.33584369701822, 80.11356190004733, 80.81983734415945, 429.2217812342577, 737.2279581532869, 185.58331374481824, 453.91304555348313, 314.6144616598796, 632.5694369353057, 604.8179165924307, 332.3524379010843, 521.3016169536999, 326.5610165807434, 1864.1131822671994, 420.16723067863603, 176.2083655288077, 24.76767201816697, 15.12340152116809, 16.41661285079152, 14.717714008091454, 10.24764241430355, 63.56169398577796, 9.48946480733649, 12.804162898264542, 15.320242519430783, 11.991617799978018, 14.706319244202165, 6.128730928192025, 14.719940179329457, 7.278132102112697, 5.991362115487374, 20.13029686478163, 5.604735850194262, 10.84383371453349, 5.837934126395148, 24.499738917735815, 17.62315909886404, 87.10792269849698, 5.520494869121051, 10.439853762815842, 7.920519680516761, 6.381157109102216, 6.443134460282066, 10.656873978256916, 6.55351029832755, 5.014041651103109, 29.059329657108012, 21.84882161419594, 24.764554651212574, 53.12774842975816, 24.141827639109124, 14.306650551459425, 14.850552795385168, 22.219838976457783, 61.83500189621834, 46.70027683142005, 160.04239111563356, 82.58579110080524, 31.7594095844239, 67.00779678340244, 3122.3395265466015, 356.7150549498823, 39.671333132858, 113.98052097114211, 140.85465834507863, 1685.986299628106, 854.2305583162383, 854.2305583162383, 331.8309005337478, 1848.3575268741854, 227.39092274629257, 239.9417143109042, 761.615173526053, 991.3035435992023, 953.0868893849915, 10.578913701938463, 12.903469507756547, 6.797861947044684, 6.734843206497216, 6.590382999682703, 9.29754091281904, 4.421882932010379, 4.842705480862816, 4.842705480862816, 4.842705480862816, 4.842705480862816, 4.842705480862816, 14.657185229851834, 8.420583639360988, 4.1428310061245215, 10.981928463190533, 6.202116900784439, 6.6335079085170205, 7.121169174840278, 5.697413376887003, 7.001016282527037, 7.001016282527037, 7.001016282527037, 7.001016282527037, 7.001016282527037, 7.001016282527037, 7.001016282527037, 7.001016282527037, 7.001016282527037, 7.001016282527037, 7.001016282527037, 7.001016282527037, 12.89529659509845, 13.955140987167931, 18.633831069990606, 11.427306442595816, 37.500331776530196, 7.463440696698139, 13.153788990225422, 5.55838761692308, 12.601672629975132, 6.6031114352191675, 5.493122524942267, 4.307117182550651, 5.110419734644736, 3.409791095368035, 3.447325389927666, 3.0111677572993254, 4.546515264753638, 3.5399246320978675, 3.5615298766766963, 3.5687605040450507, 3.5687605040450507, 3.5687605040450507, 3.5687605040450507, 3.5687605040450507, 3.5687605040450507, 3.5687605040450507, 3.640911691510674, 3.8251448763538423, 3.8056660481042774, 3.8703321950306724, 3.649129654639112, 3.649129654639112, 3.649129654639112, 3.649129654639112, 3.649129654639112, 13.170831954571804, 8.408640904154105, 6.049871748524923, 6.040077738402023, 9.975540224092693, 16.363626188736255, 6.33023452011695, 41.340757096102685, 28.705837462813754, 28.081882774403486, 7.046832269573764, 15.648693507973194, 21.68604397918932, 14.291070003697959, 15.69079399048011, 22.826663011746323, 43.69343348235179, 7.880829813639948, 4.804605484715945, 4.790574846311615, 4.274324188576892, 4.274324188576892, 3.757408056188404, 3.757408056188404, 2.9706921489170397, 3.4450770167631646, 3.4450770167631646, 3.4450770167631646, 3.4450770167631646, 3.4450770167631646, 3.4450770167631646, 3.4450770167631646, 3.4450770167631646, 3.4450770167631646, 3.4450770167631646, 3.4875034219419754, 4.531786264708094, 4.890460165927409, 3.239811403072016, 3.239811403072016, 3.239811403072016, 3.239811403072016, 3.239811403072016, 3.239811403072016, 3.239811403072016, 3.239811403072016, 3.239811403072016, 5.499365067825854, 7.09762899201952, 7.737109232673027, 10.959260996838182, 9.654734096617203, 5.412242492317348, 10.223719228801802, 4.663436776702378, 4.663436776702378, 4.663436776702378, 4.663436776702378, 11.533677837619727, 3.5590916852647396, 3.7077733063357052, 3.7077733063357052, 3.7077733063357052, 4.4320161214750105, 2.741083739087658, 3.4219900171144015, 4.624642969174846, 3.272322294482144, 5.910295289077339, 4.337931961903933, 2.806930633902244, 2.806930633902244, 2.806930633902244, 3.3985296779618364, 2.7655080086118877, 4.952805091096361, 2.7281131465703985, 2.7281131465703985, 2.7281131465703985, 2.7302946387508387, 2.7302946387508387, 2.7302946387508387, 2.7316905223103305, 2.734055341658444, 3.1016039987763038, 7.429013534766548, 6.0365583302893135, 7.549946685870347, 12.128690728224335, 10.436881930544912, 13.44090812994737, 11.23995351660454, 11.23995351660454, 9.075764716789662, 10.271093969013506, 11.5880148431977, 9.066986896225796, 6.922589603461586, 11.848876283733707, 46.2297391401679, 35.861248255449844, 22.896612483360972, 23.234847497543747], \"Category\": [\"Default\", \"Default\", \"Default\", \"Default\", \"Default\", \"Default\", \"Default\", \"Default\", \"Default\", \"Default\", \"Default\", \"Default\", \"Default\", \"Default\", \"Default\", \"Default\", \"Default\", \"Default\", \"Default\", \"Default\", \"Default\", \"Default\", \"Default\", \"Default\", \"Default\", \"Default\", \"Default\", \"Default\", \"Default\", \"Default\", \"Topic1\", \"Topic1\", \"Topic1\", \"Topic1\", \"Topic1\", \"Topic1\", \"Topic1\", \"Topic1\", \"Topic1\", \"Topic1\", \"Topic1\", \"Topic1\", \"Topic1\", \"Topic1\", \"Topic1\", \"Topic1\", \"Topic1\", \"Topic1\", \"Topic1\", \"Topic1\", \"Topic1\", \"Topic1\", \"Topic1\", \"Topic1\", \"Topic1\", \"Topic1\", \"Topic1\", \"Topic1\", \"Topic1\", \"Topic1\", \"Topic1\", \"Topic1\", \"Topic1\", \"Topic1\", \"Topic1\", \"Topic1\", \"Topic1\", \"Topic1\", \"Topic1\", \"Topic1\", \"Topic1\", \"Topic1\", \"Topic1\", \"Topic1\", \"Topic1\", \"Topic1\", \"Topic1\", \"Topic1\", \"Topic1\", \"Topic1\", \"Topic1\", \"Topic1\", \"Topic1\", \"Topic1\", \"Topic1\", \"Topic1\", \"Topic1\", \"Topic1\", \"Topic1\", \"Topic1\", \"Topic1\", \"Topic1\", \"Topic1\", \"Topic1\", \"Topic1\", \"Topic1\", \"Topic1\", \"Topic1\", \"Topic1\", \"Topic1\", \"Topic1\", \"Topic1\", \"Topic1\", \"Topic1\", \"Topic2\", \"Topic2\", \"Topic2\", \"Topic2\", \"Topic2\", \"Topic2\", \"Topic2\", \"Topic2\", \"Topic2\", \"Topic2\", \"Topic2\", \"Topic2\", \"Topic2\", \"Topic2\", \"Topic2\", \"Topic2\", \"Topic2\", \"Topic2\", \"Topic2\", \"Topic2\", \"Topic2\", \"Topic2\", \"Topic2\", \"Topic2\", \"Topic2\", \"Topic2\", \"Topic2\", \"Topic2\", \"Topic2\", \"Topic2\", \"Topic2\", \"Topic2\", \"Topic2\", \"Topic2\", \"Topic2\", \"Topic2\", \"Topic2\", \"Topic2\", \"Topic2\", \"Topic2\", \"Topic2\", \"Topic2\", \"Topic2\", \"Topic2\", \"Topic2\", \"Topic2\", \"Topic2\", \"Topic2\", \"Topic2\", \"Topic2\", \"Topic2\", \"Topic2\", \"Topic2\", \"Topic2\", \"Topic2\", \"Topic2\", \"Topic2\", \"Topic2\", \"Topic2\", \"Topic2\", \"Topic2\", \"Topic2\", \"Topic2\", \"Topic2\", \"Topic2\", \"Topic2\", \"Topic2\", \"Topic2\", \"Topic3\", \"Topic3\", \"Topic3\", \"Topic3\", \"Topic3\", \"Topic3\", \"Topic3\", \"Topic3\", \"Topic3\", \"Topic3\", \"Topic3\", \"Topic3\", \"Topic3\", \"Topic3\", \"Topic3\", \"Topic3\", \"Topic3\", \"Topic3\", \"Topic3\", \"Topic3\", \"Topic3\", \"Topic3\", \"Topic3\", \"Topic3\", \"Topic3\", \"Topic3\", \"Topic3\", \"Topic3\", \"Topic3\", \"Topic3\", \"Topic3\", \"Topic3\", \"Topic3\", \"Topic3\", \"Topic3\", \"Topic3\", \"Topic3\", \"Topic3\", \"Topic3\", \"Topic3\", \"Topic3\", \"Topic3\", \"Topic3\", \"Topic3\", \"Topic3\", \"Topic3\", \"Topic3\", \"Topic3\", \"Topic3\", \"Topic3\", \"Topic3\", \"Topic3\", \"Topic3\", \"Topic3\", \"Topic3\", \"Topic3\", \"Topic3\", \"Topic3\", \"Topic3\", \"Topic3\", \"Topic3\", \"Topic3\", \"Topic3\", \"Topic3\", \"Topic3\", \"Topic3\", \"Topic3\", \"Topic3\", \"Topic3\", \"Topic3\", \"Topic3\", \"Topic3\", \"Topic3\", \"Topic3\", \"Topic4\", \"Topic4\", \"Topic4\", \"Topic4\", \"Topic4\", \"Topic4\", \"Topic4\", \"Topic4\", \"Topic4\", \"Topic4\", \"Topic4\", \"Topic4\", \"Topic4\", \"Topic4\", \"Topic4\", \"Topic4\", \"Topic4\", \"Topic4\", \"Topic4\", \"Topic4\", \"Topic4\", \"Topic4\", \"Topic4\", \"Topic4\", \"Topic4\", \"Topic4\", \"Topic4\", \"Topic4\", \"Topic4\", \"Topic4\", \"Topic4\", \"Topic4\", \"Topic4\", \"Topic4\", \"Topic4\", \"Topic4\", \"Topic4\", \"Topic4\", \"Topic4\", \"Topic4\", \"Topic4\", \"Topic4\", \"Topic4\", \"Topic4\", \"Topic4\", \"Topic4\", \"Topic4\", \"Topic4\", \"Topic4\", \"Topic4\", \"Topic4\", \"Topic4\", \"Topic5\", \"Topic5\", \"Topic5\", \"Topic5\", \"Topic5\", \"Topic5\", \"Topic5\", \"Topic5\", \"Topic5\", \"Topic5\", \"Topic5\", \"Topic5\", \"Topic5\", \"Topic5\", \"Topic5\", \"Topic5\", \"Topic5\", \"Topic5\", \"Topic5\", \"Topic5\", \"Topic5\", \"Topic5\", \"Topic5\", \"Topic5\", \"Topic5\", \"Topic5\", \"Topic5\", \"Topic5\", \"Topic5\", \"Topic5\", \"Topic5\", \"Topic5\", \"Topic5\", \"Topic5\", \"Topic5\", \"Topic5\", \"Topic5\", \"Topic5\", \"Topic5\", \"Topic5\", \"Topic5\", \"Topic5\", \"Topic5\", \"Topic5\", \"Topic5\", \"Topic5\", \"Topic5\", \"Topic5\", \"Topic5\", \"Topic5\", \"Topic5\", \"Topic5\", \"Topic5\", \"Topic5\", \"Topic5\", \"Topic5\", \"Topic5\", \"Topic5\", \"Topic5\", \"Topic6\", \"Topic6\", \"Topic6\", \"Topic6\", \"Topic6\", \"Topic6\", \"Topic6\", \"Topic6\", \"Topic6\", \"Topic6\", \"Topic6\", \"Topic6\", \"Topic6\", \"Topic6\", \"Topic6\", \"Topic6\", \"Topic6\", \"Topic6\", \"Topic6\", \"Topic6\", \"Topic6\", \"Topic6\", \"Topic6\", \"Topic6\", \"Topic6\", \"Topic6\", \"Topic6\", \"Topic6\", \"Topic6\", \"Topic6\", \"Topic6\", \"Topic6\", \"Topic6\", \"Topic6\", \"Topic6\", \"Topic6\", \"Topic6\", \"Topic7\", \"Topic7\", \"Topic7\", \"Topic7\", \"Topic7\", \"Topic7\", \"Topic7\", \"Topic7\", \"Topic7\", \"Topic7\", \"Topic7\", \"Topic7\", \"Topic7\", \"Topic7\", \"Topic7\", \"Topic7\", \"Topic7\", \"Topic7\", \"Topic7\", \"Topic7\", \"Topic7\", \"Topic7\", \"Topic7\", \"Topic7\", \"Topic7\", \"Topic7\", \"Topic7\", \"Topic7\", \"Topic7\", \"Topic7\", \"Topic7\", \"Topic7\", \"Topic7\", \"Topic7\", \"Topic7\", \"Topic7\", \"Topic7\", \"Topic7\", \"Topic7\", \"Topic7\", \"Topic7\", \"Topic7\", \"Topic7\", \"Topic7\", \"Topic7\", \"Topic7\", \"Topic7\", \"Topic8\", \"Topic8\", \"Topic8\", \"Topic8\", \"Topic8\", \"Topic8\", \"Topic8\", \"Topic8\", \"Topic8\", \"Topic8\", \"Topic8\", \"Topic8\", \"Topic8\", \"Topic8\", \"Topic8\", \"Topic8\", \"Topic8\", \"Topic8\", \"Topic8\", \"Topic8\", \"Topic8\", \"Topic8\", \"Topic8\", \"Topic8\", \"Topic8\", \"Topic8\", \"Topic8\", \"Topic8\", \"Topic8\", \"Topic8\", \"Topic8\", \"Topic8\", \"Topic8\", \"Topic8\", \"Topic8\", \"Topic8\", \"Topic8\", \"Topic9\", \"Topic9\", \"Topic9\", \"Topic9\", \"Topic9\", \"Topic9\", \"Topic9\", \"Topic9\", \"Topic9\", \"Topic9\", \"Topic9\", \"Topic9\", \"Topic9\", \"Topic9\", \"Topic9\", \"Topic9\", \"Topic9\", \"Topic9\", \"Topic9\", \"Topic9\", \"Topic9\", \"Topic9\", \"Topic9\", \"Topic9\", \"Topic9\", \"Topic9\", \"Topic9\", \"Topic9\", \"Topic9\", \"Topic9\", \"Topic9\", \"Topic9\", \"Topic9\", \"Topic9\", \"Topic9\", \"Topic9\", \"Topic9\", \"Topic9\", \"Topic9\", \"Topic9\", \"Topic9\", \"Topic9\", \"Topic9\", \"Topic9\", \"Topic9\", \"Topic9\", \"Topic9\", \"Topic9\", \"Topic9\"], \"logprob\": [30.0, 29.0, 28.0, 27.0, 26.0, 25.0, 24.0, 23.0, 22.0, 21.0, 20.0, 19.0, 18.0, 17.0, 16.0, 15.0, 14.0, 13.0, 12.0, 11.0, 10.0, 9.0, 8.0, 7.0, 6.0, 5.0, 4.0, 3.0, 2.0, 1.0, -5.8644, -6.3188, -6.5139, -6.9022, -6.8813, -6.2138, -7.332, -6.7792, -7.1802, -7.4727, -7.2715, -6.5004, -7.3015, -7.9504, -7.8689, -7.2292, -8.0463, -5.5332, -7.4836, -7.7573, -8.198, -7.5937, -8.3678, -6.7268, -7.5518, -7.0577, -8.2553, -7.7921, -8.4295, -7.6007, -4.665, -5.6359, -5.3189, -7.1095, -4.7652, -6.0288, -5.658, -5.3994, -4.6051, -5.9007, -6.8763, -6.266, -4.9048, -5.3057, -4.1128, -4.318, -4.4977, -5.1125, -6.2855, -6.3548, -5.5929, -4.667, -5.8749, -5.1344, -4.9528, -4.0794, -5.1111, -4.7257, -5.4942, -5.7004, -4.3219, -4.7689, -5.577, -4.9701, -4.1549, -5.2225, -5.2944, -5.0249, -5.305, -4.9228, -5.5292, -5.3179, -5.4518, -5.4993, -5.2294, -6.0591, -5.9723, -5.1312, -6.6576, -6.5715, -7.1087, -6.4162, -6.9925, -7.3961, -6.3953, -6.1549, -7.5291, -7.3631, -6.092, -7.2003, -6.6213, -7.6677, -7.3433, -6.5953, -6.859, -7.2499, -7.8135, -7.2055, -6.9552, -7.3599, -6.7362, -7.8142, -6.5249, -7.5161, -6.6134, -5.4838, -5.9681, -6.4361, -6.2971, -5.5102, -5.1833, -4.0889, -6.4993, -5.7607, -4.9569, -5.887, -5.2608, -6.0142, -5.1776, -5.0248, -3.787, -5.0683, -5.1635, -4.4467, -5.0626, -5.8425, -5.0383, -5.2588, -4.5371, -4.975, -5.4859, -4.5191, -5.6212, -5.5648, -5.2219, -5.2836, -5.3977, -5.5827, -5.3887, -5.6648, -5.6736, -5.6514, -5.9836, -6.6624, -6.351, -6.786, -5.8552, -4.5119, -5.8896, -7.1231, -7.2705, -7.1205, -6.8419, -7.4639, -7.1572, -5.181, -7.69, -6.4385, -7.1712, -7.6897, -7.6851, -7.7918, -6.9761, -7.6897, -7.7973, -5.6307, -7.6903, -7.276, -7.8354, -6.498, -7.7272, -8.0683, -5.7754, -6.8093, -6.4518, -5.6235, -6.1039, -6.9093, -5.3904, -5.9437, -6.1518, -6.2471, -5.3599, -6.2935, -6.5862, -6.5697, -5.9177, -6.2451, -4.6421, -6.3345, -5.5237, -5.2252, -5.4964, -4.8, -5.627, -6.0158, -5.9134, -5.0357, -4.2588, -4.8524, -4.6691, -6.0171, -5.2719, -5.3265, -5.457, -5.453, -5.4665, -5.2863, -5.4714, -5.3634, -5.4523, -5.6525, -5.6354, -5.6608, -5.7143, -5.726, -3.8921, -4.1908, -4.9738, -5.877, -5.8488, -5.9213, -5.6211, -6.2909, -6.2137, -4.8633, -5.8621, -6.365, -4.6673, -6.1927, -5.4003, -6.6236, -5.8534, -6.8757, -6.9278, -6.6591, -6.2769, -6.4211, -6.8139, -6.8855, -6.311, -6.1533, -7.008, -7.2048, -7.1153, -5.7202, -5.8785, -5.9584, -4.048, -6.0056, -4.6517, -5.6356, -5.2611, -5.7662, -5.7605, -4.5963, -4.5606, -5.5575, -5.2729, -5.4305, -5.3054, -5.3667, -5.5732, -5.4612, -5.6495, -5.3588, -5.6894, -5.8684, -5.6603, -6.1674, -6.1257, -6.2465, -6.6385, -4.886, -6.844, -6.5834, -6.4068, -6.657, -6.4579, -7.3692, -6.5437, -7.2515, -7.449, -6.2544, -7.5571, -6.898, -7.5344, -6.1274, -6.4595, -4.8921, -7.6567, -7.0382, -7.317, -7.5547, -7.5527, -7.0609, -7.5595, -7.8295, -6.1239, -6.4379, -6.3239, -5.7158, -6.419, -6.8666, -6.8405, -6.5492, -5.8596, -6.1129, -5.4786, -5.9375, -6.4604, -6.0796, -4.2227, -5.4303, -6.3807, -6.0311, -6.1366, -5.6585, -5.808, -5.808, -6.0152, -5.7903, -6.1311, -6.2225, -6.2172, -6.2569, -6.3071, -5.8272, -5.6778, -6.3271, -6.7084, -6.8156, -6.6135, -7.401, -7.4835, -7.4835, -7.4835, -7.4835, -7.4835, -6.5922, -7.2071, -7.981, -7.0139, -7.6065, -7.5945, -7.5943, -7.8526, -7.6767, -7.6767, -7.6767, -7.6767, -7.6767, -7.6767, -7.6767, -7.6767, -7.6767, -7.6767, -7.6767, -7.6767, -7.3413, -7.2989, -7.3542, -7.5899, -7.5599, -5.3881, -5.1377, -6.9735, -6.1966, -6.9882, -7.22, -7.5934, -7.5343, -8.1668, -8.2157, -8.4143, -8.0105, -8.3055, -8.3355, -8.434, -8.434, -8.434, -8.434, -8.434, -8.434, -8.434, -8.4483, -8.427, -8.4697, -8.4649, -8.5322, -8.5322, -8.5322, -8.5322, -8.5322, -7.3885, -7.8181, -8.1292, -8.2052, -7.9047, -7.6424, -8.2094, -7.2582, -7.5136, -7.7015, -8.2974, -8.1542, -8.1333, -8.2454, -8.2881, -8.2889, -8.3798, -7.0954, -7.8487, -7.906, -8.1362, -8.1362, -8.4341, -8.4341, -8.6865, -8.6673, -8.6673, -8.6673, -8.6673, -8.6673, -8.6673, -8.6673, -8.6673, -8.6673, -8.6673, -8.6766, -8.4532, -8.4416, -8.8574, -8.8574, -8.8574, -8.8574, -8.8574, -8.8574, -8.8574, -8.8574, -8.8574, -8.4994, -8.5237, -8.5472, -8.4552, -8.7286, -8.817, -8.7961, -8.0301, -8.0301, -8.0301, -8.0301, -7.1987, -8.4709, -8.543, -8.543, -8.543, -8.3865, -9.1327, -8.9489, -8.7233, -9.1331, -8.5447, -8.8635, -9.3609, -9.3609, -9.3609, -9.2258, -9.4743, -8.9219, -9.5994, -9.5994, -9.5994, -9.5994, -9.5994, -9.5994, -9.5994, -9.5994, -9.4802, -8.7088, -8.9861, -8.8583, -8.5235, -8.6758, -8.6072, -8.7342, -8.7342, -8.8696, -8.8103, -8.7722, -8.8839, -9.0652, -8.9527, -8.7197, -8.822, -8.9262, -8.9322], \"loglift\": [30.0, 29.0, 28.0, 27.0, 26.0, 25.0, 24.0, 23.0, 22.0, 21.0, 20.0, 19.0, 18.0, 17.0, 16.0, 15.0, 14.0, 13.0, 12.0, 11.0, 10.0, 9.0, 8.0, 7.0, 6.0, 5.0, 4.0, 3.0, 2.0, 1.0, 0.737, 0.7349, 0.7337, 0.7328, 0.7326, 0.7293, 0.7277, 0.7269, 0.7266, 0.7236, 0.7232, 0.7218, 0.7211, 0.7202, 0.7197, 0.7196, 0.7195, 0.7187, 0.7179, 0.7176, 0.7166, 0.7149, 0.7141, 0.7134, 0.7122, 0.712, 0.7115, 0.7112, 0.7103, 0.7079, 0.7013, 0.7022, 0.6909, 0.7077, 0.6828, 0.6951, 0.682, 0.676, 0.6593, 0.6845, 0.7013, 0.6852, 0.6241, 0.6372, 0.5735, 0.5663, 0.5626, 0.5984, 0.668, 0.6723, 0.6214, 0.5556, 0.6287, 0.55, 0.4724, 0.3452, 0.4936, 0.4113, 0.5335, 0.5727, 0.2774, 0.3602, 0.5334, 0.3274, 0.021, 0.398, 0.394, 0.1785, 0.3451, -0.2726, 0.4918, 0.0613, 0.0014, -0.0027, 1.0769, 1.0768, 1.0761, 1.0746, 1.0742, 1.0704, 1.0679, 1.0674, 1.0661, 1.0657, 1.0648, 1.0644, 1.0623, 1.0618, 1.0616, 1.0616, 1.0613, 1.061, 1.061, 1.0591, 1.0586, 1.0579, 1.0576, 1.0573, 1.0553, 1.055, 1.0541, 1.0534, 1.0534, 1.0526, 1.0521, 1.0354, 1.0381, 1.0388, 1.0349, 1.0142, 0.9885, 0.9374, 1.0303, 0.9922, 0.9253, 0.9846, 0.9193, 0.9553, 0.8367, 0.72, 0.3888, 0.6698, 0.596, 0.2034, 0.434, 0.7325, 0.341, 0.4319, 0.0622, 0.2496, 0.5214, -0.0945, 0.5796, 0.4286, -0.0929, -0.0802, 0.0555, 0.2489, -0.2518, 0.2082, 0.1403, -0.9651, 1.8848, 1.8785, 1.8743, 1.8718, 1.8707, 1.8683, 1.8666, 1.8625, 1.8597, 1.8526, 1.8499, 1.8495, 1.8492, 1.8486, 1.8455, 1.8454, 1.8411, 1.8401, 1.839, 1.8379, 1.8369, 1.8316, 1.8298, 1.8285, 1.8249, 1.8249, 1.8238, 1.8197, 1.8171, 1.8151, 1.815, 1.8122, 1.8082, 1.7818, 1.7847, 1.8078, 1.7221, 1.7426, 1.7451, 1.7234, 1.6323, 1.7174, 1.7463, 1.7394, 1.6164, 1.6588, 1.2445, 1.6481, 1.3875, 1.2483, 1.3179, 1.0315, 1.3436, 1.4952, 1.4419, 0.9818, 0.3914, 0.7649, 0.5554, 1.4877, 0.3955, 0.433, 0.5983, 0.5295, 0.4035, 0.0112, 0.3425, 0.0898, -0.2489, 0.5484, 0.4227, 0.2297, 0.293, 0.1651, 3.7007, 3.6907, 3.6859, 3.661, 3.6519, 3.6502, 3.6425, 3.636, 3.6345, 3.6337, 3.5926, 3.5811, 3.578, 3.5745, 3.5714, 3.5677, 3.5663, 3.554, 3.5513, 3.5404, 3.5375, 3.5361, 3.5361, 3.5338, 3.5316, 3.5303, 3.5261, 3.5251, 3.5247, 3.5195, 3.4726, 3.4715, 3.3536, 3.4359, 3.1906, 3.2865, 3.1793, 3.263, 3.2599, 2.7543, 2.2491, 2.6316, 2.0218, 2.2308, 1.6574, 1.641, 2.0331, 1.695, 1.9744, 0.5233, 1.6825, 2.3725, 4.5427, 4.5289, 4.4886, 4.477, 4.447, 4.3745, 4.3184, 4.2794, 4.2766, 4.2714, 4.2664, 4.2304, 4.1797, 4.1762, 4.1733, 4.1559, 4.1318, 4.131, 4.1138, 4.0865, 4.0839, 4.0534, 4.0474, 4.0288, 4.0261, 4.0046, 3.9968, 3.9854, 3.9731, 3.9709, 3.9193, 3.8905, 3.8792, 3.7241, 3.8096, 3.8853, 3.874, 3.7624, 3.4286, 3.4559, 2.8586, 3.0613, 3.494, 3.1282, 1.1436, 2.1054, 3.3512, 2.6455, 2.3283, 0.3239, 0.8544, 0.8544, 1.5928, 0.1002, 1.8548, 1.7097, 0.5599, 0.2567, 0.2458, 5.2265, 5.1773, 5.1689, 4.7969, 4.7114, 4.5693, 4.525, 4.3516, 4.3516, 4.3516, 4.3516, 4.3516, 4.1355, 4.0748, 4.0102, 4.0024, 3.9811, 3.926, 3.8552, 3.82, 3.7898, 3.7898, 3.7898, 3.7898, 3.7898, 3.7898, 3.7898, 3.7898, 3.7898, 3.7898, 3.7898, 3.7898, 3.5144, 3.4778, 3.1334, 3.3867, 2.2283, 6.0145, 5.6982, 4.7238, 4.6821, 4.5368, 4.4891, 4.3589, 4.247, 4.0191, 3.9593, 3.8959, 3.8878, 3.843, 3.8068, 3.7064, 3.7064, 3.7064, 3.7064, 3.7064, 3.7064, 3.7064, 3.672, 3.644, 3.6064, 3.5943, 3.5859, 3.5859, 3.5859, 3.5859, 3.5859, 3.4461, 3.4652, 3.4833, 3.4089, 3.2077, 2.9751, 3.3579, 2.4325, 2.5419, 2.3759, 3.1626, 2.508, 2.2026, 2.5075, 2.3714, 1.9957, 1.2556, 4.2528, 3.9943, 3.94, 3.8237, 3.8237, 3.6547, 3.6547, 3.6373, 3.5083, 3.5083, 3.5083, 3.5083, 3.5083, 3.5083, 3.5083, 3.5083, 3.5083, 3.5083, 3.4868, 3.4482, 3.3837, 3.3797, 3.3797, 3.3797, 3.3797, 3.3797, 3.3797, 3.3797, 3.3797, 3.3797, 3.2085, 2.9292, 2.8194, 2.5632, 2.4165, 2.907, 2.2918, 3.8427, 3.8427, 3.8427, 3.8427, 3.7686, 3.6722, 3.5592, 3.5592, 3.5592, 3.5372, 3.2716, 3.2335, 3.1579, 3.094, 3.0912, 3.0817, 3.0196, 3.0196, 3.0196, 2.9634, 2.921, 2.8907, 2.8096, 2.8096, 2.8096, 2.8088, 2.8088, 2.8088, 2.8083, 2.8074, 2.8005, 2.6984, 2.6286, 2.5328, 2.3935, 2.3914, 2.2071, 2.2589, 2.2589, 2.3373, 2.2729, 2.1904, 2.324, 2.4126, 1.9877, 0.8592, 1.0109, 1.3554, 1.3347]}, \"token.table\": {\"Topic\": [1, 2, 3, 1, 2, 3, 4, 1, 2, 3, 1, 2, 3, 4, 1, 2, 3, 4, 1, 2, 3, 1, 2, 4, 5, 1, 2, 3, 4, 1, 2, 3, 4, 1, 2, 1, 2, 5, 1, 2, 1, 2, 5, 1, 2, 3, 1, 2, 3, 4, 1, 2, 3, 4, 1, 2, 4, 1, 2, 5, 1, 2, 3, 1, 2, 4, 5, 1, 2, 3, 4, 5, 1, 2, 3, 1, 2, 3, 4, 5, 1, 2, 3, 4, 1, 2, 3, 1, 2, 3, 4, 1, 2, 3, 1, 2, 3, 4, 1, 2, 1, 2, 3, 1, 2, 3, 1, 2, 3, 4, 1, 2, 3, 4, 1, 2, 4, 1, 2, 3, 4, 5, 1, 2, 4, 1, 2, 3, 1, 2, 3, 4, 1, 2, 3, 4, 5, 1, 2, 4, 1, 2, 3, 1, 2, 3, 1, 2, 3, 1, 2, 3, 4, 1, 2, 3, 4, 5, 1, 2, 4, 6, 1, 2, 3, 4, 1, 2, 3, 4, 5, 1, 2, 3, 4, 1, 2, 3, 4, 5, 1, 2, 3, 1, 2, 3, 4, 5, 1, 2, 3, 4, 1, 2, 3, 4, 1, 2, 1, 2, 3, 4, 1, 2, 3, 1, 2, 3, 4, 1, 2, 3, 5, 1, 2, 3, 5, 1, 2, 3, 4, 1, 2, 3, 1, 2, 1, 2, 3, 4, 1, 2, 3, 4, 1, 2, 3, 4, 1, 2, 3, 4, 5, 1, 2, 5, 1, 2, 3, 1, 2, 3, 4, 5, 1, 2, 3, 1, 2, 3, 4, 1, 2, 3, 1, 2, 3, 5, 1, 2, 3, 1, 2, 3, 4, 1, 2, 3, 4, 5, 1, 2, 3, 4, 1, 2, 3, 4, 1, 2, 3, 4, 1, 2, 4, 1, 2, 3, 4, 1, 2, 3, 4, 1, 2, 3, 4, 1, 2, 3, 4, 1, 2, 3, 1, 2, 3, 4, 5, 1, 2, 3, 4, 1, 2, 4, 5, 1, 2, 3, 4, 5, 1, 2, 3, 4, 1, 2, 3, 1, 2, 3, 4, 1, 2, 3, 1, 2, 3, 1, 2, 1, 2, 1, 2, 3, 1, 2, 4, 1, 2, 1, 2, 3, 4, 1, 2, 3, 4, 1, 2, 4, 1, 2, 3, 1, 2, 3, 4, 1, 2, 3, 4, 1, 2, 3, 1, 2, 3, 4, 1, 2, 1, 2, 3, 1, 2, 3, 1, 2, 3, 4, 1, 2, 3, 5, 1, 2, 4, 5, 1, 2, 5, 1, 2, 4, 5, 6, 1, 2, 3, 4, 1, 2, 3, 4, 1, 2, 4, 1, 2, 3, 4, 1, 2, 5, 1, 2, 3, 4, 1, 2, 3, 4, 5, 1, 2, 1, 2, 3, 4, 1, 2, 1, 2, 3, 4, 1, 2, 3, 4, 1, 2, 3, 1, 2, 3, 4, 5, 1, 2, 3, 7, 1, 2, 3, 4, 5, 1, 2, 3, 4, 5, 1, 2, 3, 1, 2, 3, 4, 5, 1, 2, 4, 1, 2, 3, 4, 1, 2, 3, 1, 2, 5, 1, 2, 3, 4, 1, 2, 5, 1, 2, 3, 1, 2, 3, 4, 1, 2, 1, 2, 3, 4, 1, 2, 3, 4, 1, 2, 3, 4, 1, 2, 4, 1, 2, 3, 4, 1, 2, 3, 4, 1, 2, 3, 1, 2, 3, 1, 2, 3, 4, 5, 1, 2, 3, 4, 1, 2, 3, 4, 1, 2, 3, 1, 2, 3, 1, 2, 3, 5, 1, 2, 3, 4, 1, 2, 3, 1, 2, 3, 4, 1, 2, 3, 4, 5, 1, 2, 3, 4, 5, 7, 1, 2, 3, 4, 1, 2, 3, 4, 1, 2, 5, 1, 2, 4, 1, 2, 4, 1, 2, 3, 1, 2, 1, 2, 3, 4, 1, 2, 3, 4, 1, 2, 3, 4, 1, 2, 3, 4, 1, 2, 3, 1, 2, 3, 1, 2, 3, 1, 2, 5, 1, 2, 3, 1, 2, 4, 1, 2, 3, 4, 1, 2, 3, 1, 2, 3, 1, 2, 3, 4, 1, 2, 1, 2, 3, 4, 1, 2, 3, 4, 1, 2, 1, 2, 1, 2, 3, 4, 1, 2, 3, 4, 1, 2, 1, 2, 1, 2, 1, 2, 1, 2, 4, 1, 2, 3, 5, 1, 2, 3, 4, 1, 2, 3, 4, 1, 2, 3, 1, 2, 3, 4, 1, 2, 1, 2, 3, 5, 1, 2, 3, 4, 5, 1, 2, 3, 4, 1, 2, 3, 4, 1, 2, 3, 4, 1, 2, 3, 4, 1, 2, 3, 4, 1, 2, 4, 1, 2, 3, 1, 2, 3, 1, 2, 3, 5, 1, 2, 3, 5, 1, 2, 4, 1, 2, 1, 2, 4, 1, 2, 3, 1, 2, 4, 1, 2, 3, 4, 1, 2, 3, 4, 5, 1, 2, 3, 5, 1, 2, 3, 1, 2, 3, 4, 1, 2, 3, 4, 1, 2, 3, 4, 1, 2, 1, 2, 3, 4, 1, 2, 3, 4, 1, 2, 3, 4, 1, 2, 3, 1, 2, 4, 1, 2, 3, 4, 1, 2, 3, 1, 2, 3, 4, 1, 2, 3, 4, 1, 2, 3, 4, 1, 2, 3, 4, 5, 1, 2, 3, 4, 1, 2, 3, 1, 2, 4, 1, 2, 3, 1, 2, 3, 4, 1, 2, 3, 1, 2, 3, 4, 1, 2, 3, 4, 1, 2, 3, 4, 1, 2, 3, 4, 1, 2, 3, 4, 1, 2, 3, 4, 1, 2, 3, 4, 1, 2, 5, 1, 2, 3, 4, 1, 2, 3, 4, 1, 2, 3, 5, 1, 2, 3, 4, 5, 1, 2, 3, 1, 2, 1, 2, 3, 1, 2, 3, 1, 2, 3, 4, 1, 2, 3, 1, 2, 3, 4, 1, 2, 3, 5, 1, 2, 3, 1, 2, 5, 1, 2, 3, 5, 1, 2, 3, 4, 1, 2, 3, 4, 1, 2, 3, 4, 1, 2, 3, 4, 1, 2, 3, 4, 1, 2, 1, 2, 3, 1, 2, 3, 1, 2, 3, 1, 2, 3, 1, 2, 3, 4, 1, 2, 1, 2, 3, 4, 1, 2, 3, 4, 1, 2, 1, 2, 3, 4, 1, 2, 3, 5, 1, 2, 3, 1, 2, 4, 1, 2, 3, 4, 5, 1, 2, 3, 4, 1, 2, 1, 2, 3, 4, 1, 2, 3, 1, 2, 3, 4, 1, 2, 3, 4, 1, 2, 3, 1, 2, 3, 4, 1, 2, 3, 5, 1, 2, 3, 4, 5, 1, 2, 3, 4, 1, 2, 1, 2, 4, 1, 2, 3, 4, 1, 2, 3, 4, 5, 1, 2, 3, 4, 1, 2, 3, 1, 2, 3, 4, 1, 2, 3, 4, 5, 1, 2, 3, 4, 1, 2, 3, 4, 1, 2, 5, 1, 2, 3, 4, 5, 1, 2, 3, 4, 1, 2, 1, 2, 1, 2, 3, 4, 1, 2, 3, 1, 2, 3, 4, 5, 1, 2, 3, 4, 1, 2, 3, 1, 2, 3, 4, 1, 2, 3, 1, 2, 4, 1, 2, 3, 1, 2, 3, 1, 2, 3, 4, 1, 2, 1, 2, 3, 4, 1, 2, 3, 1, 2, 5, 1, 2, 4, 1, 2, 3, 5, 1, 2, 3, 5, 1, 2, 3, 4, 1, 2, 3, 1, 2, 3, 5, 1, 2, 3, 4, 1, 2, 3, 1, 2, 3, 4, 1, 2, 3, 4, 1, 2, 3, 6, 1, 2, 3, 4, 1, 2, 3, 4, 1, 2, 3, 4, 1, 2, 4, 1, 2, 3, 4, 1, 2, 3, 4, 1, 2, 3, 4, 1, 2, 3, 1, 2, 3, 1, 2, 3, 1, 2, 3, 1, 2, 3, 4, 1, 2, 3, 4, 5, 1, 2, 4, 1, 2, 3, 5, 1, 2, 4, 1, 2, 3, 4, 1, 2, 3, 4, 1, 2, 3, 4, 1, 2, 3, 4, 1, 2, 3, 5, 1, 2, 3, 1, 2, 3, 4, 1, 2, 3, 4, 1, 2, 3, 4, 1, 2, 5, 1, 2, 3, 1, 2, 3, 4, 1, 2, 3, 4, 1, 2, 4, 1, 2, 3, 4, 1, 2, 3, 1, 2, 4, 1, 2, 3, 4, 1, 2, 3, 4, 1, 2, 3, 4, 1, 2, 4, 1, 2, 3, 4, 5, 1, 2, 3, 5, 1, 2, 4, 1, 2, 3, 5, 1, 2, 1, 2, 3, 1, 2, 5, 1, 2, 3, 4, 1, 2, 3, 4, 1, 2, 4, 1, 2, 3, 4, 1, 2, 3, 1, 2, 3, 1, 2, 3, 1, 2, 3, 4, 1, 2, 3, 4, 1, 2, 3, 1, 2, 3, 1, 2, 1, 2, 3, 4, 1, 2, 3, 4, 1, 2, 3, 4, 1, 2, 3, 4, 1, 2, 3, 4, 1, 2, 3, 1, 2, 1, 2, 3, 4, 1, 2, 1, 2, 3, 4, 1, 2, 5, 1, 2, 3, 1, 2, 3, 4, 1, 2, 3, 7, 1, 2, 4, 5, 6, 1, 2, 4, 5, 1, 2, 3, 4, 1, 2, 3, 4, 1, 2, 3, 4, 5, 1, 2, 3, 1, 2, 4, 1, 2, 3, 4, 1, 2, 3, 1, 2, 3, 1, 2, 4, 1, 2, 3, 4, 1, 2, 3, 4, 1, 2, 1, 2, 4, 1, 2, 3, 4, 1, 2, 1, 2, 3, 5, 1, 2, 3, 4, 1, 2, 4, 6, 1, 2, 3, 4, 1, 2, 3, 4, 1, 2, 3, 4, 1, 2, 3, 4, 1, 2, 3, 4, 1, 2, 3, 4, 1, 2, 3, 1, 2, 3, 4, 1, 2, 3, 4, 1, 2, 1, 2, 4, 1, 2, 3, 1, 2, 3, 1, 2, 3, 1, 2, 5, 1, 2, 3, 4, 1, 2, 3, 4, 1, 2, 4, 1, 2, 3, 4, 1, 2, 3, 4, 5, 1, 2, 3, 4, 6, 1, 2, 4, 1, 2, 3, 5, 1, 2, 3, 4, 1, 2, 1, 2, 3, 4, 5, 1, 2, 4, 1, 2, 3, 4, 5, 1, 2, 3, 4, 1, 2, 4, 1, 2, 4, 1, 2, 3, 4, 1, 2, 3, 1, 2, 3, 4, 1, 2, 3, 4, 5, 1, 2, 3, 4, 1, 2, 4, 5, 6, 1, 2, 3, 4, 1, 2, 3, 5, 1, 2, 3, 1, 2, 3, 4, 1, 2, 3, 4, 1, 2, 3, 4, 1, 2, 3, 4], \"Freq\": [0.577818450771635, 0.14445461269290874, 0.14445461269290874, 0.05033871570047649, 0.020727706464902084, 0.920902387226364, 0.008883302770672322, 0.42850921622441096, 0.285672810816274, 0.142836405408137, 0.01466273215597555, 0.051319562545914424, 0.007331366077987775, 0.9237521258264596, 0.6841460147300409, 0.30847203987643274, 0.0073265267456319, 0.00025263885329765174, 0.42850921622441096, 0.285672810816274, 0.142836405408137, 0.006129330565832768, 0.9806928905332429, 0.0020431101886109228, 0.010215550943054614, 0.018852792745175383, 0.2073807201969292, 0.018852792745175383, 0.7541117098070153, 0.9741479630356543, 0.003542356229220561, 0.021254137375323365, 0.003542356229220561, 0.3055933707038027, 0.3055933707038027, 0.25849447640653733, 0.5169889528130747, 0.12924723820326867, 0.36575704403752574, 0.36575704403752574, 0.18443661648181603, 0.18443661648181603, 0.4610915412045401, 0.5805385453702012, 0.2902692726851006, 0.2902692726851006, 0.5255321866710463, 0.26276609333552314, 0.26276609333552314, 0.26276609333552314, 0.0483784076656048, 0.5321624843216528, 0.3870272613248384, 0.0241892038328024, 0.00668256371532174, 0.975654302436974, 0.00668256371532174, 0.15671138994110945, 0.15671138994110945, 0.4701341698233283, 0.42850921622441096, 0.285672810816274, 0.142836405408137, 0.06794533440792663, 0.06794533440792663, 0.13589066881585327, 0.6794533440792663, 0.29279878835340944, 0.39915171147729356, 0.28623379309884867, 0.00656499525456075, 0.01444298956003365, 0.662629230289951, 0.16565730757248776, 0.16565730757248776, 0.0064944971787322895, 0.9774218253992095, 0.0032472485893661448, 0.0032472485893661448, 0.012988994357464579, 0.10024408340085407, 0.050122041700427035, 0.050122041700427035, 0.8520747089072596, 0.4288682565595422, 0.2144341282797711, 0.2144341282797711, 0.05533948492015443, 0.01844649497338481, 0.05533948492015443, 0.8669852637490861, 0.5228560132097312, 0.2614280066048656, 0.2614280066048656, 0.016954456579103928, 0.006781782631641571, 0.9731858076405654, 0.0033908913158207854, 0.308659942073107, 0.308659942073107, 0.02275714940499431, 0.02275714940499431, 0.9330431256047668, 0.6297639013503649, 0.06997376681670721, 0.20992130045012164, 0.01910418893134454, 0.07641675572537816, 0.01910418893134454, 0.8787926908418489, 0.00947042840482674, 0.9754541256971541, 0.0031568094682755798, 0.00947042840482674, 0.0683774288173306, 0.0683774288173306, 0.8205291458079672, 0.5085620594072203, 0.25428102970361016, 0.0484344818483067, 0.012108620462076674, 0.16952068646907342, 0.979606546708033, 0.011131892576227648, 0.011131892576227648, 0.6318881215677458, 0.15797203039193644, 0.15797203039193644, 0.33839256791384814, 0.16919628395692407, 0.16919628395692407, 0.33839256791384814, 0.07866373103773412, 0.09439647724528095, 0.17306020828301508, 0.015732746207546826, 0.629309848301873, 0.9737503432898594, 0.013158788422835938, 0.013158788422835938, 0.45433126934657364, 0.15144375644885788, 0.15144375644885788, 0.42850921622441096, 0.285672810816274, 0.142836405408137, 0.007660337872620697, 0.007660337872620697, 0.9805232476954492, 0.09597027472808636, 0.00984310510031655, 0.8908010115786478, 0.0024607762750791374, 0.39741093008897277, 0.049676366261121596, 0.049676366261121596, 0.049676366261121596, 0.49676366261121596, 0.4413152287248531, 0.1471050762416177, 0.1471050762416177, 0.1471050762416177, 0.9939066675650757, 0.003096282453473756, 0.003096282453473756, 0.003096282453473756, 0.7454492541010705, 0.1561893675259386, 0.014199033411448963, 0.007099516705724482, 0.08519420046869378, 0.5074740255728146, 0.4760002528870327, 0.016548066051287433, 0.00032447188335857715, 0.034440036073225794, 0.49364051704956974, 0.011480012024408598, 0.011480012024408598, 0.4592004809763439, 0.2802093328668424, 0.2802093328668424, 0.2802093328668424, 0.47094770629829036, 0.39592948759590785, 0.08335357633598059, 0.00833535763359806, 0.04584446698478933, 0.14816145487481683, 0.8484953562099266, 0.0021682164128021975, 0.0007227388042673991, 0.010645064062643329, 0.9846684257945079, 0.0026612660156608322, 0.0026612660156608322, 0.308659942073107, 0.308659942073107, 0.9224391359033433, 0.07549595938249375, 0.0011570261974328544, 0.0005785130987164272, 0.42850921622441096, 0.285672810816274, 0.142836405408137, 0.005699898513449567, 0.11399797026899133, 0.005699898513449567, 0.8720844725577837, 0.2837175770785779, 0.05674351541571558, 0.11348703083143116, 0.45394812332572465, 0.21076004185755146, 0.10538002092877573, 0.10538002092877573, 0.6322801255726545, 0.6738708069950482, 0.3078946319263751, 0.017861635848061518, 0.0002498130887840772, 0.545517521204686, 0.18183917373489533, 0.18183917373489533, 0.36607367922272865, 0.36607367922272865, 0.21565377946705663, 0.4256324594744539, 0.09080159135455017, 0.2610545751443317, 0.9784455198107143, 0.009592603135399159, 0.009592603135399159, 0.009592603135399159, 0.0058007226560156345, 0.9745214062106266, 0.0058007226560156345, 0.011601445312031269, 0.9251081372115463, 0.0028033579915501404, 0.0028033579915501404, 0.0028033579915501404, 0.06447723380565323, 0.13224538125239998, 0.06612269062619999, 0.7273495968882, 0.9823881098073094, 0.005427558617719941, 0.010855117235439882, 0.49347969208499626, 0.23013235640502228, 0.25445046623132617, 0.010676243338377323, 0.011269367968287173, 0.3007355925200391, 0.1002451975066797, 0.5012259875333985, 0.29424461091300047, 0.10358611302549507, 0.6004992059448989, 0.0015012480148622474, 0.01380911315905633, 0.01380911315905633, 0.9666379211339432, 0.3104079252619608, 0.1552039626309804, 0.1552039626309804, 0.4656118878929412, 0.020594308360800367, 0.020594308360800367, 0.947338184596817, 0.14847839830337392, 0.21034439759644638, 0.012373199858614492, 0.6310331927893391, 0.046227144228205334, 0.09245428845641067, 0.015409048076068445, 0.832088596107696, 0.015409048076068445, 0.9633016804712383, 0.026241082684190148, 0.0008464865381996822, 0.010157838458396186, 0.9739249247879856, 0.01475643825436342, 0.00737821912718171, 0.00737821912718171, 0.48726815780537985, 0.4993451619164866, 0.013245746444439668, 0.00019479038888881866, 0.00341092445101459, 0.9925790152452456, 0.00341092445101459, 0.024878622241984557, 0.10573414452843437, 0.8583124673484672, 0.006219655560496139, 0.22801287704956202, 0.5703362097933045, 0.20065133180361458, 0.0006080343387988321, 0.5866566273425741, 0.18361008947363006, 0.22903279453505074, 0.0006397564093157842, 0.026968542669394555, 0.2721371123911632, 0.0024516856972176867, 0.6987304237070407, 0.3055557455499504, 0.18333344732997026, 0.42777804376993056, 0.6484193696114983, 0.1500387861722399, 0.175220120914434, 0.015738334213871316, 0.010492222809247545, 0.15155639540545524, 0.00433018272587015, 0.840055448818809, 0.00433018272587015, 0.20201268204186007, 0.3366878034031001, 0.06733756068062002, 0.40402536408372014, 0.2795902496962826, 0.06989756242407065, 0.1397951248481413, 0.1397951248481413, 0.41938537454442393, 0.3377118811356942, 0.6614879212341521, 0.000464528034574545, 0.000464528034574545, 0.01658622892497439, 0.01658622892497439, 0.9454150487235402, 0.10082149546886655, 0.11397212531263176, 0.780270704063402, 0.004383543281255068, 0.27403794730305275, 0.27403794730305275, 0.27403794730305275, 0.3913572864556565, 0.19567864322782824, 0.19567864322782824, 0.308659942073107, 0.308659942073107, 0.308659942073107, 0.308659942073107, 0.42850921622441096, 0.285672810816274, 0.142836405408137, 0.017255207098086166, 0.008627603549043083, 0.9749192010418684, 0.29327309856560735, 0.29327309856560735, 0.021105486059234638, 0.9576614299377717, 0.01846730030183031, 0.0026381857574043297, 0.7103003142302856, 0.287423848083883, 0.0016518611958843852, 0.0004129652989710963, 0.02000279410863968, 0.02000279410863968, 0.9401313231060651, 0.42850921622441096, 0.285672810816274, 0.142836405408137, 0.21904209114696532, 0.08761683645878612, 0.6571262734408959, 0.04380841822939306, 0.14271301024235242, 0.8535954860736191, 0.002682575380495346, 0.0005365150760990692, 0.2802093328668424, 0.2802093328668424, 0.2802093328668424, 0.15935057717388842, 0.2494182947069558, 0.006928285964082106, 0.588904306946979, 0.23395511334224356, 0.4679102266844871, 0.39124705114469305, 0.09781176278617326, 0.39124705114469305, 0.42850921622441096, 0.285672810816274, 0.142836405408137, 0.4610491860094074, 0.2305245930047037, 0.2305245930047037, 0.2305245930047037, 0.6903684633003464, 0.0862960579125433, 0.1725921158250866, 0.0862960579125433, 0.029847272944443264, 0.7760290965555249, 0.014923636472221632, 0.17908363766665958, 0.1712934710034982, 0.1712934710034982, 0.5138804130104946, 0.38749268148340993, 0.3099941451867279, 0.07749853629668198, 0.07749853629668198, 0.15499707259336395, 0.00792367754057672, 0.01188551631086508, 0.00396183877028836, 0.9785741762612249, 0.0720478043521217, 0.04803186956808113, 0.024015934784040564, 0.8405577174414198, 0.0070779322495292995, 0.9838325826845726, 0.0070779322495292995, 0.004406130248055068, 0.808524900518105, 0.002203065124027534, 0.18505747041831286, 0.30517995836680045, 0.15258997918340023, 0.45776993755020073, 0.644941084469737, 0.16123527111743424, 0.16123527111743424, 0.16123527111743424, 0.25864394288163867, 0.37718908336905643, 0.005388415476700806, 0.33947017503215077, 0.021553661906803225, 0.36655371176856544, 0.36655371176856544, 0.006124429734268336, 0.765553716783542, 0.05205765274128086, 0.17454624742664757, 0.20874321601924775, 0.6262296480577433, 0.3138474867587863, 0.10992627708810282, 0.5751215366493495, 0.0015931344505522149, 0.13277128960026122, 0.004023372412129128, 0.8569783237835042, 0.004023372412129128, 0.42850921622441096, 0.285672810816274, 0.142836405408137, 0.6032461034374953, 0.27943005125783643, 0.09885972932587715, 0.00807018198578589, 0.010087727482232363, 0.26797292043665727, 0.13398646021832863, 0.26797292043665727, 0.26797292043665727, 0.6423944789084405, 0.06423944789084406, 0.021413149296948018, 0.021413149296948018, 0.2569577915633762, 0.1451245265265895, 0.19349936870211934, 0.606884383656647, 0.004397712925048166, 0.052772555100577996, 0.3640916420339668, 0.3640916420339668, 0.1820458210169834, 0.22914355928306268, 0.6953805564365596, 0.062196108948259866, 0.013561557590222076, 0.0004676399169042095, 0.41299228456149345, 0.20649614228074673, 0.20649614228074673, 0.020419859139372755, 0.020419859139372755, 0.9393135204111467, 0.020419859139372755, 0.27403794730305275, 0.27403794730305275, 0.27403794730305275, 0.33967529345134656, 0.0679350586902693, 0.5434804695221545, 0.01750714873196464, 0.8801321135251314, 0.1002682154648884, 0.001591558975633149, 0.19516684122471148, 0.09758342061235574, 0.6830839442864901, 0.2802093328668424, 0.2802093328668424, 0.2802093328668424, 0.780363406614964, 0.1491689924177103, 0.06965328984793911, 0.0006164007951145055, 0.3562610304372868, 0.3562610304372868, 0.8375348137431158, 0.15991230743954732, 0.002122729744772752, 0.0007075765815909174, 0.888480379865941, 0.06431760325628866, 0.046368504673138335, 0.0007478791076312634, 0.7816740164044391, 0.197552559528111, 0.020324337400011418, 0.00040648674800022834, 0.056217803932336864, 0.056217803932336864, 0.8432670589850529, 0.0033802024787656015, 0.04225253098457002, 0.9515269977725168, 0.0016901012393828008, 0.008057140491791629, 0.9829711399985789, 0.008057140491791629, 0.008057140491791629, 0.42850921622441096, 0.285672810816274, 0.142836405408137, 0.31019061643920737, 0.465285924658811, 0.07754765410980184, 0.8685694639443268, 0.008773428928730573, 0.008773428928730573, 0.008773428928730573, 0.11405457607349745, 0.05812566847630797, 0.016607333850373707, 0.9217070286957407, 0.008303666925186854, 0.7076672660627163, 0.29040436839675493, 0.0013260473442774196, 0.0004420157814258066, 0.42850921622441096, 0.285672810816274, 0.142836405408137, 0.5250581167259785, 0.08750968612099641, 0.35003874448398564, 0.6622563321350934, 0.13245126642701868, 0.13245126642701868, 0.13245126642701868, 0.0018795293358114219, 0.9942710186442422, 0.0018795293358114219, 0.0018795293358114219, 0.26970365159359583, 0.26970365159359583, 0.26970365159359583, 0.5774008562623234, 0.1400340947081382, 0.1477071957880362, 0.13236099362824025, 0.9553058485213631, 0.0030135831183639218, 0.0030135831183639218, 0.0030135831183639218, 0.03917658053873098, 0.15204744438930862, 0.3801186109732716, 0.15204744438930862, 0.07602372219465431, 0.07602372219465431, 0.22807116658396295, 0.007790529383357578, 0.05453370568350305, 0.9322666828751235, 0.0025968431277858593, 0.0057847736394090864, 0.07520205731231813, 0.9139942350266357, 0.0057847736394090864, 0.16316591668268915, 0.16316591668268915, 0.48949775004806745, 0.026113235513224933, 0.0783397065396748, 0.8617367719364228, 0.03063213759645778, 0.03063213759645778, 0.9189641278937334, 0.26970365159359583, 0.26970365159359583, 0.26970365159359583, 0.308659942073107, 0.308659942073107, 0.5537908875781826, 0.2690460128312383, 0.17701820160123727, 0.0005413400660588295, 0.5651305942931077, 0.03378498118056622, 0.39989132270088384, 0.0006142723851012041, 0.017476652592701612, 0.010485991555620968, 0.9682065536356693, 0.0034953305185403223, 0.01803656771859966, 0.14429254174879727, 0.8341912569852342, 0.004509141929649915, 0.5384294942095159, 0.13460737355237898, 0.26921474710475796, 0.4324658170005394, 0.2162329085002697, 0.2162329085002697, 0.42850921622441096, 0.285672810816274, 0.142836405408137, 0.12182781053422789, 0.060913905267113946, 0.7309668632053673, 0.43351306238946236, 0.08670261247789247, 0.3468104499115699, 0.41299228456149345, 0.20649614228074673, 0.20649614228074673, 0.37366074395287885, 0.4902809761419939, 0.004760009477106737, 0.13090026062043528, 0.4288682565595422, 0.2144341282797711, 0.2144341282797711, 0.7095386705298196, 0.1419077341059639, 0.1419077341059639, 0.15375721726749594, 0.6140797504448757, 0.2311103852137979, 0.0004745593125539998, 0.12689019096304102, 0.6344509548152052, 0.06250214337133977, 0.06250214337133977, 0.06250214337133977, 0.8125278638274172, 0.9617400377449626, 0.00876966599767443, 0.023385775993798482, 0.0029232219992248103, 0.36481920845396715, 0.36481920845396715, 0.2900799567461146, 0.2900799567461146, 0.35981657592766564, 0.17990828796383282, 0.17990828796383282, 0.17990828796383282, 0.04362461761175943, 0.9536544315128807, 0.0010145259909711496, 0.002029051981942299, 0.308659942073107, 0.308659942073107, 0.18476629630314886, 0.5542988889094466, 0.308659942073107, 0.308659942073107, 0.3224138221367191, 0.3224138221367191, 0.009243880012002178, 0.9798512812722309, 0.009243880012002178, 0.6695976129728402, 0.07439973477476002, 0.22319920432428006, 0.07439973477476002, 0.04458337626297162, 0.9473967455881469, 0.002786461016435726, 0.002786461016435726, 0.9791581878392321, 0.019412335206963366, 0.0007764934082785346, 0.0007764934082785346, 0.04146716509530832, 0.0059238807279011875, 0.9478209164641901, 0.007876743129482366, 0.968839404926331, 0.007876743129482366, 0.007876743129482366, 0.36159721717889276, 0.36159721717889276, 0.670564026026806, 0.06489329284130381, 0.17304878091014347, 0.08652439045507174, 0.988064976047489, 0.0027219420827754516, 0.0027219420827754516, 0.0027219420827754516, 0.005443884165550903, 0.3988934011622334, 0.38937207626011977, 0.21097251493630684, 0.0005011223632691374, 0.02672377425004146, 0.00890792475001382, 0.9531479482514786, 0.00890792475001382, 0.04385138661679741, 0.9331167152178984, 0.0010197996887627305, 0.02141579346401734, 0.015960603372625545, 0.970404685055633, 0.012768482698100434, 0.0031921206745251086, 0.009458852341596227, 0.9837206435260076, 0.004729426170798114, 0.004729426170798114, 0.031225809462346057, 0.062451618924692115, 0.8743226649456897, 0.5805385453702012, 0.2902692726851006, 0.2902692726851006, 0.2802093328668424, 0.2802093328668424, 0.2802093328668424, 0.3753445905582771, 0.09383614763956928, 0.09383614763956928, 0.4691807381978464, 0.6976557827089153, 0.16099748831744198, 0.05366582943914733, 0.05366582943914733, 0.06314845527301104, 0.09472268290951656, 0.8525041461856491, 0.22066354006755282, 0.44132708013510563, 0.09124702845278587, 0.8212232560750727, 0.09124702845278587, 0.5805385453702012, 0.2902692726851006, 0.2902692726851006, 0.09736061251283105, 0.6815242875898174, 0.09736061251283105, 0.10936742775081895, 0.030379841041894153, 0.8506355491730363, 0.006075968208378831, 0.9698666461182915, 0.005807584707295159, 0.011615169414590319, 0.005807584707295159, 0.005807584707295159, 0.5667611657626006, 0.03148673143125559, 0.12594692572502236, 0.2518938514500447, 0.4288682565595422, 0.2144341282797711, 0.2144341282797711, 0.6072592644955292, 0.35030061812330443, 0.0010728962270239034, 0.041306504740420275, 0.4709150247540975, 0.5214176708707176, 0.007088090683034393, 0.00044300566768964956, 0.001913182937233862, 0.9776364809265035, 0.01721864643510476, 0.001913182937233862, 0.3562610304372868, 0.3562610304372868, 0.8136384889721157, 0.17998465331860386, 0.005392798601306483, 0.0006740998251633103, 0.10102986683457388, 0.03910833554886731, 0.8571243541126751, 0.0032590279624056086, 0.0274099757308525, 0.045683292884754166, 0.9136658576950833, 0.018273317153901666, 0.01722037549140413, 0.008610187745702064, 0.9729512152643334, 0.020762756247406897, 0.020762756247406897, 0.9550867873807172, 0.9848751242774177, 0.008872748867364123, 0.0044363744336820615, 0.0044363744336820615, 0.020711176229492593, 0.020711176229492593, 0.9527141065566592, 0.9814796250857104, 0.012294108038651904, 0.004098036012883968, 0.002049018006441984, 0.9912726679939048, 0.0030314148868315132, 0.0030314148868315132, 0.0030314148868315132, 0.5704213210162344, 0.31242541819018943, 0.11675131045608995, 0.0002721475768207225, 0.9340387270318689, 0.05563768590623046, 0.0016859904820069836, 0.0016859904820069836, 0.006743961928027935, 0.02440322195448902, 0.02440322195448902, 0.9517256562250717, 0.01220161097724451, 0.5805385453702012, 0.2902692726851006, 0.2902692726851006, 0.20447973525419028, 0.40895947050838055, 0.20447973525419028, 0.5265547366056075, 0.17551824553520248, 0.17551824553520248, 0.07310938702550439, 0.909566785640834, 0.016485450015554914, 0.0007167586963284744, 0.29424489257357883, 0.29424489257357883, 0.29424489257357883, 0.310728391893375, 0.517880653155625, 0.103576130631125, 0.103576130631125, 0.3038106627958991, 0.4344520274016379, 0.2612827292114777, 0.00027796035022497625, 0.11760425698421836, 0.648412660129204, 0.0031784934320059017, 0.22885152710442494, 0.8466642773245582, 0.1289954197916872, 0.024176500061586656, 0.00016225838967507823, 0.9438202565908661, 0.054271784745566425, 0.0008479966366494754, 0.0008479966366494754, 0.023439897557765203, 0.023439897557765203, 0.9375959023106082, 0.023439897557765203, 0.7122029587784589, 0.14244059175569176, 0.03561014793892294, 0.07122029587784588, 0.18114318076691113, 0.18114318076691113, 0.5434295423007335, 0.8135136489166512, 0.18305608423372396, 0.0024821163963894776, 0.0006205290990973694, 0.19041788935960424, 0.02025722227229832, 0.7859802241651749, 0.004051444454459665, 0.4576905874641153, 0.04576905874641153, 0.09153811749282306, 0.41192152871770377, 0.5189840650671937, 0.25754421911174336, 0.22248357751837997, 0.00043284742707856027, 0.00043284742707856027, 0.4643477099027083, 0.23217385495135415, 0.23217385495135415, 0.4512618964333514, 0.2256309482166757, 0.6029992057240549, 0.1507498014310137, 0.1507498014310137, 0.5805385453702012, 0.2902692726851006, 0.2902692726851006, 0.39274480627836966, 0.5192625988352185, 0.08694350673337954, 0.0005996103912646864, 0.2802093328668424, 0.2802093328668424, 0.2802093328668424, 0.8680184335548817, 0.12839439329665958, 0.003164650539002173, 0.00045209293414316757, 0.6227783762325219, 0.08896833946178884, 0.17793667892357767, 0.08896833946178884, 0.6617413335512315, 0.11029022225853859, 0.22058044451707717, 0.1784205405443576, 0.1784205405443576, 0.5352616216330728, 0.0807605881942267, 0.36342264687402015, 0.12114088229134004, 0.40380294097113345, 0.4295545762088119, 0.4167955293907284, 0.15310856181700225, 0.0005316269507534801, 0.1518506960606819, 0.4555520881820457, 0.07592534803034096, 0.22777604409102284, 0.33058552034390465, 0.16529276017195232, 0.33058552034390465, 0.16529276017195232, 0.09353100893691894, 0.04676550446845947, 0.04676550446845947, 0.8417790804322705, 0.42738593838109545, 0.04845645559876365, 0.5223605913546722, 0.0009691291119752731, 0.308659942073107, 0.308659942073107, 0.26970365159359583, 0.26970365159359583, 0.26970365159359583, 0.45529344110727993, 0.27317606466436795, 0.09105868822145598, 0.6751695104608785, 0.08439618880760981, 0.16879237761521962, 0.5805385453702012, 0.2902692726851006, 0.2902692726851006, 0.19519677480652692, 0.02788525354378956, 0.7529018456823182, 0.02788525354378956, 0.26614091018222324, 0.5322818203644465, 0.01062006432820427, 0.9664258538665884, 0.01062006432820427, 0.01062006432820427, 0.8949195821953488, 0.09588424094950167, 0.007990353412458472, 0.000998794176557309, 0.8244913011698188, 0.08244913011698189, 0.44542383357887844, 0.23176859362745708, 0.32192369487863487, 0.0004116671290008119, 0.25207118617643437, 0.22686406755879096, 0.27727830479407783, 0.22686406755879096, 0.6987933263764341, 0.17469833159410852, 0.1310237486955814, 0.010657011274086851, 0.9697880259419035, 0.010657011274086851, 0.5502027472845391, 0.19432692776432656, 0.21188658991170548, 0.023412882863171877, 0.0187303062905375, 0.007232818084899547, 0.9728140324189891, 0.01808204521224887, 0.0036164090424497734, 0.36655371176856544, 0.36655371176856544, 0.006821680732279574, 0.975500344715979, 0.006821680732279574, 0.006821680732279574, 0.4757011323939268, 0.1189252830984817, 0.3567758492954451, 0.2167585509327075, 0.7813104830229796, 0.0012246245815407204, 0.0006123122907703602, 0.2609452294003794, 0.07339084576885671, 0.663235791392631, 0.0027181794729206187, 0.007820190085816537, 0.003910095042908269, 0.9853439508128837, 0.6455764828953997, 0.09222521184219995, 0.1844504236843999, 0.09222521184219995, 0.20408380745561364, 0.20408380745561364, 0.12245028447336818, 0.48980113789347274, 0.06468828135096458, 0.12937656270192915, 0.5660224618209401, 0.016172070337741144, 0.24258105506611716, 0.6296337369870391, 0.3601094441874844, 0.009965854093581765, 0.00014874409094898158, 0.3562610304372868, 0.3562610304372868, 0.03990574712846959, 0.07981149425693917, 0.877926436826331, 0.9967413275218511, 0.00110137163262083, 0.00110137163262083, 0.00110137163262083, 0.9733654559419579, 0.015288462658774208, 0.005096154219591403, 0.0025480771097957013, 0.0025480771097957013, 0.973450962610744, 0.011728324850731857, 0.011728324850731857, 0.011728324850731857, 0.49668234912381887, 0.16556078304127295, 0.16556078304127295, 0.30088786654678223, 0.02735344241334384, 0.6674239948855897, 0.002735344241334384, 0.2719919194992972, 0.0679979798748243, 0.0679979798748243, 0.0679979798748243, 0.5439838389985944, 0.9753189558400142, 0.00717146291058834, 0.00717146291058834, 0.00717146291058834, 0.018204067406470237, 0.9769516174805694, 0.0060680224688234126, 0.0060680224688234126, 0.3335663349783657, 0.08339158374459142, 0.5837410862121399, 0.9889420579383162, 0.001550065921533411, 0.003100131843066822, 0.001550065921533411, 0.006200263686133644, 0.019949519063926148, 0.08378798006848981, 0.8937384540638914, 0.003989903812785229, 0.26614091018222324, 0.5322818203644465, 0.36626083712984137, 0.36626083712984137, 0.8406029511033444, 0.154473154073344, 0.004746934312113003, 0.00019778892967137516, 0.9760476699649746, 0.013943538142356781, 0.013943538142356781, 0.1749536469982474, 0.649827831707776, 0.031241722678258463, 0.0062483445356516926, 0.13746357978433724, 0.08816811581972721, 0.6538004896170541, 0.027128651021454526, 0.2319499662334362, 0.5509177635191751, 0.22036710540767004, 0.11018355270383502, 0.20269241637697258, 0.219001001602706, 0.19337322481941063, 0.38441665174943074, 0.27403794730305275, 0.27403794730305275, 0.27403794730305275, 0.0053216352406155465, 0.9845025195138761, 0.0053216352406155465, 0.9789103219877048, 0.0042377070215917955, 0.012713121064775387, 0.023604156202625532, 0.011802078101312766, 0.9559683262063341, 0.5422206850900811, 0.23268316789300647, 0.22420268796979895, 0.0005300299952004703, 0.5619411290471523, 0.28097056452357616, 0.9303285441965912, 0.06578080615531452, 0.0015662096703646317, 0.0015662096703646317, 0.2802093328668424, 0.2802093328668424, 0.2802093328668424, 0.19943990688230442, 0.19943990688230442, 0.39887981376460885, 0.05631617480621362, 0.08447426220932043, 0.8447426220932043, 0.2342987998384975, 0.07809959994616583, 0.07809959994616583, 0.5466971996231609, 0.25250868385816744, 0.12625434192908372, 0.12625434192908372, 0.5050173677163349, 0.9379527104686264, 0.05923226693452117, 0.0006509040322474854, 0.0013018080644949708, 0.2549265513540534, 0.19119491351554005, 0.5098531027081068, 0.4790702849063416, 0.19162811396253665, 0.09581405698126833, 0.09581405698126833, 0.060177082275390016, 0.6980541543945242, 0.05115051993408151, 0.18654895505370905, 0.6244009023307694, 0.20813363411025648, 0.20813363411025648, 0.034447434912634946, 0.1205660221942223, 0.051671152368952415, 0.7922910029906036, 0.06740729156052361, 0.006127935596411237, 0.9253182750580968, 0.006127935596411237, 0.4775814653514317, 0.2729036944865324, 0.1364518472432662, 0.0682259236216331, 0.7198828154418301, 0.26304879672847914, 0.01680660269514, 0.0002546454953809091, 0.025975380687088895, 0.9062521706384348, 0.06638152842256051, 0.001443076704838272, 0.007798510837785941, 0.9826123655610286, 0.007798510837785941, 0.002599503612595314, 0.4522960084541889, 0.22614800422709444, 0.22614800422709444, 0.005795491952355192, 0.9794381399480274, 0.005795491952355192, 0.005795491952355192, 0.006235757780226891, 0.9883676081659621, 0.0031178788901134453, 0.0031178788901134453, 0.2262087071357311, 0.21258167658538585, 0.5600709556191896, 0.0013627030550345247, 0.02269575210649418, 0.02269575210649418, 0.9305258363662614, 0.27403794730305275, 0.27403794730305275, 0.27403794730305275, 0.27403794730305275, 0.27403794730305275, 0.27403794730305275, 0.4038115700525733, 0.20190578502628664, 0.20190578502628664, 0.03844713843130347, 0.9124787521029357, 0.04741813739860761, 0.001281571281043449, 0.6619762421858312, 0.18328429831071116, 0.1515907654869993, 0.0023919647414122175, 0.0005979911853530544, 0.02146857762552805, 0.02146857762552805, 0.9446174155232342, 0.5161853414031162, 0.03441235609354108, 0.03441235609354108, 0.412948273122493, 0.028313269552943048, 0.028313269552943048, 0.9343378952471205, 0.9767488982226803, 0.008720972305559646, 0.008720972305559646, 0.008720972305559646, 0.9802206039565179, 0.008034595114397688, 0.008034595114397688, 0.008034595114397688, 0.3632398933713126, 0.41472887437913764, 0.22176257169631622, 0.00015650146202986326, 0.9655784298503352, 0.00607282031352412, 0.02429128125409648, 0.00607282031352412, 0.6390309833153088, 0.12780619666306178, 0.19170929499459266, 0.06390309833153089, 0.28077821459499064, 0.28077821459499064, 0.28077821459499064, 0.031215799498276266, 0.12669942149300367, 0.839154139453662, 0.001836223499898604, 0.01143345448189755, 0.9535501037902556, 0.00228669089637951, 0.03201367254931314, 0.00516654189579167, 0.9919760439920008, 0.001722180631930557, 0.001722180631930557, 0.27479578165659285, 0.13739789082829643, 0.5495915633131857, 0.5167515084539532, 0.2583757542269766, 0.2583757542269766, 0.995432569356787, 0.0017311870771422383, 0.0017311870771422383, 0.0017311870771422383, 0.9941388120786481, 0.0021017733870584525, 0.0021017733870584525, 0.0021017733870584525, 0.41299228456149345, 0.20649614228074673, 0.20649614228074673, 0.827224867381644, 0.16509277555514448, 0.007043958423686165, 0.0004402474014803853, 0.04059002119474279, 0.020295010597371394, 0.9335704874790841, 0.020261853406685553, 0.9725689635209065, 0.006753951135561851, 0.32536086287124466, 0.03745161011467564, 0.6343366463173187, 0.0023407256321672275, 0.012321754309415471, 0.977525841880294, 0.004107251436471823, 0.004107251436471823, 0.8904754736598158, 0.10815339015673599, 0.0007536821613709824, 0.0003768410806854912, 0.9895403644390028, 0.004734642892052645, 0.004734642892052645, 0.7653487976292033, 0.23201652409265236, 0.0010191062551653837, 0.0003397020850551279, 0.0013588083402205117, 0.3831471293445703, 0.09578678233614257, 0.09578678233614257, 0.47893391168071286, 0.41299228456149345, 0.20649614228074673, 0.20649614228074673, 0.5066621840367627, 0.3999964610816547, 0.053332861477553964, 0.026666430738776982, 0.23395511334224356, 0.4679102266844871, 0.5805385453702012, 0.2902692726851006, 0.2902692726851006, 0.3263655907312473, 0.06527311814624946, 0.5874580633162452, 0.9561472585210287, 0.037349502285977686, 0.004979933638130358, 0.0012449834095325896, 0.2824918900624643, 0.2824918900624643, 0.2824918900624643, 0.2824918900624643, 0.01121518095545216, 0.3252402477081126, 0.6504804954162252, 0.8317733006899033, 0.12179735790622667, 0.0460554929668192, 0.0002774427287157783, 0.8468091667583107, 0.022886734236711104, 0.11443367118355552, 0.5805385453702012, 0.2902692726851006, 0.2902692726851006, 0.05364258485434137, 0.013410646213585342, 0.9253345887373886, 0.4757597364825783, 0.522460078713997, 0.001459385694731835, 0.0003648464236829588, 0.2996234964336571, 0.1794507631518126, 0.5205688804944474, 0.0005388911806360739, 0.4398973463269289, 0.21994867316346445, 0.21994867316346445, 0.02390002609031373, 0.011950013045156865, 0.9679510566577061, 0.36626083712984137, 0.36626083712984137, 0.22791907924549187, 0.00325598684636417, 0.766784902318762, 0.001627993423182085, 0.9025487861475233, 0.09521519095807732, 0.0022806033762413727, 0.0005701508440603432, 0.01802985374824116, 0.9736121024050225, 0.00450746343706029, 0.00450746343706029, 0.9808282114162858, 0.00456199168100598, 0.00912398336201196, 0.00456199168100598, 0.0016398823637814165, 0.9937687124515383, 0.003279764727562833, 0.0008199411818907083, 0.5805385453702012, 0.2902692726851006, 0.2902692726851006, 0.5844552409555254, 0.2922276204777627, 0.45286956065436235, 0.3483612005033556, 0.10450836015100669, 0.10450836015100669, 0.308659942073107, 0.308659942073107, 0.2671109519292008, 0.7037139938375732, 0.02681836866759044, 0.0021454694934072353, 0.12112563497285955, 0.12112563497285955, 0.7671290214947771, 0.5937830694570994, 0.11875661389141988, 0.23751322778283976, 0.15114181265590013, 0.08676659615431304, 0.7557090632795006, 0.0055978449131814855, 0.39677272587661777, 0.07935454517532356, 0.39677272587661777, 0.07935454517532356, 0.47263832004639644, 0.1890553280185586, 0.0945276640092793, 0.0945276640092793, 0.1890553280185586, 0.6449236169147774, 0.143316359314395, 0.0716581796571975, 0.0716581796571975, 0.039623133376127495, 0.9559080926990758, 0.001650963890671979, 0.001650963890671979, 0.673813014377445, 0.25523220241569883, 0.07018885566431718, 0.00042538700402616476, 0.36003861272244625, 0.04500482659030578, 0.2250241329515289, 0.04500482659030578, 0.36003861272244625, 0.4288682565595422, 0.2144341282797711, 0.2144341282797711, 0.011785945914156515, 0.10607351322740863, 0.8721599976475821, 0.04022679420291888, 0.01005669855072972, 0.9453296637685937, 0.01005669855072972, 0.020477577509546943, 0.020477577509546943, 0.9419685654391594, 0.041787705378599126, 0.020893852689299563, 0.9193295183291808, 0.10949490374830939, 0.027373725937077348, 0.8485855040493977, 0.13577252465835973, 0.6043353135608512, 0.2597387428246882, 0.0007378941557519551, 0.9469907008482211, 0.02344036388238171, 0.02812843665885805, 0.001562690925492114, 0.3320970734944659, 0.3320970734944659, 0.012482281105509169, 0.3370215898487475, 0.6365963363809676, 0.47793040057128666, 0.357749071772659, 0.16385186978650104, 0.0003493643279029873, 0.36626083712984137, 0.36626083712984137, 0.3388060012330159, 0.2823383343608466, 0.03764511124811288, 0.3388060012330159, 0.036819100569069334, 0.012273033523023112, 0.9450235812727796, 0.012273033523023112, 0.45520874889129154, 0.1517362496304305, 0.1517362496304305, 0.1517362496304305, 0.9765205016032216, 0.010910843593332085, 0.005455421796666042, 0.005455421796666042, 0.023403755600080317, 0.9712558574033332, 0.0029254694500100396, 0.0029254694500100396, 0.11856405893298069, 0.7509057065755445, 0.0031617082382128184, 0.12804918364761916, 0.07936272832397888, 0.7903205028929564, 0.0033067803468324534, 0.12565765317963323, 0.14089212061159956, 0.4226763618347987, 0.2817842412231991, 0.14089212061159956, 0.007945699495263598, 0.02030567648789586, 0.9711410494211065, 0.0008828554994737332, 0.5805385453702012, 0.2902692726851006, 0.2902692726851006, 0.8462900495853896, 0.02617391905934195, 0.12690384998468823, 0.0007931490624043014, 0.9459856102048022, 0.04984574807493803, 0.0032508096570611758, 0.001083603219020392, 0.36655371176856544, 0.36655371176856544, 0.41299228456149345, 0.20649614228074673, 0.20649614228074673, 0.4827616663685571, 0.24138083318427855, 0.24138083318427855, 0.5734761398130251, 0.28673806990651257, 0.28673806990651257, 0.2802093328668424, 0.2802093328668424, 0.2802093328668424, 0.16690695383192572, 0.16690695383192572, 0.5007208614957772, 0.4212791363810406, 0.1404263787936802, 0.1404263787936802, 0.1404263787936802, 0.9520814625247046, 0.046324066038333896, 0.0006095271847149197, 0.0006095271847149197, 0.0402326603756827, 0.0804653207513654, 0.8448858678893366, 0.005191147448379938, 0.9915091626405683, 0.0022247774778771166, 0.0007415924926257055, 0.5502027472845391, 0.19432692776432656, 0.21188658991170548, 0.023412882863171877, 0.0187303062905375, 0.645331927685036, 0.10755532128083933, 0.10755532128083933, 0.10755532128083933, 0.10755532128083933, 0.031558576533443454, 0.031558576533443454, 0.9309780077365819, 0.6227783762325219, 0.08896833946178884, 0.17793667892357767, 0.08896833946178884, 0.987373679530349, 0.008126532341813573, 0.004063266170906786, 0.004063266170906786, 0.33662188805546484, 0.33662188805546484, 0.9620990845036355, 0.01217036125537222, 0.00032027266461505844, 0.00032027266461505844, 0.024981267839974557, 0.05064383391110277, 0.05064383391110277, 0.860945176488747, 0.6054023551884875, 0.18448811717540148, 0.1888162841472584, 0.012443480044088663, 0.008656333943713852, 0.13517899387949908, 0.8641881379379106, 0.00022795783116273032, 0.00022795783116273032, 0.002968253154946013, 0.005936506309892026, 0.9884283005970224, 0.05321110189090159, 0.05321110189090159, 0.8513776302544255, 0.011174651857822238, 0.005587325928911119, 0.9777820375594457, 0.005587325928911119, 0.029329038737467866, 0.029329038737467866, 0.9092002008615039, 0.5326712585876393, 0.19393061390496089, 0.27239596097834967, 0.0006379296510031607, 0.9776117112807187, 0.012144244860630047, 0.006072122430315023, 0.006072122430315023, 0.006072122430315023, 0.10666704797412128, 0.28571530707353915, 0.011428612282941567, 0.5942878387129614, 0.4454446685716231, 0.14848155619054104, 0.14848155619054104, 0.14848155619054104, 0.14848155619054104, 0.9446146281881528, 0.054563832459727735, 0.0003475403341383932, 0.0003475403341383932, 0.5384845006075821, 0.041421884662121704, 0.041421884662121704, 0.37279696195909534, 0.27465648297146245, 0.27465648297146245, 0.27465648297146245, 0.9695943966283007, 0.018574605299392734, 0.003714921059878547, 0.007429842119757094, 0.14484719281369274, 0.43403155311426944, 0.4207708946172412, 0.0005100253268087772, 0.6455820293886462, 0.12911640587772924, 0.17215520783697233, 0.04303880195924308, 0.037269379426576654, 0.16771220741959494, 0.018634689713288327, 0.7826569679581097], \"Term\": [\"acquaintance\", \"acquaintance\", \"acquaintance\", \"administration\", \"administration\", \"administration\", \"administration\", \"agitation\", \"agitation\", \"agitation\", \"alcohol\", \"alcohol\", \"alcohol\", \"alcohol\", \"also\", \"also\", \"also\", \"also\", \"amazement\", \"amazement\", \"amazement\", \"animal\", \"animal\", \"animal\", \"animal\", \"anosmia\", \"anosmia\", \"anosmia\", \"anosmia\", \"app\", \"app\", \"app\", \"app\", \"arab\", \"arab\", \"arterial\", \"arterial\", \"arterial\", \"astrological\", \"astrological\", \"atmospheric\", \"atmospheric\", \"atmospheric\", \"atoll\", \"atoll\", \"atoll\", \"attitude\", \"attitude\", \"attitude\", \"attitude\", \"availability\", \"availability\", \"availability\", \"availability\", \"bacteria\", \"bacteria\", \"bacteria\", \"baffling\", \"baffling\", \"baffling\", \"banal\", \"banal\", \"banal\", \"banana\", \"banana\", \"banana\", \"banana\", \"barrier\", \"barrier\", \"barrier\", \"barrier\", \"barrier\", \"baselessly\", \"baselessly\", \"baselessly\", \"bat\", \"bat\", \"bat\", \"bat\", \"bat\", \"bath\", \"bath\", \"bath\", \"bath\", \"bead\", \"bead\", \"bead\", \"beer\", \"beer\", \"beer\", \"beer\", \"bicentennial\", \"bicentennial\", \"bicentennial\", \"bill\", \"bill\", \"bill\", \"bill\", \"binds\", \"binds\", \"bipartisan\", \"bipartisan\", \"bipartisan\", \"bitly\", \"bitly\", \"bitly\", \"bleach\", \"bleach\", \"bleach\", \"bleach\", \"blood\", \"blood\", \"blood\", \"blood\", \"boil\", \"boil\", \"boil\", \"book\", \"book\", \"book\", \"book\", \"book\", \"boom\", \"boom\", \"boom\", \"bootlegger\", \"bootlegger\", \"bootlegger\", \"bow\", \"bow\", \"bow\", \"bow\", \"box\", \"box\", \"box\", \"box\", \"box\", \"boy\", \"boy\", \"boy\", \"breastmilk\", \"breastmilk\", \"breastmilk\", \"bronchi\", \"bronchi\", \"bronchi\", \"budget\", \"budget\", \"budget\", \"business\", \"business\", \"business\", \"business\", \"camera\", \"camera\", \"camera\", \"camera\", \"camera\", \"canal\", \"canal\", \"canal\", \"canal\", \"caption\", \"caption\", \"caption\", \"caption\", \"car\", \"car\", \"car\", \"car\", \"car\", \"case\", \"case\", \"case\", \"case\", \"cat\", \"cat\", \"cat\", \"cat\", \"cat\", \"catastrophize\", \"catastrophize\", \"catastrophize\", \"catch\", \"catch\", \"catch\", \"catch\", \"catch\", \"cause\", \"cause\", \"cause\", \"cause\", \"cell\", \"cell\", \"cell\", \"cell\", \"charitably\", \"charitably\", \"check\", \"check\", \"check\", \"check\", \"chilling\", \"chilling\", \"chilling\", \"chloroquine\", \"chloroquine\", \"chloroquine\", \"chloroquine\", \"chopstick\", \"chopstick\", \"chopstick\", \"chopstick\", \"circuitry\", \"circuitry\", \"circuitry\", \"circuitry\", \"claim\", \"claim\", \"claim\", \"claim\", \"clap\", \"clap\", \"clap\", \"clapping\", \"clapping\", \"clean\", \"clean\", \"clean\", \"clean\", \"click\", \"click\", \"click\", \"click\", \"clinical\", \"clinical\", \"clinical\", \"clinical\", \"clip\", \"clip\", \"clip\", \"clip\", \"clip\", \"coal\", \"coal\", \"coal\", \"coffin\", \"coffin\", \"coffin\", \"coincide\", \"coincide\", \"coincide\", \"coincide\", \"coincide\", \"committed\", \"committed\", \"committed\", \"company\", \"company\", \"company\", \"company\", \"congressional\", \"congressional\", \"congressional\", \"connector\", \"connector\", \"connector\", \"connector\", \"constitution\", \"constitution\", \"constitution\", \"consume\", \"consume\", \"consume\", \"consume\", \"consumption\", \"consumption\", \"consumption\", \"consumption\", \"consumption\", \"content\", \"content\", \"content\", \"content\", \"copyright\", \"copyright\", \"copyright\", \"copyright\", \"coronavirus\", \"coronavirus\", \"coronavirus\", \"coronavirus\", \"coronaviruse\", \"coronaviruse\", \"coronaviruse\", \"cost\", \"cost\", \"cost\", \"cost\", \"could\", \"could\", \"could\", \"could\", \"country\", \"country\", \"country\", \"country\", \"cure\", \"cure\", \"cure\", \"cure\", \"currency\", \"currency\", \"currency\", \"custody\", \"custody\", \"custody\", \"custody\", \"custody\", \"customer\", \"customer\", \"customer\", \"customer\", \"darkness\", \"darkness\", \"darkness\", \"darkness\", \"dead_bird\", \"dead_bird\", \"dead_bird\", \"dead_bird\", \"dead_bird\", \"death\", \"death\", \"death\", \"death\", \"debt\", \"debt\", \"debt\", \"decision\", \"decision\", \"decision\", \"decision\", \"deere\", \"deere\", \"deere\", \"dependable\", \"dependable\", \"dependable\", \"desaturate\", \"desaturate\", \"desaturation\", \"desaturation\", \"destiny\", \"destiny\", \"destiny\", \"dettol\", \"dettol\", \"dettol\", \"devalue\", \"devalue\", \"develop\", \"develop\", \"develop\", \"develop\", \"die\", \"die\", \"die\", \"die\", \"diet\", \"diet\", \"diet\", \"disassembly\", \"disassembly\", \"disassembly\", \"discount\", \"discount\", \"discount\", \"discount\", \"disease\", \"disease\", \"disease\", \"disease\", \"disenfranchise\", \"disenfranchise\", \"disenfranchise\", \"disinfectant\", \"disinfectant\", \"disinfectant\", \"disinfectant\", \"dissociation\", \"dissociation\", \"distraction\", \"distraction\", \"distraction\", \"diversified\", \"diversified\", \"diversified\", \"divine\", \"divine\", \"divine\", \"divine\", \"divisive\", \"divisive\", \"divisive\", \"divisive\", \"dog\", \"dog\", \"dog\", \"dog\", \"dolly\", \"dolly\", \"dolly\", \"dolphin\", \"dolphin\", \"dolphin\", \"dolphin\", \"dolphin\", \"drink\", \"drink\", \"drink\", \"drink\", \"drinking\", \"drinking\", \"drinking\", \"drinking\", \"droplet\", \"droplet\", \"droplet\", \"drug\", \"drug\", \"drug\", \"drug\", \"dump\", \"dump\", \"dump\", \"eager\", \"eager\", \"eager\", \"eager\", \"eat\", \"eat\", \"eat\", \"eat\", \"eat\", \"educated\", \"educated\", \"effective\", \"effective\", \"effective\", \"effective\", \"eject\", \"eject\", \"emergency\", \"emergency\", \"emergency\", \"emergency\", \"employee\", \"employee\", \"employee\", \"employee\", \"emptiness\", \"emptiness\", \"emptiness\", \"encounter\", \"encounter\", \"encounter\", \"encounter\", \"encounter\", \"enfamil\", \"enfamil\", \"enfamil\", \"enfamil\", \"episode\", \"episode\", \"episode\", \"episode\", \"episode\", \"equipment\", \"equipment\", \"equipment\", \"equipment\", \"equipment\", \"equitable\", \"equitable\", \"equitable\", \"evidence\", \"evidence\", \"evidence\", \"evidence\", \"evidence\", \"examples\", \"examples\", \"examples\", \"exemption\", \"exemption\", \"exemption\", \"exemption\", \"exorbitantly\", \"exorbitantly\", \"exorbitantly\", \"exotic\", \"exotic\", \"exotic\", \"expert\", \"expert\", \"expert\", \"expert\", \"explosion\", \"explosion\", \"explosion\", \"exposed\", \"exposed\", \"exposed\", \"facebook\", \"facebook\", \"facebook\", \"facebook\", \"facile\", \"facile\", \"fact\", \"fact\", \"fact\", \"fact\", \"fake\", \"fake\", \"fake\", \"fake\", \"false\", \"false\", \"false\", \"false\", \"fat\", \"fat\", \"fat\", \"federal\", \"federal\", \"federal\", \"federal\", \"feedback\", \"feedback\", \"feedback\", \"feedback\", \"ferocity\", \"ferocity\", \"ferocity\", \"ffp\", \"ffp\", \"ffp\", \"film\", \"film\", \"film\", \"film\", \"film\", \"financial\", \"financial\", \"financial\", \"financial\", \"find\", \"find\", \"find\", \"find\", \"finely\", \"finely\", \"finely\", \"flier\", \"flier\", \"flier\", \"flock\", \"flock\", \"flock\", \"flock\", \"flu\", \"flu\", \"flu\", \"flu\", \"foil\", \"foil\", \"foil\", \"food\", \"food\", \"food\", \"food\", \"footage\", \"footage\", \"footage\", \"footage\", \"footage\", \"formula\", \"formula\", \"formula\", \"formula\", \"formula\", \"formula\", \"fund\", \"fund\", \"fund\", \"fund\", \"funding\", \"funding\", \"funding\", \"funding\", \"garbage\", \"garbage\", \"garbage\", \"gargle\", \"gargle\", \"gargle\", \"garlic\", \"garlic\", \"garlic\", \"glitter\", \"glitter\", \"glitter\", \"globular\", \"globular\", \"go\", \"go\", \"go\", \"go\", \"government\", \"government\", \"government\", \"government\", \"governor\", \"governor\", \"governor\", \"governor\", \"grant\", \"grant\", \"grant\", \"grant\", \"greet\", \"greet\", \"greet\", \"greeting\", \"greeting\", \"greeting\", \"grueling\", \"grueling\", \"grueling\", \"gunshot\", \"gunshot\", \"gunshot\", \"hallmark\", \"hallmark\", \"hallmark\", \"halts\", \"halts\", \"halts\", \"hand\", \"hand\", \"hand\", \"hand\", \"handwork\", \"handwork\", \"handwork\", \"harass\", \"harass\", \"harass\", \"health\", \"health\", \"health\", \"health\", \"heme\", \"heme\", \"herbal\", \"herbal\", \"herbal\", \"herbal\", \"hoax\", \"hoax\", \"hoax\", \"hoax\", \"homosexuality\", \"homosexuality\", \"hooded\", \"hooded\", \"horse\", \"horse\", \"horse\", \"horse\", \"human\", \"human\", \"human\", \"human\", \"hyp\", \"hyp\", \"hypoxemia\", \"hypoxemia\", \"hypoxemic\", \"hypoxemic\", \"ian\", \"ian\", \"ibuprofen\", \"ibuprofen\", \"ibuprofen\", \"illegitimate\", \"illegitimate\", \"illegitimate\", \"illegitimate\", \"illness\", \"illness\", \"illness\", \"illness\", \"image\", \"image\", \"image\", \"image\", \"immigrant\", \"immigrant\", \"immigrant\", \"immune\", \"immune\", \"immune\", \"immune\", \"imposed\", \"imposed\", \"inauthentic\", \"inauthentic\", \"inauthentic\", \"inauthentic\", \"incident\", \"incident\", \"incident\", \"incident\", \"incident\", \"include\", \"include\", \"include\", \"include\", \"income\", \"income\", \"income\", \"income\", \"infection\", \"infection\", \"infection\", \"infection\", \"infectious\", \"infectious\", \"infectious\", \"infectious\", \"influenza\", \"influenza\", \"influenza\", \"influenza\", \"ingest\", \"ingest\", \"ingest\", \"innacurate\", \"innacurate\", \"innacurate\", \"innumerable\", \"innumerable\", \"innumerable\", \"inscribe\", \"inscribe\", \"inscribe\", \"inscribe\", \"insult\", \"insult\", \"insult\", \"insult\", \"intravenous\", \"intravenous\", \"intravenous\", \"ion\", \"ion\", \"iron\", \"iron\", \"iron\", \"islet\", \"islet\", \"islet\", \"israeli\", \"israeli\", \"israeli\", \"job\", \"job\", \"job\", \"job\", \"joke\", \"joke\", \"joke\", \"joke\", \"joke\", \"juvenile\", \"juvenile\", \"juvenile\", \"juvenile\", \"keepsake\", \"keepsake\", \"keepsake\", \"kill\", \"kill\", \"kill\", \"kill\", \"know\", \"know\", \"know\", \"know\", \"lab\", \"lab\", \"lab\", \"lab\", \"lackey\", \"lackey\", \"late\", \"late\", \"late\", \"late\", \"law\", \"law\", \"law\", \"law\", \"legal\", \"legal\", \"legal\", \"legal\", \"legislation\", \"legislation\", \"legislation\", \"lemon\", \"lemon\", \"lemon\", \"liability\", \"liability\", \"liability\", \"liability\", \"loan\", \"loan\", \"loan\", \"lockdown\", \"lockdown\", \"lockdown\", \"lockdown\", \"logo\", \"logo\", \"logo\", \"logo\", \"make\", \"make\", \"make\", \"make\", \"man\", \"man\", \"man\", \"man\", \"man\", \"mandate\", \"mandate\", \"mandate\", \"mandate\", \"maritime\", \"maritime\", \"maritime\", \"markedly\", \"markedly\", \"markedly\", \"martini\", \"martini\", \"martini\", \"mask\", \"mask\", \"mask\", \"mask\", \"masterpiece\", \"masterpiece\", \"masterpiece\", \"maximize\", \"maximize\", \"maximize\", \"maximize\", \"may\", \"may\", \"may\", \"may\", \"medicine\", \"medicine\", \"medicine\", \"medicine\", \"medium\", \"medium\", \"medium\", \"medium\", \"message\", \"message\", \"message\", \"message\", \"microchip\", \"microchip\", \"microchip\", \"microchip\", \"milk\", \"milk\", \"milk\", \"milk\", \"miniserie\", \"miniserie\", \"miniserie\", \"mislead\", \"mislead\", \"mislead\", \"mislead\", \"money\", \"money\", \"money\", \"money\", \"montage\", \"montage\", \"montage\", \"montage\", \"month\", \"month\", \"month\", \"month\", \"month\", \"motherload\", \"motherload\", \"motherload\", \"mural\", \"mural\", \"musk\", \"musk\", \"musk\", \"navigation\", \"navigation\", \"navigation\", \"new\", \"new\", \"new\", \"new\", \"newcomer\", \"newcomer\", \"newcomer\", \"news\", \"news\", \"news\", \"news\", \"nostalgia\", \"nostalgia\", \"nostalgia\", \"nostalgia\", \"nostalgic\", \"nostalgic\", \"nostalgic\", \"nostradamus\", \"nostradamus\", \"nostradamus\", \"notebook\", \"notebook\", \"notebook\", \"notebook\", \"number\", \"number\", \"number\", \"number\", \"nutrition\", \"nutrition\", \"nutrition\", \"nutrition\", \"nutritional\", \"nutritional\", \"nutritional\", \"nutritional\", \"onion\", \"onion\", \"onion\", \"onion\", \"order\", \"order\", \"order\", \"order\", \"orf\", \"orf\", \"ornament\", \"ornament\", \"ornament\", \"orthopedist\", \"orthopedist\", \"orthopedist\", \"outrage\", \"outrage\", \"outrage\", \"overflight\", \"overflight\", \"overflight\", \"overseas\", \"overseas\", \"overseas\", \"overseas\", \"oximetry\", \"oximetry\", \"oxygen\", \"oxygen\", \"oxygen\", \"oxygen\", \"page\", \"page\", \"page\", \"page\", \"painting\", \"painting\", \"pandemic\", \"pandemic\", \"pandemic\", \"pandemic\", \"panel\", \"panel\", \"panel\", \"panel\", \"parade\", \"parade\", \"parade\", \"particle\", \"particle\", \"particle\", \"past_arrest\", \"past_arrest\", \"past_arrest\", \"past_arrest\", \"past_arrest\", \"patent\", \"patent\", \"patent\", \"patent\", \"pathetic\", \"pathetic\", \"pathogen\", \"pathogen\", \"pathogen\", \"pathogen\", \"patience\", \"patience\", \"patience\", \"patient\", \"patient\", \"patient\", \"patient\", \"pay\", \"pay\", \"pay\", \"pay\", \"payment\", \"payment\", \"payment\", \"pen\", \"pen\", \"pen\", \"pen\", \"pence\", \"pence\", \"pence\", \"pence\", \"penny\", \"penny\", \"penny\", \"penny\", \"penny\", \"people\", \"people\", \"people\", \"people\", \"petty\", \"petty\", \"ph\", \"ph\", \"ph\", \"photo\", \"photo\", \"photo\", \"photo\", \"photograph\", \"photograph\", \"photograph\", \"photograph\", \"photograph\", \"photographer\", \"photographer\", \"photographer\", \"photographer\", \"pity\", \"pity\", \"pity\", \"plan\", \"plan\", \"plan\", \"plan\", \"plate\", \"plate\", \"plate\", \"plate\", \"plate\", \"pm\", \"pm\", \"pm\", \"pm\", \"pneumonia\", \"pneumonia\", \"pneumonia\", \"pneumonia\", \"poem\", \"poem\", \"poem\", \"police\", \"police\", \"police\", \"police\", \"police\", \"policy\", \"policy\", \"policy\", \"policy\", \"porphyrin\", \"porphyrin\", \"positivity\", \"positivity\", \"post\", \"post\", \"post\", \"post\", \"prayer\", \"prayer\", \"prayer\", \"predict\", \"predict\", \"predict\", \"predict\", \"predict\", \"prevent\", \"prevent\", \"prevent\", \"prevent\", \"pride\", \"pride\", \"pride\", \"product\", \"product\", \"product\", \"product\", \"promo\", \"promo\", \"promo\", \"protein\", \"protein\", \"protein\", \"protest\", \"protest\", \"protest\", \"provision\", \"provision\", \"provision\", \"public\", \"public\", \"public\", \"public\", \"punishment\", \"punishment\", \"purpose\", \"purpose\", \"purpose\", \"purpose\", \"pursuit\", \"pursuit\", \"pursuit\", \"quatrain\", \"quatrain\", \"quatrain\", \"quinine\", \"quinine\", \"quinine\", \"quip\", \"quip\", \"quip\", \"quip\", \"railroad\", \"railroad\", \"railroad\", \"railroad\", \"read\", \"read\", \"read\", \"read\", \"receipt\", \"receipt\", \"receipt\", \"recirculate\", \"recirculate\", \"recirculate\", \"recirculate\", \"recommend\", \"recommend\", \"recommend\", \"recommend\", \"reef\", \"reef\", \"reef\", \"remedy\", \"remedy\", \"remedy\", \"remedy\", \"reopen\", \"reopen\", \"reopen\", \"reopen\", \"reorganization\", \"reorganization\", \"reorganization\", \"reorganization\", \"report\", \"report\", \"report\", \"report\", \"research\", \"research\", \"research\", \"research\", \"researcher\", \"researcher\", \"researcher\", \"researcher\", \"reset\", \"reset\", \"reset\", \"respirator\", \"respirator\", \"respirator\", \"respirator\", \"respiratory\", \"respiratory\", \"respiratory\", \"respiratory\", \"response\", \"response\", \"response\", \"response\", \"revenue\", \"revenue\", \"revenue\", \"revoking\", \"revoking\", \"revoking\", \"rib\", \"rib\", \"rib\", \"ribbon\", \"ribbon\", \"ribbon\", \"risk\", \"risk\", \"risk\", \"risk\", \"rumor\", \"rumor\", \"rumor\", \"rumor\", \"rumor\", \"salt\", \"salt\", \"salt\", \"sand\", \"sand\", \"sand\", \"sand\", \"sanitizer\", \"sanitizer\", \"sanitizer\", \"satire\", \"satire\", \"satire\", \"satire\", \"satirical\", \"satirical\", \"satirical\", \"satirical\", \"say\", \"say\", \"say\", \"say\", \"scam\", \"scam\", \"scam\", \"scam\", \"scared\", \"scared\", \"scared\", \"scared\", \"scholarship\", \"scholarship\", \"scholarship\", \"school\", \"school\", \"school\", \"school\", \"scientific\", \"scientific\", \"scientific\", \"scientific\", \"scientist\", \"scientist\", \"scientist\", \"scientist\", \"scooter\", \"scooter\", \"scooter\", \"scourge\", \"scourge\", \"scourge\", \"screenshot\", \"screenshot\", \"screenshot\", \"screenshot\", \"search\", \"search\", \"search\", \"search\", \"sediment\", \"sediment\", \"sediment\", \"see\", \"see\", \"see\", \"see\", \"senator\", \"senator\", \"senator\", \"sequence\", \"sequence\", \"sequence\", \"service\", \"service\", \"service\", \"service\", \"severe\", \"severe\", \"severe\", \"severe\", \"share\", \"share\", \"share\", \"share\", \"share_feature\", \"share_feature\", \"share_feature\", \"show\", \"show\", \"show\", \"show\", \"show\", \"sidewalk\", \"sidewalk\", \"sidewalk\", \"sidewalk\", \"sighting\", \"sighting\", \"sighting\", \"silence\", \"silence\", \"silence\", \"silence\", \"silico\", \"silico\", \"silo\", \"silo\", \"silo\", \"simpson\", \"simpson\", \"simpson\", \"site\", \"site\", \"site\", \"site\", \"slum\", \"slum\", \"slum\", \"slum\", \"soap\", \"soap\", \"soap\", \"social\", \"social\", \"social\", \"social\", \"sorry\", \"sorry\", \"sorry\", \"sovereignty\", \"sovereignty\", \"sovereignty\", \"spouse\", \"spouse\", \"spouse\", \"spread\", \"spread\", \"spread\", \"spread\", \"state\", \"state\", \"state\", \"state\", \"steakhouse\", \"steakhouse\", \"steakhouse\", \"stimulus\", \"stimulus\", \"stimulus\", \"stool\", \"stool\", \"store\", \"store\", \"store\", \"store\", \"story\", \"story\", \"story\", \"story\", \"strain\", \"strain\", \"strain\", \"strain\", \"street\", \"street\", \"street\", \"street\", \"study\", \"study\", \"study\", \"study\", \"submerged\", \"submerged\", \"submerged\", \"submission\", \"submission\", \"substitute\", \"substitute\", \"substitute\", \"substitute\", \"subunit\", \"subunit\", \"suggest\", \"suggest\", \"suggest\", \"suggest\", \"sulfur\", \"sulfur\", \"sulfur\", \"sundae\", \"sundae\", \"sundae\", \"supply\", \"supply\", \"supply\", \"supply\", \"surcharge\", \"surcharge\", \"surcharge\", \"surcharge\", \"swan\", \"swan\", \"swan\", \"swan\", \"swan\", \"swim\", \"swim\", \"swim\", \"swim\", \"symptom\", \"symptom\", \"symptom\", \"symptom\", \"take\", \"take\", \"take\", \"take\", \"tank\", \"tank\", \"tank\", \"tank\", \"tank\", \"tassel\", \"tassel\", \"tassel\", \"taste\", \"taste\", \"taste\", \"tax\", \"tax\", \"tax\", \"tax\", \"taxis\", \"taxis\", \"taxis\", \"taxpayer\", \"taxpayer\", \"taxpayer\", \"tea\", \"tea\", \"tea\", \"test\", \"test\", \"test\", \"test\", \"text\", \"text\", \"text\", \"text\", \"thoroughbred\", \"thoroughbred\", \"throat\", \"throat\", \"throat\", \"time\", \"time\", \"time\", \"time\", \"timepoints\", \"timepoints\", \"tower\", \"tower\", \"tower\", \"tower\", \"trademark\", \"trademark\", \"trademark\", \"trademark\", \"tranquil\", \"tranquil\", \"tranquil\", \"tranquil\", \"translate\", \"translate\", \"translate\", \"translate\", \"transmission\", \"transmission\", \"transmission\", \"transmission\", \"treat\", \"treat\", \"treat\", \"treat\", \"treatment\", \"treatment\", \"treatment\", \"treatment\", \"troubling\", \"troubling\", \"troubling\", \"troubling\", \"trump\", \"trump\", \"trump\", \"trump\", \"turf\", \"turf\", \"turf\", \"tweet\", \"tweet\", \"tweet\", \"tweet\", \"twitter\", \"twitter\", \"twitter\", \"twitter\", \"ultrasound\", \"ultrasound\", \"uncrowded\", \"uncrowded\", \"uncrowded\", \"undefined\", \"undefined\", \"undefined\", \"underpin\", \"underpin\", \"underpin\", \"unfailing\", \"unfailing\", \"unfailing\", \"unloading\", \"unloading\", \"unloading\", \"upend\", \"upend\", \"upend\", \"upend\", \"user\", \"user\", \"user\", \"user\", \"uv\", \"uv\", \"uv\", \"vaccine\", \"vaccine\", \"vaccine\", \"vaccine\", \"vandalized_prove\", \"vandalized_prove\", \"vandalized_prove\", \"vandalized_prove\", \"vandalized_prove\", \"var\", \"var\", \"var\", \"var\", \"var\", \"vegetarian\", \"vegetarian\", \"vegetarian\", \"veneer\", \"veneer\", \"veneer\", \"veneer\", \"verification\", \"verification\", \"verification\", \"verification\", \"vibration\", \"vibration\", \"video\", \"video\", \"video\", \"video\", \"video\", \"vinegar\", \"vinegar\", \"vinegar\", \"violence\", \"violence\", \"violence\", \"violence\", \"violence\", \"virus\", \"virus\", \"virus\", \"virus\", \"vitamin\", \"vitamin\", \"vitamin\", \"vodka\", \"vodka\", \"vodka\", \"vote\", \"vote\", \"vote\", \"vote\", \"waive\", \"waive\", \"waive\", \"want\", \"want\", \"want\", \"want\", \"watch\", \"watch\", \"watch\", \"watch\", \"watch\", \"water\", \"water\", \"water\", \"water\", \"waterway\", \"waterway\", \"waterway\", \"waterway\", \"waterway\", \"website\", \"website\", \"website\", \"website\", \"whip\", \"whip\", \"whip\", \"whip\", \"whoop\", \"whoop\", \"whoop\", \"woman\", \"woman\", \"woman\", \"woman\", \"would\", \"would\", \"would\", \"would\", \"wrap\", \"wrap\", \"wrap\", \"wrap\", \"zinc\", \"zinc\", \"zinc\", \"zinc\"]}, \"R\": 30, \"lambda.step\": 0.01, \"plot.opts\": {\"xlab\": \"PC1\", \"ylab\": \"PC2\"}, \"topic.order\": [3, 2, 1, 4, 5, 7, 8, 9, 6]};\n",
              "\n",
              "function LDAvis_load_lib(url, callback){\n",
              "  var s = document.createElement('script');\n",
              "  s.src = url;\n",
              "  s.async = true;\n",
              "  s.onreadystatechange = s.onload = callback;\n",
              "  s.onerror = function(){console.warn(\"failed to load library \" + url);};\n",
              "  document.getElementsByTagName(\"head\")[0].appendChild(s);\n",
              "}\n",
              "\n",
              "if(typeof(LDAvis) !== \"undefined\"){\n",
              "   // already loaded: just create the visualization\n",
              "   !function(LDAvis){\n",
              "       new LDAvis(\"#\" + \"ldavis_el2971400509858448166192561363\", ldavis_el2971400509858448166192561363_data);\n",
              "   }(LDAvis);\n",
              "}else if(typeof define === \"function\" && define.amd){\n",
              "   // require.js is available: use it to load d3/LDAvis\n",
              "   require.config({paths: {d3: \"https://d3js.org/d3.v5\"}});\n",
              "   require([\"d3\"], function(d3){\n",
              "      window.d3 = d3;\n",
              "      LDAvis_load_lib(\"https://cdn.jsdelivr.net/gh/bmabey/pyLDAvis@3.3.1/pyLDAvis/js/ldavis.v3.0.0.js\", function(){\n",
              "        new LDAvis(\"#\" + \"ldavis_el2971400509858448166192561363\", ldavis_el2971400509858448166192561363_data);\n",
              "      });\n",
              "    });\n",
              "}else{\n",
              "    // require.js not available: dynamically load d3 & LDAvis\n",
              "    LDAvis_load_lib(\"https://d3js.org/d3.v5.js\", function(){\n",
              "         LDAvis_load_lib(\"https://cdn.jsdelivr.net/gh/bmabey/pyLDAvis@3.3.1/pyLDAvis/js/ldavis.v3.0.0.js\", function(){\n",
              "                 new LDAvis(\"#\" + \"ldavis_el2971400509858448166192561363\", ldavis_el2971400509858448166192561363_data);\n",
              "            })\n",
              "         });\n",
              "}\n",
              "</script>"
            ],
            "text/plain": [
              "PreparedData(topic_coordinates=              x         y  topics  cluster       Freq\n",
              "topic                                                \n",
              "2     -0.269151 -0.025681       1        1  47.715073\n",
              "1     -0.257524 -0.092930       2        1  33.845094\n",
              "0     -0.198846  0.144855       3        1  14.990469\n",
              "3      0.111013 -0.101172       4        1   2.442186\n",
              "4      0.114655  0.016668       5        1   0.800882\n",
              "6      0.125227  0.014832       6        1   0.082648\n",
              "7      0.124979  0.015446       7        1   0.072690\n",
              "8      0.125025  0.013654       8        1   0.037998\n",
              "5      0.124622  0.014327       9        1   0.012959, topic_info=             Term         Freq        Total Category  logprob  loglift\n",
              "360         video  3122.000000  3122.000000  Default  30.0000  30.0000\n",
              "548         virus  4386.000000  4386.000000  Default  29.0000  29.0000\n",
              "2855        trump  1132.000000  1132.000000  Default  28.0000  28.0000\n",
              "677       prevent   737.000000   737.000000  Default  27.0000  27.0000\n",
              "456          kill  1864.000000  1864.000000  Default  26.0000  26.0000\n",
              "...           ...          ...          ...      ...      ...      ...\n",
              "306       outrage     0.011207    11.848876   Topic9  -8.9527   1.9877\n",
              "9203  inauthentic     0.014146    46.229739   Topic9  -8.7197   0.8592\n",
              "1463     overseas     0.012771    35.861248   Topic9  -8.8220   1.0109\n",
              "6345       parade     0.011508    22.896612   Topic9  -8.9262   1.3554\n",
              "5092         wrap     0.011438    23.234847   Topic9  -8.9322   1.3347\n",
              "\n",
              "[527 rows x 6 columns], token_table=       Topic      Freq            Term\n",
              "term                                  \n",
              "13991      1  0.577818    acquaintance\n",
              "13991      2  0.144455    acquaintance\n",
              "13991      3  0.144455    acquaintance\n",
              "1787       1  0.050339  administration\n",
              "1787       2  0.020728  administration\n",
              "...      ...       ...             ...\n",
              "5092       4  0.043039            wrap\n",
              "5210       1  0.037269            zinc\n",
              "5210       2  0.167712            zinc\n",
              "5210       3  0.018635            zinc\n",
              "5210       4  0.782657            zinc\n",
              "\n",
              "[1695 rows x 3 columns], R=30, lambda_step=0.01, plot_opts={'xlab': 'PC1', 'ylab': 'PC2'}, topic_order=[3, 2, 1, 4, 5, 7, 8, 9, 6])"
            ]
          },
          "metadata": {
            "tags": []
          },
          "execution_count": 63
        }
      ]
    },
    {
      "cell_type": "code",
      "metadata": {
        "id": "VWPNkUrJ4wQV",
        "colab": {
          "base_uri": "https://localhost:8080/"
        },
        "outputId": "2fbe6954-13ba-4139-8b0b-0dcf7e41c29c"
      },
      "source": [
        "!pip install gensim"
      ],
      "execution_count": null,
      "outputs": [
        {
          "output_type": "stream",
          "text": [
            "Requirement already satisfied: gensim in /usr/local/lib/python3.7/dist-packages (4.0.1)\n",
            "Requirement already satisfied: smart-open>=1.8.1 in /usr/local/lib/python3.7/dist-packages (from gensim) (5.0.0)\n",
            "Requirement already satisfied: scipy>=0.18.1 in /usr/local/lib/python3.7/dist-packages (from gensim) (1.4.1)\n",
            "Requirement already satisfied: numpy>=1.11.3 in /usr/local/lib/python3.7/dist-packages (from gensim) (1.20.2)\n"
          ],
          "name": "stdout"
        }
      ]
    },
    {
      "cell_type": "code",
      "metadata": {
        "id": "eBil-EtLgCP4",
        "colab": {
          "base_uri": "https://localhost:8080/"
        },
        "outputId": "25c1ed92-1732-43d5-e629-102d4b02fb0b"
      },
      "source": [
        "!pip install --upgrade gensim"
      ],
      "execution_count": null,
      "outputs": [
        {
          "output_type": "stream",
          "text": [
            "Requirement already up-to-date: gensim in /usr/local/lib/python3.7/dist-packages (4.0.1)\n",
            "Requirement already satisfied, skipping upgrade: smart-open>=1.8.1 in /usr/local/lib/python3.7/dist-packages (from gensim) (5.0.0)\n",
            "Requirement already satisfied, skipping upgrade: scipy>=0.18.1 in /usr/local/lib/python3.7/dist-packages (from gensim) (1.4.1)\n",
            "Requirement already satisfied, skipping upgrade: numpy>=1.11.3 in /usr/local/lib/python3.7/dist-packages (from gensim) (1.20.2)\n"
          ],
          "name": "stdout"
        }
      ]
    },
    {
      "cell_type": "code",
      "metadata": {
        "id": "CVWUTYZQgqFM",
        "colab": {
          "base_uri": "https://localhost:8080/"
        },
        "outputId": "57e2e70f-d991-4557-8808-424c3496d351"
      },
      "source": [
        "!pip install python-Levenshtein"
      ],
      "execution_count": null,
      "outputs": [
        {
          "output_type": "stream",
          "text": [
            "Requirement already satisfied: python-Levenshtein in /usr/local/lib/python3.7/dist-packages (0.12.2)\n",
            "Requirement already satisfied: setuptools in /usr/local/lib/python3.7/dist-packages (from python-Levenshtein) (54.2.0)\n"
          ],
          "name": "stdout"
        }
      ]
    },
    {
      "cell_type": "code",
      "metadata": {
        "id": "Gq8esyrOblzE",
        "colab": {
          "base_uri": "https://localhost:8080/"
        },
        "outputId": "4fd9bede-2482-4c4b-a3d1-b64fc492c650"
      },
      "source": [
        "!pip install pyldavis"
      ],
      "execution_count": null,
      "outputs": [
        {
          "output_type": "stream",
          "text": [
            "Requirement already satisfied: pyldavis in /usr/local/lib/python3.7/dist-packages (3.3.1)\n",
            "Requirement already satisfied: scipy in /usr/local/lib/python3.7/dist-packages (from pyldavis) (1.4.1)\n",
            "Requirement already satisfied: future in /usr/local/lib/python3.7/dist-packages (from pyldavis) (0.16.0)\n",
            "Requirement already satisfied: funcy in /usr/local/lib/python3.7/dist-packages (from pyldavis) (1.15)\n",
            "Requirement already satisfied: joblib in /usr/local/lib/python3.7/dist-packages (from pyldavis) (1.0.1)\n",
            "Requirement already satisfied: numpy>=1.20.0 in /usr/local/lib/python3.7/dist-packages (from pyldavis) (1.20.2)\n",
            "Requirement already satisfied: pandas>=1.2.0 in /usr/local/lib/python3.7/dist-packages (from pyldavis) (1.2.4)\n",
            "Requirement already satisfied: sklearn in /usr/local/lib/python3.7/dist-packages (from pyldavis) (0.0)\n",
            "Requirement already satisfied: gensim in /usr/local/lib/python3.7/dist-packages (from pyldavis) (4.0.1)\n",
            "Requirement already satisfied: numexpr in /usr/local/lib/python3.7/dist-packages (from pyldavis) (2.7.3)\n",
            "Requirement already satisfied: scikit-learn in /usr/local/lib/python3.7/dist-packages (from pyldavis) (0.22.2.post1)\n",
            "Requirement already satisfied: setuptools in /usr/local/lib/python3.7/dist-packages (from pyldavis) (54.2.0)\n",
            "Requirement already satisfied: jinja2 in /usr/local/lib/python3.7/dist-packages (from pyldavis) (2.11.3)\n",
            "Requirement already satisfied: python-dateutil>=2.7.3 in /usr/local/lib/python3.7/dist-packages (from pandas>=1.2.0->pyldavis) (2.8.1)\n",
            "Requirement already satisfied: pytz>=2017.3 in /usr/local/lib/python3.7/dist-packages (from pandas>=1.2.0->pyldavis) (2018.9)\n",
            "Requirement already satisfied: smart-open>=1.8.1 in /usr/local/lib/python3.7/dist-packages (from gensim->pyldavis) (5.0.0)\n",
            "Requirement already satisfied: MarkupSafe>=0.23 in /usr/local/lib/python3.7/dist-packages (from jinja2->pyldavis) (1.1.1)\n",
            "Requirement already satisfied: six>=1.5 in /usr/local/lib/python3.7/dist-packages (from python-dateutil>=2.7.3->pandas>=1.2.0->pyldavis) (1.15.0)\n"
          ],
          "name": "stdout"
        }
      ]
    },
    {
      "cell_type": "code",
      "metadata": {
        "id": "qcxcL1YlRHh3",
        "colab": {
          "base_uri": "https://localhost:8080/"
        },
        "outputId": "7234295d-13c0-41d6-8e96-caa5c0e45748"
      },
      "source": [
        "!pip install spacy\n",
        "!python -m spacy download en_core_web_md"
      ],
      "execution_count": null,
      "outputs": [
        {
          "output_type": "stream",
          "text": [
            "Requirement already satisfied: spacy in /usr/local/lib/python3.7/dist-packages (2.2.4)\n",
            "Requirement already satisfied: thinc==7.4.0 in /usr/local/lib/python3.7/dist-packages (from spacy) (7.4.0)\n",
            "Requirement already satisfied: requests<3.0.0,>=2.13.0 in /usr/local/lib/python3.7/dist-packages (from spacy) (2.23.0)\n",
            "Requirement already satisfied: numpy>=1.15.0 in /usr/local/lib/python3.7/dist-packages (from spacy) (1.20.2)\n",
            "Requirement already satisfied: preshed<3.1.0,>=3.0.2 in /usr/local/lib/python3.7/dist-packages (from spacy) (3.0.5)\n",
            "Requirement already satisfied: blis<0.5.0,>=0.4.0 in /usr/local/lib/python3.7/dist-packages (from spacy) (0.4.1)\n",
            "Requirement already satisfied: catalogue<1.1.0,>=0.0.7 in /usr/local/lib/python3.7/dist-packages (from spacy) (1.0.0)\n",
            "Requirement already satisfied: tqdm<5.0.0,>=4.38.0 in /usr/local/lib/python3.7/dist-packages (from spacy) (4.41.1)\n",
            "Requirement already satisfied: murmurhash<1.1.0,>=0.28.0 in /usr/local/lib/python3.7/dist-packages (from spacy) (1.0.5)\n",
            "Requirement already satisfied: plac<1.2.0,>=0.9.6 in /usr/local/lib/python3.7/dist-packages (from spacy) (1.1.3)\n",
            "Requirement already satisfied: cymem<2.1.0,>=2.0.2 in /usr/local/lib/python3.7/dist-packages (from spacy) (2.0.5)\n",
            "Requirement already satisfied: wasabi<1.1.0,>=0.4.0 in /usr/local/lib/python3.7/dist-packages (from spacy) (0.8.2)\n",
            "Requirement already satisfied: setuptools in /usr/local/lib/python3.7/dist-packages (from spacy) (54.2.0)\n",
            "Requirement already satisfied: srsly<1.1.0,>=1.0.2 in /usr/local/lib/python3.7/dist-packages (from spacy) (1.0.5)\n",
            "Requirement already satisfied: chardet<4,>=3.0.2 in /usr/local/lib/python3.7/dist-packages (from requests<3.0.0,>=2.13.0->spacy) (3.0.4)\n",
            "Requirement already satisfied: idna<3,>=2.5 in /usr/local/lib/python3.7/dist-packages (from requests<3.0.0,>=2.13.0->spacy) (2.10)\n",
            "Requirement already satisfied: certifi>=2017.4.17 in /usr/local/lib/python3.7/dist-packages (from requests<3.0.0,>=2.13.0->spacy) (2020.12.5)\n",
            "Requirement already satisfied: urllib3!=1.25.0,!=1.25.1,<1.26,>=1.21.1 in /usr/local/lib/python3.7/dist-packages (from requests<3.0.0,>=2.13.0->spacy) (1.24.3)\n",
            "Requirement already satisfied: importlib-metadata>=0.20; python_version < \"3.8\" in /usr/local/lib/python3.7/dist-packages (from catalogue<1.1.0,>=0.0.7->spacy) (3.10.0)\n",
            "Requirement already satisfied: zipp>=0.5 in /usr/local/lib/python3.7/dist-packages (from importlib-metadata>=0.20; python_version < \"3.8\"->catalogue<1.1.0,>=0.0.7->spacy) (3.4.1)\n",
            "Requirement already satisfied: typing-extensions>=3.6.4; python_version < \"3.8\" in /usr/local/lib/python3.7/dist-packages (from importlib-metadata>=0.20; python_version < \"3.8\"->catalogue<1.1.0,>=0.0.7->spacy) (3.7.4.3)\n",
            "Requirement already satisfied: en_core_web_md==2.2.5 from https://github.com/explosion/spacy-models/releases/download/en_core_web_md-2.2.5/en_core_web_md-2.2.5.tar.gz#egg=en_core_web_md==2.2.5 in /usr/local/lib/python3.7/dist-packages (2.2.5)\n",
            "Requirement already satisfied: spacy>=2.2.2 in /usr/local/lib/python3.7/dist-packages (from en_core_web_md==2.2.5) (2.2.4)\n",
            "Requirement already satisfied: murmurhash<1.1.0,>=0.28.0 in /usr/local/lib/python3.7/dist-packages (from spacy>=2.2.2->en_core_web_md==2.2.5) (1.0.5)\n",
            "Requirement already satisfied: requests<3.0.0,>=2.13.0 in /usr/local/lib/python3.7/dist-packages (from spacy>=2.2.2->en_core_web_md==2.2.5) (2.23.0)\n",
            "Requirement already satisfied: wasabi<1.1.0,>=0.4.0 in /usr/local/lib/python3.7/dist-packages (from spacy>=2.2.2->en_core_web_md==2.2.5) (0.8.2)\n",
            "Requirement already satisfied: cymem<2.1.0,>=2.0.2 in /usr/local/lib/python3.7/dist-packages (from spacy>=2.2.2->en_core_web_md==2.2.5) (2.0.5)\n",
            "Requirement already satisfied: blis<0.5.0,>=0.4.0 in /usr/local/lib/python3.7/dist-packages (from spacy>=2.2.2->en_core_web_md==2.2.5) (0.4.1)\n",
            "Requirement already satisfied: catalogue<1.1.0,>=0.0.7 in /usr/local/lib/python3.7/dist-packages (from spacy>=2.2.2->en_core_web_md==2.2.5) (1.0.0)\n",
            "Requirement already satisfied: setuptools in /usr/local/lib/python3.7/dist-packages (from spacy>=2.2.2->en_core_web_md==2.2.5) (54.2.0)\n",
            "Requirement already satisfied: plac<1.2.0,>=0.9.6 in /usr/local/lib/python3.7/dist-packages (from spacy>=2.2.2->en_core_web_md==2.2.5) (1.1.3)\n",
            "Requirement already satisfied: tqdm<5.0.0,>=4.38.0 in /usr/local/lib/python3.7/dist-packages (from spacy>=2.2.2->en_core_web_md==2.2.5) (4.41.1)\n",
            "Requirement already satisfied: srsly<1.1.0,>=1.0.2 in /usr/local/lib/python3.7/dist-packages (from spacy>=2.2.2->en_core_web_md==2.2.5) (1.0.5)\n",
            "Requirement already satisfied: preshed<3.1.0,>=3.0.2 in /usr/local/lib/python3.7/dist-packages (from spacy>=2.2.2->en_core_web_md==2.2.5) (3.0.5)\n",
            "Requirement already satisfied: numpy>=1.15.0 in /usr/local/lib/python3.7/dist-packages (from spacy>=2.2.2->en_core_web_md==2.2.5) (1.20.2)\n",
            "Requirement already satisfied: thinc==7.4.0 in /usr/local/lib/python3.7/dist-packages (from spacy>=2.2.2->en_core_web_md==2.2.5) (7.4.0)\n",
            "Requirement already satisfied: urllib3!=1.25.0,!=1.25.1,<1.26,>=1.21.1 in /usr/local/lib/python3.7/dist-packages (from requests<3.0.0,>=2.13.0->spacy>=2.2.2->en_core_web_md==2.2.5) (1.24.3)\n",
            "Requirement already satisfied: certifi>=2017.4.17 in /usr/local/lib/python3.7/dist-packages (from requests<3.0.0,>=2.13.0->spacy>=2.2.2->en_core_web_md==2.2.5) (2020.12.5)\n",
            "Requirement already satisfied: chardet<4,>=3.0.2 in /usr/local/lib/python3.7/dist-packages (from requests<3.0.0,>=2.13.0->spacy>=2.2.2->en_core_web_md==2.2.5) (3.0.4)\n",
            "Requirement already satisfied: idna<3,>=2.5 in /usr/local/lib/python3.7/dist-packages (from requests<3.0.0,>=2.13.0->spacy>=2.2.2->en_core_web_md==2.2.5) (2.10)\n",
            "Requirement already satisfied: importlib-metadata>=0.20; python_version < \"3.8\" in /usr/local/lib/python3.7/dist-packages (from catalogue<1.1.0,>=0.0.7->spacy>=2.2.2->en_core_web_md==2.2.5) (3.10.0)\n",
            "Requirement already satisfied: typing-extensions>=3.6.4; python_version < \"3.8\" in /usr/local/lib/python3.7/dist-packages (from importlib-metadata>=0.20; python_version < \"3.8\"->catalogue<1.1.0,>=0.0.7->spacy>=2.2.2->en_core_web_md==2.2.5) (3.7.4.3)\n",
            "Requirement already satisfied: zipp>=0.5 in /usr/local/lib/python3.7/dist-packages (from importlib-metadata>=0.20; python_version < \"3.8\"->catalogue<1.1.0,>=0.0.7->spacy>=2.2.2->en_core_web_md==2.2.5) (3.4.1)\n",
            "\u001b[38;5;2m✔ Download and installation successful\u001b[0m\n",
            "You can now load the model via spacy.load('en_core_web_md')\n"
          ],
          "name": "stdout"
        }
      ]
    }
  ]
}