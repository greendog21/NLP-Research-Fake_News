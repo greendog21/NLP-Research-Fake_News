{
  "nbformat": 4,
  "nbformat_minor": 0,
  "metadata": {
    "colab": {
      "name": "coherence scores spanish.ipynb",
      "provenance": [],
      "collapsed_sections": []
    },
    "kernelspec": {
      "name": "python3",
      "display_name": "Python 3"
    },
    "language_info": {
      "name": "python"
    }
  },
  "cells": [
    {
      "cell_type": "code",
      "metadata": {
        "colab": {
          "base_uri": "https://localhost:8080/",
          "height": 559
        },
        "id": "Hzh4vFYDXhBz",
        "outputId": "057ac2f9-8405-4208-eeb8-ed01b85967ed"
      },
      "source": [
        "import os\n",
        "import pandas as pd\n",
        "import re\n",
        "import string\n",
        "from datetime import datetime\n",
        "\n",
        "\n",
        "\n",
        "papers = pd.read_csv('FCovid_Jl20_Cleaned.csv', low_memory=False)\n",
        "papers.head()\n",
        "\n",
        "\n",
        "papers.drop(columns=['ID', 'ref_category_title', 'ref_url', 'pageid', 'verifiedby', 'title', 'published_date', 'country1', 'country2', 'country3', 'country4', 'article_source', 'ref_source', 'source_title', 'category'], axis=1)\n",
        "\n",
        "for index, row in papers.iterrows():\n",
        "  if row['lang'] == 'es':  \n",
        "    continue\n",
        "  else:\n",
        "    papers.drop([index], inplace = True)\n",
        "\n",
        "papers.head()\n",
        "\n",
        "\n"
      ],
      "execution_count": null,
      "outputs": [
        {
          "output_type": "execute_result",
          "data": {
            "text/html": [
              "<div>\n",
              "<style scoped>\n",
              "    .dataframe tbody tr th:only-of-type {\n",
              "        vertical-align: middle;\n",
              "    }\n",
              "\n",
              "    .dataframe tbody tr th {\n",
              "        vertical-align: top;\n",
              "    }\n",
              "\n",
              "    .dataframe thead th {\n",
              "        text-align: right;\n",
              "    }\n",
              "</style>\n",
              "<table border=\"1\" class=\"dataframe\">\n",
              "  <thead>\n",
              "    <tr style=\"text-align: right;\">\n",
              "      <th></th>\n",
              "      <th>ID</th>\n",
              "      <th>ref_category_title</th>\n",
              "      <th>ref_url</th>\n",
              "      <th>pageid</th>\n",
              "      <th>verifiedby</th>\n",
              "      <th>country</th>\n",
              "      <th>class</th>\n",
              "      <th>title</th>\n",
              "      <th>published_date</th>\n",
              "      <th>country1</th>\n",
              "      <th>country2</th>\n",
              "      <th>country3</th>\n",
              "      <th>country4</th>\n",
              "      <th>article_source</th>\n",
              "      <th>ref_source</th>\n",
              "      <th>source_title</th>\n",
              "      <th>content_text</th>\n",
              "      <th>category</th>\n",
              "      <th>lang</th>\n",
              "      <th>Unnamed: 19</th>\n",
              "      <th>Unnamed: 20</th>\n",
              "      <th>Unnamed: 21</th>\n",
              "      <th>Unnamed: 22</th>\n",
              "      <th>Unnamed: 23</th>\n",
              "      <th>Unnamed: 24</th>\n",
              "      <th>Unnamed: 25</th>\n",
              "      <th>Unnamed: 26</th>\n",
              "      <th>Unnamed: 27</th>\n",
              "      <th>Unnamed: 28</th>\n",
              "      <th>Unnamed: 29</th>\n",
              "      <th>Unnamed: 30</th>\n",
              "      <th>Unnamed: 31</th>\n",
              "      <th>Unnamed: 32</th>\n",
              "      <th>Unnamed: 33</th>\n",
              "      <th>Unnamed: 34</th>\n",
              "      <th>Unnamed: 35</th>\n",
              "      <th>Unnamed: 36</th>\n",
              "      <th>Unnamed: 37</th>\n",
              "      <th>Unnamed: 38</th>\n",
              "      <th>Unnamed: 39</th>\n",
              "      <th>...</th>\n",
              "      <th>Unnamed: 853</th>\n",
              "      <th>Unnamed: 854</th>\n",
              "      <th>Unnamed: 855</th>\n",
              "      <th>Unnamed: 856</th>\n",
              "      <th>Unnamed: 857</th>\n",
              "      <th>Unnamed: 858</th>\n",
              "      <th>Unnamed: 859</th>\n",
              "      <th>Unnamed: 860</th>\n",
              "      <th>Unnamed: 861</th>\n",
              "      <th>Unnamed: 862</th>\n",
              "      <th>Unnamed: 863</th>\n",
              "      <th>Unnamed: 864</th>\n",
              "      <th>Unnamed: 865</th>\n",
              "      <th>Unnamed: 866</th>\n",
              "      <th>Unnamed: 867</th>\n",
              "      <th>Unnamed: 868</th>\n",
              "      <th>Unnamed: 869</th>\n",
              "      <th>Unnamed: 870</th>\n",
              "      <th>Unnamed: 871</th>\n",
              "      <th>Unnamed: 872</th>\n",
              "      <th>Unnamed: 873</th>\n",
              "      <th>Unnamed: 874</th>\n",
              "      <th>Unnamed: 875</th>\n",
              "      <th>Unnamed: 876</th>\n",
              "      <th>Unnamed: 877</th>\n",
              "      <th>Unnamed: 878</th>\n",
              "      <th>Unnamed: 879</th>\n",
              "      <th>Unnamed: 880</th>\n",
              "      <th>Unnamed: 881</th>\n",
              "      <th>Unnamed: 882</th>\n",
              "      <th>Unnamed: 883</th>\n",
              "      <th>Unnamed: 884</th>\n",
              "      <th>Unnamed: 885</th>\n",
              "      <th>Unnamed: 886</th>\n",
              "      <th>Unnamed: 887</th>\n",
              "      <th>Unnamed: 888</th>\n",
              "      <th>Unnamed: 889</th>\n",
              "      <th>Unnamed: 890</th>\n",
              "      <th>Unnamed: 891</th>\n",
              "      <th>Unnamed: 892</th>\n",
              "    </tr>\n",
              "  </thead>\n",
              "  <tbody>\n",
              "    <tr>\n",
              "      <th>2845</th>\n",
              "      <td>FC26</td>\n",
              "      <td>False: Nostradamus predicted the coronavirus p...</td>\n",
              "      <td>https://www.poynter.org/?ifcn_misinformation=n...</td>\n",
              "      <td>https://www.poynter.org/ifcn-covid-19-misinfor...</td>\n",
              "      <td>Chequeado</td>\n",
              "      <td>Argentina</td>\n",
              "      <td>FALSE</td>\n",
              "      <td>Nostradamus predicted the coronavirus pandemic.</td>\n",
              "      <td>3/17/2020</td>\n",
              "      <td>Argentina</td>\n",
              "      <td>NaN</td>\n",
              "      <td>NaN</td>\n",
              "      <td>NaN</td>\n",
              "      <td>https://chequeado.com/verificacionfb/es-falso-...</td>\n",
              "      <td>poynter</td>\n",
              "      <td>Es falso que Nostradamus predijo el coronaviru...</td>\n",
              "      <td>Hoy, Si apoyás este proyecto, Hoy, Delfina Cor...</td>\n",
              "      <td>NaN</td>\n",
              "      <td>es</td>\n",
              "      <td>NaN</td>\n",
              "      <td>NaN</td>\n",
              "      <td>NaN</td>\n",
              "      <td>NaN</td>\n",
              "      <td>NaN</td>\n",
              "      <td>NaN</td>\n",
              "      <td>NaN</td>\n",
              "      <td>NaN</td>\n",
              "      <td>NaN</td>\n",
              "      <td>NaN</td>\n",
              "      <td>NaN</td>\n",
              "      <td>NaN</td>\n",
              "      <td>NaN</td>\n",
              "      <td>NaN</td>\n",
              "      <td>NaN</td>\n",
              "      <td>NaN</td>\n",
              "      <td>NaN</td>\n",
              "      <td>NaN</td>\n",
              "      <td>NaN</td>\n",
              "      <td>NaN</td>\n",
              "      <td>NaN</td>\n",
              "      <td>...</td>\n",
              "      <td>NaN</td>\n",
              "      <td>NaN</td>\n",
              "      <td>NaN</td>\n",
              "      <td>NaN</td>\n",
              "      <td>NaN</td>\n",
              "      <td>NaN</td>\n",
              "      <td>NaN</td>\n",
              "      <td>NaN</td>\n",
              "      <td>NaN</td>\n",
              "      <td>NaN</td>\n",
              "      <td>NaN</td>\n",
              "      <td>NaN</td>\n",
              "      <td>NaN</td>\n",
              "      <td>NaN</td>\n",
              "      <td>NaN</td>\n",
              "      <td>NaN</td>\n",
              "      <td>NaN</td>\n",
              "      <td>NaN</td>\n",
              "      <td>NaN</td>\n",
              "      <td>NaN</td>\n",
              "      <td>NaN</td>\n",
              "      <td>NaN</td>\n",
              "      <td>NaN</td>\n",
              "      <td>NaN</td>\n",
              "      <td>NaN</td>\n",
              "      <td>NaN</td>\n",
              "      <td>NaN</td>\n",
              "      <td>NaN</td>\n",
              "      <td>NaN</td>\n",
              "      <td>NaN</td>\n",
              "      <td>NaN</td>\n",
              "      <td>NaN</td>\n",
              "      <td>NaN</td>\n",
              "      <td>NaN</td>\n",
              "      <td>NaN</td>\n",
              "      <td>NaN</td>\n",
              "      <td>NaN</td>\n",
              "      <td>NaN</td>\n",
              "      <td>NaN</td>\n",
              "      <td>NaN</td>\n",
              "    </tr>\n",
              "    <tr>\n",
              "      <th>2846</th>\n",
              "      <td>FC28</td>\n",
              "      <td>False: Voice message of a so-called ombudsman ...</td>\n",
              "      <td>https://www.poynter.org/?ifcn_misinformation=v...</td>\n",
              "      <td>https://www.poynter.org/ifcn-covid-19-misinfor...</td>\n",
              "      <td>Chequeado</td>\n",
              "      <td>Argentina</td>\n",
              "      <td>FALSE</td>\n",
              "      <td>Voice message of a so-called ombudsman that s...</td>\n",
              "      <td>3/22/2020</td>\n",
              "      <td>Argentina</td>\n",
              "      <td>NaN</td>\n",
              "      <td>NaN</td>\n",
              "      <td>NaN</td>\n",
              "      <td>https://chequeado.com/el-explicador/no-la-defe...</td>\n",
              "      <td>poynter</td>\n",
              "      <td>No, la Defensoría del Pueblo de la Ciudad no a...</td>\n",
              "      <td>Hoy, Si apoyás este proyecto, Hoy, Defensoría ...</td>\n",
              "      <td>NaN</td>\n",
              "      <td>es</td>\n",
              "      <td>NaN</td>\n",
              "      <td>NaN</td>\n",
              "      <td>NaN</td>\n",
              "      <td>NaN</td>\n",
              "      <td>NaN</td>\n",
              "      <td>NaN</td>\n",
              "      <td>NaN</td>\n",
              "      <td>NaN</td>\n",
              "      <td>NaN</td>\n",
              "      <td>NaN</td>\n",
              "      <td>NaN</td>\n",
              "      <td>NaN</td>\n",
              "      <td>NaN</td>\n",
              "      <td>NaN</td>\n",
              "      <td>NaN</td>\n",
              "      <td>NaN</td>\n",
              "      <td>NaN</td>\n",
              "      <td>NaN</td>\n",
              "      <td>NaN</td>\n",
              "      <td>NaN</td>\n",
              "      <td>NaN</td>\n",
              "      <td>...</td>\n",
              "      <td>NaN</td>\n",
              "      <td>NaN</td>\n",
              "      <td>NaN</td>\n",
              "      <td>NaN</td>\n",
              "      <td>NaN</td>\n",
              "      <td>NaN</td>\n",
              "      <td>NaN</td>\n",
              "      <td>NaN</td>\n",
              "      <td>NaN</td>\n",
              "      <td>NaN</td>\n",
              "      <td>NaN</td>\n",
              "      <td>NaN</td>\n",
              "      <td>NaN</td>\n",
              "      <td>NaN</td>\n",
              "      <td>NaN</td>\n",
              "      <td>NaN</td>\n",
              "      <td>NaN</td>\n",
              "      <td>NaN</td>\n",
              "      <td>NaN</td>\n",
              "      <td>NaN</td>\n",
              "      <td>NaN</td>\n",
              "      <td>NaN</td>\n",
              "      <td>NaN</td>\n",
              "      <td>NaN</td>\n",
              "      <td>NaN</td>\n",
              "      <td>NaN</td>\n",
              "      <td>NaN</td>\n",
              "      <td>NaN</td>\n",
              "      <td>NaN</td>\n",
              "      <td>NaN</td>\n",
              "      <td>NaN</td>\n",
              "      <td>NaN</td>\n",
              "      <td>NaN</td>\n",
              "      <td>NaN</td>\n",
              "      <td>NaN</td>\n",
              "      <td>NaN</td>\n",
              "      <td>NaN</td>\n",
              "      <td>NaN</td>\n",
              "      <td>NaN</td>\n",
              "      <td>NaN</td>\n",
              "    </tr>\n",
              "    <tr>\n",
              "      <th>2847</th>\n",
              "      <td>FC195</td>\n",
              "      <td>False: Cuba discovered a serum that cures COVI...</td>\n",
              "      <td>https://www.poynter.org/?ifcn_misinformation=c...</td>\n",
              "      <td>https://www.poynter.org/ifcn-covid-19-misinfor...</td>\n",
              "      <td>Chequeado</td>\n",
              "      <td>Argentina</td>\n",
              "      <td>FALSE</td>\n",
              "      <td>Cuba discovered a serum that cures COVID-19.</td>\n",
              "      <td>3/17/2020</td>\n",
              "      <td>Argentina</td>\n",
              "      <td>NaN</td>\n",
              "      <td>NaN</td>\n",
              "      <td>NaN</td>\n",
              "      <td>https://chequeado.com/el-explicador/es-falso-q...</td>\n",
              "      <td>poynter</td>\n",
              "      <td>Es falso que Cuba descubrió un suero que cura ...</td>\n",
              "      <td>Hoy, Si apoyás este proyecto, Hoy, Sebastián D...</td>\n",
              "      <td>NaN</td>\n",
              "      <td>es</td>\n",
              "      <td>NaN</td>\n",
              "      <td>NaN</td>\n",
              "      <td>NaN</td>\n",
              "      <td>NaN</td>\n",
              "      <td>NaN</td>\n",
              "      <td>NaN</td>\n",
              "      <td>NaN</td>\n",
              "      <td>NaN</td>\n",
              "      <td>NaN</td>\n",
              "      <td>NaN</td>\n",
              "      <td>NaN</td>\n",
              "      <td>NaN</td>\n",
              "      <td>NaN</td>\n",
              "      <td>NaN</td>\n",
              "      <td>NaN</td>\n",
              "      <td>NaN</td>\n",
              "      <td>NaN</td>\n",
              "      <td>NaN</td>\n",
              "      <td>NaN</td>\n",
              "      <td>NaN</td>\n",
              "      <td>NaN</td>\n",
              "      <td>...</td>\n",
              "      <td>NaN</td>\n",
              "      <td>NaN</td>\n",
              "      <td>NaN</td>\n",
              "      <td>NaN</td>\n",
              "      <td>NaN</td>\n",
              "      <td>NaN</td>\n",
              "      <td>NaN</td>\n",
              "      <td>NaN</td>\n",
              "      <td>NaN</td>\n",
              "      <td>NaN</td>\n",
              "      <td>NaN</td>\n",
              "      <td>NaN</td>\n",
              "      <td>NaN</td>\n",
              "      <td>NaN</td>\n",
              "      <td>NaN</td>\n",
              "      <td>NaN</td>\n",
              "      <td>NaN</td>\n",
              "      <td>NaN</td>\n",
              "      <td>NaN</td>\n",
              "      <td>NaN</td>\n",
              "      <td>NaN</td>\n",
              "      <td>NaN</td>\n",
              "      <td>NaN</td>\n",
              "      <td>NaN</td>\n",
              "      <td>NaN</td>\n",
              "      <td>NaN</td>\n",
              "      <td>NaN</td>\n",
              "      <td>NaN</td>\n",
              "      <td>NaN</td>\n",
              "      <td>NaN</td>\n",
              "      <td>NaN</td>\n",
              "      <td>NaN</td>\n",
              "      <td>NaN</td>\n",
              "      <td>NaN</td>\n",
              "      <td>NaN</td>\n",
              "      <td>NaN</td>\n",
              "      <td>NaN</td>\n",
              "      <td>NaN</td>\n",
              "      <td>NaN</td>\n",
              "      <td>NaN</td>\n",
              "    </tr>\n",
              "    <tr>\n",
              "      <th>2848</th>\n",
              "      <td>FC323</td>\n",
              "      <td>FALSE: The Head of Government of the City of B...</td>\n",
              "      <td>https://www.poynter.org/?ifcn_misinformation=t...</td>\n",
              "      <td>https://www.poynter.org/ifcn-covid-19-misinfor...</td>\n",
              "      <td>Chequeado</td>\n",
              "      <td>Argentina</td>\n",
              "      <td>FALSE</td>\n",
              "      <td>The Head of Government of the City of Buenos ...</td>\n",
              "      <td>5/14/2020</td>\n",
              "      <td>Argentina</td>\n",
              "      <td>NaN</td>\n",
              "      <td>NaN</td>\n",
              "      <td>NaN</td>\n",
              "      <td>https://chequeado.com/verificacionfb/es-falso-...</td>\n",
              "      <td>poynter</td>\n",
              "      <td>Es falso este zócalo de Rodríguez Larreta: “Co...</td>\n",
              "      <td>Hoy, Si apoyás este proyecto, Hoy, Lucía Garde...</td>\n",
              "      <td>NaN</td>\n",
              "      <td>es</td>\n",
              "      <td>NaN</td>\n",
              "      <td>NaN</td>\n",
              "      <td>NaN</td>\n",
              "      <td>NaN</td>\n",
              "      <td>NaN</td>\n",
              "      <td>NaN</td>\n",
              "      <td>NaN</td>\n",
              "      <td>NaN</td>\n",
              "      <td>NaN</td>\n",
              "      <td>NaN</td>\n",
              "      <td>NaN</td>\n",
              "      <td>NaN</td>\n",
              "      <td>NaN</td>\n",
              "      <td>NaN</td>\n",
              "      <td>NaN</td>\n",
              "      <td>NaN</td>\n",
              "      <td>NaN</td>\n",
              "      <td>NaN</td>\n",
              "      <td>NaN</td>\n",
              "      <td>NaN</td>\n",
              "      <td>NaN</td>\n",
              "      <td>...</td>\n",
              "      <td>NaN</td>\n",
              "      <td>NaN</td>\n",
              "      <td>NaN</td>\n",
              "      <td>NaN</td>\n",
              "      <td>NaN</td>\n",
              "      <td>NaN</td>\n",
              "      <td>NaN</td>\n",
              "      <td>NaN</td>\n",
              "      <td>NaN</td>\n",
              "      <td>NaN</td>\n",
              "      <td>NaN</td>\n",
              "      <td>NaN</td>\n",
              "      <td>NaN</td>\n",
              "      <td>NaN</td>\n",
              "      <td>NaN</td>\n",
              "      <td>NaN</td>\n",
              "      <td>NaN</td>\n",
              "      <td>NaN</td>\n",
              "      <td>NaN</td>\n",
              "      <td>NaN</td>\n",
              "      <td>NaN</td>\n",
              "      <td>NaN</td>\n",
              "      <td>NaN</td>\n",
              "      <td>NaN</td>\n",
              "      <td>NaN</td>\n",
              "      <td>NaN</td>\n",
              "      <td>NaN</td>\n",
              "      <td>NaN</td>\n",
              "      <td>NaN</td>\n",
              "      <td>NaN</td>\n",
              "      <td>NaN</td>\n",
              "      <td>NaN</td>\n",
              "      <td>NaN</td>\n",
              "      <td>NaN</td>\n",
              "      <td>NaN</td>\n",
              "      <td>NaN</td>\n",
              "      <td>NaN</td>\n",
              "      <td>NaN</td>\n",
              "      <td>NaN</td>\n",
              "      <td>NaN</td>\n",
              "    </tr>\n",
              "    <tr>\n",
              "      <th>2849</th>\n",
              "      <td>FC440</td>\n",
              "      <td>FALSE: Bill Gates faces trial in India for ill...</td>\n",
              "      <td>https://www.poynter.org/?ifcn_misinformation=b...</td>\n",
              "      <td>https://www.poynter.org/ifcn-covid-19-misinfor...</td>\n",
              "      <td>Chequeado</td>\n",
              "      <td>Argentina, India, Venezuela</td>\n",
              "      <td>FALSE</td>\n",
              "      <td>Bill Gates faces trial in India for illegally...</td>\n",
              "      <td>6/11/2020</td>\n",
              "      <td>Argentina</td>\n",
              "      <td>India</td>\n",
              "      <td>Venezuela</td>\n",
              "      <td>NaN</td>\n",
              "      <td>https://chequeado.com/verificacionfb/es-falso-...</td>\n",
              "      <td>poynter</td>\n",
              "      <td>Es falso que Bill Gates enfrenta un juicio en ...</td>\n",
              "      <td>Hoy, Si apoyás este proyecto, Hoy, Ignacio Cor...</td>\n",
              "      <td>NaN</td>\n",
              "      <td>es</td>\n",
              "      <td>NaN</td>\n",
              "      <td>NaN</td>\n",
              "      <td>NaN</td>\n",
              "      <td>NaN</td>\n",
              "      <td>NaN</td>\n",
              "      <td>NaN</td>\n",
              "      <td>NaN</td>\n",
              "      <td>NaN</td>\n",
              "      <td>NaN</td>\n",
              "      <td>NaN</td>\n",
              "      <td>NaN</td>\n",
              "      <td>NaN</td>\n",
              "      <td>NaN</td>\n",
              "      <td>NaN</td>\n",
              "      <td>NaN</td>\n",
              "      <td>NaN</td>\n",
              "      <td>NaN</td>\n",
              "      <td>NaN</td>\n",
              "      <td>NaN</td>\n",
              "      <td>NaN</td>\n",
              "      <td>NaN</td>\n",
              "      <td>...</td>\n",
              "      <td>NaN</td>\n",
              "      <td>NaN</td>\n",
              "      <td>NaN</td>\n",
              "      <td>NaN</td>\n",
              "      <td>NaN</td>\n",
              "      <td>NaN</td>\n",
              "      <td>NaN</td>\n",
              "      <td>NaN</td>\n",
              "      <td>NaN</td>\n",
              "      <td>NaN</td>\n",
              "      <td>NaN</td>\n",
              "      <td>NaN</td>\n",
              "      <td>NaN</td>\n",
              "      <td>NaN</td>\n",
              "      <td>NaN</td>\n",
              "      <td>NaN</td>\n",
              "      <td>NaN</td>\n",
              "      <td>NaN</td>\n",
              "      <td>NaN</td>\n",
              "      <td>NaN</td>\n",
              "      <td>NaN</td>\n",
              "      <td>NaN</td>\n",
              "      <td>NaN</td>\n",
              "      <td>NaN</td>\n",
              "      <td>NaN</td>\n",
              "      <td>NaN</td>\n",
              "      <td>NaN</td>\n",
              "      <td>NaN</td>\n",
              "      <td>NaN</td>\n",
              "      <td>NaN</td>\n",
              "      <td>NaN</td>\n",
              "      <td>NaN</td>\n",
              "      <td>NaN</td>\n",
              "      <td>NaN</td>\n",
              "      <td>NaN</td>\n",
              "      <td>NaN</td>\n",
              "      <td>NaN</td>\n",
              "      <td>NaN</td>\n",
              "      <td>NaN</td>\n",
              "      <td>NaN</td>\n",
              "    </tr>\n",
              "  </tbody>\n",
              "</table>\n",
              "<p>5 rows × 893 columns</p>\n",
              "</div>"
            ],
            "text/plain": [
              "         ID  ... Unnamed: 892\n",
              "2845   FC26  ...          NaN\n",
              "2846   FC28  ...          NaN\n",
              "2847  FC195  ...          NaN\n",
              "2848  FC323  ...          NaN\n",
              "2849  FC440  ...          NaN\n",
              "\n",
              "[5 rows x 893 columns]"
            ]
          },
          "metadata": {
            "tags": []
          },
          "execution_count": 1
        }
      ]
    },
    {
      "cell_type": "code",
      "metadata": {
        "id": "CYBEG9gAmZEs"
      },
      "source": [
        "#Importing Needed Packages\n",
        "\n",
        "import spacy\n",
        "import nltk\n",
        "import gensim\n",
        "import warnings\n",
        "warnings.filterwarnings(\"ignore\",category=DeprecationWarning)\n"
      ],
      "execution_count": null,
      "outputs": []
    },
    {
      "cell_type": "code",
      "metadata": {
        "id": "L9elmBviYDg1",
        "colab": {
          "base_uri": "https://localhost:8080/"
        },
        "outputId": "312b7360-ab52-4815-970c-70bd8ac7be94"
      },
      "source": [
        "# Data cleaning\n",
        "#Data Cleansing Begins\n",
        "\n",
        "papers['content_text_processed'] = papers['content_text'].map(lambda x: re.sub('[,\\.!?]', '', x))\n",
        "\n",
        "papers['content_text_processed'] = papers['content_text_processed'].map(lambda x: x.lower())\n",
        "\n",
        "papers['content_text_processed'].head()"
      ],
      "execution_count": null,
      "outputs": [
        {
          "output_type": "execute_result",
          "data": {
            "text/plain": [
              "2845    hoy si apoyás este proyecto hoy delfina corti ...\n",
              "2846    hoy si apoyás este proyecto hoy defensoría de ...\n",
              "2847    hoy si apoyás este proyecto hoy sebastián davi...\n",
              "2848    hoy si apoyás este proyecto hoy lucía gardel c...\n",
              "2849    hoy si apoyás este proyecto hoy ignacio corral...\n",
              "Name: content_text_processed, dtype: object"
            ]
          },
          "metadata": {
            "tags": []
          },
          "execution_count": 4
        }
      ]
    },
    {
      "cell_type": "code",
      "metadata": {
        "colab": {
          "base_uri": "https://localhost:8080/"
        },
        "id": "F9hoC1VAvHNB",
        "outputId": "4128ab84-8827-4a9e-bae7-cd42ab827756"
      },
      "source": [
        "import gensim\n",
        "from gensim.utils import simple_preprocess\n",
        "\n",
        "def sentToWords(sentences):\n",
        "    for sentences in sentences:\n",
        "        yield (gensim.utils.simple_preprocess(str(sentences), deacc=True)) #deacc removes punctuation\n",
        "\n",
        "data = papers.content_text_processed.values.tolist()\n",
        "data_words = list(sentToWords(data))\n",
        "\n",
        "print(data_words[:1][0][:30])"
      ],
      "execution_count": null,
      "outputs": [
        {
          "output_type": "stream",
          "text": [
            "['hoy', 'si', 'apoyas', 'este', 'proyecto', 'hoy', 'delfina', 'corti', 'circula', 'en', 'facebook', 'whatsapp', 'una', 'imagen', 'que', 'sostiene', 'que', 'el', 'medico', 'frances', 'conocido', 'como', 'nostradamus', 'predijo', 'en', 'el', 'coronavirus', 'traves', 'de', 'su']\n"
          ],
          "name": "stdout"
        }
      ]
    },
    {
      "cell_type": "code",
      "metadata": {
        "id": "XcTRs_aukMgk"
      },
      "source": [
        "#More Cleaning #Probably Obsolete\n",
        "\n",
        "def cleaner(word):\n",
        "  word = re.sub(r'((http\\https)\\:\\/\\/?[a-zA-Z0-9\\.\\/\\?\\:@\\-_=#]+\\.([a-zA-Z]){2,6}(a-zA-Z0-9\\.&\\/\\?\\:@\\-_=#])*', '', word, flags=re.MULTILINE)\n",
        "  word = re.sub(r'(?::|;|=)(?:-)?(?:\\)|\\(|D|P)', \"\", word)\n",
        "  word = re.sub(r'ee.uu', 'eeuu', word)\n",
        "  word = re.sub(r'\\#\\.',\"\", word)\n",
        "  word = re.sub(r',', '', word)\n",
        "  word = re.sub(r'\\n', \" \", word)\n",
        "  word = re.sub(r'\\.{3}', \"\", word)\n",
        "  word = re.sub(r'\\-', \" \", word)\n",
        "  word = re.sub(r'a{2,}', \"\", word)\n",
        "  word = re.sub(r'é{2,}', \"é\", word)\n",
        "  word = re.sub(r'i{2,}', \"i\", word)\n",
        "  word = re.sub(r'ja{2,}', \"ja\", word)\n",
        "  word = re.sub(r'á', \"a\", word)\n",
        "  word = re.sub(r'é', \"e\", word)\n",
        "  word = re.sub(r'í', \"i\", word)\n",
        "  word = re.sub(r'ó', \"o\", word)\n",
        "  word = re.sub(r'ú', \"u\", word)\n",
        "  word = re.sub(r'ü', \"u\", word)\n",
        "  word = re.sub(r'[^a-zA-Z]', \" \", word)\n",
        "  list_word_clean = []\n",
        "  for w1 in word.split(\" \"):\n",
        "    if w1.lower() not in stopwords:\n",
        "      list_word_clean.append(w1.lower())\n",
        "\n",
        "  return out_text"
      ],
      "execution_count": null,
      "outputs": []
    },
    {
      "cell_type": "code",
      "metadata": {
        "id": "eDZpCKSpYN2M"
      },
      "source": [
        "# Build the bigram and trigram models\n",
        "bigram = gensim.models.Phrases(data_words, min_count=5, threshold=100) # higher threshold fewer phrases.\n",
        "trigram = gensim.models.Phrases(bigram[data_words], threshold=100)\n",
        "\n",
        "#faster way\n",
        "bigram_mod = gensim.models.phrases.Phraser(bigram)\n",
        "trigram_mod = gensim.models.phrases.Phraser(trigram)"
      ],
      "execution_count": null,
      "outputs": []
    },
    {
      "cell_type": "code",
      "metadata": {
        "colab": {
          "base_uri": "https://localhost:8080/"
        },
        "id": "Y5TSu89Ux3-e",
        "outputId": "47f7027d-22ff-4c90-cf58-5d5d0f31928f"
      },
      "source": [
        "# Remove Stopwords, Make Bigrams and Lemmatize\n",
        "import nltk\n",
        "nltk.download('stopwords')\n",
        "from nltk.corpus import stopwords\n",
        "\n",
        "stop_words = stopwords.words('spanish')\n",
        "stop_words.extend(['from', 'subject', 're', 'edu', 'use'])\n",
        "\n",
        "def remove_stopwords(texts):\n",
        "    return  [[word for word in simple_preprocess(str(doc)) if word not in stop_words] for doc in texts]\n",
        "\n",
        "def make_bigrams(texts):\n",
        "    return [bigram_mod[doc] for doc in texts]\n",
        "\n",
        "def lemmatization(texts, allowed_postags=['NOUN', 'ADJ', 'VERB', 'ADV']):\n",
        "    \"\"\"https://aspacy.io/api/annotation\"\"\"\n",
        "    texts_out = []\n",
        "    for sent in texts:\n",
        "        doc = nlp(\" \".join(sent)) \n",
        "        texts_out.append([token.lemma_ for token in doc if token.pos_ in allowed_postags])\n",
        "    return texts_out"
      ],
      "execution_count": null,
      "outputs": [
        {
          "output_type": "stream",
          "text": [
            "[nltk_data] Downloading package stopwords to /root/nltk_data...\n",
            "[nltk_data]   Package stopwords is already up-to-date!\n"
          ],
          "name": "stdout"
        }
      ]
    },
    {
      "cell_type": "code",
      "metadata": {
        "colab": {
          "base_uri": "https://localhost:8080/"
        },
        "id": "dChucAA5yaS2",
        "outputId": "e2fdfb48-d1ae-4330-a121-41f7743e20a3"
      },
      "source": [
        "import spacy #for\n",
        "# Remove Stop Words\n",
        "data_words_nostops = remove_stopwords(data_words)\n",
        "\n",
        "# Form Bigrams\n",
        "data_words_bigrams = make_bigrams(data_words_nostops)\n",
        "\n",
        "# Initialize spacy 'en' model, keeping only tagger component (for efficiency)\n",
        "# python3 -m spacy download es\n",
        "nlp = spacy.load('es_core_news_md', disable=['parser', 'ner'])\n",
        "\n",
        "# Do lemmatization keeping only noun, adj, vb, adv\n",
        "data_lemmatized = lemmatization(data_words_bigrams, allowed_postags=['NOUN', 'ADJ', 'VERB', 'ADV'])\n",
        "\n",
        "print(data_lemmatized[:1])"
      ],
      "execution_count": null,
      "outputs": [
        {
          "output_type": "stream",
          "text": [
            "[['hoy', 'sostener', 'conocer', 'predecir', 'traves', 'siguiente', 'texto', 'extendera', 'plagar', 'ser', 'noche', 'tierra', 'colina', 'transformar', 'polvo', 'hombre', 'crepusculo', 'culminar', 'sombrar', 'ruindad', 'embargar', 'falso', 'librar', 'aparecer', 'ningun', 'texto', 'palabra', 'ahora', 'difundir', 'imagen', 'compartir', 'ademar', 'llegar', 'reiterar', 'vez', 'numerar', 'chequeado', 'verificar', 'conocer', 'hacer', 'popular', 'hacer', 'enorme', 'seriar', 'predicción', 'ano', 'futuro', 'recoger', 'suponer', 'profecias', 'centuria', 'capitulos', 'segun', 'imagen', 'viral', 'habria', 'predecir', 'coronavirus', 'traves', 'siguiente', 'texto', 'extendera', 'virus', 'ser', 'noche', 'colina', 'transformar', 'polvo', 'muerte', 'hombre', 'anciano', 'culminar', 'sombrar', 'embargar', 'falso', 'existir', 'ningun', 'registrar', 'suponer', 'profecia', 'chequeado', 'verificar', 'aparecer', 'vez', 'palabra', 'plagar', 'vez', 'vez', 'centuria', 'vez', 'registrar', 'palabra', 'senala', 'imagen', 'viral', 'profecias', 'registrar', 'palabra', 'plagar', 'ademar', 'palabra', 'polvo', 'aparecer', 'vez', 'centuria', 'centuria', 'predicción', 'diferente', 'circular', 'imagen', 'viral', 'profecias', 'registrar', 'palabra', 'polvo', 'imagen', 'viral', 'circular', 'verificar', 'maldito_bulo', 'calificar', 'falso', 'chequeo', 'partir', 'trabajar', 'imagenes_trucadas', 'sacar', 'analizar', 'conjuntar', 'imagenes_junto', 'texto', 'presentar', 'gustar', 'mantener', 'proyectar', 'marzo', 'pm', 'bien', 'rectificar', 'marzo', 'pm', 'bien', 'confirmar', 'desmentir', 'publicar', 'marzo', 'consultar', 'profetizar', 'tiempo', 'solo', 'escribir', 'buscar', 'aqui', 'solo', 'hablar', 'luna', 'marzo', 'cercar', 'pasar', 'ilustracion', 'escriturar', 'perdido', 'estara', 'respuesta', 'claro', 'mirar', 'pasar', 'abril', 'pm', 'predecir', 'coronavirus', 'coronavirus', 'surgio', 'ano', 'abril', 'pm', 'verdad', 'predecido', 'muchisimas', 'coser', 'coser', 'creer', 'falso', 'aver', 'torre', 'predecir', 'saber', 'mejor', 'publicar', 'bien', 'sera_publicada', 'decir', 'izquierda_preferimos', 'pobre', 'desigualdad', 'coronavirus', 'humo', 'cigarrillo', 'evidenciar', 'plasmar', 'utilizar', 'paciente', 'coronavirus', 'impacto_posibles', 'solucionar', 'alentar', 'reflexion', 'gustar', 'personar', 'medio']]\n"
          ],
          "name": "stdout"
        }
      ]
    },
    {
      "cell_type": "code",
      "metadata": {
        "colab": {
          "base_uri": "https://localhost:8080/"
        },
        "id": "M5KU-ARK2Jf8",
        "outputId": "df7628a9-f2e8-4a6c-915c-92ba88a07b9b"
      },
      "source": [
        "import gensim.corpora as corpora\n",
        "\n",
        "#New Dictionary\n",
        "id2word = corpora.Dictionary(data_lemmatized)\n",
        "\n",
        "#New Corpus\n",
        "texts = data_lemmatized\n",
        "\n",
        "#Term Document Frequency\n",
        "corpus = [id2word.doc2bow(text) for text in texts]\n",
        "\n",
        "print(corpus[:1])"
      ],
      "execution_count": null,
      "outputs": [
        {
          "output_type": "stream",
          "text": [
            "[[(0, 2), (1, 2), (2, 1), (3, 1), (4, 1), (5, 1), (6, 2), (7, 3), (8, 1), (9, 1), (10, 3), (11, 1), (12, 1), (13, 1), (14, 4), (15, 1), (16, 2), (17, 1), (18, 1), (19, 2), (20, 1), (21, 2), (22, 1), (23, 1), (24, 1), (25, 2), (26, 1), (27, 5), (28, 2), (29, 1), (30, 1), (31, 2), (32, 1), (33, 1), (34, 1), (35, 1), (36, 1), (37, 2), (38, 1), (39, 1), (40, 1), (41, 1), (42, 1), (43, 1), (44, 2), (45, 4), (46, 1), (47, 2), (48, 1), (49, 1), (50, 2), (51, 2), (52, 1), (53, 1), (54, 1), (55, 5), (56, 1), (57, 1), (58, 1), (59, 1), (60, 1), (61, 1), (62, 1), (63, 1), (64, 1), (65, 4), (66, 1), (67, 1), (68, 1), (69, 1), (70, 1), (71, 2), (72, 2), (73, 1), (74, 1), (75, 6), (76, 1), (77, 2), (78, 1), (79, 1), (80, 3), (81, 1), (82, 4), (83, 1), (84, 4), (85, 1), (86, 1), (87, 4), (88, 2), (89, 1), (90, 1), (91, 3), (92, 1), (93, 1), (94, 2), (95, 1), (96, 1), (97, 1), (98, 4), (99, 1), (100, 1), (101, 1), (102, 1), (103, 1), (104, 1), (105, 1), (106, 2), (107, 1), (108, 1), (109, 2), (110, 2), (111, 1), (112, 2), (113, 1), (114, 2), (115, 1), (116, 4), (117, 1), (118, 1), (119, 1), (120, 1), (121, 2), (122, 2), (123, 1), (124, 1), (125, 3), (126, 6), (127, 4), (128, 1)]]\n"
          ],
          "name": "stdout"
        }
      ]
    },
    {
      "cell_type": "code",
      "metadata": {
        "id": "TFduRCrj22-C"
      },
      "source": [
        "# Build LDA model\n",
        "lda_model = gensim.models.LdaMulticore(corpus=corpus,\n",
        "                                       id2word=id2word,\n",
        "                                       num_topics=10, \n",
        "                                       random_state=100,\n",
        "                                       chunksize=100,\n",
        "                                       passes=10,\n",
        "                                       per_word_topics=True)"
      ],
      "execution_count": null,
      "outputs": []
    },
    {
      "cell_type": "code",
      "metadata": {
        "colab": {
          "base_uri": "https://localhost:8080/"
        },
        "id": "U4LZbQiv25n4",
        "outputId": "94763ae8-2bd0-454a-b16e-2b21c9ae825d"
      },
      "source": [
        "from pprint import pprint\n",
        "# Print the Keyword in the 10 topics\n",
        "pprint(lda_model.print_topics())\n",
        "doc_lda = lda_model[corpus]"
      ],
      "execution_count": null,
      "outputs": [
        {
          "output_type": "stream",
          "text": [
            "[(0,\n",
            "  '0.038*\"virus\" + 0.023*\"coronavirus\" + 0.011*\"nuevo\" + 0.010*\"explicar\" + '\n",
            "  '0.010*\"decir\" + 0.010*\"tipo\" + 0.010*\"animal\" + 0.010*\"enfermedad\" + '\n",
            "  '0.009*\"humano\" + 0.008*\"estudiar\"'),\n",
            " (1,\n",
            "  '0.011*\"marzo\" + 0.010*\"medir\" + 0.009*\"presidente\" + 0.009*\"abril\" + '\n",
            "  '0.008*\"publicar\" + 0.008*\"alarmar\" + 0.007*\"hacer\" + 0.007*\"trabajar\" + '\n",
            "  '0.007*\"decir\" + 0.006*\"pm\"'),\n",
            " (2,\n",
            "  '0.015*\"paciente\" + 0.014*\"usar\" + 0.013*\"vacuno\" + 0.013*\"tratamiento\" + '\n",
            "  '0.012*\"coronavirus\" + 0.012*\"medicamento\" + 0.010*\"curar\" + '\n",
            "  '0.008*\"enfermedad\" + 0.008*\"decir\" + 0.008*\"tambien\"'),\n",
            " (3,\n",
            "  '0.035*\"caso\" + 0.018*\"personar\" + 0.015*\"dato\" + 0.012*\"paciente\" + '\n",
            "  '0.009*\"mas\" + 0.009*\"fallecido\" + 0.008*\"contagiar\" + 0.008*\"confirmar\" + '\n",
            "  '0.008*\"decir\" + 0.008*\"coronavirus\"'),\n",
            " (4,\n",
            "  '0.033*\"virus\" + 0.027*\"usar\" + 0.021*\"aire\" + 0.021*\"mascarilla\" + '\n",
            "  '0.016*\"superficie\" + 0.016*\"personar\" + 0.015*\"mano\" + 0.014*\"recomendar\" + '\n",
            "  '0.011*\"transmision\" + 0.011*\"contactar\"'),\n",
            " (5,\n",
            "  '0.017*\"cedula\" + 0.014*\"pelear\" + 0.007*\"alojamiento\" + 0.004*\"terraza\" + '\n",
            "  '0.003*\"reyerta\" + 0.002*\"memes\" + 0.002*\"postobon\" + 0.002*\"desescalada\" + '\n",
            "  '0.002*\"trifulca\" + 0.002*\"busqueda_inversa\"'),\n",
            " (6,\n",
            "  '0.037*\"alimento\" + 0.025*\"consumir\" + 0.024*\"alcalino\" + 0.024*\"vitamina\" + '\n",
            "  '0.021*\"cadena\" + 0.016*\"acidar\" + 0.015*\"ajar\" + 0.014*\"ayudar\" + '\n",
            "  '0.013*\"prevenir\" + 0.012*\"proteger\"'),\n",
            " (7,\n",
            "  '0.021*\"falso\" + 0.011*\"mensaje\" + 0.011*\"decir\" + 0.011*\"coronavirus\" + '\n",
            "  '0.010*\"hacer\" + 0.009*\"circular\" + 0.008*\"personar\" + 0.008*\"publicar\" + '\n",
            "  '0.007*\"asegurar\" + 0.007*\"compartir\"'),\n",
            " (8,\n",
            "  '0.044*\"junio\" + 0.015*\"mas\" + 0.013*\"tambien\" + 0.013*\"nombrar\" + '\n",
            "  '0.013*\"obtener\" + 0.010*\"\\ufeff1\" + 0.009*\"despues\" + 0.008*\"primero\" + '\n",
            "  '0.008*\"personar\" + 0.008*\"humanar\"'),\n",
            " (9,\n",
            "  '0.077*\"bulo\" + 0.027*\"tambien\" + 0.026*\"solo\" + 0.025*\"batallar\" + '\n",
            "  '0.018*\"coronavirus\" + 0.017*\"contactar\" + 0.014*\"contar\" + '\n",
            "  '0.014*\"economicamente_malditaes\" + 0.014*\"conocimientos_utiles\" + '\n",
            "  '0.014*\"librar\"')]\n"
          ],
          "name": "stdout"
        }
      ]
    },
    {
      "cell_type": "code",
      "metadata": {
        "colab": {
          "base_uri": "https://localhost:8080/"
        },
        "id": "XhrNaNdz3Hpe",
        "outputId": "f6e1ea41-5783-45fa-c0b2-c6bf899316b8"
      },
      "source": [
        "from gensim.models import CoherenceModel\n",
        "\n",
        "# Compute Coherence Score\n",
        "coherence_model_lda = CoherenceModel(model=lda_model, texts=data_lemmatized, dictionary=id2word, coherence='c_v')\n",
        "coherence_lda = coherence_model_lda.get_coherence()\n",
        "print('\\nCoherence Score: ', coherence_lda)"
      ],
      "execution_count": null,
      "outputs": [
        {
          "output_type": "stream",
          "text": [
            "\n",
            "Coherence Score:  0.46856499766823284\n"
          ],
          "name": "stdout"
        }
      ]
    },
    {
      "cell_type": "code",
      "metadata": {
        "id": "3OI1-vgp3StK"
      },
      "source": [
        "#tuning Hyperparemeters - (Number of Topics (k), Dirichlet hyperparameter alpha (Document-Topic Density), Word-Topic Density) - defining function to increase eficiney\n",
        "\n",
        "def compute_coherence_values(corpus, dictionary, k):\n",
        "  lda_model = gensim.models.LdaMulticore(corpus=corpus,\n",
        "                                       id2word=id2word,\n",
        "                                       num_topics=k, \n",
        "                                       random_state=100,\n",
        "                                       chunksize=100,\n",
        "                                       passes=10,\n",
        "                                       per_word_topics=True)\n",
        "  coherence_model_lda = CoherenceModel(model=lda_model, texts=data_lemmatized, dictionary=id2word, coherence='c_v')\n",
        "\n",
        "  return coherence_model_lda.get_coherence()"
      ],
      "execution_count": null,
      "outputs": []
    },
    {
      "cell_type": "code",
      "metadata": {
        "colab": {
          "base_uri": "https://localhost:8080/"
        },
        "id": "YHZsI1PC3XYE",
        "outputId": "c8bc1e9a-8175-46f1-e8d4-4613e58045a9"
      },
      "source": [
        "import numpy as np\n",
        "import tqdm\n",
        "grid = {}\n",
        "grid['Validation_Set'] = {}\n",
        "# Topics range\n",
        "min_topics = 2\n",
        "max_topics = 17\n",
        "step_size = 1\n",
        "topics_range = range(min_topics, max_topics, step_size)\n",
        "# Alpha parameter\n",
        "alpha = list(np.arange(0.01, 1, 0.3))\n",
        "alpha.append('symmetric')\n",
        "alpha.append('asymmetric')\n",
        "# Beta parameter\n",
        "beta = list(np.arange(0.01, 1, 0.3))\n",
        "beta.append('symmetric')\n",
        "# Validation sets\n",
        "num_of_docs = int(len(corpus))\n",
        "corpus_sets = [gensim.utils.ClippedCorpus(corpus, num_of_docs*0.75), \n",
        "               corpus]\n",
        "corpus_title = ['75% Corpus', '100% Corpus']\n",
        "model_results = {'Validation_Set': [],\n",
        "                 'Topics': [],\n",
        "                 'Alpha': [],\n",
        "                 'Beta': [],\n",
        "                 'Coherence': []\n",
        "                }\n",
        "averageDict = {}\n",
        "# Can take a long time to run\n",
        "if 1 == 1:\n",
        "    pbar = tqdm.tqdm(total=55)\n",
        "    \n",
        "    for k in topics_range:\n",
        "      \n",
        "      model_results['Topics'].append(k)\n",
        "      for i in range(0, 5):\n",
        "        # iterate through alpha values\n",
        "        # get the coherence score for the given parameters\n",
        "        cv = compute_coherence_values(corpus, id2word, k)\n",
        "        # Save the model results\n",
        "        if k in averageDict:\n",
        "          averageDict[k].append(cv)\n",
        "        else:\n",
        "          averageDict[k] = [cv]\n",
        "            \n",
        "        pbar.update(1)\n",
        "    \n",
        "    pbar.close()\n",
        "\n",
        "for averageList in averageDict.values():\n",
        "  model_results['Coherence'].append(sum(averageList) / len(averageList))"
      ],
      "execution_count": null,
      "outputs": [
        {
          "output_type": "stream",
          "text": [
            "100%|██████████| 55/55 [24:49<00:00, 27.08s/it]\n"
          ],
          "name": "stderr"
        }
      ]
    },
    {
      "cell_type": "code",
      "metadata": {
        "colab": {
          "base_uri": "https://localhost:8080/"
        },
        "id": "xqE736ZX3axk",
        "outputId": "d466fafe-e892-410c-9c8c-a1a8c9f6135c"
      },
      "source": [
        "#Printing Results\n",
        "print(averageDict)\n",
        "print(model_results['Topics'])\n",
        "print(model_results['Coherence'])\n",
        "\n",
        "maxCoherence = max(model_results['Coherence'])\n",
        "index1 = model_results['Coherence'].index(maxCoherence)\n",
        "numTopics = model_results['Topics'][index1]\n",
        "print('Optimal Topcis: ' + str(numTopics))"
      ],
      "execution_count": null,
      "outputs": [
        {
          "output_type": "stream",
          "text": [
            "{2: [0.34225780111179716, 0.34225780111179716, 0.34225780111179716, 0.36239947804317485, 0.36239947804317485], 3: [0.40410765219268024, 0.4607258741111934, 0.457046643029583, 0.4618648410095676, 0.4616811571650319], 4: [0.39994456056271505, 0.390004421354802, 0.39994456056271505, 0.4149261868147913, 0.4000689937790122], 5: [0.44562309397138894, 0.4330491047790712, 0.446028300291707, 0.4453793733783303, 0.44078880730623665], 6: [0.42247066460625043, 0.42907211681649526, 0.42247066460625043, 0.43406393463874854, 0.4291161676824495], 7: [0.4475473125793869, 0.4544397559148158, 0.4526342408786449, 0.454005283089806, 0.4533454639551443], 8: [0.46690669790724176, 0.4600272819110902, 0.4722249172757482, 0.4572974257440683, 0.4601122928518511], 9: [0.4727649221115603, 0.4775450914416351, 0.47686947432900134, 0.470748988520121, 0.47400981393726965], 10: [0.45864979987331067, 0.45132760976210007, 0.4521507140241733, 0.452132676148834, 0.46431209222884295], 11: [0.4575786521889136, 0.4572458368674653, 0.45737389638625403, 0.45735588003221783, 0.4573238220365964], 12: [0.4755483237877318, 0.4763774302573567, 0.4817947395054885, 0.4973884699711635, 0.4855217816340889]}\n",
            "[2, 3, 4, 5, 6, 7, 8, 9, 10, 11, 12]\n",
            "[0.3503144718843482, 0.4490852335016113, 0.4009777446148071, 0.4421737359453468, 0.42743870967003883, 0.4523944112835596, 0.4633137231379999, 0.4743876580679175, 0.4557145784074522, 0.45737561750228944, 0.48332614903116583]\n",
            "Optimal Topcis: 12\n"
          ],
          "name": "stdout"
        }
      ]
    },
    {
      "cell_type": "code",
      "metadata": {
        "colab": {
          "base_uri": "https://localhost:8080/",
          "height": 283
        },
        "id": "Ce24z8io3cy5",
        "outputId": "fe8ffc82-1c6c-4796-a908-4016aa7990dd"
      },
      "source": [
        "# plotting results\n",
        "\n",
        "import matplotlib.pyplot as plt\n",
        "\n",
        "plt.plot(model_results['Topics'], model_results['Coherence'], color='red', marker = 'o')\n",
        "plt.ylabel('Coherence Scores (C_v)', fontsize=14)\n",
        "plt.xlabel('Number of Topics (K)', fontsize=14)\n",
        "plt.grid(True)\n",
        "plt.show()"
      ],
      "execution_count": null,
      "outputs": [
        {
          "output_type": "display_data",
          "data": {
            "image/png": "[encoded data removed]",
            "text/plain": [
              "<Figure size 432x288 with 1 Axes>"
            ]
          },
          "metadata": {
            "tags": [],
            "needs_background": "light"
          }
        }
      ]
    },
    {
      "cell_type": "code",
      "metadata": {
        "id": "_nFQDzJK3eOv"
      },
      "source": [
        "lda_model = gensim.models.LdaMulticore(corpus=corpus,\n",
        "                                           id2word=id2word,\n",
        "                                           num_topics=numTopics, \n",
        "                                           random_state=100,\n",
        "                                           chunksize=100,\n",
        "                                           passes=10,\n",
        "                                           alpha=0.01,\n",
        "                                           eta=0.9)"
      ],
      "execution_count": null,
      "outputs": []
    },
    {
      "cell_type": "code",
      "metadata": {
        "colab": {
          "base_uri": "https://localhost:8080/",
          "height": 1000
        },
        "id": "y82zKRoI3gJd",
        "outputId": "fee8b49e-7941-4cf3-f312-8872a5778c78"
      },
      "source": [
        "import pyLDAvis.gensim_models\n",
        "import pickle \n",
        "import pyLDAvis\n",
        "# Visualize the topics\n",
        "pyLDAvis.enable_notebook()\n",
        "LDAvis_prepared = pyLDAvis.gensim_models.prepare(lda_model, corpus, id2word)\n",
        "LDAvis_prepared"
      ],
      "execution_count": null,
      "outputs": [
        {
          "output_type": "stream",
          "text": [
            "/usr/local/lib/python3.7/dist-packages/past/types/oldstr.py:5: DeprecationWarning: Using or importing the ABCs from 'collections' instead of from 'collections.abc' is deprecated since Python 3.3,and in 3.9 it will stop working\n",
            "  from collections import Iterable\n",
            "/usr/local/lib/python3.7/dist-packages/past/builtins/misc.py:4: DeprecationWarning: Using or importing the ABCs from 'collections' instead of from 'collections.abc' is deprecated since Python 3.3,and in 3.9 it will stop working\n",
            "  from collections import Mapping\n",
            "/usr/local/lib/python3.7/dist-packages/sklearn/decomposition/_lda.py:29: DeprecationWarning: `np.float` is a deprecated alias for the builtin `float`. To silence this warning, use `float` by itself. Doing this will not modify any behavior and is safe. If you specifically wanted the numpy scalar type, use `np.float64` here.\n",
            "Deprecated in NumPy 1.20; for more details and guidance: https://numpy.org/devdocs/release/1.20.0-notes.html#deprecations\n",
            "  EPS = np.finfo(np.float).eps\n"
          ],
          "name": "stderr"
        },
        {
          "output_type": "execute_result",
          "data": {
            "text/html": [
              "\n",
              "<link rel=\"stylesheet\" type=\"text/css\" href=\"https://cdn.jsdelivr.net/gh/bmabey/pyLDAvis@3.3.1/pyLDAvis/js/ldavis.v1.0.0.css\">\n",
              "\n",
              "\n",
              "<div id=\"ldavis_el8561400570606272804078857602\"></div>\n",
              "<script type=\"text/javascript\">\n",
              "\n",
              "var ldavis_el8561400570606272804078857602_data = {\"mdsDat\": {\"x\": [-0.21909240335444563, -0.2415928759235484, -0.17988313582057866, 0.07604651919342054, 0.07282962571296699, 0.07056936825042341, 0.07019953150445868, 0.0704703701166533, 0.07016112064337142, 0.07012409241155698, 0.07008389363286083, 0.07008389363286083], \"y\": [-0.08313045164991158, -0.07659127486744681, 0.19151195254341455, -0.003931330803481803, -0.0044329378682267115, -0.0034281207506943133, -0.0033517939517963935, -0.0034989982606479283, -0.0032817652654983545, -0.0033116714343554726, -0.0032768038456775935, -0.0032768038456776074], \"topics\": [1, 2, 3, 4, 5, 6, 7, 8, 9, 10, 11, 12], \"cluster\": [1, 1, 1, 1, 1, 1, 1, 1, 1, 1, 1, 1], \"Freq\": [45.8231830651813, 40.1965528086457, 13.080754076280265, 0.553759131256023, 0.24757591392378667, 0.036543053654210664, 0.018713539933081065, 0.015128542529749107, 0.011092279559339746, 0.008346962190243388, 0.004175313423157071, 0.004175313423157071]}, \"tinfo\": {\"Term\": [\"bulo\", \"virus\", \"tambien\", \"junio\", \"batallar\", \"solo\", \"mascarilla\", \"contactar\", \"vacuno\", \"falso\", \"usar\", \"mas\", \"librar\", \"importante\", \"conocimiento\", \"enfermedad\", \"entidad\", \"mentira\", \"legal\", \"junto\", \"estudiar\", \"animar\", \"brotar\", \"foto\", \"tratamiento\", \"nombrar\", \"posible\", \"puedes_apoyarnos\", \"superpoder_acabemos\", \"economicamente_malditaes\", \"pm\", \"decretar\", \"cuenta\", \"robar\", \"politico\", \"am\", \"tarjeta\", \"residenciar\", \"frase\", \"martes\", \"pagar\", \"plan\", \"horario\", \"entregar\", \"fraude\", \"alarmar\", \"guerra\", \"economico\", \"municipio\", \"alcalde\", \"diputar\", \"vicepresidente\", \"regional\", \"datos_personales\", \"laboral\", \"protestar\", \"censurar\", \"municipal\", \"consejero\", \"fuerzas_armadas\", \"cifrar\", \"sabado\", \"ordenar\", \"social\", \"euro\", \"corresponder\", \"imagen\", \"cuarentena\", \"capturar\", \"imagenes\", \"gobernar\", \"servicio\", \"lunes\", \"mensaje\", \"escuchar\", \"abril\", \"oficial\", \"falso\", \"noticiar\", \"ministro\", \"usuario\", \"circular\", \"numerar\", \"enviar\", \"cerrar\", \"dia\", \"video\", \"dato\", \"presidente\", \"empresa\", \"marzo\", \"decir\", \"asegurar\", \"publicar\", \"hacer\", \"caso\", \"compartir\", \"partir\", \"contener\", \"ver\", \"casar\", \"contar\", \"confirmar\", \"dar\", \"personar\", \"coronavirus\", \"pasar\", \"cadena\", \"llegar\", \"fuente\", \"tambien\", \"medir\", \"solo\", \"recibir\", \"estudio\", \"tratamiento\", \"cloroquina\", \"ibuprofeno\", \"goticulas\", \"celulas\", \"alcohol\", \"cientificos\", \"quintero\", \"laboratorio\", \"infecci\\u00f3n\", \"sustanciar\", \"sobrevivir\", \"efectividad\", \"medicamento\", \"estomagar\", \"aerosol\", \"respirar\", \"bacteria\", \"vacuno\", \"lavar\", \"acidar\", \"fumador\", \"fibrosis\", \"agua_caliente\", \"curar\", \"alcalino\", \"antibioticos\", \"aire\", \"azitromicina\", \"virus\", \"investigador\", \"gripe\", \"superficie\", \"natural\", \"transmision\", \"respiratorio\", \"mano\", \"investigaci\\u00f3n\", \"sintomas\", \"evidenciar\", \"humano\", \"enfermedad\", \"usar\", \"estudiar\", \"causar\", \"efectivo\", \"aguar\", \"riesgo\", \"paciente\", \"recomendar\", \"producir\", \"efecto\", \"desarrollar\", \"coronavirus\", \"explicar\", \"personar\", \"nuevo\", \"medicar\", \"tipo\", \"decir\", \"caso\", \"mas\", \"hacer\", \"publicar\", \"tambien\", \"contagiar\", \"formar\", \"cadena\", \"llegar\", \"asegurar\", \"partir\", \"falso\", \"solo\", \"economicamente_malditaes\", \"puedes_apoyarnos\", \"sostenible_independiente\", \"superpoder_acabemos\", \"conocimientos_utiles\", \"malditaes_queremos\", \"ayuda_desmentir\", \"comunidad_maldita\", \"herramientas_periodisticas\", \"juntos_podemos\", \"pararla\", \"ultimos_desmentidos\", \"cartela\", \"estais_preguntando\", \"batallar\", \"montano\", \"higado\", \"identificar_posibles\", \"record\", \"rebautizar\", \"creamos_herramientas\", \"videojuego\", \"aeroplano\", \"aire_acondicionado\", \"apodar\", \"aportacion\", \"aportaci\\u00f3n\", \"chimpances\", \"clerigo_britanico\", \"coma_funcionaron\", \"lengua\", \"animar\", \"bulo\", \"junto\", \"legal\", \"organo\", \"lucrar\", \"rayo\", \"idioma\", \"conocimiento\", \"graso\", \"publicidad\", \"librar\", \"entidad\", \"junio\", \"obtener\", \"mentira\", \"contactar\", \"tambien\", \"solo\", \"importante\", \"necesitar\", \"brotar\", \"mas\", \"coronavirus\", \"nombrar\", \"contar\", \"posible\", \"azufrar\", \"dioxido\", \"gas\", \"polo\", \"barbar\", \"uso_prolongado\", \"humorista\", \"fosiles\", \"oxigenacion\", \"glucosa\", \"forestal\", \"nitrogeno\", \"vello\", \"so\", \"\\u00b5g\", \"desmayo\", \"cirujano\", \"hipoxia\", \"progresivamente\", \"estatura\", \"inhalacion\", \"macias\", \"provocarse\", \"separarse\", \"tocarse_ojos\", \"barbijos\", \"atmosferico\", \"mascarillas_medicas\", \"levantarlo\", \"disenadas\", \"mascar\", \"co\", \"carbonar\", \"cubrebocas\", \"mascarilla\", \"emisi\\u00f3n\", \"oxigenar\", \"moleculas\", \"atmosfera\", \"respirar\", \"tapaboca\", \"quemar\", \"intervenir\", \"particulas\", \"alquiler\", \"impuesto\", \"pequenas_medianas\", \"pyme\", \"macron\", \"artesano\", \"cotizaci\\u00f3n\", \"asalariar\", \"cancelaci\\u00f3n\", \"concernir\", \"maire\", \"microempresas\", \"recibo\", \"duradero\", \"alquilar\", \"terraza\", \"concurso\", \"eurogrupo\", \"recorte\", \"contribuci\\u00f3n\", \"individualizar\", \"quebrar\", \"aplazamiento\", \"reyerta\", \"cintar\", \"salario\", \"nacionalizar\", \"adquisici\\u00f3n\", \"adquisitivo\", \"sexualmente\", \"tendran\", \"medidas_anunciadas\", \"gas\", \"devolver\", \"masivamente\", \"pelear\", \"dificultar\", \"parcial\", \"aguar\", \"avalar\", \"pequenas\", \"electricidad\", \"castigo\", \"adrenalina\", \"adrenocromo\", \"intrafamiliar\", \"morador\", \"pelo\", \"prender\", \"carrasco\", \"satanicos\", \"oxidar\", \"cuerpecitos\", \"anfetamina\", \"animal_mx\", \"aok\", \"celebridad\", \"cocaina\", \"cuerpecitas\", \"danarles\", \"distante\", \"emocionante\", \"espantar\", \"esquizofrenia\", \"estigma\", \"fisiologico\", \"matarte\", \"metabolito\", \"obtenerlo\", \"oxidaci\\u00f3n\", \"pastillitas\", \"pop\", \"torturar\", \"tradicional\", \"nucleo\", \"patrullar\", \"biologica\", \"violar\", \"inyecci\\u00f3n\", \"preso\", \"bancada\", \"enmienda\", \"plenario\", \"semilla\", \"enmendar\", \"debatirlas\", \"desmarcar\", \"hemiciclo\", \"moro\", \"roman\", \"votaci\\u00f3n\", \"lucrecia\", \"adicionar\", \"ausente\", \"acompanhada\", \"afirmaram\", \"assembleias\", \"assessorias\", \"atar\", \"atendimento\", \"atualmente\", \"boato\", \"concesion\", \"desatualizada\", \"dobro\", \"duas\", \"eleicao\", \"equivaldria\", \"estavam\", \"feitos\", \"ausentar\", \"resolutivo\", \"postergar\", \"fisicamente\", \"guatemalteco\", \"legislador\", \"calamidad\", \"dotar\", \"voto\", \"ordinario\", \"basica\", \"canasta\", \"blocar\", \"privilegiar\", \"velar\", \"haberse\", \"presente\", \"votar\", \"nigeriano\", \"cobrarla\", \"locutorio\", \"chingar\", \"comico\", \"dron\", \"epicas\", \"insolitos\", \"puticlub\", \"surrealista\", \"volveran\", \"ardid\", \"convencerla\", \"defraudar\", \"destinarla\", \"duena\", \"herencia\", \"senuelos\", \"ciberneticos\", \"burger\", \"prostituir\", \"sensibilizar\", \"republicado\", \"honesto\", \"cibercriminales\", \"king\", \"chidas\", \"despistar\", \"pospago\", \"reportarlo\", \"heredero\", \"timar\", \"prostibulo\", \"club\", \"sortear\", \"destinatario\", \"diccionario\", \"darte\", \"cuervo\", \"veneciano\", \"fit\", \"muebleria\", \"ansa\", \"avistamiento\", \"cagliari\", \"delfin\", \"desierto\", \"desperto\", \"especimenes\", \"muelle\", \"peninsular\", \"anticristo\", \"automotor\", \"parvada\", \"estacionamiento\", \"acompanhada\", \"afirmaram\", \"assembleias\", \"assessorias\", \"atar\", \"atendimento\", \"atualmente\", \"boato\", \"concesion\", \"desatualizada\", \"dobro\", \"duas\", \"eleicao\", \"hondo\", \"carro\", \"animalito\", \"repercusi\\u00f3n\", \"obvio\", \"carrito\", \"ampliacion\", \"sucursal\", \"automoviles\", \"delf\\u00edn\", \"entrenar\", \"especulaci\\u00f3n\", \"velar\", \"ausencia\", \"entrenamiento\", \"obstetricia\", \"ginecologia\", \"duo\", \"mos\", \"reencontrar\", \"resistire\", \"musical\", \"bola\", \"sonoro\", \"acompanhada\", \"afirmaram\", \"assembleias\", \"assessorias\", \"atar\", \"atendimento\", \"atualmente\", \"boato\", \"concesion\", \"desatualizada\", \"dobro\", \"duas\", \"eleicao\", \"equivaldria\", \"estavam\", \"feitos\", \"fez\", \"fornecidas\", \"haja\", \"hipotese\", \"levantamento\", \"anexo\", \"logos\", \"expresi\\u00f3n\", \"dinamico\", \"popularizar\", \"playa\", \"bonito\", \"alegrar\", \"pasillo\", \"cantar\", \"mamar\", \"sucedio\", \"perspectivo\", \"micrositio\", \"falsa_relacionada\", \"sabueso\", \"versar\", \"verificaci\\u00f3n\", \"desacreditar\", \"principio\", \"enfermero\", \"verificador\", \"acompanhada\", \"afirmaram\", \"assembleias\", \"assessorias\", \"atar\", \"atendimento\", \"atualmente\", \"boato\", \"concesion\", \"desatualizada\", \"dobro\", \"duas\", \"eleicao\", \"equivaldria\", \"estavam\", \"feitos\", \"fez\", \"fornecidas\", \"haja\", \"hipotese\", \"levantamento\", \"luvas\", \"membros\", \"mesmo\", \"mostre\", \"obrigados\", \"recebido\", \"segue\", \"tambem\", \"teve\", \"abril\", \"ademar\", \"ahora\", \"alentar\", \"analizar\", \"anciano\", \"ano\", \"aparecer\", \"aqui\", \"aver\", \"bien\", \"buscar\", \"calificar\", \"capitulos\", \"centuria\", \"cercar\", \"chequeado\", \"chequeo\", \"cigarrillo\", \"circular\", \"claro\", \"colina\", \"compartir\", \"confirmar\", \"conjuntar\", \"conocer\", \"consultar\", \"coronavirus\", \"coser\", \"creer\", \"acompanhada\", \"afirmaram\", \"assembleias\", \"assessorias\", \"atar\", \"atendimento\", \"atualmente\", \"boato\", \"concesion\", \"desatualizada\", \"dobro\", \"duas\", \"eleicao\", \"equivaldria\", \"estavam\", \"feitos\", \"fez\", \"fornecidas\", \"haja\", \"hipotese\", \"levantamento\", \"luvas\", \"membros\", \"mesmo\", \"mostre\", \"obrigados\", \"recebido\", \"segue\", \"tambem\", \"teve\", \"abril\", \"ademar\", \"ahora\", \"alentar\", \"analizar\", \"anciano\", \"ano\", \"aparecer\", \"aqui\", \"aver\", \"bien\", \"buscar\", \"calificar\", \"capitulos\", \"centuria\", \"cercar\", \"chequeado\", \"chequeo\", \"cigarrillo\", \"circular\", \"claro\", \"colina\", \"compartir\", \"confirmar\", \"conjuntar\", \"conocer\", \"consultar\", \"coronavirus\", \"coser\", \"creer\"], \"Freq\": [1458.0, 2289.0, 1980.0, 1077.0, 497.0, 1362.0, 264.0, 691.0, 727.0, 1953.0, 1240.0, 1342.0, 343.0, 465.0, 306.0, 929.0, 346.0, 398.0, 278.0, 271.0, 622.0, 267.0, 431.0, 496.0, 403.0, 470.0, 543.0, 247.0, 247.0, 247.0, 196.9056752388049, 132.82717881618413, 115.27769470467159, 86.50807539385134, 88.50379522771715, 100.47935704959457, 71.95024705421542, 119.28564952066613, 82.34852856572611, 86.2929880938984, 95.2857771107652, 79.07398814140382, 54.82411797342735, 118.10018373355982, 50.94624882960414, 315.99987491484666, 47.640645905003424, 45.4629766193273, 78.66049599227584, 62.497101267064544, 76.64361637366024, 46.639834293699366, 84.33535746593952, 44.92641355347687, 41.27649010289958, 44.60690956722003, 47.217079754438664, 46.1342022761513, 34.667240099765955, 34.41840150911554, 205.26240399413592, 89.7157107457607, 65.3588705364305, 251.96874103753368, 73.2545454276651, 227.64212681590706, 469.9853008910461, 296.82117501225054, 194.63657512870066, 326.56249529677103, 184.41195362772314, 182.70038516534487, 182.607540236326, 908.516772954395, 157.34693184115758, 539.1369752092268, 568.2588300483387, 1519.325317028625, 287.7532193654461, 243.60312134855025, 315.0648928597879, 672.9360302684125, 387.6233881241228, 156.49641365579663, 205.8221344749157, 288.3395429793189, 496.99034870939005, 716.6748349692343, 386.19436970916036, 265.378722755571, 682.057809524317, 1236.7055442980582, 743.8225201317651, 1047.3692562455885, 1076.1913687121755, 1034.5512704933599, 560.3521450582622, 671.9224000977476, 450.7308846502489, 585.1233059625088, 579.6534378703951, 690.0022889492026, 516.356905435932, 510.71756786294577, 1056.8111091129792, 1182.133057273924, 524.8992762485823, 533.6842197743581, 516.3333874823999, 399.1420547444186, 654.2449932965786, 421.2364710106703, 517.6003933285853, 441.7807099739795, 295.7999554225682, 398.9368104345554, 91.7655846941326, 80.44535870488208, 79.3437823986729, 153.7071786007794, 80.71333444150923, 190.72238161904727, 87.68395326698067, 309.3342780848332, 105.76061317164528, 82.30573020096651, 112.17255377733713, 68.78747420237359, 405.72363752974763, 51.653820530529984, 65.5515195495994, 107.2226725772599, 63.87600903109384, 699.2661533266722, 59.44673944922079, 72.12082819903543, 52.66464359861581, 51.30253435561017, 49.26645338089364, 317.46832882336963, 54.06818792161787, 44.71324545761456, 289.4596683630398, 42.3251445108118, 2176.31168182594, 194.0900913001858, 106.44344987198079, 209.22266612215046, 91.67198711842136, 221.75490139688208, 217.35157329197762, 205.45322695231, 96.13523500337124, 308.10619514713557, 372.03955217392013, 337.94602197632685, 774.0850069471504, 994.7163181228312, 519.4577815626418, 494.79940135361227, 147.85628533143293, 198.41428112782947, 297.95857702980237, 742.1093970739613, 349.9737821819708, 370.76308055450636, 217.70077688065373, 303.6771911299513, 1636.4722297109734, 716.7207978332798, 1188.6098496220422, 769.2990280798706, 414.65396302200156, 458.52424326048185, 937.5210081510338, 817.3179319325236, 632.4991092537374, 745.517067252219, 685.5064920374205, 703.975425930157, 385.71557456329043, 385.08898166862383, 412.2733852432906, 409.64999747648795, 409.36117491179044, 402.23568295294064, 433.64930203628467, 389.03342796838, 245.18780624668685, 245.18780624668685, 245.18780624668685, 245.18780624668685, 241.89596810496067, 206.61522756298157, 204.70954814398686, 204.70954814398686, 204.17772851616442, 204.17772851616442, 204.17772851616442, 204.17772851616442, 157.58895731501352, 159.6519393409034, 486.2421890304412, 77.03405762544834, 77.26811939247429, 46.41547634449157, 40.96754999010866, 38.594129104462546, 38.70143091452686, 40.43825473618244, 38.17064377837007, 38.17064377837007, 38.17064377837007, 38.17064377837007, 38.17064377837007, 38.17064377837007, 38.17064377837007, 38.17064377837007, 112.58387368265714, 249.51966823996935, 1315.7011275931025, 249.18788818684186, 245.79447469763755, 77.12750039540134, 239.51861738319502, 80.038508307249, 207.11478978598964, 256.840989318004, 74.09081050247202, 230.94002165220053, 259.3250096192545, 234.75312708402083, 566.2176653134491, 195.15875462186924, 226.26253421094353, 317.9721736604907, 622.2239067076258, 455.453451303615, 240.8426992501867, 207.7360495729026, 218.67423898838197, 293.9177559350318, 242.1284106339559, 215.85552764428576, 216.20611996846688, 209.52237841345269, 3.510914778170756, 15.345439294969356, 7.598543091827683, 1.8106222887288088, 1.21463667017931, 1.063630091242947, 1.3495886195000455, 0.8796777094023568, 0.9383991471771346, 0.8396732262735559, 1.3495771626353794, 0.9783001334192458, 0.6670204901074681, 0.5885633513550805, 0.6408093981034324, 1.3581106012881483, 1.8525881100675063, 5.539476478462566, 1.2732343930709287, 0.7169573046923857, 0.7169573046923857, 0.7169573046923857, 0.7169573046923857, 0.7169573046923857, 0.7169573046923857, 1.1994897323289933, 0.9722149978627697, 1.4000582264300234, 0.7579287375713878, 0.9533854000936051, 3.712822473847462, 2.575013323767004, 9.07482807503289, 2.716335386118263, 11.25883844063778, 2.1116176148935515, 2.9232419332839865, 1.225538021323362, 1.1859224939361663, 1.8834552141061398, 1.1995280502461116, 1.1083918689410408, 1.0109226409323073, 1.0290615534316014, 1.7276506902811548, 1.457086580600546, 0.7703652660312025, 0.7370335098388747, 0.686385102770917, 0.4084898024975814, 0.40257280197492246, 0.3750684299994894, 0.3750684299994894, 0.3750684299994894, 0.3750684299994894, 0.3750684299994894, 0.3750684299994894, 0.36482191165008315, 0.42566001981307217, 0.34956647885040343, 0.29549074308577367, 0.29824399101567356, 0.29824399101567356, 0.35044206717502135, 0.3530175459681268, 0.3344875238862823, 0.34161873496095907, 0.22441315416511354, 0.24185887059926117, 0.3054299317410608, 0.31199363744429304, 0.16828554073680588, 0.23094597624712299, 0.16514494547954206, 0.6187724409345777, 0.3220713827221809, 0.5784989506022389, 0.33391168962186685, 0.339568234685266, 0.44758622871011877, 0.6333997417697924, 0.37811607308946327, 0.5102837676092777, 0.3634362162939518, 0.36529543181324914, 0.34172724730814036, 0.0499381890867256, 0.04654075442423673, 0.04654075442423673, 0.04395410247666449, 0.029066657218342833, 0.029066657218342833, 0.029066657218342833, 0.020751604452150782, 0.020751604452150782, 0.02930388176405387, 0.020641367482464475, 0.014720018611807998, 0.014720018611807998, 0.014720018611807998, 0.014720018611807998, 0.014720018611807998, 0.014720018611807998, 0.014720018611807998, 0.014720018611807998, 0.014720018611807998, 0.014720018611807998, 0.014720018611807998, 0.014720018611807998, 0.014720018611807998, 0.014720018611807998, 0.014720018611807998, 0.014720018611807998, 0.014720018611807998, 0.014720018611807998, 0.014720018611807998, 0.020665314845613004, 0.048629716727386356, 0.04804233049267895, 0.021109431457493562, 0.018272551245824855, 0.023241039031796255, 0.015846651750964436, 0.015355652183717748, 0.022296008590425853, 0.01622607845260718, 0.008019568766605853, 0.010659258456825797, 0.009733849174803928, 0.006368916692589049, 0.006368916692589049, 0.006368916692589049, 0.006368916692589049, 0.006368916692589049, 0.006368916692589049, 0.0063222953360420504, 0.006321114307225514, 0.006351786894464903, 0.004694391894215945, 0.004694391894215945, 0.004694391894215945, 0.004694391894215945, 0.004694391894215945, 0.004694391894215945, 0.004694391894215945, 0.004694391894215945, 0.004694391894215945, 0.004694391894215945, 0.004694391894215945, 0.004694391894215945, 0.004694391894215945, 0.004694391894215945, 0.004694391894215945, 0.004694391894215945, 0.006204874880818888, 0.0054315673881757546, 0.006421197145548618, 0.00615757882495831, 0.00698997598732247, 0.006311098336945328, 0.005847748278327008, 0.005764936359684295, 0.0063945817013787085, 0.00603160567138399, 0.005938353604411625, 0.005524285064010058, 0.0055841445985897985, 0.0052838013247657155, 0.005361540594500487, 0.00562279563738663, 0.005922194576185921, 0.005688922270472853, 0.0345979110328732, 0.01261401412166928, 0.01261401412166928, 0.00814763693812288, 0.00814763693812288, 0.00814763693812288, 0.00814763693812288, 0.00814763693812288, 0.00814763693812288, 0.00814763693812288, 0.00814763693812288, 0.007999358598410755, 0.007999358598410755, 0.007999358598410755, 0.007999358598410755, 0.007999358598410755, 0.007999358598410755, 0.007999358598410755, 0.006817704549093781, 0.006894051803565907, 0.01204529358798979, 0.00777170428542317, 0.00814763693812288, 0.007262566528167396, 0.006776818160367672, 0.0057929981032108484, 0.005390998478995348, 0.005390998478995348, 0.005390998478995348, 0.005390998478995348, 0.014742394642295308, 0.014191838530722478, 0.007669299922826925, 0.008815168272032088, 0.007706062756273898, 0.00760000630852053, 0.007291013207314378, 0.007142664508741647, 0.005981754691032835, 0.005246853585004841, 0.0048357961229871195, 0.0048357961229871195, 0.003947070708319996, 0.003947070708319996, 0.003947070708319996, 0.003947070708319996, 0.003947070708319996, 0.003947070708319996, 0.003947070708319996, 0.003947070708319996, 0.003947070708319996, 0.0037684840297608564, 0.0037684840297608564, 0.0037684840297608564, 0.0037240370197157663, 0.00278407195019907, 0.00278407195019907, 0.00278407195019907, 0.00278407195019907, 0.00278407195019907, 0.00278407195019907, 0.00278407195019907, 0.00278407195019907, 0.00278407195019907, 0.00278407195019907, 0.00278407195019907, 0.00278407195019907, 0.00278407195019907, 0.003736511495666592, 0.003185033977062879, 0.003246259865984086, 0.003529427191624751, 0.0033540770113673, 0.003530537523158907, 0.003419919478493158, 0.0032658521793663114, 0.0033091922327451303, 0.003480363121251027, 0.0031786699404797876, 0.00313895594158138, 0.0032127192236332688, 0.003278895802679739, 0.0031993140073321657, 0.004892437082502516, 0.003985519871441858, 0.0029987387553353454, 0.0029987387553353454, 0.0029987387553353454, 0.0029987387553353454, 0.002936354699367032, 0.00295853406847915, 0.002931132748418047, 0.0020960653884561416, 0.0020960653884561416, 0.0020960653884561416, 0.0020960653884561416, 0.0020960653884561416, 0.0020960653884561416, 0.0020960653884561416, 0.0020960653884561416, 0.0020960653884561416, 0.0020960653884561416, 0.0020960653884561416, 0.0020960653884561416, 0.0020960653884561416, 0.0020960653884561416, 0.0020960653884561416, 0.0020960653884561416, 0.0020960653884561416, 0.0020960653884561416, 0.0020960653884561416, 0.0020960653884561416, 0.0020960653884561416, 0.002463243984273037, 0.0027051391118241962, 0.0023648323305686964, 0.0025966207781211513, 0.0029370926330336343, 0.002559012282670169, 0.002312577085353101, 0.002269487600291406, 0.0024144453088748214, 0.0023937222159366176, 0.0022743451193976668, 0.0023321080199685644, 0.002251851747538035, 0.002306100574611043, 0.002285779100438291, 0.0022677994953992234, 0.002215236777822544, 0.002217326864279424, 0.0022006760114792606, 0.0021850036282458746, 0.0021607673688078966, 0.002175138572545084, 0.0010492311716183663, 0.0010492311716183663, 0.0010492311716183663, 0.0010492311716183663, 0.0010492311716183663, 0.0010492311716183663, 0.0010492311716183663, 0.0010492311716183663, 0.0010492311716183663, 0.0010492311716183663, 0.0010492311716183663, 0.0010492311716183663, 0.0010492311716183663, 0.0010492311716183663, 0.0010492311716183663, 0.0010492311716183663, 0.0010492311716183663, 0.0010492311716183663, 0.0010492311716183663, 0.0010492311716183663, 0.0010492311716183663, 0.0010492311716183663, 0.0010492311716183663, 0.0010492311716183663, 0.0010492311716183663, 0.0010492311716183663, 0.0010492311716183663, 0.0010492311716183663, 0.0010492311716183663, 0.0010492311716183663, 0.0010492311716183663, 0.0010492311716183663, 0.0010492311716183663, 0.0010492311716183663, 0.0010492311716183663, 0.0010492311716183663, 0.0010492311716183663, 0.0010492311716183663, 0.0010492311716183663, 0.0010492311716183663, 0.0010492311716183663, 0.0010492311716183663, 0.0010492311716183663, 0.0010492311716183663, 0.0010492311716183663, 0.0010492311716183663, 0.0010492311716183663, 0.0010492311716183663, 0.0010492311716183663, 0.0010492311716183663, 0.0010492311716183663, 0.0010492311716183663, 0.0010492311716183663, 0.0010492311716183663, 0.0010492311716183663, 0.0010492311716183663, 0.0010492311716183663, 0.0010492311716183663, 0.0010492311716183663, 0.0010492311716183663, 0.0010492311716183663, 0.0010492311716183663, 0.0010492311716183663, 0.0010492311716183663, 0.0010492311716183663, 0.0010492311716183663, 0.0010492311716183663, 0.0010492311716183663, 0.0010492311716183663, 0.0010492311716183663, 0.0010492311716183663, 0.0010492311716183663, 0.0010492311716183663, 0.0010492311716183663, 0.0010492311716183663, 0.0010492311716183663, 0.0010492311716183663, 0.0010492311716183663, 0.0010492311716183663, 0.0010492311716183663, 0.0010492311716183663, 0.0010492311716183663, 0.0010492311716183663, 0.0010492311716183663, 0.0010492311716183663, 0.0010492311716183663, 0.0010492311716183663, 0.0010492311716183663, 0.0010492311716183663, 0.0010492311716183663, 0.0010492311716183663, 0.0010492311716183663, 0.0010492311716183663, 0.0010492311716183663, 0.0010492311716183663, 0.0010492311716183663, 0.0010492311716183663, 0.0010492311716183663, 0.0010492311716183663, 0.0010492311716183663, 0.0010492311716183663, 0.0010492311716183663, 0.0010492311716183663, 0.0010492311716183663, 0.0010492311716183663, 0.0010492311716183663, 0.0010492311716183663, 0.0010492311716183663, 0.0010492311716183663, 0.0010492311716183663, 0.0010492311716183663, 0.0010492311716183663, 0.0010492311716183663, 0.0010492311716183663, 0.0010492311716183663, 0.0010492311716183663, 0.0010492311716183663, 0.0010492311716183663, 0.0010492311716183663, 0.0010492311716183663], \"Total\": [1458.0, 2289.0, 1980.0, 1077.0, 497.0, 1362.0, 264.0, 691.0, 727.0, 1953.0, 1240.0, 1342.0, 343.0, 465.0, 306.0, 929.0, 346.0, 398.0, 278.0, 271.0, 622.0, 267.0, 431.0, 496.0, 403.0, 470.0, 543.0, 247.0, 247.0, 247.0, 199.0721275071617, 134.98654688073347, 117.43826635618792, 88.48598196693123, 90.59144047524407, 102.94953570442631, 73.88023929950162, 122.49498290623521, 84.62148016841955, 88.71713077937646, 97.98328924377928, 81.52300555289443, 56.73176689675254, 122.28474037736042, 52.83548401202131, 327.8826844085855, 49.46412612875567, 47.21999043289108, 81.72792217084623, 64.98084867370058, 79.74581681986278, 48.53082781003225, 87.87982405346627, 46.826416231146545, 43.02787652390074, 46.53177061275266, 49.39209761907009, 48.28211178715557, 36.319245628732354, 36.09659157399422, 216.17731816594298, 94.33618710543635, 68.6333162222904, 268.26253784787986, 77.0156077360683, 245.4194660482917, 514.4047837458579, 322.64636615265533, 209.18992531829863, 356.8310284945366, 198.58643714138324, 197.25191309145129, 197.71923189229042, 1067.361731651032, 170.43611621261334, 626.4700997878026, 676.6845283628579, 1953.8957767604284, 331.86277151653735, 277.5338463835823, 368.9530940460574, 856.8276830938493, 473.7134331177033, 172.02560020510288, 235.2225419223552, 347.7207125110899, 652.0235417324205, 1022.5373761488152, 497.86221404389204, 322.02985848713564, 1030.645315085393, 2181.208336632135, 1170.473606675789, 1812.1253893213025, 1887.7325086132603, 1856.1077377830106, 840.9030939194951, 1084.005002561047, 641.8331713604022, 918.8673451086357, 918.516115544115, 1179.8077608386334, 797.972955418398, 791.9441834492554, 2333.541126074788, 3060.94435420263, 896.1149658042193, 948.9458808151696, 959.8866893631631, 565.9258635243006, 1980.665490799249, 653.6034570431473, 1362.3178407223506, 803.737320163164, 298.39842471222664, 403.95444613008164, 93.9006930733321, 82.3217003298707, 81.45876582627817, 158.0977684090624, 83.06450847823295, 196.28664363682032, 90.34809087715006, 319.3670078045766, 109.31137444044087, 85.24397485928232, 116.17845456514326, 71.2679208873592, 420.6227828749464, 53.62431079188785, 68.10982942252028, 111.41407610308055, 66.41280688381866, 727.13858601114, 61.870451758435465, 75.08935776713895, 54.865354748879994, 53.477622298509765, 51.39725710770823, 331.34460322852124, 56.49461795735724, 46.73570151189515, 302.6809501962848, 44.291863139439435, 2289.2671212066, 203.6117575831113, 111.49135753595903, 221.8091221212205, 96.39654277407118, 237.89244555640235, 233.57478372738353, 220.953988213453, 101.49473458026011, 342.1945828142328, 419.4405912203984, 384.75541554830465, 929.3251093704788, 1240.561446915907, 622.9278503557757, 601.7472258606306, 163.47516825437629, 230.03169735231504, 369.64543009176344, 1072.8132758446561, 449.08159530532134, 484.05889295666947, 259.763899420463, 389.5096033736358, 3060.94435420263, 1202.5671351615, 2333.541126074788, 1361.4051719732288, 610.2797304013363, 720.1639815037549, 2181.208336632135, 1856.1077377830106, 1342.167714149014, 1887.7325086132603, 1812.1253893213025, 1980.665490799249, 667.0329743448224, 714.8655861217093, 948.9458808151696, 959.8866893631631, 1170.473606675789, 1084.005002561047, 1953.8957767604284, 1362.3178407223506, 247.55091540703654, 247.55091540703654, 247.55091540703654, 247.55091540703654, 244.25121605469636, 209.01261831692042, 207.10252947152443, 207.10252947152443, 206.56920691129514, 206.56920691129514, 206.56920691129514, 206.56920691129514, 159.94864049083378, 162.41183926442386, 497.15318339786467, 79.32272790671982, 81.0682349703228, 48.810820520004725, 43.23798565187614, 40.791106539617765, 40.90806552419218, 42.749013143992954, 40.371924110270434, 40.371924110270434, 40.371924110270434, 40.371924110270434, 40.371924110270434, 40.371924110270434, 40.371924110270434, 40.371924110270434, 119.57285771187766, 267.4222073024969, 1458.9055847042246, 271.4060318676345, 278.4543134138145, 83.92711989635067, 274.0162307585522, 87.4170429414034, 243.3941284505941, 306.1434646395259, 81.7847191732368, 286.9170009711096, 343.3849336222877, 346.47336644403333, 1077.6097613656045, 303.55997019998296, 398.23220684483744, 691.1141199368232, 1980.665490799249, 1362.3178407223506, 465.99322396962754, 364.6317762913829, 431.42355744372594, 1342.167714149014, 3060.94435420263, 470.2328683862718, 1179.8077608386334, 543.6728928507938, 6.435506517017229, 36.130215716784555, 21.417660881718824, 5.148686793701666, 4.286954180745746, 4.007983551309666, 6.439602099616993, 4.239383320904037, 4.664944627339985, 4.175561899922615, 6.745420138758245, 5.159699354548449, 3.5982071109181426, 3.2470978301150346, 3.669367358976829, 7.799822070531578, 10.72384571554376, 33.26870591792775, 7.674243222019722, 4.475983413460693, 4.475983413460693, 4.475983413460693, 4.475983413460693, 4.475983413460693, 4.475983413460693, 7.580196814352666, 6.342331841941808, 9.265979359090814, 5.120641443092775, 6.5909076333927565, 26.92091642658854, 19.084936051689287, 97.63922380904673, 22.953647780145168, 264.6718919639851, 27.085767477696674, 108.92126168264792, 19.7263713551016, 19.750933888801292, 111.41407610308055, 30.061838635306465, 22.962892314612397, 32.18700887309056, 85.007574505423, 4.946091640174441, 5.087004781207344, 3.613436600451236, 3.5714862696950846, 4.018938561827543, 3.233521007848329, 3.2126516016438957, 3.1917829243227627, 3.1917829243227627, 3.1917829243227627, 3.1917829243227627, 3.1917829243227627, 3.1917829243227627, 3.5805990272679398, 4.828344344754229, 3.9993303610402005, 3.4908295816893395, 3.611247329623849, 3.611247329623849, 4.339878517254452, 4.403046563362876, 4.633851470106384, 4.9243570730646375, 3.6057186158748107, 4.394584381722198, 5.711805008036702, 5.86205691180646, 3.2139958958825217, 4.463983394808731, 3.2624593196354454, 16.302218281365047, 7.893741095486507, 21.417660881718824, 8.901406207485834, 9.292613811704967, 22.957818971403867, 78.24760075561232, 17.126078797827315, 230.03169735231504, 23.35124816301526, 27.044451706086214, 54.574005651658865, 3.0622018456116114, 2.9517426298456395, 2.9517426298456395, 4.258193964091342, 2.905837185284658, 2.905837185284658, 2.905837185284658, 2.8221947089212938, 2.8221947089212938, 3.9892162941669094, 2.9803220065174805, 2.753277780637025, 2.753277780637025, 2.753277780637025, 2.753277780637025, 2.753277780637025, 2.753277780637025, 2.753277780637025, 2.753277780637025, 2.753277780637025, 2.753277780637025, 2.753277780637025, 2.753277780637025, 2.753277780637025, 2.753277780637025, 2.753277780637025, 2.753277780637025, 2.753277780637025, 2.753277780637025, 2.753277780637025, 3.8741453420791747, 12.184899997801269, 13.203872645954158, 7.238136288699071, 4.957350230838558, 22.132541777085187, 4.775289129488415, 22.527012253625127, 3.2545743952738717, 2.9642708692530566, 3.225044737811591, 4.299782296899874, 4.166721879632778, 2.75158064287657, 2.75158064287657, 2.75158064287657, 2.75158064287657, 2.75158064287657, 2.75158064287657, 2.9331228503551263, 2.9836023041422104, 3.0367100395154245, 2.7030809295764233, 2.7030809295764233, 2.7030809295764233, 2.7030809295764233, 2.7030809295764233, 2.7030809295764233, 2.7030809295764233, 2.7030809295764233, 2.7030809295764233, 2.7030809295764233, 2.7030809295764233, 2.7030809295764233, 2.7030809295764233, 2.7030809295764233, 2.7030809295764233, 2.7030809295764233, 3.642202343691411, 3.2111868195993725, 3.977628576702266, 4.063558688555795, 5.851432300250863, 5.262339161432031, 5.099180561817497, 5.539984382141293, 10.342733005255562, 8.371255603646363, 8.05968205042301, 6.370729057920354, 7.436161767301473, 5.9880023055047005, 6.840017364767115, 14.33172804161314, 31.2452569982715, 29.579491140239206, 6.148471949765653, 4.204276512539093, 4.204276512539093, 3.4340973956604386, 3.4340973956604386, 3.4340973956604386, 3.4340973956604386, 3.4340973956604386, 3.4340973956604386, 3.4340973956604386, 3.4340973956604386, 3.475899102618734, 3.475899102618734, 3.475899102618734, 3.475899102618734, 3.475899102618734, 3.475899102618734, 3.475899102618734, 3.1766505761419213, 3.220127042859967, 5.6329086961694905, 3.7144444013299713, 4.117286169933207, 3.799342135071865, 3.5513031130301194, 3.0427470951300473, 2.9694993015779385, 2.9694993015779385, 2.9694993015779385, 2.9694993015779385, 8.233393108714301, 11.224458423478756, 4.831373065085712, 6.09645955854261, 9.513808263806306, 9.288207417510899, 9.78061279860251, 8.139527733617783, 3.2773599017347315, 2.899078138192672, 3.0954968536317735, 3.0954968536317735, 2.794225142966408, 2.794225142966408, 2.794225142966408, 2.794225142966408, 2.794225142966408, 2.794225142966408, 2.794225142966408, 2.794225142966408, 2.794225142966408, 2.885173680288017, 2.885173680288017, 2.885173680288017, 3.1280213038649674, 2.7030809295764233, 2.7030809295764233, 2.7030809295764233, 2.7030809295764233, 2.7030809295764233, 2.7030809295764233, 2.7030809295764233, 2.7030809295764233, 2.7030809295764233, 2.7030809295764233, 2.7030809295764233, 2.7030809295764233, 2.7030809295764233, 4.075422874316115, 3.543803075337507, 4.118535460952297, 5.226787890465242, 4.983295967304113, 6.18949648871093, 5.970786822729396, 5.270353841085645, 5.744972487762222, 8.715927432491853, 5.685524851887577, 5.8323345929565615, 6.840017364767115, 20.415229143531228, 10.836246689468382, 3.5206235072901624, 2.922006315374878, 2.8043265279951846, 2.8043265279951846, 2.8043265279951846, 2.8043265279951846, 3.215588205391365, 3.2410094542216275, 3.255445124718792, 2.7030809295764233, 2.7030809295764233, 2.7030809295764233, 2.7030809295764233, 2.7030809295764233, 2.7030809295764233, 2.7030809295764233, 2.7030809295764233, 2.7030809295764233, 2.7030809295764233, 2.7030809295764233, 2.7030809295764233, 2.7030809295764233, 2.7030809295764233, 2.7030809295764233, 2.7030809295764233, 2.7030809295764233, 2.7030809295764233, 2.7030809295764233, 2.7030809295764233, 2.7030809295764233, 3.380877677765051, 5.904066121534227, 3.983279603878331, 5.502982000572467, 8.393582746238353, 6.085935926681169, 4.266638257281182, 4.499697448923662, 10.881641682302675, 23.14424016433406, 11.093773082564422, 34.14349516680644, 14.456320019549661, 37.11839017136832, 39.58468746251831, 44.275842634933184, 24.90844752045439, 100.15889934969977, 48.57264459633179, 25.313676357980516, 17.59651646820919, 92.30878157077213, 2.7030809295764233, 2.7030809295764233, 2.7030809295764233, 2.7030809295764233, 2.7030809295764233, 2.7030809295764233, 2.7030809295764233, 2.7030809295764233, 2.7030809295764233, 2.7030809295764233, 2.7030809295764233, 2.7030809295764233, 2.7030809295764233, 2.7030809295764233, 2.7030809295764233, 2.7030809295764233, 2.7030809295764233, 2.7030809295764233, 2.7030809295764233, 2.7030809295764233, 2.7030809295764233, 2.7030809295764233, 2.7030809295764233, 2.7030809295764233, 2.7030809295764233, 2.7030809295764233, 2.7030809295764233, 2.7030809295764233, 2.7030809295764233, 2.7030809295764233, 626.4700997878026, 530.8695238853577, 633.7919751491627, 49.99010569600996, 124.60457368279145, 112.19159179948983, 623.0806501221599, 506.6784150650935, 261.63020603101603, 2.8346382064879454, 250.31277438403606, 299.99162540755697, 79.76684953227246, 3.9400853744250255, 4.3673363428976755, 79.25341175500327, 101.64962589235137, 141.5081540308686, 32.45314202637323, 856.8276830938493, 137.09251503491046, 3.7056376716797064, 840.9030939194951, 797.972955418398, 49.599157286015306, 271.8106303213603, 285.0247431084657, 3060.94435420263, 115.7050200655527, 241.48576088480723, 2.7030809295764233, 2.7030809295764233, 2.7030809295764233, 2.7030809295764233, 2.7030809295764233, 2.7030809295764233, 2.7030809295764233, 2.7030809295764233, 2.7030809295764233, 2.7030809295764233, 2.7030809295764233, 2.7030809295764233, 2.7030809295764233, 2.7030809295764233, 2.7030809295764233, 2.7030809295764233, 2.7030809295764233, 2.7030809295764233, 2.7030809295764233, 2.7030809295764233, 2.7030809295764233, 2.7030809295764233, 2.7030809295764233, 2.7030809295764233, 2.7030809295764233, 2.7030809295764233, 2.7030809295764233, 2.7030809295764233, 2.7030809295764233, 2.7030809295764233, 626.4700997878026, 530.8695238853577, 633.7919751491627, 49.99010569600996, 124.60457368279145, 112.19159179948983, 623.0806501221599, 506.6784150650935, 261.63020603101603, 2.8346382064879454, 250.31277438403606, 299.99162540755697, 79.76684953227246, 3.9400853744250255, 4.3673363428976755, 79.25341175500327, 101.64962589235137, 141.5081540308686, 32.45314202637323, 856.8276830938493, 137.09251503491046, 3.7056376716797064, 840.9030939194951, 797.972955418398, 49.599157286015306, 271.8106303213603, 285.0247431084657, 3060.94435420263, 115.7050200655527, 241.48576088480723], \"Category\": [\"Default\", \"Default\", \"Default\", \"Default\", \"Default\", \"Default\", \"Default\", \"Default\", \"Default\", \"Default\", \"Default\", \"Default\", \"Default\", \"Default\", \"Default\", \"Default\", \"Default\", \"Default\", \"Default\", \"Default\", \"Default\", \"Default\", \"Default\", \"Default\", \"Default\", \"Default\", \"Default\", \"Default\", \"Default\", \"Default\", \"Topic1\", \"Topic1\", \"Topic1\", \"Topic1\", \"Topic1\", \"Topic1\", \"Topic1\", \"Topic1\", \"Topic1\", \"Topic1\", \"Topic1\", \"Topic1\", \"Topic1\", \"Topic1\", \"Topic1\", \"Topic1\", \"Topic1\", \"Topic1\", \"Topic1\", \"Topic1\", \"Topic1\", \"Topic1\", \"Topic1\", \"Topic1\", \"Topic1\", \"Topic1\", \"Topic1\", \"Topic1\", \"Topic1\", \"Topic1\", \"Topic1\", \"Topic1\", \"Topic1\", \"Topic1\", \"Topic1\", \"Topic1\", \"Topic1\", \"Topic1\", \"Topic1\", \"Topic1\", \"Topic1\", \"Topic1\", \"Topic1\", \"Topic1\", \"Topic1\", \"Topic1\", \"Topic1\", \"Topic1\", \"Topic1\", \"Topic1\", \"Topic1\", \"Topic1\", \"Topic1\", \"Topic1\", \"Topic1\", \"Topic1\", \"Topic1\", \"Topic1\", \"Topic1\", \"Topic1\", \"Topic1\", \"Topic1\", \"Topic1\", \"Topic1\", \"Topic1\", \"Topic1\", \"Topic1\", \"Topic1\", \"Topic1\", \"Topic1\", \"Topic1\", \"Topic1\", \"Topic1\", \"Topic1\", \"Topic1\", \"Topic1\", \"Topic1\", \"Topic1\", \"Topic1\", \"Topic1\", \"Topic1\", \"Topic1\", \"Topic1\", \"Topic1\", \"Topic2\", \"Topic2\", \"Topic2\", \"Topic2\", \"Topic2\", \"Topic2\", \"Topic2\", \"Topic2\", \"Topic2\", \"Topic2\", \"Topic2\", \"Topic2\", \"Topic2\", \"Topic2\", \"Topic2\", \"Topic2\", \"Topic2\", \"Topic2\", \"Topic2\", \"Topic2\", \"Topic2\", \"Topic2\", \"Topic2\", \"Topic2\", \"Topic2\", \"Topic2\", \"Topic2\", \"Topic2\", \"Topic2\", \"Topic2\", \"Topic2\", \"Topic2\", \"Topic2\", \"Topic2\", \"Topic2\", \"Topic2\", \"Topic2\", \"Topic2\", \"Topic2\", \"Topic2\", \"Topic2\", \"Topic2\", \"Topic2\", \"Topic2\", \"Topic2\", \"Topic2\", \"Topic2\", \"Topic2\", \"Topic2\", \"Topic2\", \"Topic2\", \"Topic2\", \"Topic2\", \"Topic2\", \"Topic2\", \"Topic2\", \"Topic2\", \"Topic2\", \"Topic2\", \"Topic2\", \"Topic2\", \"Topic2\", \"Topic2\", \"Topic2\", \"Topic2\", \"Topic2\", \"Topic2\", \"Topic2\", \"Topic2\", \"Topic2\", \"Topic2\", \"Topic2\", \"Topic2\", \"Topic2\", \"Topic3\", \"Topic3\", \"Topic3\", \"Topic3\", \"Topic3\", \"Topic3\", \"Topic3\", \"Topic3\", \"Topic3\", \"Topic3\", \"Topic3\", \"Topic3\", \"Topic3\", \"Topic3\", \"Topic3\", \"Topic3\", \"Topic3\", \"Topic3\", \"Topic3\", \"Topic3\", \"Topic3\", \"Topic3\", \"Topic3\", \"Topic3\", \"Topic3\", \"Topic3\", \"Topic3\", \"Topic3\", \"Topic3\", \"Topic3\", \"Topic3\", \"Topic3\", \"Topic3\", \"Topic3\", \"Topic3\", \"Topic3\", \"Topic3\", \"Topic3\", \"Topic3\", \"Topic3\", \"Topic3\", \"Topic3\", \"Topic3\", \"Topic3\", \"Topic3\", \"Topic3\", \"Topic3\", \"Topic3\", \"Topic3\", \"Topic3\", \"Topic3\", \"Topic3\", \"Topic3\", \"Topic3\", \"Topic3\", \"Topic3\", \"Topic3\", \"Topic3\", \"Topic4\", \"Topic4\", \"Topic4\", \"Topic4\", \"Topic4\", \"Topic4\", \"Topic4\", \"Topic4\", \"Topic4\", \"Topic4\", \"Topic4\", \"Topic4\", \"Topic4\", \"Topic4\", \"Topic4\", \"Topic4\", \"Topic4\", \"Topic4\", \"Topic4\", \"Topic4\", \"Topic4\", \"Topic4\", \"Topic4\", \"Topic4\", \"Topic4\", \"Topic4\", \"Topic4\", \"Topic4\", \"Topic4\", \"Topic4\", \"Topic4\", \"Topic4\", \"Topic4\", \"Topic4\", \"Topic4\", \"Topic4\", \"Topic4\", \"Topic4\", \"Topic4\", \"Topic4\", \"Topic4\", \"Topic4\", \"Topic4\", \"Topic4\", \"Topic5\", \"Topic5\", \"Topic5\", \"Topic5\", \"Topic5\", \"Topic5\", \"Topic5\", \"Topic5\", \"Topic5\", \"Topic5\", \"Topic5\", \"Topic5\", \"Topic5\", \"Topic5\", \"Topic5\", \"Topic5\", \"Topic5\", \"Topic5\", \"Topic5\", \"Topic5\", \"Topic5\", \"Topic5\", \"Topic5\", \"Topic5\", \"Topic5\", \"Topic5\", \"Topic5\", \"Topic5\", \"Topic5\", \"Topic5\", \"Topic5\", \"Topic5\", \"Topic5\", \"Topic5\", \"Topic5\", \"Topic5\", \"Topic5\", \"Topic5\", \"Topic5\", \"Topic5\", \"Topic5\", \"Topic5\", \"Topic6\", \"Topic6\", \"Topic6\", \"Topic6\", \"Topic6\", \"Topic6\", \"Topic6\", \"Topic6\", \"Topic6\", \"Topic6\", \"Topic6\", \"Topic6\", \"Topic6\", \"Topic6\", \"Topic6\", \"Topic6\", \"Topic6\", \"Topic6\", \"Topic6\", \"Topic6\", \"Topic6\", \"Topic6\", \"Topic6\", \"Topic6\", \"Topic6\", \"Topic6\", \"Topic6\", \"Topic6\", \"Topic6\", \"Topic6\", \"Topic6\", \"Topic6\", \"Topic6\", \"Topic6\", \"Topic6\", \"Topic6\", \"Topic6\", \"Topic6\", \"Topic7\", \"Topic7\", \"Topic7\", \"Topic7\", \"Topic7\", \"Topic7\", \"Topic7\", \"Topic7\", \"Topic7\", \"Topic7\", \"Topic7\", \"Topic7\", \"Topic7\", \"Topic7\", \"Topic7\", \"Topic7\", \"Topic7\", \"Topic7\", \"Topic7\", \"Topic7\", \"Topic7\", \"Topic7\", \"Topic7\", \"Topic7\", \"Topic7\", \"Topic7\", \"Topic7\", \"Topic7\", \"Topic7\", \"Topic7\", \"Topic7\", \"Topic7\", \"Topic7\", \"Topic7\", \"Topic7\", \"Topic7\", \"Topic7\", \"Topic7\", \"Topic7\", \"Topic7\", \"Topic7\", \"Topic7\", \"Topic7\", \"Topic7\", \"Topic7\", \"Topic7\", \"Topic7\", \"Topic7\", \"Topic8\", \"Topic8\", \"Topic8\", \"Topic8\", \"Topic8\", \"Topic8\", \"Topic8\", \"Topic8\", \"Topic8\", \"Topic8\", \"Topic8\", \"Topic8\", \"Topic8\", \"Topic8\", \"Topic8\", \"Topic8\", \"Topic8\", \"Topic8\", \"Topic8\", \"Topic8\", \"Topic8\", \"Topic8\", \"Topic8\", \"Topic8\", \"Topic8\", \"Topic8\", \"Topic8\", \"Topic8\", \"Topic8\", \"Topic8\", \"Topic8\", \"Topic8\", \"Topic8\", \"Topic8\", \"Topic8\", \"Topic8\", \"Topic8\", \"Topic8\", \"Topic9\", \"Topic9\", \"Topic9\", \"Topic9\", \"Topic9\", \"Topic9\", \"Topic9\", \"Topic9\", \"Topic9\", \"Topic9\", \"Topic9\", \"Topic9\", \"Topic9\", \"Topic9\", \"Topic9\", \"Topic9\", \"Topic9\", \"Topic9\", \"Topic9\", \"Topic9\", \"Topic9\", \"Topic9\", \"Topic9\", \"Topic9\", \"Topic9\", \"Topic9\", \"Topic9\", \"Topic9\", \"Topic9\", \"Topic9\", \"Topic9\", \"Topic9\", \"Topic9\", \"Topic9\", \"Topic9\", \"Topic9\", \"Topic9\", \"Topic9\", \"Topic9\", \"Topic9\", \"Topic9\", \"Topic9\", \"Topic9\", \"Topic9\", \"Topic9\", \"Topic10\", \"Topic10\", \"Topic10\", \"Topic10\", \"Topic10\", \"Topic10\", \"Topic10\", \"Topic10\", \"Topic10\", \"Topic10\", \"Topic10\", \"Topic10\", \"Topic10\", \"Topic10\", \"Topic10\", \"Topic10\", \"Topic10\", \"Topic10\", \"Topic10\", \"Topic10\", \"Topic10\", \"Topic10\", \"Topic10\", \"Topic10\", \"Topic10\", \"Topic10\", \"Topic10\", \"Topic10\", \"Topic10\", \"Topic10\", \"Topic10\", \"Topic10\", \"Topic10\", \"Topic10\", \"Topic10\", \"Topic10\", \"Topic10\", \"Topic10\", \"Topic10\", \"Topic10\", \"Topic10\", \"Topic10\", \"Topic10\", \"Topic10\", \"Topic10\", \"Topic10\", \"Topic10\", \"Topic10\", \"Topic10\", \"Topic10\", \"Topic10\", \"Topic10\", \"Topic11\", \"Topic11\", \"Topic11\", \"Topic11\", \"Topic11\", \"Topic11\", \"Topic11\", \"Topic11\", \"Topic11\", \"Topic11\", \"Topic11\", \"Topic11\", \"Topic11\", \"Topic11\", \"Topic11\", \"Topic11\", \"Topic11\", \"Topic11\", \"Topic11\", \"Topic11\", \"Topic11\", \"Topic11\", \"Topic11\", \"Topic11\", \"Topic11\", \"Topic11\", \"Topic11\", \"Topic11\", \"Topic11\", \"Topic11\", \"Topic11\", \"Topic11\", \"Topic11\", \"Topic11\", \"Topic11\", \"Topic11\", \"Topic11\", \"Topic11\", \"Topic11\", \"Topic11\", \"Topic11\", \"Topic11\", \"Topic11\", \"Topic11\", \"Topic11\", \"Topic11\", \"Topic11\", \"Topic11\", \"Topic11\", \"Topic11\", \"Topic11\", \"Topic11\", \"Topic11\", \"Topic11\", \"Topic11\", \"Topic11\", \"Topic11\", \"Topic11\", \"Topic11\", \"Topic11\", \"Topic12\", \"Topic12\", \"Topic12\", \"Topic12\", \"Topic12\", \"Topic12\", \"Topic12\", \"Topic12\", \"Topic12\", \"Topic12\", \"Topic12\", \"Topic12\", \"Topic12\", \"Topic12\", \"Topic12\", \"Topic12\", \"Topic12\", \"Topic12\", \"Topic12\", \"Topic12\", \"Topic12\", \"Topic12\", \"Topic12\", \"Topic12\", \"Topic12\", \"Topic12\", \"Topic12\", \"Topic12\", \"Topic12\", \"Topic12\", \"Topic12\", \"Topic12\", \"Topic12\", \"Topic12\", \"Topic12\", \"Topic12\", \"Topic12\", \"Topic12\", \"Topic12\", \"Topic12\", \"Topic12\", \"Topic12\", \"Topic12\", \"Topic12\", \"Topic12\", \"Topic12\", \"Topic12\", \"Topic12\", \"Topic12\", \"Topic12\", \"Topic12\", \"Topic12\", \"Topic12\", \"Topic12\", \"Topic12\", \"Topic12\", \"Topic12\", \"Topic12\", \"Topic12\", \"Topic12\"], \"logprob\": [30.0, 29.0, 28.0, 27.0, 26.0, 25.0, 24.0, 23.0, 22.0, 21.0, 20.0, 19.0, 18.0, 17.0, 16.0, 15.0, 14.0, 13.0, 12.0, 11.0, 10.0, 9.0, 8.0, 7.0, 6.0, 5.0, 4.0, 3.0, 2.0, 1.0, -6.544, -6.9377, -7.0794, -7.3665, -7.3437, -7.2168, -7.5508, -7.0453, -7.4158, -7.369, -7.2699, -7.4564, -7.8226, -7.0552, -7.896, -6.071, -7.9631, -8.0099, -7.4616, -7.6917, -7.4876, -7.9843, -7.392, -8.0217, -8.1065, -8.0289, -7.972, -7.9952, -8.281, -8.2882, -6.5025, -7.3301, -7.6469, -6.2975, -7.5328, -6.399, -5.6741, -6.1336, -6.5556, -6.0382, -6.6096, -6.6189, -6.6194, -5.015, -6.7683, -5.5368, -5.4842, -4.5008, -6.1647, -6.3312, -6.074, -5.3151, -5.8667, -6.7737, -6.4998, -6.1626, -5.6182, -5.2522, -5.8704, -6.2456, -5.3017, -4.7066, -5.215, -4.8727, -4.8456, -4.8851, -5.4982, -5.3166, -5.7159, -5.455, -5.4643, -5.2901, -5.58, -5.591, -4.8638, -4.7517, -5.5636, -5.547, -5.58, -5.8375, -5.3433, -5.7836, -5.5776, -5.736, -6.0061, -5.707, -7.1765, -7.3082, -7.322, -6.6607, -7.3049, -6.4449, -7.222, -5.9613, -7.0346, -7.2853, -6.9757, -7.4647, -5.6901, -7.7512, -7.5129, -7.0209, -7.5388, -5.1457, -7.6107, -7.4174, -7.7318, -7.758, -7.7985, -5.9354, -7.7055, -7.8955, -6.0277, -7.9504, -4.0104, -6.4274, -7.0282, -6.3524, -7.1775, -6.2942, -6.3142, -6.3705, -7.13, -5.9653, -5.7768, -5.8729, -5.0441, -4.7933, -5.443, -5.4916, -6.6995, -6.4054, -5.9988, -5.0863, -5.8379, -5.7802, -6.3126, -5.9798, -4.2955, -5.1211, -4.6152, -5.0503, -5.6683, -5.5678, -4.8525, -4.9897, -5.2461, -5.0817, -5.1656, -5.139, -5.7407, -5.7423, -5.6741, -5.6805, -5.6812, -5.6987, -5.6235, -5.7321, -5.0711, -5.0711, -5.0711, -5.0711, -5.0846, -5.2423, -5.2515, -5.2515, -5.2541, -5.2541, -5.2541, -5.2541, -5.5131, -5.5001, -4.3864, -6.2289, -6.2258, -6.7355, -6.8603, -6.92, -6.9173, -6.8734, -6.9311, -6.9311, -6.9311, -6.9311, -6.9311, -6.9311, -6.9311, -6.9311, -5.8494, -5.0536, -3.391, -5.0549, -5.0686, -6.2277, -5.0945, -6.1906, -5.2399, -5.0247, -6.2678, -5.131, -5.015, -5.1146, -4.2341, -5.2993, -5.1514, -4.8112, -4.1398, -4.4518, -5.089, -5.2369, -5.1855, -4.8898, -5.0837, -5.1985, -5.1969, -5.2283, -6.1551, -4.6801, -5.383, -6.8173, -7.2165, -7.3493, -7.1112, -7.5392, -7.4745, -7.5857, -7.1112, -7.4329, -7.8159, -7.941, -7.856, -7.1049, -6.7944, -5.6991, -7.1694, -7.7437, -7.7437, -7.7437, -7.7437, -7.7437, -7.7437, -7.2291, -7.4391, -7.0744, -7.6881, -7.4587, -6.0992, -6.4651, -5.2055, -6.4117, -4.9898, -6.6635, -6.3383, -7.2076, -7.2404, -6.7779, -7.229, -7.308, -7.4001, -7.3823, -6.0592, -6.2295, -6.8668, -6.9111, -6.9823, -7.5012, -7.5158, -7.5866, -7.5866, -7.5866, -7.5866, -7.5866, -7.5866, -7.6143, -7.4601, -7.657, -7.8251, -7.8158, -7.8158, -7.6545, -7.6472, -7.7011, -7.68, -8.1002, -8.0253, -7.792, -7.7707, -8.388, -8.0715, -8.4069, -7.086, -7.7389, -7.1533, -7.7028, -7.686, -7.4098, -7.0626, -7.5785, -7.2787, -7.6181, -7.613, -7.6797, -7.6897, -7.7601, -7.7601, -7.8173, -8.2309, -8.2309, -8.2309, -8.5679, -8.5679, -8.2228, -8.5732, -8.9113, -8.9113, -8.9113, -8.9113, -8.9113, -8.9113, -8.9113, -8.9113, -8.9113, -8.9113, -8.9113, -8.9113, -8.9113, -8.9113, -8.9113, -8.9113, -8.9113, -8.9113, -8.9113, -8.572, -7.7162, -7.7284, -8.5508, -8.6951, -8.4546, -8.8375, -8.869, -7.8268, -8.1446, -8.8493, -8.5648, -8.6556, -9.0798, -9.0798, -9.0798, -9.0798, -9.0798, -9.0798, -9.0871, -9.0873, -9.0825, -9.3849, -9.3849, -9.3849, -9.3849, -9.3849, -9.3849, -9.3849, -9.3849, -9.3849, -9.3849, -9.3849, -9.3849, -9.3849, -9.3849, -9.3849, -9.3849, -9.1059, -9.239, -9.0716, -9.1135, -8.9868, -9.0889, -9.1652, -9.1794, -9.0758, -9.1342, -9.1498, -9.2221, -9.2113, -9.2666, -9.252, -9.2044, -9.1525, -9.1927, -7.1748, -8.1838, -8.1838, -8.6208, -8.6208, -8.6208, -8.6208, -8.6208, -8.6208, -8.6208, -8.6208, -8.6392, -8.6392, -8.6392, -8.6392, -8.6392, -8.6392, -8.6392, -8.799, -8.7879, -8.2299, -8.6681, -8.6208, -8.7358, -8.8051, -8.9619, -9.0338, -9.0338, -9.0338, -9.0338, -8.0278, -8.0659, -8.6813, -8.5421, -8.6766, -8.6904, -8.7319, -8.7525, -8.6195, -8.7506, -8.8322, -8.8322, -9.0353, -9.0353, -9.0353, -9.0353, -9.0353, -9.0353, -9.0353, -9.0353, -9.0353, -9.0816, -9.0816, -9.0816, -9.0934, -9.3843, -9.3843, -9.3843, -9.3843, -9.3843, -9.3843, -9.3843, -9.3843, -9.3843, -9.3843, -9.3843, -9.3843, -9.3843, -9.0901, -9.2498, -9.2307, -9.1471, -9.1981, -9.1468, -9.1786, -9.2247, -9.2115, -9.1611, -9.2518, -9.2643, -9.2411, -9.2207, -9.2453, -8.5362, -8.7412, -9.0257, -9.0257, -9.0257, -9.0257, -9.0467, -9.0392, -9.0485, -9.3838, -9.3838, -9.3838, -9.3838, -9.3838, -9.3838, -9.3838, -9.3838, -9.3838, -9.3838, -9.3838, -9.3838, -9.3838, -9.3838, -9.3838, -9.3838, -9.3838, -9.3838, -9.3838, -9.3838, -9.3838, -9.2224, -9.1287, -9.2632, -9.1697, -9.0465, -9.1843, -9.2855, -9.3043, -9.2424, -9.251, -9.3022, -9.2771, -9.3121, -9.2883, -9.2972, -9.3051, -9.3285, -9.3276, -9.3351, -9.3423, -9.3534, -9.3468, -9.3831, -9.3831, -9.3831, -9.3831, -9.3831, -9.3831, -9.3831, -9.3831, -9.3831, -9.3831, -9.3831, -9.3831, -9.3831, -9.3831, -9.3831, -9.3831, -9.3831, -9.3831, -9.3831, -9.3831, -9.3831, -9.3831, -9.3831, -9.3831, -9.3831, -9.3831, -9.3831, -9.3831, -9.3831, -9.3831, -9.3831, -9.3831, -9.3831, -9.3831, -9.3831, -9.3831, -9.3831, -9.3831, -9.3831, -9.3831, -9.3831, -9.3831, -9.3831, -9.3831, -9.3831, -9.3831, -9.3831, -9.3831, -9.3831, -9.3831, -9.3831, -9.3831, -9.3831, -9.3831, -9.3831, -9.3831, -9.3831, -9.3831, -9.3831, -9.3831, -9.3831, -9.3831, -9.3831, -9.3831, -9.3831, -9.3831, -9.3831, -9.3831, -9.3831, -9.3831, -9.3831, -9.3831, -9.3831, -9.3831, -9.3831, -9.3831, -9.3831, -9.3831, -9.3831, -9.3831, -9.3831, -9.3831, -9.3831, -9.3831, -9.3831, -9.3831, -9.3831, -9.3831, -9.3831, -9.3831, -9.3831, -9.3831, -9.3831, -9.3831, -9.3831, -9.3831, -9.3831, -9.3831, -9.3831, -9.3831, -9.3831, -9.3831, -9.3831, -9.3831, -9.3831, -9.3831, -9.3831, -9.3831, -9.3831, -9.3831, -9.3831, -9.3831, -9.3831, -9.3831, -9.3831, -9.3831, -9.3831, -9.3831, -9.3831, -9.3831], \"loglift\": [30.0, 29.0, 28.0, 27.0, 26.0, 25.0, 24.0, 23.0, 22.0, 21.0, 20.0, 19.0, 18.0, 17.0, 16.0, 15.0, 14.0, 13.0, 12.0, 11.0, 10.0, 9.0, 8.0, 7.0, 6.0, 5.0, 4.0, 3.0, 2.0, 1.0, 0.7694, 0.7643, 0.7618, 0.7578, 0.7571, 0.7561, 0.7539, 0.7538, 0.7532, 0.7527, 0.7525, 0.7499, 0.7462, 0.7456, 0.744, 0.7435, 0.7428, 0.7425, 0.7421, 0.7414, 0.7407, 0.7406, 0.7392, 0.739, 0.7388, 0.7381, 0.7353, 0.7349, 0.7338, 0.7328, 0.7286, 0.7302, 0.7315, 0.7177, 0.7303, 0.7052, 0.6901, 0.697, 0.7083, 0.6917, 0.7063, 0.7037, 0.7009, 0.6192, 0.7005, 0.6302, 0.6058, 0.5288, 0.6378, 0.65, 0.6225, 0.5388, 0.5798, 0.6858, 0.6469, 0.5931, 0.5089, 0.425, 0.5264, 0.5869, 0.3676, 0.213, 0.327, 0.2322, 0.2184, 0.1959, 0.3745, 0.3021, 0.4269, 0.3291, 0.3201, 0.244, 0.3451, 0.3417, -0.0118, -0.171, 0.2455, 0.2048, 0.1603, 0.4312, -0.3273, 0.3411, -0.1874, 0.1819, 0.9026, 0.8989, 0.8884, 0.8883, 0.8851, 0.8832, 0.8827, 0.8826, 0.8815, 0.8795, 0.8784, 0.8763, 0.8763, 0.876, 0.8753, 0.874, 0.8731, 0.873, 0.8724, 0.8723, 0.8714, 0.8711, 0.8705, 0.8699, 0.869, 0.8686, 0.8675, 0.8672, 0.8667, 0.866, 0.8608, 0.8635, 0.8651, 0.853, 0.8611, 0.8411, 0.8394, 0.8387, 0.8571, 0.8065, 0.7915, 0.7817, 0.7286, 0.6905, 0.7297, 0.7157, 0.811, 0.7635, 0.6958, 0.5428, 0.662, 0.6447, 0.7347, 0.6625, 0.2852, 0.3939, 0.2368, 0.3406, 0.5249, 0.4599, 0.067, 0.0912, 0.159, -0.0177, -0.0607, -0.1231, 0.3636, 0.2928, 0.0777, 0.0599, -0.1392, -0.08, -0.594, -0.3419, 2.0244, 2.0244, 2.0244, 2.0244, 2.0243, 2.0225, 2.0224, 2.0224, 2.0224, 2.0224, 2.0224, 2.0224, 2.0192, 2.0169, 2.0118, 2.0048, 1.986, 1.9837, 1.9801, 1.9787, 1.9786, 1.9785, 1.978, 1.978, 1.978, 1.978, 1.978, 1.978, 1.978, 1.978, 1.9738, 1.9647, 1.9307, 1.9486, 1.9093, 1.9495, 1.8995, 1.9458, 1.8726, 1.8584, 1.9352, 1.817, 1.7533, 1.6448, 1.3905, 1.5923, 1.4687, 1.2577, 0.8761, 0.9384, 1.374, 1.4714, 1.3545, 0.5153, -0.503, 1.2554, 0.3372, 1.0805, 4.5902, 4.3399, 4.1599, 4.1511, 3.9351, 3.8696, 3.6335, 3.6236, 3.5925, 3.5922, 3.5871, 3.5334, 3.5108, 3.4884, 3.4512, 3.4482, 3.4403, 3.4035, 3.3999, 3.3647, 3.3647, 3.3647, 3.3647, 3.3647, 3.3647, 3.3526, 3.3208, 3.3064, 3.2858, 3.2628, 3.2151, 3.1932, 2.8204, 3.062, 2.0389, 2.6446, 1.5783, 2.4176, 2.3835, 1.116, 1.9749, 2.1652, 1.7355, 0.7821, 4.9494, 4.751, 4.4557, 4.4231, 4.2339, 3.9323, 3.9242, 3.86, 3.86, 3.86, 3.86, 3.86, 3.86, 3.7173, 3.5726, 3.564, 3.532, 3.5073, 3.5073, 3.4848, 3.4777, 3.3727, 3.333, 3.2244, 3.1014, 3.0726, 3.0679, 3.0516, 3.0396, 3.0178, 2.7299, 2.8022, 2.3897, 2.7181, 2.6919, 2.0637, 1.1847, 2.1881, -0.1098, 1.8384, 1.6967, 0.9279, 3.7983, 3.7646, 3.7646, 3.341, 3.3095, 3.3095, 3.3095, 3.0018, 3.0018, 3.0008, 2.9419, 2.6831, 2.6831, 2.6831, 2.6831, 2.6831, 2.6831, 2.6831, 2.6831, 2.6831, 2.6831, 2.6831, 2.6831, 2.6831, 2.6831, 2.6831, 2.6831, 2.6831, 2.6831, 2.6831, 2.6808, 2.3907, 2.2983, 2.077, 2.3112, 1.0555, 2.2062, 0.6234, 3.6003, 3.3759, 2.5869, 2.5838, 2.5244, 2.5152, 2.5152, 2.5152, 2.5152, 2.5152, 2.5152, 2.4439, 2.4267, 2.4139, 2.2279, 2.2279, 2.2279, 2.2279, 2.2279, 2.2279, 2.2279, 2.2279, 2.2279, 2.2279, 2.2279, 2.2279, 2.2279, 2.2279, 2.2279, 2.2279, 2.2087, 2.2015, 2.1548, 2.0915, 1.8537, 1.8577, 1.8129, 1.7157, 1.1951, 1.3481, 1.3705, 1.5334, 1.3895, 1.5508, 1.4324, 0.7403, 0.0128, 0.0274, 3.6162, 2.9873, 2.9873, 2.7526, 2.7526, 2.7526, 2.7526, 2.7526, 2.7526, 2.7526, 2.7526, 2.7221, 2.7221, 2.7221, 2.7221, 2.7221, 2.7221, 2.7221, 2.6523, 2.6498, 2.6486, 2.6268, 2.5711, 2.5365, 2.5348, 2.5325, 2.4849, 2.4849, 2.4849, 2.4849, 2.4711, 2.1232, 2.3507, 2.2574, 1.6779, 1.688, 1.5948, 1.7579, 2.8006, 2.7922, 2.645, 2.645, 2.5443, 2.5443, 2.5443, 2.5443, 2.5443, 2.5443, 2.5443, 2.5443, 2.5443, 2.466, 2.466, 2.466, 2.3733, 2.2284, 2.2284, 2.2284, 2.2284, 2.2284, 2.2284, 2.2284, 2.2284, 2.2284, 2.2284, 2.2284, 2.2284, 2.2284, 2.1121, 2.0922, 1.9609, 1.8063, 1.803, 1.6375, 1.6417, 1.7203, 1.6473, 1.2809, 1.6175, 1.5794, 1.4432, 0.3701, 0.979, 2.8123, 2.7937, 2.5503, 2.5503, 2.5503, 2.5503, 2.3924, 2.3921, 2.3783, 2.2289, 2.2289, 2.2289, 2.2289, 2.2289, 2.2289, 2.2289, 2.2289, 2.2289, 2.2289, 2.2289, 2.2289, 2.2289, 2.2289, 2.2289, 2.2289, 2.2289, 2.2289, 2.2289, 2.2289, 2.2289, 2.1666, 1.7028, 1.9619, 1.7322, 1.4332, 1.6169, 1.8708, 1.7988, 0.9777, 0.2144, 0.8986, -0.2005, 0.6239, -0.2953, -0.3685, -0.4884, 0.0634, -1.3272, -0.611, 0.0335, 0.386, -1.2648, 2.2296, 2.2296, 2.2296, 2.2296, 2.2296, 2.2296, 2.2296, 2.2296, 2.2296, 2.2296, 2.2296, 2.2296, 2.2296, 2.2296, 2.2296, 2.2296, 2.2296, 2.2296, 2.2296, 2.2296, 2.2296, 2.2296, 2.2296, 2.2296, 2.2296, 2.2296, 2.2296, 2.2296, 2.2296, 2.2296, -3.2161, -3.0505, -3.2277, -0.6878, -1.6011, -1.4962, -3.2106, -3.0038, -2.3429, 2.1821, -2.2987, -2.4797, -1.1551, 1.8528, 1.7499, -1.1486, -1.3975, -1.7283, -0.2558, -3.5292, -1.6966, 1.9142, -3.5104, -3.458, -0.6799, -2.3811, -2.4285, -4.8024, -1.527, -2.2628, 2.2296, 2.2296, 2.2296, 2.2296, 2.2296, 2.2296, 2.2296, 2.2296, 2.2296, 2.2296, 2.2296, 2.2296, 2.2296, 2.2296, 2.2296, 2.2296, 2.2296, 2.2296, 2.2296, 2.2296, 2.2296, 2.2296, 2.2296, 2.2296, 2.2296, 2.2296, 2.2296, 2.2296, 2.2296, 2.2296, -3.2161, -3.0505, -3.2277, -0.6878, -1.6011, -1.4962, -3.2106, -3.0038, -2.3429, 2.1821, -2.2987, -2.4797, -1.1551, 1.8528, 1.7499, -1.1486, -1.3975, -1.7283, -0.2558, -3.5292, -1.6966, 1.9142, -3.5104, -3.458, -0.6799, -2.3811, -2.4285, -4.8024, -1.527, -2.2628]}, \"token.table\": {\"Topic\": [1, 2, 3, 1, 2, 3, 1, 2, 3, 1, 2, 3, 1, 2, 3, 1, 2, 3, 1, 2, 3, 1, 2, 3, 1, 2, 3, 1, 2, 3, 1, 2, 3, 1, 2, 3, 1, 2, 3, 1, 2, 3, 5, 1, 2, 3, 1, 2, 3, 1, 2, 3, 1, 2, 3, 1, 2, 3, 1, 2, 3, 1, 2, 3, 1, 2, 3, 1, 2, 3, 1, 2, 3, 1, 2, 3, 5, 1, 2, 3, 1, 2, 3, 1, 2, 3, 1, 2, 3, 1, 2, 3, 1, 2, 3, 1, 2, 3, 1, 2, 3, 1, 2, 3, 1, 2, 3, 1, 2, 3, 1, 2, 3, 1, 2, 3, 1, 2, 3, 1, 2, 3, 1, 2, 3, 1, 2, 3, 1, 2, 3, 1, 2, 3, 1, 2, 3, 1, 2, 3, 1, 2, 3, 1, 2, 3, 1, 2, 3, 1, 2, 3, 1, 2, 3, 1, 2, 3, 1, 2, 3, 1, 2, 3, 4, 1, 2, 3, 4, 1, 2, 3, 1, 2, 3, 1, 2, 3, 1, 2, 3, 1, 2, 3, 1, 2, 3, 1, 2, 3, 1, 2, 3, 1, 2, 3, 1, 2, 3, 1, 2, 3, 1, 2, 3, 4, 1, 2, 3, 1, 2, 3, 1, 2, 3, 4, 1, 2, 3, 4, 1, 2, 3, 1, 2, 3, 1, 2, 3, 1, 2, 3, 1, 2, 3, 1, 2, 3, 1, 2, 3, 1, 2, 3, 1, 2, 3, 1, 2, 3, 1, 2, 3, 1, 2, 3, 1, 2, 3, 1, 2, 3, 1, 2, 3, 1, 2, 3, 1, 2, 3, 1, 2, 3, 1, 2, 3, 1, 2, 3, 1, 2, 3, 1, 2, 3, 4, 1, 2, 3, 1, 2, 3, 1, 2, 3, 1, 2, 3, 1, 2, 3, 1, 2, 3, 1, 2, 3, 1, 2, 3, 1, 2, 3, 1, 2, 3, 1, 2, 3, 1, 2, 3, 1, 2, 3, 1, 2, 3, 1, 2, 3, 1, 2, 3, 1, 2, 3, 1, 2, 3, 1, 2, 3, 1, 2, 3, 1, 2, 3, 1, 2, 3, 1, 2, 3, 1, 2, 3, 1, 2, 3, 1, 2, 3, 1, 2, 3, 4, 1, 2, 3, 1, 2, 3, 1, 2, 3, 1, 2, 3, 1, 2, 3, 4, 1, 2, 3, 1, 2, 3, 1, 2, 3, 1, 2, 3, 1, 2, 3, 1, 2, 3, 1, 2, 3, 1, 2, 3, 1, 2, 3, 1, 2, 3, 1, 2, 3, 1, 2, 3, 1, 2, 3, 1, 2, 3, 1, 2, 3, 1, 2, 3, 1, 2, 3, 1, 2, 3, 1, 2, 3, 1, 2, 3, 1, 2, 3, 1, 2, 3, 1, 2, 3, 1, 2, 3, 1, 2, 3, 1, 2, 3, 1, 2, 3, 1, 2, 3, 1, 2, 3, 1, 2, 3, 1, 2, 3, 4, 1, 2, 3, 1, 2, 3, 1, 2, 3, 1, 2, 3, 1, 2, 3, 1, 2, 3, 1, 2, 3, 1, 2, 3, 1, 2, 3, 1, 2, 3, 1, 2, 3, 1, 2, 3, 1, 2, 3, 1, 2, 3, 1, 2, 3, 1, 2, 3, 1, 2, 3, 1, 2, 3, 1, 2, 3, 1, 2, 3, 1, 2, 3, 1, 2, 3, 4, 1, 2, 3, 1, 2, 3, 1, 2, 3, 1, 2, 3, 1, 2, 3, 1, 2, 3, 1, 2, 3, 1, 2, 3, 5, 1, 2, 3, 1, 2, 3, 4, 1, 2, 3, 1, 2, 3, 4, 1, 2, 3, 1, 2, 3, 1, 2, 3, 1, 2, 3, 1, 2, 3, 1, 2, 3, 1, 2, 3, 1, 2, 3, 1, 2, 3, 1, 2, 3, 1, 2, 3, 1, 2, 3, 1, 2, 3, 1, 2, 3, 1, 2, 3, 1, 2, 3, 4, 1, 2, 3, 1, 2, 3, 1, 2, 3, 1, 2, 3, 1, 2, 3, 1, 2, 3, 1, 2, 3, 1, 2, 3, 1, 2, 3, 1, 2, 3, 1, 2, 3, 1, 2, 3, 1, 2, 3, 1, 2, 3, 1, 2, 3, 1, 2, 3, 1, 2, 3, 1, 2, 3, 1, 2, 3, 1, 2, 3, 1, 2, 3, 4, 1, 2, 3, 1, 2, 3, 1, 2, 3, 1, 2, 3, 1, 2, 3, 1, 2, 3, 1, 2, 3, 1, 2, 3, 1, 2, 3, 1, 2, 3, 1, 2, 3, 1, 2, 3, 1, 2, 3, 1, 2, 3, 1, 2, 3, 1, 2, 3, 1, 2, 3, 1, 2, 3, 1, 2, 3, 4, 1, 2, 3, 1, 2, 3, 1, 2, 3, 4, 1, 2, 3, 1, 2, 3, 1, 2, 3, 1, 2, 3, 1, 2, 3, 1, 2, 3, 1, 2, 3, 4, 5, 1, 2, 3, 1, 2, 3, 4, 1, 2, 3, 1, 2, 3, 1, 2, 3, 1, 2, 3, 1, 2, 3, 1, 2, 3, 1, 2, 3, 1, 2, 3, 1, 2, 3, 1, 2, 3, 1, 2, 3, 1, 2, 3, 1, 2, 3, 1, 2, 3, 1, 2, 3, 1, 2, 3, 4, 1, 2, 3, 1, 2, 3, 1, 2, 3, 1, 2, 3, 1, 2, 3, 4, 1, 2, 3, 1, 2, 3, 1, 2, 3, 1, 2, 3, 1, 2, 3, 1, 2, 3, 1, 2, 3, 5, 1, 2, 3, 1, 2, 3, 1, 2, 3, 4, 1, 2, 3, 1, 2, 3, 4, 1, 2, 3, 1, 2, 3, 1, 2, 3, 1, 2, 3, 1, 2, 3, 1, 2, 3, 1, 2, 3, 1, 2, 3, 1, 2, 3, 1, 2, 3, 1, 2, 3, 1, 2, 3, 1, 2, 3, 1, 2, 3, 1, 2, 3, 1, 2, 3, 4, 1, 2, 3, 1, 2, 3, 1, 2, 3, 1, 2, 3, 1, 2, 3, 1, 2, 3, 1, 2, 3, 1, 2, 3, 1, 2, 3, 4, 1, 2, 3, 5, 1, 2, 3, 1, 2, 3, 1, 2, 3, 1, 2, 3, 1, 2, 3, 1, 2, 3, 1, 2, 3, 1, 2, 3, 4, 1, 2, 3, 4, 1, 2, 3, 4, 1, 2, 3, 1, 2, 3, 1, 2, 3, 1, 2, 3, 1, 2, 3, 1, 2, 3, 1, 2, 3, 1, 2, 3, 1, 2, 3, 1, 2, 3, 1, 2, 3, 1, 2, 3, 1, 2, 3, 1, 2, 3, 1, 2, 3, 4, 1, 2, 3, 1, 2, 3, 1, 2, 3, 1, 2, 3, 1, 2, 3, 1, 2, 3, 1, 2, 3, 1, 2, 3, 1, 2, 3, 1, 2, 3, 1, 2, 3, 1, 2, 3, 1, 2, 3, 1, 2, 3, 1, 2, 3, 4, 1, 2, 3, 1, 2, 3, 1, 2, 3, 1, 2, 3, 1, 2, 3, 1, 2, 3, 1, 2, 3, 1, 2, 3, 1, 2, 3, 1, 2, 3, 1, 2, 3, 1, 2, 3, 1, 2, 3, 1, 2, 3, 1, 2, 3, 1, 2, 3, 4, 1, 2, 3, 4, 1, 2, 3, 4, 1, 2, 3, 1, 2, 3, 1, 2, 3, 1, 2, 3, 1, 2, 3, 4, 1, 2, 3, 1, 2, 3, 1, 2, 3, 1, 2, 3, 1, 2, 3, 1, 2, 3, 1, 2, 3, 1, 2, 3, 1, 2, 3, 1, 2, 3, 1, 2, 3, 5, 1, 2, 3, 1, 2, 3, 1, 2, 3, 1, 2, 3, 1, 2, 3, 1, 2, 3, 1, 2, 3, 1, 2, 3, 4, 1, 2, 3, 1, 2, 3, 1, 2, 3, 1, 2, 3, 1, 2, 3, 1, 2, 3, 1, 2, 3, 1, 2, 3, 1, 2, 3, 1, 2, 3, 1, 2, 3, 1, 2, 3, 1, 2, 3, 4, 1, 2, 3, 1, 2, 3, 1, 2, 3, 1, 2, 3, 4, 1, 2, 3, 1, 2, 3, 1, 2, 3, 1, 2, 3, 1, 2, 3, 5, 1, 2, 3, 1, 2, 3, 4, 1, 2, 3, 1, 2, 3, 1, 2, 3, 1, 2, 3, 1, 2, 3, 1, 2, 3, 1, 2, 3, 1, 2, 3, 1, 2, 3, 1, 2, 3, 1, 2, 3, 1, 2, 3, 1, 2, 3, 1, 2, 3, 1, 2, 3, 1, 2, 3, 1, 2, 3, 1, 2, 3, 4, 1, 2, 3, 1, 2, 3, 1, 2, 3, 1, 2, 3, 1, 2, 3, 1, 2, 3, 1, 2, 3, 1, 2, 3, 1, 2, 3, 1, 2, 3, 1, 2, 3, 1, 2, 3, 1, 2, 3, 1, 2, 3, 4, 1, 2, 3, 1, 2, 3, 1, 2, 3, 1, 2, 3, 4, 1, 2, 3, 1, 2, 3, 1, 2, 3, 1, 2, 3, 1, 2, 3, 1, 2, 3, 1, 2, 3, 1, 2, 3, 1, 2, 3, 1, 2, 3, 1, 2, 3, 1, 2, 3, 1, 2, 3, 1, 2, 3, 1, 2, 3, 4, 1, 2, 3, 1, 2, 3, 5, 1, 2, 3, 1, 2, 3, 1, 2, 3, 1, 2, 3, 1, 2, 3, 4, 1, 2, 3, 1, 2, 3, 1, 2, 3, 1, 2, 3, 1, 2, 3, 1, 2, 3, 1, 2, 3, 4, 1, 2, 3, 1, 2, 3, 1, 2, 3, 1, 2, 3, 4, 1, 2, 3, 1, 2, 3, 1, 2, 3, 1, 2, 3, 1, 2, 3, 1, 2, 3, 1, 2, 3, 1, 2, 3, 1, 2, 3, 1, 2, 3, 1, 2, 3, 1, 2, 3, 1, 2, 3, 1, 2, 3, 1, 2, 3, 4], \"Freq\": [0.8603762576738612, 0.13089212083350021, 0.007981226880091476, 0.013317466412499082, 0.9588575816999338, 0.026634932824998164, 0.3699482279861674, 0.3699482279861674, 0.3699482279861674, 0.49541363398512844, 0.4162981487099368, 0.08665029339663843, 0.33516531295463703, 0.33516531295463703, 0.33516531295463703, 0.6222783303993068, 0.3111391651996534, 0.3111391651996534, 0.4480303404187941, 0.22401517020939704, 0.22401517020939704, 0.33878292432707613, 0.33878292432707613, 0.33878292432707613, 0.33878292432707613, 0.33878292432707613, 0.33878292432707613, 0.024769688887471296, 0.024769688887471296, 0.9412481777239092, 0.014682168616169717, 0.9690231286672013, 0.014682168616169717, 0.3699482279861674, 0.3699482279861674, 0.3699482279861674, 0.019456291177258687, 0.9533582676856758, 0.019456291177258687, 0.043472269757172055, 0.8607509411920067, 0.09129176649006132, 0.004347226975717206, 0.39445119187752825, 0.5474982543260093, 0.058378776397874185, 0.023126661904096006, 0.9548007557548207, 0.01982285306065372, 0.024769688887471296, 0.024769688887471296, 0.9412481777239092, 0.9637593414546464, 0.0060997426674344705, 0.030498713337172356, 0.9541272738885141, 0.030778299157694002, 0.015389149578847001, 0.01770080117640252, 0.9558432635257361, 0.01770080117640252, 0.012038836060313893, 0.9751457208854254, 0.012038836060313893, 0.6667114920621179, 0.22223716402070595, 0.22223716402070595, 0.5601108381380131, 0.42008312860350977, 0.02000395850492904, 0.6213309958431942, 0.2071103319477314, 0.2071103319477314, 0.40435967335402284, 0.20217983667701142, 0.20217983667701142, 0.40435967335402284, 0.9713496939617622, 0.019426993879235244, 0.009713496939617622, 0.669928456459529, 0.16748211411488226, 0.16748211411488226, 0.3932439921887647, 0.5858532944853025, 0.016050775191378153, 0.9002457169919509, 0.08913323930613376, 0.008913323930613375, 0.5915623665278869, 0.2957811832639434, 0.2957811832639434, 0.3632034540912288, 0.3632034540912288, 0.3632034540912288, 0.3632034540912288, 0.3632034540912288, 0.3632034540912288, 0.48560951312959083, 0.24280475656479542, 0.24280475656479542, 0.0635698888715338, 0.003739405227737282, 0.9348513069343205, 0.43654059863144884, 0.3867878098168352, 0.17654215385830652, 0.35788096836691513, 0.35788096836691513, 0.35788096836691513, 0.021396918579375136, 0.9628613360718812, 0.021396918579375136, 0.34659958491655635, 0.34659958491655635, 0.34659958491655635, 0.3632034540912288, 0.3632034540912288, 0.3632034540912288, 0.6552479642483835, 0.23091569824415925, 0.11249739145228271, 0.40614439008487957, 0.20307219504243978, 0.20307219504243978, 0.024769688887471296, 0.024769688887471296, 0.9412481777239092, 0.024769688887471296, 0.024769688887471296, 0.9412481777239092, 0.024769688887471296, 0.024769688887471296, 0.9412481777239092, 0.4777735793442037, 0.31341946804979764, 0.206398186276696, 0.5753906948832908, 0.2876953474416454, 0.2876953474416454, 0.3092603999085896, 0.3092603999085896, 0.3092603999085896, 0.3133045146584276, 0.3133045146584276, 0.3133045146584276, 0.6356401338369363, 0.3494312026065954, 0.014524035316166556, 0.3699482279861674, 0.3699482279861674, 0.3699482279861674, 0.3699482279861674, 0.3699482279861674, 0.3699482279861674, 0.3699482279861674, 0.3699482279861674, 0.3699482279861674, 0.3699482279861674, 0.3699482279861674, 0.3699482279861674, 0.15189155190788164, 0.7594577595394082, 0.050630517302627215, 0.050630517302627215, 0.3153414311711049, 0.3153414311711049, 0.15767071558555246, 0.15767071558555246, 0.3699482279861674, 0.3699482279861674, 0.3699482279861674, 0.4408473662835051, 0.48983040698167235, 0.04898304069816724, 0.5491183111954672, 0.2745591555977336, 0.2745591555977336, 0.3293037487897832, 0.3293037487897832, 0.3293037487897832, 0.34659958491655635, 0.34659958491655635, 0.34659958491655635, 0.6962609496426113, 0.17406523741065283, 0.17406523741065283, 0.0856485266242722, 0.8564852662427221, 0.0428242633121361, 0.3527787065422286, 0.3527787065422286, 0.3527787065422286, 0.35788096836691513, 0.35788096836691513, 0.35788096836691513, 0.004828526250025811, 0.004828526250025811, 0.9898478812552913, 0.022577510384961787, 0.948255436168395, 0.022577510384961787, 0.15538792437793794, 0.15538792437793794, 0.15538792437793794, 0.6215516975117518, 0.015057336783692662, 0.9636695541563304, 0.015057336783692662, 0.6145196751084562, 0.3072598375542281, 0.3072598375542281, 0.23326584746143542, 0.23326584746143542, 0.23326584746143542, 0.23326584746143542, 0.2638453920105498, 0.5276907840210996, 0.1319226960052749, 0.1319226960052749, 0.49629749349604446, 0.37222312012203335, 0.12407437337401112, 0.010057262362933661, 0.012068714835520394, 0.9775659016771518, 0.5593002608217211, 0.43545520306834, 0.007990003726024587, 0.40344133596985965, 0.40344133596985965, 0.20172066798492982, 0.8068678691718879, 0.13447797819531465, 0.13447797819531465, 0.3699482279861674, 0.3699482279861674, 0.3699482279861674, 0.3085458447822281, 0.3085458447822281, 0.3085458447822281, 0.7031296817536348, 0.23437656058454492, 0.23437656058454492, 0.15761772584444417, 0.3360966212859471, 0.5076217935284304, 0.08979333643894348, 0.008225343795933754, 0.9020460362874018, 0.621093507610089, 0.3105467538050445, 0.3105467538050445, 0.7700214953873208, 0.22667299431315072, 0.003333426386958099, 0.5627296675141051, 0.43416596070376645, 0.0031614026264837366, 0.35788096836691513, 0.35788096836691513, 0.35788096836691513, 0.5883298235139789, 0.19610994117132632, 0.19610994117132632, 0.6268268120551854, 0.36355955099200754, 0.012536536241103707, 0.7848395300666245, 0.15696790601332491, 0.15696790601332491, 0.3133045146584276, 0.3133045146584276, 0.3133045146584276, 0.4752802391392099, 0.4752802391392099, 0.0432072944672009, 0.507603214128795, 0.2538016070643975, 0.2538016070643975, 0.9321672623731397, 0.004780344935246871, 0.06214448415820932, 0.010241785636843062, 0.04096714254737225, 0.8500682078579742, 0.09217607073158757, 0.35433416299693316, 0.35433416299693316, 0.35433416299693316, 0.3231280611674658, 0.1615640305837329, 0.4846920917511987, 0.5643654451114, 0.2821827225557, 0.2821827225557, 0.006252006875027533, 0.006252006875027533, 0.9878170862543502, 0.6314532648743096, 0.3157266324371548, 0.053346913756622705, 0.5576184932218613, 0.4401684144562905, 0.002155047316799464, 0.3265624052291271, 0.3265624052291271, 0.3265624052291271, 0.17449187214752335, 0.8226045401240386, 0.0016618273537859366, 0.3632034540912288, 0.3632034540912288, 0.3632034540912288, 0.006325199970012217, 0.9740807953818814, 0.018975599910036653, 0.9515692239370187, 0.020246153700787632, 0.020246153700787632, 0.6869175544216354, 0.22897251814054512, 0.22897251814054512, 0.5425633931435817, 0.41638585985437665, 0.02523550665784101, 0.8757664053643239, 0.08502586459847805, 0.03826163906931512, 0.737828588561912, 0.24594286285397068, 0.009837714514158828, 0.5370715243972538, 0.4593374879713355, 0.007066730584174392, 0.33675710900777717, 0.33675710900777717, 0.33675710900777717, 0.024769688887471296, 0.024769688887471296, 0.9412481777239092, 0.5823946643235388, 0.2911973321617694, 0.2911973321617694, 0.563173555268144, 0.281586777634072, 0.281586777634072, 0.6295939550358174, 0.3147969775179087, 0.3147969775179087, 0.02037836057455344, 0.9730667174349268, 0.00509459014363836, 0.9482956016811949, 0.04625832203322902, 0.004625832203322902, 0.9244097220423321, 0.06162731480282214, 0.03081365740141107, 0.45510560869381195, 0.22755280434690597, 0.22755280434690597, 0.7854554810483236, 0.2124114376683431, 0.002334191622729045, 0.3730005173612456, 0.3730005173612456, 0.0932501293403114, 0.1865002586806228, 0.5324871309087198, 0.4157776227643428, 0.05106040981316491, 0.024769688887471296, 0.024769688887471296, 0.9412481777239092, 0.010649548659018376, 0.9797584766296905, 0.010649548659018376, 0.8201481453270356, 0.16402962906540713, 0.16402962906540713, 0.10479469224226044, 0.7335628456958231, 0.05239734612113022, 0.15719203836339066, 0.7135591560290137, 0.23785305200967122, 0.23785305200967122, 0.3632034540912288, 0.3632034540912288, 0.3632034540912288, 0.5397181746302336, 0.2698590873151168, 0.2698590873151168, 0.024769688887471296, 0.024769688887471296, 0.9412481777239092, 0.5823946643235388, 0.2911973321617694, 0.2911973321617694, 0.665950695210086, 0.16292008079246748, 0.17005526681257555, 0.004828526250025811, 0.004828526250025811, 0.9898478812552913, 0.3133045146584276, 0.3133045146584276, 0.3133045146584276, 0.3699482279861674, 0.3699482279861674, 0.3699482279861674, 0.5729297157588905, 0.28646485787944526, 0.28646485787944526, 0.6466384562236797, 0.3483827341670212, 0.003759525908277207, 0.7863036820384893, 0.2016163287278178, 0.020161632872781776, 0.43044674103316527, 0.5628918921202931, 0.0036790319746424385, 0.07512817569723973, 0.08492750296209708, 0.8394757023561135, 0.004094145430072558, 0.004094145430072558, 0.9907831940775589, 0.9636764033532489, 0.02753361152437854, 0.02753361152437854, 0.4841684918122506, 0.5122362304680332, 0.0035084673319728302, 0.24742657553521208, 0.29228168571995816, 0.46012661415320144, 0.41677100037379566, 0.5786820364902343, 0.0044975287810121835, 0.5848410418232313, 0.23139362959093063, 0.183080673962055, 0.7026748072931158, 0.24616988814259935, 0.05141522980193531, 0.46084239271869404, 0.23042119635934702, 0.23042119635934702, 0.5753906948832908, 0.2876953474416454, 0.2876953474416454, 0.38615533744582187, 0.5344755770400715, 0.07906056824186877, 0.9290216610410845, 0.06519450252919891, 0.004074656408074932, 0.5099173740825899, 0.4667040372959297, 0.017285334714664063, 0.311269357526445, 0.311269357526445, 0.311269357526445, 0.024445057158926784, 0.024445057158926784, 0.9533572291981445, 0.48450061639787934, 0.34370556547883746, 0.16978226728472695, 0.9205124593266886, 0.07438484519811625, 0.00619873709984302, 0.13069818046938014, 0.6970569625033607, 0.04356606015646004, 0.13069818046938014, 0.9792378887066273, 0.008515112075709803, 0.008515112075709803, 0.3632034540912288, 0.3632034540912288, 0.3632034540912288, 0.3355342133545175, 0.3355342133545175, 0.3355342133545175, 0.610247290491772, 0.305123645245886, 0.305123645245886, 0.036216071977861246, 0.9567079014151678, 0.006036011996310207, 0.3632034540912288, 0.3632034540912288, 0.3632034540912288, 0.6452474943049352, 0.34598397933376174, 0.008839006771300482, 0.6142862539000953, 0.2457145015600381, 0.12285725078001905, 0.701196862554246, 0.2963216866861039, 0.001955918724000686, 0.9609960279229802, 0.021355467287177337, 0.021355467287177337, 0.363427473074013, 0.363427473074013, 0.363427473074013, 0.5671168495119421, 0.43003686729361495, 0.003209230352937425, 0.9852833713681951, 0.007408145649384926, 0.007408145649384926, 0.5753906948832908, 0.2876953474416454, 0.2876953474416454, 0.35788096836691513, 0.35788096836691513, 0.35788096836691513, 0.5736624173074968, 0.2294649669229987, 0.11473248346149935, 0.39116667741486083, 0.5970438760542612, 0.020587719863940042, 0.12836653978987436, 0.7804685619224361, 0.08985657785291205, 0.3699482279861674, 0.3699482279861674, 0.3699482279861674, 0.35788096836691513, 0.35788096836691513, 0.35788096836691513, 0.363427473074013, 0.363427473074013, 0.363427473074013, 0.2564161056386373, 0.5128322112772746, 0.12820805281931866, 0.12820805281931866, 0.35788096836691513, 0.35788096836691513, 0.35788096836691513, 0.33675710900777717, 0.33675710900777717, 0.33675710900777717, 0.5753906948832908, 0.2876953474416454, 0.2876953474416454, 0.861307208204431, 0.10766340102555387, 0.10766340102555387, 0.5617090023141669, 0.11234180046283337, 0.22468360092566675, 0.8282509198839133, 0.14091769123024914, 0.028758712495969212, 0.20448616474069675, 0.7157015765924386, 0.10224308237034838, 0.26837883586473765, 0.7028969510743128, 0.012779944564987506, 0.012779944564987506, 0.3634393134107913, 0.545158970116187, 0.18171965670539564, 0.027677664806618985, 0.24909898325957086, 0.27677664806618985, 0.41516497209928477, 0.9655678889581721, 0.02507968542748499, 0.012539842713742495, 0.15172417148337988, 0.6068966859335195, 0.15172417148337988, 0.15172417148337988, 0.3632034540912288, 0.3632034540912288, 0.3632034540912288, 0.3699482279861674, 0.3699482279861674, 0.3699482279861674, 0.7220236961126478, 0.18050592402816196, 0.18050592402816196, 0.5823946643235388, 0.2911973321617694, 0.2911973321617694, 0.3699482279861674, 0.3699482279861674, 0.3699482279861674, 0.5753906948832908, 0.2876953474416454, 0.2876953474416454, 0.35659185548371247, 0.35659185548371247, 0.35659185548371247, 0.5585657552742048, 0.2792828776371024, 0.2792828776371024, 0.004039573024223102, 0.004039573024223102, 0.9896953909346601, 0.9529862159534715, 0.021177471465632702, 0.021177471465632702, 0.014031558484504214, 0.9681775354307908, 0.014031558484504214, 0.08563991797344558, 0.9053362757192819, 0.012234273996206512, 0.15783563494185138, 0.8392236199347219, 0.0038496496327280823, 0.16491367808781013, 0.14658993607805343, 0.6779784543609971, 0.3699482279861674, 0.3699482279861674, 0.3699482279861674, 0.07383951743833239, 0.8491544505408225, 0.036919758719166196, 0.07383951743833239, 0.3632034540912288, 0.3632034540912288, 0.3632034540912288, 0.8229050599374348, 0.13042268874480098, 0.04347422958160033, 0.15602720569793108, 0.8328624635186115, 0.010760496944684903, 0.8524414492550161, 0.1136588599006688, 0.0568294299503344, 0.479993639550587, 0.479993639550587, 0.2399968197752935, 0.337351087032064, 0.337351087032064, 0.337351087032064, 0.2915086981622721, 0.031748472077079135, 0.6782628125557816, 0.9649609561737787, 0.02453290566543505, 0.008177635221811684, 0.738263000949868, 0.184565750237467, 0.0922828751187335, 0.1758852570432443, 0.5276557711297328, 0.1758852570432443, 0.9068417713061553, 0.08138323588644983, 0.011626176555207118, 0.5823946643235388, 0.2911973321617694, 0.2911973321617694, 0.3699482279861674, 0.3699482279861674, 0.3699482279861674, 0.921166261522574, 0.07040761234567444, 0.005867301028806204, 0.3632034540912288, 0.3632034540912288, 0.3632034540912288, 0.35788096836691513, 0.35788096836691513, 0.35788096836691513, 0.3429158543845044, 0.5143737815767566, 0.1714579271922522, 0.3632034540912288, 0.3632034540912288, 0.3632034540912288, 0.31969091731069893, 0.31969091731069893, 0.31969091731069893, 0.006157186597535497, 0.006157186597535497, 0.9851498556056796, 0.22341459018652413, 0.44682918037304825, 0.22341459018652413, 0.22341459018652413, 0.3699482279861674, 0.3699482279861674, 0.3699482279861674, 0.3632034540912288, 0.3632034540912288, 0.3632034540912288, 0.01864825832225479, 0.9697094327572491, 0.01864825832225479, 0.006421289396060011, 0.8331622991387865, 0.1605322349015003, 0.0033512241258123027, 0.9919623412404417, 0.0033512241258123027, 0.9478598188846377, 0.012984381080611474, 0.025968762161222948, 0.55382526242209, 0.276912631211045, 0.276912631211045, 0.08821273089556098, 0.8868955646796941, 0.023841278620421884, 0.3475897417933879, 0.5962245092484668, 0.05654569962189086, 0.5020988228023698, 0.2510494114011849, 0.2510494114011849, 0.4294589925990157, 0.5557704610104909, 0.02526229368229504, 0.7774212002845472, 0.22212034293844207, 0.0005117980252037836, 0.3699482279861674, 0.3699482279861674, 0.3699482279861674, 0.3699482279861674, 0.3699482279861674, 0.3699482279861674, 0.018699410277032202, 0.9536699241286424, 0.018699410277032202, 0.4921794302202654, 0.2460897151101327, 0.2460897151101327, 0.3632034540912288, 0.3632034540912288, 0.3632034540912288, 0.6460998329407157, 0.32304991647035786, 0.32304991647035786, 0.29649746922482684, 0.4447462038372403, 0.14824873461241342, 0.14824873461241342, 0.36370473701294354, 0.5385627836537817, 0.0979205061188694, 0.3699482279861674, 0.3699482279861674, 0.3699482279861674, 0.471766728462173, 0.2358833642310865, 0.2358833642310865, 0.2358833642310865, 0.6771369034302144, 0.008061153612264458, 0.31438499087831384, 0.9690211024056528, 0.011817330517142108, 0.011817330517142108, 0.9652603918305415, 0.01892667434961846, 0.01892667434961846, 0.7050393447566249, 0.2862565760665996, 0.007068063606582706, 0.9419171871201073, 0.027703446680003158, 0.027703446680003158, 0.0182264382428041, 0.9660012268686174, 0.0182264382428041, 0.32683307662112127, 0.04669043951730304, 0.2334521975865152, 0.3735235161384243, 0.04669043951730304, 0.34223060872190664, 0.34223060872190664, 0.34223060872190664, 0.2394887260606849, 0.4789774521213698, 0.2394887260606849, 0.2394887260606849, 0.9265486739610598, 0.05035590619353586, 0.020142362477414345, 0.012276149655061496, 0.9698158227498582, 0.012276149655061496, 0.012227223008271204, 0.07336333804962722, 0.9048145026120691, 0.017938610168550015, 0.9507463389331509, 0.026907915252825022, 0.6835933143802264, 0.1708983285950566, 0.1708983285950566, 0.9704002426941792, 0.020216671722795402, 0.020216671722795402, 0.20932576945985143, 0.6977525648661714, 0.06977525648661714, 0.5699960111353044, 0.39518310809194895, 0.034962580608671086, 0.3699482279861674, 0.3699482279861674, 0.3699482279861674, 0.363427473074013, 0.363427473074013, 0.363427473074013, 0.8501962565823723, 0.12145660808319604, 0.12145660808319604, 0.5753906948832908, 0.2876953474416454, 0.2876953474416454, 0.004840992590097998, 0.004840992590097998, 0.9875624883799916, 0.012335287679151727, 0.024670575358303453, 0.9498171512946829, 0.3699482279861674, 0.3699482279861674, 0.3699482279861674, 0.210407943647362, 0.5711072756142683, 0.06011655532781771, 0.18034966598345314, 0.4907466198426376, 0.2453733099213188, 0.2453733099213188, 0.5264069222768667, 0.26320346113843335, 0.26320346113843335, 0.9694744762682216, 0.017626808659422212, 0.017626808659422212, 0.0519810747081975, 0.8784801625685378, 0.06757539712065676, 0.3105781955253033, 0.3105781955253033, 0.15528909776265165, 0.15528909776265165, 0.012147465321937074, 0.9717972257549659, 0.012147465321937074, 0.02048726059809132, 0.02048726059809132, 0.9424139875122006, 0.03286850036575101, 0.11503975128012853, 0.8504724469638073, 0.9136773506993743, 0.04082388162699332, 0.04471187035337364, 0.916400127476601, 0.014012234365085642, 0.07006117182542822, 0.27468210569590334, 0.20815753322267677, 0.517174902130568, 0.3931586633038946, 0.1965793316519473, 0.1965793316519473, 0.1965793316519473, 0.4542309446921855, 0.22711547234609275, 0.22711547234609275, 0.018296357631928918, 0.9697069544922327, 0.018296357631928918, 0.22341459018652413, 0.44682918037304825, 0.22341459018652413, 0.22341459018652413, 0.5823946643235388, 0.2911973321617694, 0.2911973321617694, 0.8388477508568036, 0.12427374086767462, 0.031068435216918655, 0.031068435216918655, 0.7045240365512968, 0.23484134551709893, 0.23484134551709893, 0.01970545573887321, 0.9458618754659142, 0.029558183608309817, 0.024556538676108002, 0.9527937006329905, 0.024556538676108002, 0.20941140376711215, 0.6282342113013364, 0.20941140376711215, 0.14847675451384132, 0.32572088021473944, 0.5252365190927137, 0.07737484629760093, 0.003684516490361949, 0.9174446061001253, 0.004840992590097998, 0.004840992590097998, 0.9875624883799916, 0.3286503835959656, 0.3286503835959656, 0.3286503835959656, 0.9528706343950227, 0.02324074718036641, 0.02324074718036641, 0.028180744347603925, 0.9675388892677347, 0.003131193816400436, 0.016162804239806754, 0.9536054501485985, 0.016162804239806754, 0.11132885542315342, 0.0035912534007468844, 0.8834483365837336, 0.5700886826123186, 0.3800591217415457, 0.19002956087077286, 0.008363101954204328, 0.05017861172522596, 0.945030520825089, 0.3699482279861674, 0.3699482279861674, 0.3699482279861674, 0.1952880339530311, 0.3905760679060622, 0.1952880339530311, 0.1952880339530311, 0.1689066534986597, 0.07571677570629572, 0.7542555733819458, 0.53756344964252, 0.4271337487469636, 0.03542084745706527, 0.7135591560290137, 0.23785305200967122, 0.23785305200967122, 0.677499187451607, 0.16937479686290174, 0.16937479686290174, 0.08028721488175339, 0.047442445157399725, 0.8758605259827642, 0.340933554787494, 0.340933554787494, 0.340933554787494, 0.9255548802642078, 0.07080747717868256, 0.005057676941334469, 0.3699482279861674, 0.3699482279861674, 0.3699482279861674, 0.22341459018652413, 0.44682918037304825, 0.22341459018652413, 0.22341459018652413, 0.49764383536396595, 0.24882191768198297, 0.24882191768198297, 0.24882191768198297, 0.3133045146584276, 0.3133045146584276, 0.3133045146584276, 0.004784400138386506, 0.004784400138386506, 0.9903708286460067, 0.630984602614739, 0.2704219725491739, 0.09014065751639129, 0.040732462322904686, 0.9277949751328289, 0.03168080402892587, 0.9693730990226287, 0.011271780221193357, 0.011271780221193357, 0.6617213410061382, 0.29107976877102854, 0.047543028899267994, 0.3099463618552023, 0.4708800497415573, 0.21904863073420547, 0.18572918992689758, 0.5571875697806927, 0.07429167597075903, 0.14858335194151806, 0.05667394406218665, 0.6611960140588442, 0.24180882799866305, 0.04156089231227021, 0.10792167360257544, 0.5396083680128773, 0.10792167360257544, 0.10792167360257544, 0.6456740935948942, 0.3228370467974471, 0.10761234893248237, 0.3632034540912288, 0.3632034540912288, 0.3632034540912288, 0.00475485418628551, 0.9652353998159585, 0.030906552210855816, 0.2867537479655687, 0.6800160308897771, 0.032771856910350707, 0.7600958692996261, 0.12668264488327102, 0.12668264488327102, 0.6441214400923952, 0.32282570988003656, 0.03212957302123587, 0.3699482279861674, 0.3699482279861674, 0.3699482279861674, 0.8516325562786736, 0.12460630361393134, 0.023422237521415666, 0.2661763618764783, 0.165732451734411, 0.5675080923026801, 0.3699482279861674, 0.3699482279861674, 0.3699482279861674, 0.3632034540912288, 0.3632034540912288, 0.3632034540912288, 0.3133045146584276, 0.3133045146584276, 0.3133045146584276, 0.4041123532229697, 0.5657572945121575, 0.02694082354819798, 0.879172047587901, 0.11169808801321693, 0.0072063282589172216, 0.050693560513418084, 0.8110969682146894, 0.050693560513418084, 0.050693560513418084, 0.012606727307411286, 0.012606727307411286, 0.970718002670669, 0.34413490372552974, 0.34413490372552974, 0.34413490372552974, 0.363427473074013, 0.363427473074013, 0.363427473074013, 0.35659185548371247, 0.35659185548371247, 0.35659185548371247, 0.3699482279861674, 0.3699482279861674, 0.3699482279861674, 0.6460998329407157, 0.32304991647035786, 0.32304991647035786, 0.35788096836691513, 0.35788096836691513, 0.35788096836691513, 0.9527338034173832, 0.020711604422117027, 0.020711604422117027, 0.9666219071966162, 0.012235720344260965, 0.02447144068852193, 0.6219701878016382, 0.3109850939008191, 0.3109850939008191, 0.6823543442479739, 0.17058858606199348, 0.17058858606199348, 0.041495264092354184, 0.9543910741241463, 0.010373816023088546, 0.20020197016966665, 0.22762689759016894, 0.5704384903464474, 0.8132101830911945, 0.1626420366182389, 0.1626420366182389, 0.387619483727658, 0.387619483727658, 0.193809741863829, 0.193809741863829, 0.27007895138388355, 0.27007895138388355, 0.45934687794424284, 0.867828586749594, 0.11450516075168253, 0.018079762223949872, 0.15147071269373585, 0.6816182071218113, 0.15147071269373585, 0.3217264110765498, 0.5648575573467278, 0.11238388332126055, 0.819060581513199, 0.17310043217546991, 0.00844392352075463, 0.3699482279861674, 0.3699482279861674, 0.3699482279861674, 0.5680811923963457, 0.28404059619817285, 0.28404059619817285, 0.2207142132602692, 0.1350639215473289, 0.6423771878470521, 0.3632034540912288, 0.3632034540912288, 0.3632034540912288, 0.2006704009878395, 0.6020112029635185, 0.2006704009878395, 0.8393867100437412, 0.13891258933822478, 0.020689109050373904, 0.9470619165403174, 0.029140366662778992, 0.014570183331389496, 0.23891278616899922, 0.7167383585069976, 0.11945639308449961, 0.011915099686906832, 0.059575498434534156, 0.917462675891826, 0.3632034540912288, 0.3632034540912288, 0.3632034540912288, 0.2506758035311885, 0.501351607062377, 0.2506758035311885, 0.2506758035311885, 0.21436481670956375, 0.4287296334191275, 0.21436481670956375, 0.21436481670956375, 0.009180943964031482, 0.6151232455901093, 0.3488758706331963, 0.027542831892094447, 0.30667032875871997, 0.6916394648600918, 0.000932128658841094, 0.9695530812773905, 0.010205821908183059, 0.010205821908183059, 0.004840992590097998, 0.004840992590097998, 0.9875624883799916, 0.17517144674007878, 0.7590762692070081, 0.05839048224669293, 0.011763657601314172, 0.9528562657064479, 0.023527315202628345, 0.011763657601314172, 0.6199233383723758, 0.37084699706204627, 0.009225049678160355, 0.34659958491655635, 0.34659958491655635, 0.34659958491655635, 0.585862327975784, 0.32250326244762206, 0.09150611598859865, 0.8270810841563662, 0.09189789823959624, 0.09189789823959624, 0.3632034540912288, 0.3632034540912288, 0.3632034540912288, 0.8289426671017265, 0.1381571111836211, 0.1381571111836211, 0.4791395913392966, 0.4791395913392966, 0.04355814466720878, 0.34413490372552974, 0.34413490372552974, 0.34413490372552974, 0.35788096836691513, 0.35788096836691513, 0.35788096836691513, 0.5546424147554202, 0.3697616098369468, 0.036976160983694675, 0.27674485830888046, 0.27674485830888046, 0.27674485830888046, 0.27674485830888046, 0.45295966211573174, 0.5095260532219537, 0.037710927404147956, 0.4842172828585502, 0.4150433853073287, 0.06917389755122146, 0.9690516126609509, 0.01226647610963229, 0.01226647610963229, 0.32862652911475126, 0.4929397936721269, 0.16431326455737563, 0.6201464359707252, 0.3100732179853626, 0.3100732179853626, 0.9895910716728179, 0.00502330493234933, 0.00502330493234933, 0.9824327721593193, 0.011038570473700217, 0.011038570473700217, 0.3884485656510664, 0.1942242828255332, 0.1942242828255332, 0.3884485656510664, 0.3632034540912288, 0.3632034540912288, 0.3632034540912288, 0.23827727210961433, 0.714831816328843, 0.11913863605480716, 0.2427930502619821, 0.3715469405524272, 0.38626167087133517, 0.33675710900777717, 0.33675710900777717, 0.33675710900777717, 0.5028121558946915, 0.25140607794734576, 0.25140607794734576, 0.34413490372552974, 0.34413490372552974, 0.34413490372552974, 0.35205343328136246, 0.640097151420659, 0.032004857571032955, 0.775314914672295, 0.2209446648029856, 0.004017175723690648, 0.9322141686419425, 0.04439115088771155, 0.04439115088771155, 0.5925650540788013, 0.3555390324472808, 0.03950433693858676, 0.6680024148158471, 0.16700060370396178, 0.16700060370396178, 0.1177542667418825, 0.7664356659866387, 0.11568840241307754, 0.3909180245150549, 0.26061201634336995, 0.13030600817168497, 0.13030600817168497, 0.6209414921153016, 0.20698049737176719, 0.20698049737176719, 0.7101126994513676, 0.1775281748628419, 0.1775281748628419, 0.9670811879156634, 0.02149069306479252, 0.02149069306479252, 0.22341459018652413, 0.44682918037304825, 0.22341459018652413, 0.22341459018652413, 0.5777745878788962, 0.37856100027213263, 0.04359521723250507, 0.1254718259223159, 0.06970656995684216, 0.8051108830015269, 0.004039573024223102, 0.004039573024223102, 0.9896953909346601, 0.5823946643235388, 0.2911973321617694, 0.2911973321617694, 0.2799954765289844, 0.2799954765289844, 0.2799954765289844, 0.2799954765289844, 0.6474096158138462, 0.21580320527128202, 0.21580320527128202, 0.3919366897118995, 0.47903373187009934, 0.08709704215819988, 0.04354852107909994, 0.0221366049972155, 0.9740106198774819, 0.01106830249860775, 0.011439416918624335, 0.06863650151174601, 0.9151533534899468, 0.024515147659178223, 0.024515147659178223, 0.9560907587079508, 0.3699482279861674, 0.3699482279861674, 0.3699482279861674, 0.5499309151281803, 0.40560515459680263, 0.043546565677570835, 0.3133045146584276, 0.3133045146584276, 0.3133045146584276, 0.2004090146219661, 0.7793683901965348, 0.020040901462196607, 0.023127811921011845, 0.023127811921011845, 0.9482402887614856, 0.55382526242209, 0.276912631211045, 0.276912631211045, 0.35659185548371247, 0.35659185548371247, 0.35659185548371247, 0.9558507985734499, 0.022758352346986904, 0.011379176173493452, 0.382644186432057, 0.1913220932160285, 0.5739662796480856, 0.33675710900777717, 0.33675710900777717, 0.33675710900777717, 0.48575685960454995, 0.24287842980227498, 0.24287842980227498, 0.9714683587579218, 0.01632719930685583, 0.008163599653427915, 0.35659185548371247, 0.35659185548371247, 0.35659185548371247, 0.622822685928164, 0.311411342964082, 0.311411342964082, 0.00897552656699139, 0.9603813426680787, 0.00897552656699139, 0.01795105313398278, 0.05565669286960758, 0.9290386425157573, 0.012843852200678673, 0.5546744527414447, 0.27733722637072233, 0.27733722637072233, 0.1704335962826875, 0.8061779633689028, 0.021642361432722225, 0.9832065833039343, 0.01130122509544752, 0.01130122509544752, 0.363427473074013, 0.363427473074013, 0.363427473074013, 0.9540347427802022, 0.03180115809267341, 0.010600386030891137, 0.42912791421408647, 0.5420563126914777, 0.022585679695478235, 0.7003040184971064, 0.1750760046242766, 0.1750760046242766, 0.35433416299693316, 0.35433416299693316, 0.35433416299693316, 0.3699482279861674, 0.3699482279861674, 0.3699482279861674, 0.6977097426916214, 0.23256991423054046, 0.23256991423054046, 0.5384385345178117, 0.2692192672589058, 0.2692192672589058, 0.5753906948832908, 0.2876953474416454, 0.2876953474416454, 0.22341459018652413, 0.44682918037304825, 0.22341459018652413, 0.22341459018652413, 0.9277476559386082, 0.05576625254275787, 0.015208977966206693, 0.3065172319487319, 0.3065172319487319, 0.3065172319487319, 0.09351404612203298, 0.9000726939245675, 0.0058446278826270615, 0.3079673149128904, 0.3079673149128904, 0.3079673149128904, 0.3079673149128904, 0.008607447944999843, 0.9640341698399825, 0.02582234383499953, 0.9393782748111418, 0.0559153735006632, 0.00372769156671088, 0.38023432162155163, 0.2855427627621305, 0.33398960682974127, 0.614355310373343, 0.3071776551866715, 0.3071776551866715, 0.21022075960986789, 0.10511037980493394, 0.6306622788296037, 0.004039573024223102, 0.004039573024223102, 0.9896953909346601, 0.5564749568600518, 0.4100341787389855, 0.029288155624213254, 0.5692217430665011, 0.18974058102216704, 0.18974058102216704, 0.00450838085664255, 0.9422515990382929, 0.04959218942306805, 0.004039573024223102, 0.004039573024223102, 0.9896953909346601, 0.5823946643235388, 0.2911973321617694, 0.2911973321617694, 0.023462068765581708, 0.96194481938885, 0.011731034382790854, 0.3699482279861674, 0.3699482279861674, 0.3699482279861674, 0.33019205062036716, 0.3554360911876735, 0.3140358646572911, 0.09979429523238197, 0.8316191269365164, 0.03326476507746066, 0.03326476507746066, 0.974550173127088, 0.013535419071209556, 0.013535419071209556, 0.6134134525379856, 0.3067067262689928, 0.061341345253798564, 0.061341345253798564, 0.5000837188853318, 0.2500418594426659, 0.2500418594426659, 0.3699482279861674, 0.3699482279861674, 0.3699482279861674, 0.712729264804973, 0.08909115810062163, 0.17818231620124325, 0.2374459211955304, 0.6373548411037921, 0.12636011010990214, 0.22341459018652413, 0.44682918037304825, 0.22341459018652413, 0.22341459018652413, 0.516242893181349, 0.2581214465906745, 0.2581214465906745, 0.2462063702239117, 0.6565503205970978, 0.08206879007463723, 0.016814321239350297, 0.9331948287839414, 0.05044296371805089, 0.009902106631874817, 0.9877351365295131, 0.0024755266579687043, 0.004840992590097998, 0.004840992590097998, 0.9875624883799916, 0.19104253206416574, 0.8020562000162232, 0.007254779698639205, 0.24950202195147128, 0.24950202195147128, 0.24950202195147128, 0.24950202195147128, 0.8537670643864493, 0.14364969654756132, 0.002710371632972855, 0.03713184875542604, 0.961302306668252, 0.001375253657608372, 0.5847938370162588, 0.1461984592540647, 0.1461984592540647, 0.27791618691588693, 0.27791618691588693, 0.27791618691588693, 0.27791618691588693, 0.3449372360220048, 0.3449372360220048, 0.3449372360220048, 0.6366533788735703, 0.26445601891671383, 0.09794667367285698, 0.38938127568508374, 0.5990481164385904, 0.009984135273976506, 0.44416142540637643, 0.5524934803835414, 0.010833205497716498, 0.8029404475560487, 0.1204410671334073, 0.08029404475560487, 0.9684565897778525, 0.020605459356975588, 0.020605459356975588, 0.7622424164002968, 0.22391829536105298, 0.013803182590749842, 0.02339235286278226, 0.02339235286278226, 0.9356941145112904, 0.49700572626451756, 0.49700572626451756, 0.04518233875131978, 0.048487133271496695, 0.9505225405295208, 0.0008736420409278684, 0.5823946643235388, 0.2911973321617694, 0.2911973321617694, 0.363427473074013, 0.363427473074013, 0.363427473074013, 0.8451801919604567, 0.13522883071367306, 0.033807207678418265, 0.8701761899322679, 0.09668624332580754, 0.09668624332580754, 0.27252654263508824, 0.27252654263508824, 0.27252654263508824, 0.27252654263508824], \"Term\": [\"abril\", \"abril\", \"abril\", \"acidar\", \"acidar\", \"acidar\", \"acompanhada\", \"acompanhada\", \"acompanhada\", \"ademar\", \"ademar\", \"ademar\", \"adicionar\", \"adicionar\", \"adicionar\", \"adquisici\\u00f3n\", \"adquisici\\u00f3n\", \"adquisici\\u00f3n\", \"adquisitivo\", \"adquisitivo\", \"adquisitivo\", \"adrenalina\", \"adrenalina\", \"adrenalina\", \"adrenocromo\", \"adrenocromo\", \"adrenocromo\", \"aeroplano\", \"aeroplano\", \"aeroplano\", \"aerosol\", \"aerosol\", \"aerosol\", \"afirmaram\", \"afirmaram\", \"afirmaram\", \"agua_caliente\", \"agua_caliente\", \"agua_caliente\", \"aguar\", \"aguar\", \"aguar\", \"aguar\", \"ahora\", \"ahora\", \"ahora\", \"aire\", \"aire\", \"aire\", \"aire_acondicionado\", \"aire_acondicionado\", \"aire_acondicionado\", \"alarmar\", \"alarmar\", \"alarmar\", \"alcalde\", \"alcalde\", \"alcalde\", \"alcalino\", \"alcalino\", \"alcalino\", \"alcohol\", \"alcohol\", \"alcohol\", \"alegrar\", \"alegrar\", \"alegrar\", \"alentar\", \"alentar\", \"alentar\", \"alquilar\", \"alquilar\", \"alquilar\", \"alquiler\", \"alquiler\", \"alquiler\", \"alquiler\", \"am\", \"am\", \"am\", \"ampliacion\", \"ampliacion\", \"ampliacion\", \"analizar\", \"analizar\", \"analizar\", \"anciano\", \"anciano\", \"anciano\", \"anexo\", \"anexo\", \"anexo\", \"anfetamina\", \"anfetamina\", \"anfetamina\", \"animal_mx\", \"animal_mx\", \"animal_mx\", \"animalito\", \"animalito\", \"animalito\", \"animar\", \"animar\", \"animar\", \"ano\", \"ano\", \"ano\", \"ansa\", \"ansa\", \"ansa\", \"antibioticos\", \"antibioticos\", \"antibioticos\", \"anticristo\", \"anticristo\", \"anticristo\", \"aok\", \"aok\", \"aok\", \"aparecer\", \"aparecer\", \"aparecer\", \"aplazamiento\", \"aplazamiento\", \"aplazamiento\", \"apodar\", \"apodar\", \"apodar\", \"aportacion\", \"aportacion\", \"aportacion\", \"aportaci\\u00f3n\", \"aportaci\\u00f3n\", \"aportaci\\u00f3n\", \"aqui\", \"aqui\", \"aqui\", \"ardid\", \"ardid\", \"ardid\", \"artesano\", \"artesano\", \"artesano\", \"asalariar\", \"asalariar\", \"asalariar\", \"asegurar\", \"asegurar\", \"asegurar\", \"assembleias\", \"assembleias\", \"assembleias\", \"assessorias\", \"assessorias\", \"assessorias\", \"atar\", \"atar\", \"atar\", \"atendimento\", \"atendimento\", \"atendimento\", \"atmosfera\", \"atmosfera\", \"atmosfera\", \"atmosfera\", \"atmosferico\", \"atmosferico\", \"atmosferico\", \"atmosferico\", \"atualmente\", \"atualmente\", \"atualmente\", \"ausencia\", \"ausencia\", \"ausencia\", \"ausentar\", \"ausentar\", \"ausentar\", \"ausente\", \"ausente\", \"ausente\", \"automotor\", \"automotor\", \"automotor\", \"automoviles\", \"automoviles\", \"automoviles\", \"avalar\", \"avalar\", \"avalar\", \"aver\", \"aver\", \"aver\", \"avistamiento\", \"avistamiento\", \"avistamiento\", \"ayuda_desmentir\", \"ayuda_desmentir\", \"ayuda_desmentir\", \"azitromicina\", \"azitromicina\", \"azitromicina\", \"azufrar\", \"azufrar\", \"azufrar\", \"azufrar\", \"bacteria\", \"bacteria\", \"bacteria\", \"bancada\", \"bancada\", \"bancada\", \"barbar\", \"barbar\", \"barbar\", \"barbar\", \"barbijos\", \"barbijos\", \"barbijos\", \"barbijos\", \"basica\", \"basica\", \"basica\", \"batallar\", \"batallar\", \"batallar\", \"bien\", \"bien\", \"bien\", \"biologica\", \"biologica\", \"biologica\", \"blocar\", \"blocar\", \"blocar\", \"boato\", \"boato\", \"boato\", \"bola\", \"bola\", \"bola\", \"bonito\", \"bonito\", \"bonito\", \"brotar\", \"brotar\", \"brotar\", \"bulo\", \"bulo\", \"bulo\", \"burger\", \"burger\", \"burger\", \"buscar\", \"buscar\", \"buscar\", \"cadena\", \"cadena\", \"cadena\", \"cagliari\", \"cagliari\", \"cagliari\", \"calamidad\", \"calamidad\", \"calamidad\", \"calificar\", \"calificar\", \"calificar\", \"canasta\", \"canasta\", \"canasta\", \"cancelaci\\u00f3n\", \"cancelaci\\u00f3n\", \"cancelaci\\u00f3n\", \"cantar\", \"cantar\", \"cantar\", \"capitulos\", \"capitulos\", \"capitulos\", \"capturar\", \"capturar\", \"capturar\", \"carbonar\", \"carbonar\", \"carbonar\", \"carbonar\", \"carrasco\", \"carrasco\", \"carrasco\", \"carrito\", \"carrito\", \"carrito\", \"carro\", \"carro\", \"carro\", \"cartela\", \"cartela\", \"cartela\", \"casar\", \"casar\", \"casar\", \"caso\", \"caso\", \"caso\", \"castigo\", \"castigo\", \"castigo\", \"causar\", \"causar\", \"causar\", \"celebridad\", \"celebridad\", \"celebridad\", \"celulas\", \"celulas\", \"celulas\", \"censurar\", \"censurar\", \"censurar\", \"centuria\", \"centuria\", \"centuria\", \"cercar\", \"cercar\", \"cercar\", \"cerrar\", \"cerrar\", \"cerrar\", \"chequeado\", \"chequeado\", \"chequeado\", \"chequeo\", \"chequeo\", \"chequeo\", \"chidas\", \"chidas\", \"chidas\", \"chimpances\", \"chimpances\", \"chimpances\", \"chingar\", \"chingar\", \"chingar\", \"cibercriminales\", \"cibercriminales\", \"cibercriminales\", \"ciberneticos\", \"ciberneticos\", \"ciberneticos\", \"cientificos\", \"cientificos\", \"cientificos\", \"cifrar\", \"cifrar\", \"cifrar\", \"cigarrillo\", \"cigarrillo\", \"cigarrillo\", \"cintar\", \"cintar\", \"cintar\", \"circular\", \"circular\", \"circular\", \"cirujano\", \"cirujano\", \"cirujano\", \"cirujano\", \"claro\", \"claro\", \"claro\", \"clerigo_britanico\", \"clerigo_britanico\", \"clerigo_britanico\", \"cloroquina\", \"cloroquina\", \"cloroquina\", \"club\", \"club\", \"club\", \"co\", \"co\", \"co\", \"co\", \"cobrarla\", \"cobrarla\", \"cobrarla\", \"cocaina\", \"cocaina\", \"cocaina\", \"colina\", \"colina\", \"colina\", \"coma_funcionaron\", \"coma_funcionaron\", \"coma_funcionaron\", \"comico\", \"comico\", \"comico\", \"compartir\", \"compartir\", \"compartir\", \"comunidad_maldita\", \"comunidad_maldita\", \"comunidad_maldita\", \"concernir\", \"concernir\", \"concernir\", \"concesion\", \"concesion\", \"concesion\", \"concurso\", \"concurso\", \"concurso\", \"confirmar\", \"confirmar\", \"confirmar\", \"conjuntar\", \"conjuntar\", \"conjuntar\", \"conocer\", \"conocer\", \"conocer\", \"conocimiento\", \"conocimiento\", \"conocimiento\", \"conocimientos_utiles\", \"conocimientos_utiles\", \"conocimientos_utiles\", \"consejero\", \"consejero\", \"consejero\", \"consultar\", \"consultar\", \"consultar\", \"contactar\", \"contactar\", \"contactar\", \"contagiar\", \"contagiar\", \"contagiar\", \"contar\", \"contar\", \"contar\", \"contener\", \"contener\", \"contener\", \"contribuci\\u00f3n\", \"contribuci\\u00f3n\", \"contribuci\\u00f3n\", \"convencerla\", \"convencerla\", \"convencerla\", \"coronavirus\", \"coronavirus\", \"coronavirus\", \"corresponder\", \"corresponder\", \"corresponder\", \"coser\", \"coser\", \"coser\", \"cotizaci\\u00f3n\", \"cotizaci\\u00f3n\", \"cotizaci\\u00f3n\", \"creamos_herramientas\", \"creamos_herramientas\", \"creamos_herramientas\", \"creer\", \"creer\", \"creer\", \"cuarentena\", \"cuarentena\", \"cuarentena\", \"cubrebocas\", \"cubrebocas\", \"cubrebocas\", \"cubrebocas\", \"cuenta\", \"cuenta\", \"cuenta\", \"cuerpecitas\", \"cuerpecitas\", \"cuerpecitas\", \"cuerpecitos\", \"cuerpecitos\", \"cuerpecitos\", \"cuervo\", \"cuervo\", \"cuervo\", \"curar\", \"curar\", \"curar\", \"danarles\", \"danarles\", \"danarles\", \"dar\", \"dar\", \"dar\", \"darte\", \"darte\", \"darte\", \"dato\", \"dato\", \"dato\", \"datos_personales\", \"datos_personales\", \"datos_personales\", \"debatirlas\", \"debatirlas\", \"debatirlas\", \"decir\", \"decir\", \"decir\", \"decretar\", \"decretar\", \"decretar\", \"defraudar\", \"defraudar\", \"defraudar\", \"delfin\", \"delfin\", \"delfin\", \"delf\\u00edn\", \"delf\\u00edn\", \"delf\\u00edn\", \"desacreditar\", \"desacreditar\", \"desacreditar\", \"desarrollar\", \"desarrollar\", \"desarrollar\", \"desatualizada\", \"desatualizada\", \"desatualizada\", \"desierto\", \"desierto\", \"desierto\", \"desmarcar\", \"desmarcar\", \"desmarcar\", \"desmayo\", \"desmayo\", \"desmayo\", \"desmayo\", \"desperto\", \"desperto\", \"desperto\", \"despistar\", \"despistar\", \"despistar\", \"destinarla\", \"destinarla\", \"destinarla\", \"destinatario\", \"destinatario\", \"destinatario\", \"devolver\", \"devolver\", \"devolver\", \"dia\", \"dia\", \"dia\", \"diccionario\", \"diccionario\", \"diccionario\", \"dificultar\", \"dificultar\", \"dificultar\", \"dificultar\", \"dinamico\", \"dinamico\", \"dinamico\", \"dioxido\", \"dioxido\", \"dioxido\", \"dioxido\", \"diputar\", \"diputar\", \"diputar\", \"disenadas\", \"disenadas\", \"disenadas\", \"disenadas\", \"distante\", \"distante\", \"distante\", \"dobro\", \"dobro\", \"dobro\", \"dotar\", \"dotar\", \"dotar\", \"dron\", \"dron\", \"dron\", \"duas\", \"duas\", \"duas\", \"duena\", \"duena\", \"duena\", \"duo\", \"duo\", \"duo\", \"duradero\", \"duradero\", \"duradero\", \"economicamente_malditaes\", \"economicamente_malditaes\", \"economicamente_malditaes\", \"economico\", \"economico\", \"economico\", \"efectividad\", \"efectividad\", \"efectividad\", \"efectivo\", \"efectivo\", \"efectivo\", \"efecto\", \"efecto\", \"efecto\", \"electricidad\", \"electricidad\", \"electricidad\", \"eleicao\", \"eleicao\", \"eleicao\", \"emisi\\u00f3n\", \"emisi\\u00f3n\", \"emisi\\u00f3n\", \"emisi\\u00f3n\", \"emocionante\", \"emocionante\", \"emocionante\", \"empresa\", \"empresa\", \"empresa\", \"enfermedad\", \"enfermedad\", \"enfermedad\", \"enfermero\", \"enfermero\", \"enfermero\", \"enmendar\", \"enmendar\", \"enmendar\", \"enmienda\", \"enmienda\", \"enmienda\", \"entidad\", \"entidad\", \"entidad\", \"entregar\", \"entregar\", \"entregar\", \"entrenamiento\", \"entrenamiento\", \"entrenamiento\", \"entrenar\", \"entrenar\", \"entrenar\", \"enviar\", \"enviar\", \"enviar\", \"epicas\", \"epicas\", \"epicas\", \"equivaldria\", \"equivaldria\", \"equivaldria\", \"escuchar\", \"escuchar\", \"escuchar\", \"espantar\", \"espantar\", \"espantar\", \"especimenes\", \"especimenes\", \"especimenes\", \"especulaci\\u00f3n\", \"especulaci\\u00f3n\", \"especulaci\\u00f3n\", \"esquizofrenia\", \"esquizofrenia\", \"esquizofrenia\", \"estacionamiento\", \"estacionamiento\", \"estacionamiento\", \"estais_preguntando\", \"estais_preguntando\", \"estais_preguntando\", \"estatura\", \"estatura\", \"estatura\", \"estatura\", \"estavam\", \"estavam\", \"estavam\", \"estigma\", \"estigma\", \"estigma\", \"estomagar\", \"estomagar\", \"estomagar\", \"estudiar\", \"estudiar\", \"estudiar\", \"estudio\", \"estudio\", \"estudio\", \"euro\", \"euro\", \"euro\", \"eurogrupo\", \"eurogrupo\", \"eurogrupo\", \"evidenciar\", \"evidenciar\", \"evidenciar\", \"explicar\", \"explicar\", \"explicar\", \"expresi\\u00f3n\", \"expresi\\u00f3n\", \"expresi\\u00f3n\", \"falsa_relacionada\", \"falsa_relacionada\", \"falsa_relacionada\", \"falso\", \"falso\", \"falso\", \"feitos\", \"feitos\", \"feitos\", \"fez\", \"fez\", \"fez\", \"fibrosis\", \"fibrosis\", \"fibrosis\", \"fisicamente\", \"fisicamente\", \"fisicamente\", \"fisiologico\", \"fisiologico\", \"fisiologico\", \"fit\", \"fit\", \"fit\", \"forestal\", \"forestal\", \"forestal\", \"forestal\", \"formar\", \"formar\", \"formar\", \"fornecidas\", \"fornecidas\", \"fornecidas\", \"fosiles\", \"fosiles\", \"fosiles\", \"fosiles\", \"foto\", \"foto\", \"foto\", \"frase\", \"frase\", \"frase\", \"fraude\", \"fraude\", \"fraude\", \"fuente\", \"fuente\", \"fuente\", \"fuerzas_armadas\", \"fuerzas_armadas\", \"fuerzas_armadas\", \"fumador\", \"fumador\", \"fumador\", \"gas\", \"gas\", \"gas\", \"gas\", \"gas\", \"ginecologia\", \"ginecologia\", \"ginecologia\", \"glucosa\", \"glucosa\", \"glucosa\", \"glucosa\", \"gobernar\", \"gobernar\", \"gobernar\", \"goticulas\", \"goticulas\", \"goticulas\", \"graso\", \"graso\", \"graso\", \"gripe\", \"gripe\", \"gripe\", \"guatemalteco\", \"guatemalteco\", \"guatemalteco\", \"guerra\", \"guerra\", \"guerra\", \"haberse\", \"haberse\", \"haberse\", \"hacer\", \"hacer\", \"hacer\", \"haja\", \"haja\", \"haja\", \"hemiciclo\", \"hemiciclo\", \"hemiciclo\", \"heredero\", \"heredero\", \"heredero\", \"herencia\", \"herencia\", \"herencia\", \"herramientas_periodisticas\", \"herramientas_periodisticas\", \"herramientas_periodisticas\", \"higado\", \"higado\", \"higado\", \"hipotese\", \"hipotese\", \"hipotese\", \"hipoxia\", \"hipoxia\", \"hipoxia\", \"hipoxia\", \"hondo\", \"hondo\", \"hondo\", \"honesto\", \"honesto\", \"honesto\", \"horario\", \"horario\", \"horario\", \"humano\", \"humano\", \"humano\", \"humorista\", \"humorista\", \"humorista\", \"humorista\", \"ibuprofeno\", \"ibuprofeno\", \"ibuprofeno\", \"identificar_posibles\", \"identificar_posibles\", \"identificar_posibles\", \"idioma\", \"idioma\", \"idioma\", \"imagen\", \"imagen\", \"imagen\", \"imagenes\", \"imagenes\", \"imagenes\", \"importante\", \"importante\", \"importante\", \"impuesto\", \"impuesto\", \"impuesto\", \"impuesto\", \"individualizar\", \"individualizar\", \"individualizar\", \"infecci\\u00f3n\", \"infecci\\u00f3n\", \"infecci\\u00f3n\", \"inhalacion\", \"inhalacion\", \"inhalacion\", \"inhalacion\", \"insolitos\", \"insolitos\", \"insolitos\", \"intervenir\", \"intervenir\", \"intervenir\", \"intervenir\", \"intrafamiliar\", \"intrafamiliar\", \"intrafamiliar\", \"investigaci\\u00f3n\", \"investigaci\\u00f3n\", \"investigaci\\u00f3n\", \"investigador\", \"investigador\", \"investigador\", \"inyecci\\u00f3n\", \"inyecci\\u00f3n\", \"inyecci\\u00f3n\", \"junio\", \"junio\", \"junio\", \"junto\", \"junto\", \"junto\", \"juntos_podemos\", \"juntos_podemos\", \"juntos_podemos\", \"king\", \"king\", \"king\", \"laboral\", \"laboral\", \"laboral\", \"laboratorio\", \"laboratorio\", \"laboratorio\", \"lavar\", \"lavar\", \"lavar\", \"legal\", \"legal\", \"legal\", \"legislador\", \"legislador\", \"legislador\", \"lengua\", \"lengua\", \"lengua\", \"levantamento\", \"levantamento\", \"levantamento\", \"levantarlo\", \"levantarlo\", \"levantarlo\", \"levantarlo\", \"librar\", \"librar\", \"librar\", \"llegar\", \"llegar\", \"llegar\", \"locutorio\", \"locutorio\", \"locutorio\", \"logos\", \"logos\", \"logos\", \"lucrar\", \"lucrar\", \"lucrar\", \"lucrecia\", \"lucrecia\", \"lucrecia\", \"lunes\", \"lunes\", \"lunes\", \"luvas\", \"luvas\", \"luvas\", \"macias\", \"macias\", \"macias\", \"macias\", \"macron\", \"macron\", \"macron\", \"macron\", \"maire\", \"maire\", \"maire\", \"malditaes_queremos\", \"malditaes_queremos\", \"malditaes_queremos\", \"mamar\", \"mamar\", \"mamar\", \"mano\", \"mano\", \"mano\", \"martes\", \"martes\", \"martes\", \"marzo\", \"marzo\", \"marzo\", \"mas\", \"mas\", \"mas\", \"mascar\", \"mascar\", \"mascar\", \"mascar\", \"mascarilla\", \"mascarilla\", \"mascarilla\", \"mascarilla\", \"mascarillas_medicas\", \"mascarillas_medicas\", \"mascarillas_medicas\", \"mascarillas_medicas\", \"masivamente\", \"masivamente\", \"masivamente\", \"matarte\", \"matarte\", \"matarte\", \"medicamento\", \"medicamento\", \"medicamento\", \"medicar\", \"medicar\", \"medicar\", \"medidas_anunciadas\", \"medidas_anunciadas\", \"medidas_anunciadas\", \"medir\", \"medir\", \"medir\", \"membros\", \"membros\", \"membros\", \"mensaje\", \"mensaje\", \"mensaje\", \"mentira\", \"mentira\", \"mentira\", \"mesmo\", \"mesmo\", \"mesmo\", \"metabolito\", \"metabolito\", \"metabolito\", \"microempresas\", \"microempresas\", \"microempresas\", \"micrositio\", \"micrositio\", \"micrositio\", \"ministro\", \"ministro\", \"ministro\", \"moleculas\", \"moleculas\", \"moleculas\", \"moleculas\", \"montano\", \"montano\", \"montano\", \"morador\", \"morador\", \"morador\", \"moro\", \"moro\", \"moro\", \"mos\", \"mos\", \"mos\", \"mostre\", \"mostre\", \"mostre\", \"muebleria\", \"muebleria\", \"muebleria\", \"muelle\", \"muelle\", \"muelle\", \"municipal\", \"municipal\", \"municipal\", \"municipio\", \"municipio\", \"municipio\", \"musical\", \"musical\", \"musical\", \"nacionalizar\", \"nacionalizar\", \"nacionalizar\", \"natural\", \"natural\", \"natural\", \"necesitar\", \"necesitar\", \"necesitar\", \"nigeriano\", \"nigeriano\", \"nigeriano\", \"nitrogeno\", \"nitrogeno\", \"nitrogeno\", \"nitrogeno\", \"nombrar\", \"nombrar\", \"nombrar\", \"noticiar\", \"noticiar\", \"noticiar\", \"nucleo\", \"nucleo\", \"nucleo\", \"nuevo\", \"nuevo\", \"nuevo\", \"numerar\", \"numerar\", \"numerar\", \"obrigados\", \"obrigados\", \"obrigados\", \"obstetricia\", \"obstetricia\", \"obstetricia\", \"obtener\", \"obtener\", \"obtener\", \"obtenerlo\", \"obtenerlo\", \"obtenerlo\", \"obvio\", \"obvio\", \"obvio\", \"oficial\", \"oficial\", \"oficial\", \"ordenar\", \"ordenar\", \"ordenar\", \"ordinario\", \"ordinario\", \"ordinario\", \"organo\", \"organo\", \"organo\", \"oxidaci\\u00f3n\", \"oxidaci\\u00f3n\", \"oxidaci\\u00f3n\", \"oxidar\", \"oxidar\", \"oxidar\", \"oxidar\", \"oxigenacion\", \"oxigenacion\", \"oxigenacion\", \"oxigenacion\", \"oxigenar\", \"oxigenar\", \"oxigenar\", \"oxigenar\", \"paciente\", \"paciente\", \"paciente\", \"pagar\", \"pagar\", \"pagar\", \"pararla\", \"pararla\", \"pararla\", \"parcial\", \"parcial\", \"parcial\", \"particulas\", \"particulas\", \"particulas\", \"particulas\", \"partir\", \"partir\", \"partir\", \"parvada\", \"parvada\", \"parvada\", \"pasar\", \"pasar\", \"pasar\", \"pasillo\", \"pasillo\", \"pasillo\", \"pastillitas\", \"pastillitas\", \"pastillitas\", \"patrullar\", \"patrullar\", \"patrullar\", \"pelear\", \"pelear\", \"pelear\", \"pelo\", \"pelo\", \"pelo\", \"peninsular\", \"peninsular\", \"peninsular\", \"pequenas\", \"pequenas\", \"pequenas\", \"pequenas_medianas\", \"pequenas_medianas\", \"pequenas_medianas\", \"pequenas_medianas\", \"personar\", \"personar\", \"personar\", \"perspectivo\", \"perspectivo\", \"perspectivo\", \"plan\", \"plan\", \"plan\", \"playa\", \"playa\", \"playa\", \"plenario\", \"plenario\", \"plenario\", \"pm\", \"pm\", \"pm\", \"politico\", \"politico\", \"politico\", \"polo\", \"polo\", \"polo\", \"polo\", \"pop\", \"pop\", \"pop\", \"popularizar\", \"popularizar\", \"popularizar\", \"posible\", \"posible\", \"posible\", \"pospago\", \"pospago\", \"pospago\", \"postergar\", \"postergar\", \"postergar\", \"prender\", \"prender\", \"prender\", \"presente\", \"presente\", \"presente\", \"presidente\", \"presidente\", \"presidente\", \"preso\", \"preso\", \"preso\", \"principio\", \"principio\", \"principio\", \"privilegiar\", \"privilegiar\", \"privilegiar\", \"producir\", \"producir\", \"producir\", \"progresivamente\", \"progresivamente\", \"progresivamente\", \"progresivamente\", \"prostibulo\", \"prostibulo\", \"prostibulo\", \"prostituir\", \"prostituir\", \"prostituir\", \"protestar\", \"protestar\", \"protestar\", \"provocarse\", \"provocarse\", \"provocarse\", \"provocarse\", \"publicar\", \"publicar\", \"publicar\", \"publicidad\", \"publicidad\", \"publicidad\", \"puedes_apoyarnos\", \"puedes_apoyarnos\", \"puedes_apoyarnos\", \"puticlub\", \"puticlub\", \"puticlub\", \"pyme\", \"pyme\", \"pyme\", \"pyme\", \"quebrar\", \"quebrar\", \"quebrar\", \"quemar\", \"quemar\", \"quemar\", \"quemar\", \"quintero\", \"quintero\", \"quintero\", \"rayo\", \"rayo\", \"rayo\", \"rebautizar\", \"rebautizar\", \"rebautizar\", \"recebido\", \"recebido\", \"recebido\", \"recibir\", \"recibir\", \"recibir\", \"recibo\", \"recibo\", \"recibo\", \"recomendar\", \"recomendar\", \"recomendar\", \"record\", \"record\", \"record\", \"recorte\", \"recorte\", \"recorte\", \"reencontrar\", \"reencontrar\", \"reencontrar\", \"regional\", \"regional\", \"regional\", \"repercusi\\u00f3n\", \"repercusi\\u00f3n\", \"repercusi\\u00f3n\", \"reportarlo\", \"reportarlo\", \"reportarlo\", \"republicado\", \"republicado\", \"republicado\", \"residenciar\", \"residenciar\", \"residenciar\", \"resistire\", \"resistire\", \"resistire\", \"resolutivo\", \"resolutivo\", \"resolutivo\", \"respirar\", \"respirar\", \"respirar\", \"respirar\", \"respiratorio\", \"respiratorio\", \"respiratorio\", \"reyerta\", \"reyerta\", \"reyerta\", \"riesgo\", \"riesgo\", \"riesgo\", \"robar\", \"robar\", \"robar\", \"roman\", \"roman\", \"roman\", \"sabado\", \"sabado\", \"sabado\", \"sabueso\", \"sabueso\", \"sabueso\", \"salario\", \"salario\", \"salario\", \"satanicos\", \"satanicos\", \"satanicos\", \"segue\", \"segue\", \"segue\", \"semilla\", \"semilla\", \"semilla\", \"sensibilizar\", \"sensibilizar\", \"sensibilizar\", \"senuelos\", \"senuelos\", \"senuelos\", \"separarse\", \"separarse\", \"separarse\", \"separarse\", \"servicio\", \"servicio\", \"servicio\", \"sexualmente\", \"sexualmente\", \"sexualmente\", \"sintomas\", \"sintomas\", \"sintomas\", \"so\", \"so\", \"so\", \"so\", \"sobrevivir\", \"sobrevivir\", \"sobrevivir\", \"social\", \"social\", \"social\", \"solo\", \"solo\", \"solo\", \"sonoro\", \"sonoro\", \"sonoro\", \"sortear\", \"sortear\", \"sortear\", \"sostenible_independiente\", \"sostenible_independiente\", \"sostenible_independiente\", \"sucedio\", \"sucedio\", \"sucedio\", \"sucursal\", \"sucursal\", \"sucursal\", \"superficie\", \"superficie\", \"superficie\", \"superpoder_acabemos\", \"superpoder_acabemos\", \"superpoder_acabemos\", \"surrealista\", \"surrealista\", \"surrealista\", \"sustanciar\", \"sustanciar\", \"sustanciar\", \"tambem\", \"tambem\", \"tambem\", \"tambien\", \"tambien\", \"tambien\", \"tapaboca\", \"tapaboca\", \"tapaboca\", \"tapaboca\", \"tarjeta\", \"tarjeta\", \"tarjeta\", \"tendran\", \"tendran\", \"tendran\", \"tendran\", \"terraza\", \"terraza\", \"terraza\", \"teve\", \"teve\", \"teve\", \"timar\", \"timar\", \"timar\", \"tipo\", \"tipo\", \"tipo\", \"tocarse_ojos\", \"tocarse_ojos\", \"tocarse_ojos\", \"tocarse_ojos\", \"torturar\", \"torturar\", \"torturar\", \"tradicional\", \"tradicional\", \"tradicional\", \"transmision\", \"transmision\", \"transmision\", \"tratamiento\", \"tratamiento\", \"tratamiento\", \"ultimos_desmentidos\", \"ultimos_desmentidos\", \"ultimos_desmentidos\", \"usar\", \"usar\", \"usar\", \"uso_prolongado\", \"uso_prolongado\", \"uso_prolongado\", \"uso_prolongado\", \"usuario\", \"usuario\", \"usuario\", \"vacuno\", \"vacuno\", \"vacuno\", \"velar\", \"velar\", \"velar\", \"vello\", \"vello\", \"vello\", \"vello\", \"veneciano\", \"veneciano\", \"veneciano\", \"ver\", \"ver\", \"ver\", \"verificaci\\u00f3n\", \"verificaci\\u00f3n\", \"verificaci\\u00f3n\", \"verificador\", \"verificador\", \"verificador\", \"versar\", \"versar\", \"versar\", \"vicepresidente\", \"vicepresidente\", \"vicepresidente\", \"video\", \"video\", \"video\", \"videojuego\", \"videojuego\", \"videojuego\", \"violar\", \"violar\", \"violar\", \"virus\", \"virus\", \"virus\", \"volveran\", \"volveran\", \"volveran\", \"votaci\\u00f3n\", \"votaci\\u00f3n\", \"votaci\\u00f3n\", \"votar\", \"votar\", \"votar\", \"voto\", \"voto\", \"voto\", \"\\u00b5g\", \"\\u00b5g\", \"\\u00b5g\", \"\\u00b5g\"]}, \"R\": 30, \"lambda.step\": 0.01, \"plot.opts\": {\"xlab\": \"PC1\", \"ylab\": \"PC2\"}, \"topic.order\": [8, 12, 1, 5, 4, 11, 6, 3, 2, 9, 7, 10]};\n",
              "\n",
              "function LDAvis_load_lib(url, callback){\n",
              "  var s = document.createElement('script');\n",
              "  s.src = url;\n",
              "  s.async = true;\n",
              "  s.onreadystatechange = s.onload = callback;\n",
              "  s.onerror = function(){console.warn(\"failed to load library \" + url);};\n",
              "  document.getElementsByTagName(\"head\")[0].appendChild(s);\n",
              "}\n",
              "\n",
              "if(typeof(LDAvis) !== \"undefined\"){\n",
              "   // already loaded: just create the visualization\n",
              "   !function(LDAvis){\n",
              "       new LDAvis(\"#\" + \"ldavis_el8561400570606272804078857602\", ldavis_el8561400570606272804078857602_data);\n",
              "   }(LDAvis);\n",
              "}else if(typeof define === \"function\" && define.amd){\n",
              "   // require.js is available: use it to load d3/LDAvis\n",
              "   require.config({paths: {d3: \"https://d3js.org/d3.v5\"}});\n",
              "   require([\"d3\"], function(d3){\n",
              "      window.d3 = d3;\n",
              "      LDAvis_load_lib(\"https://cdn.jsdelivr.net/gh/bmabey/pyLDAvis@3.3.1/pyLDAvis/js/ldavis.v3.0.0.js\", function(){\n",
              "        new LDAvis(\"#\" + \"ldavis_el8561400570606272804078857602\", ldavis_el8561400570606272804078857602_data);\n",
              "      });\n",
              "    });\n",
              "}else{\n",
              "    // require.js not available: dynamically load d3 & LDAvis\n",
              "    LDAvis_load_lib(\"https://d3js.org/d3.v5.js\", function(){\n",
              "         LDAvis_load_lib(\"https://cdn.jsdelivr.net/gh/bmabey/pyLDAvis@3.3.1/pyLDAvis/js/ldavis.v3.0.0.js\", function(){\n",
              "                 new LDAvis(\"#\" + \"ldavis_el8561400570606272804078857602\", ldavis_el8561400570606272804078857602_data);\n",
              "            })\n",
              "         });\n",
              "}\n",
              "</script>"
            ],
            "text/plain": [
              "PreparedData(topic_coordinates=              x         y  topics  cluster       Freq\n",
              "topic                                                \n",
              "7     -0.219092 -0.083130       1        1  45.823183\n",
              "11    -0.241593 -0.076591       2        1  40.196553\n",
              "0     -0.179883  0.191512       3        1  13.080754\n",
              "4      0.076047 -0.003931       4        1   0.553759\n",
              "3      0.072830 -0.004433       5        1   0.247576\n",
              "10     0.070569 -0.003428       6        1   0.036543\n",
              "5      0.070200 -0.003352       7        1   0.018714\n",
              "2      0.070470 -0.003499       8        1   0.015129\n",
              "1      0.070161 -0.003282       9        1   0.011092\n",
              "8      0.070124 -0.003312      10        1   0.008347\n",
              "6      0.070084 -0.003277      11        1   0.004175\n",
              "9      0.070084 -0.003277      12        1   0.004175, topic_info=             Term         Freq        Total Category  logprob  loglift\n",
              "2440         bulo  1458.000000  1458.000000  Default  30.0000  30.0000\n",
              "128         virus  2289.000000  2289.000000  Default  29.0000  29.0000\n",
              "198       tambien  1980.000000  1980.000000  Default  28.0000  28.0000\n",
              "740         junio  1077.000000  1077.000000  Default  27.0000  27.0000\n",
              "1843     batallar   497.000000   497.000000  Default  26.0000  26.0000\n",
              "...           ...          ...          ...      ...      ...      ...\n",
              "25        conocer     0.001049   271.810630  Topic12  -9.3831  -2.3811\n",
              "26      consultar     0.001049   285.024743  Topic12  -9.3831  -2.4285\n",
              "27    coronavirus     0.001049  3060.944354  Topic12  -9.3831  -4.8024\n",
              "28          coser     0.001049   115.705020  Topic12  -9.3831  -1.5270\n",
              "29          creer     0.001049   241.485761  Topic12  -9.3831  -2.2628\n",
              "\n",
              "[673 rows x 6 columns], token_table=       Topic      Freq    Term\n",
              "term                          \n",
              "0          1  0.860376   abril\n",
              "0          2  0.130892   abril\n",
              "0          3  0.007981   abril\n",
              "4444       1  0.013317  acidar\n",
              "4444       2  0.958858  acidar\n",
              "...      ...       ...     ...\n",
              "4230       3  0.096686    voto\n",
              "11454      1  0.272527      µg\n",
              "11454      2  0.272527      µg\n",
              "11454      3  0.272527      µg\n",
              "11454      4  0.272527      µg\n",
              "\n",
              "[1575 rows x 3 columns], R=30, lambda_step=0.01, plot_opts={'xlab': 'PC1', 'ylab': 'PC2'}, topic_order=[8, 12, 1, 5, 4, 11, 6, 3, 2, 9, 7, 10])"
            ]
          },
          "metadata": {
            "tags": []
          },
          "execution_count": 25
        }
      ]
    },
    {
      "cell_type": "code",
      "metadata": {
        "colab": {
          "base_uri": "https://localhost:8080/"
        },
        "id": "i49Bzmb7nTOF",
        "outputId": "82443d88-2706-4884-a027-c560168451f5"
      },
      "source": [
        "#pip installing stuff\n",
        "!pip install --upgrade gensim"
      ],
      "execution_count": null,
      "outputs": [
        {
          "output_type": "stream",
          "text": [
            "Requirement already up-to-date: gensim in /usr/local/lib/python3.7/dist-packages (4.0.1)\n",
            "Requirement already satisfied, skipping upgrade: numpy>=1.11.3 in /usr/local/lib/python3.7/dist-packages (from gensim) (1.20.2)\n",
            "Requirement already satisfied, skipping upgrade: smart-open>=1.8.1 in /usr/local/lib/python3.7/dist-packages (from gensim) (5.0.0)\n",
            "Requirement already satisfied, skipping upgrade: scipy>=0.18.1 in /usr/local/lib/python3.7/dist-packages (from gensim) (1.4.1)\n"
          ],
          "name": "stdout"
        }
      ]
    },
    {
      "cell_type": "code",
      "metadata": {
        "colab": {
          "base_uri": "https://localhost:8080/"
        },
        "id": "JszzIUtFnYKe",
        "outputId": "9c6d7ade-18cf-4683-a8ef-5d710c64dea0"
      },
      "source": [
        "!pip install pyldavis"
      ],
      "execution_count": null,
      "outputs": [
        {
          "output_type": "stream",
          "text": [
            "Requirement already satisfied: pyldavis in /usr/local/lib/python3.7/dist-packages (3.3.1)\n",
            "Requirement already satisfied: numexpr in /usr/local/lib/python3.7/dist-packages (from pyldavis) (2.7.3)\n",
            "Requirement already satisfied: funcy in /usr/local/lib/python3.7/dist-packages (from pyldavis) (1.15)\n",
            "Requirement already satisfied: numpy>=1.20.0 in /usr/local/lib/python3.7/dist-packages (from pyldavis) (1.20.2)\n",
            "Requirement already satisfied: sklearn in /usr/local/lib/python3.7/dist-packages (from pyldavis) (0.0)\n",
            "Requirement already satisfied: pandas>=1.2.0 in /usr/local/lib/python3.7/dist-packages (from pyldavis) (1.2.4)\n",
            "Requirement already satisfied: jinja2 in /usr/local/lib/python3.7/dist-packages (from pyldavis) (2.11.3)\n",
            "Requirement already satisfied: joblib in /usr/local/lib/python3.7/dist-packages (from pyldavis) (1.0.1)\n",
            "Requirement already satisfied: future in /usr/local/lib/python3.7/dist-packages (from pyldavis) (0.16.0)\n",
            "Requirement already satisfied: setuptools in /usr/local/lib/python3.7/dist-packages (from pyldavis) (54.2.0)\n",
            "Requirement already satisfied: gensim in /usr/local/lib/python3.7/dist-packages (from pyldavis) (4.0.1)\n",
            "Requirement already satisfied: scipy in /usr/local/lib/python3.7/dist-packages (from pyldavis) (1.4.1)\n",
            "Requirement already satisfied: scikit-learn in /usr/local/lib/python3.7/dist-packages (from pyldavis) (0.22.2.post1)\n",
            "Requirement already satisfied: python-dateutil>=2.7.3 in /usr/local/lib/python3.7/dist-packages (from pandas>=1.2.0->pyldavis) (2.8.1)\n",
            "Requirement already satisfied: pytz>=2017.3 in /usr/local/lib/python3.7/dist-packages (from pandas>=1.2.0->pyldavis) (2018.9)\n",
            "Requirement already satisfied: MarkupSafe>=0.23 in /usr/local/lib/python3.7/dist-packages (from jinja2->pyldavis) (1.1.1)\n",
            "Requirement already satisfied: smart-open>=1.8.1 in /usr/local/lib/python3.7/dist-packages (from gensim->pyldavis) (5.0.0)\n",
            "Requirement already satisfied: six>=1.5 in /usr/local/lib/python3.7/dist-packages (from python-dateutil>=2.7.3->pandas>=1.2.0->pyldavis) (1.15.0)\n"
          ],
          "name": "stdout"
        }
      ]
    },
    {
      "cell_type": "code",
      "metadata": {
        "colab": {
          "base_uri": "https://localhost:8080/"
        },
        "id": "qu5yUvtjnbfJ",
        "outputId": "cd150a36-2aea-4e99-ed2e-d7fc9ad2ee34"
      },
      "source": [
        "!pip install spacy"
      ],
      "execution_count": null,
      "outputs": [
        {
          "output_type": "stream",
          "text": [
            "Requirement already satisfied: spacy in /usr/local/lib/python3.7/dist-packages (2.2.4)\n",
            "Requirement already satisfied: srsly<1.1.0,>=1.0.2 in /usr/local/lib/python3.7/dist-packages (from spacy) (1.0.5)\n",
            "Requirement already satisfied: tqdm<5.0.0,>=4.38.0 in /usr/local/lib/python3.7/dist-packages (from spacy) (4.41.1)\n",
            "Requirement already satisfied: murmurhash<1.1.0,>=0.28.0 in /usr/local/lib/python3.7/dist-packages (from spacy) (1.0.5)\n",
            "Requirement already satisfied: catalogue<1.1.0,>=0.0.7 in /usr/local/lib/python3.7/dist-packages (from spacy) (1.0.0)\n",
            "Requirement already satisfied: setuptools in /usr/local/lib/python3.7/dist-packages (from spacy) (54.2.0)\n",
            "Requirement already satisfied: cymem<2.1.0,>=2.0.2 in /usr/local/lib/python3.7/dist-packages (from spacy) (2.0.5)\n",
            "Requirement already satisfied: requests<3.0.0,>=2.13.0 in /usr/local/lib/python3.7/dist-packages (from spacy) (2.23.0)\n",
            "Requirement already satisfied: thinc==7.4.0 in /usr/local/lib/python3.7/dist-packages (from spacy) (7.4.0)\n",
            "Requirement already satisfied: wasabi<1.1.0,>=0.4.0 in /usr/local/lib/python3.7/dist-packages (from spacy) (0.8.2)\n",
            "Requirement already satisfied: preshed<3.1.0,>=3.0.2 in /usr/local/lib/python3.7/dist-packages (from spacy) (3.0.5)\n",
            "Requirement already satisfied: numpy>=1.15.0 in /usr/local/lib/python3.7/dist-packages (from spacy) (1.20.2)\n",
            "Requirement already satisfied: plac<1.2.0,>=0.9.6 in /usr/local/lib/python3.7/dist-packages (from spacy) (1.1.3)\n",
            "Requirement already satisfied: blis<0.5.0,>=0.4.0 in /usr/local/lib/python3.7/dist-packages (from spacy) (0.4.1)\n",
            "Requirement already satisfied: importlib-metadata>=0.20; python_version < \"3.8\" in /usr/local/lib/python3.7/dist-packages (from catalogue<1.1.0,>=0.0.7->spacy) (3.10.0)\n",
            "Requirement already satisfied: urllib3!=1.25.0,!=1.25.1,<1.26,>=1.21.1 in /usr/local/lib/python3.7/dist-packages (from requests<3.0.0,>=2.13.0->spacy) (1.24.3)\n",
            "Requirement already satisfied: chardet<4,>=3.0.2 in /usr/local/lib/python3.7/dist-packages (from requests<3.0.0,>=2.13.0->spacy) (3.0.4)\n",
            "Requirement already satisfied: certifi>=2017.4.17 in /usr/local/lib/python3.7/dist-packages (from requests<3.0.0,>=2.13.0->spacy) (2020.12.5)\n",
            "Requirement already satisfied: idna<3,>=2.5 in /usr/local/lib/python3.7/dist-packages (from requests<3.0.0,>=2.13.0->spacy) (2.10)\n",
            "Requirement already satisfied: typing-extensions>=3.6.4; python_version < \"3.8\" in /usr/local/lib/python3.7/dist-packages (from importlib-metadata>=0.20; python_version < \"3.8\"->catalogue<1.1.0,>=0.0.7->spacy) (3.7.4.3)\n",
            "Requirement already satisfied: zipp>=0.5 in /usr/local/lib/python3.7/dist-packages (from importlib-metadata>=0.20; python_version < \"3.8\"->catalogue<1.1.0,>=0.0.7->spacy) (3.4.1)\n"
          ],
          "name": "stdout"
        }
      ]
    },
    {
      "cell_type": "code",
      "metadata": {
        "colab": {
          "base_uri": "https://localhost:8080/"
        },
        "id": "1g-rNqiNzpOZ",
        "outputId": "af5e8df9-ea06-4cfe-88f5-7c79d7300a12"
      },
      "source": [
        "!python -m spacy download es_core_news_md"
      ],
      "execution_count": null,
      "outputs": [
        {
          "output_type": "stream",
          "text": [
            "Requirement already satisfied: es_core_news_md==2.2.5 from https://github.com/explosion/spacy-models/releases/download/es_core_news_md-2.2.5/es_core_news_md-2.2.5.tar.gz#egg=es_core_news_md==2.2.5 in /usr/local/lib/python3.7/dist-packages (2.2.5)\n",
            "Requirement already satisfied: spacy>=2.2.2 in /usr/local/lib/python3.7/dist-packages (from es_core_news_md==2.2.5) (2.2.4)\n",
            "Requirement already satisfied: murmurhash<1.1.0,>=0.28.0 in /usr/local/lib/python3.7/dist-packages (from spacy>=2.2.2->es_core_news_md==2.2.5) (1.0.5)\n",
            "Requirement already satisfied: srsly<1.1.0,>=1.0.2 in /usr/local/lib/python3.7/dist-packages (from spacy>=2.2.2->es_core_news_md==2.2.5) (1.0.5)\n",
            "Requirement already satisfied: plac<1.2.0,>=0.9.6 in /usr/local/lib/python3.7/dist-packages (from spacy>=2.2.2->es_core_news_md==2.2.5) (1.1.3)\n",
            "Requirement already satisfied: blis<0.5.0,>=0.4.0 in /usr/local/lib/python3.7/dist-packages (from spacy>=2.2.2->es_core_news_md==2.2.5) (0.4.1)\n",
            "Requirement already satisfied: tqdm<5.0.0,>=4.38.0 in /usr/local/lib/python3.7/dist-packages (from spacy>=2.2.2->es_core_news_md==2.2.5) (4.41.1)\n",
            "Requirement already satisfied: cymem<2.1.0,>=2.0.2 in /usr/local/lib/python3.7/dist-packages (from spacy>=2.2.2->es_core_news_md==2.2.5) (2.0.5)\n",
            "Requirement already satisfied: wasabi<1.1.0,>=0.4.0 in /usr/local/lib/python3.7/dist-packages (from spacy>=2.2.2->es_core_news_md==2.2.5) (0.8.2)\n",
            "Requirement already satisfied: catalogue<1.1.0,>=0.0.7 in /usr/local/lib/python3.7/dist-packages (from spacy>=2.2.2->es_core_news_md==2.2.5) (1.0.0)\n",
            "Requirement already satisfied: numpy>=1.15.0 in /usr/local/lib/python3.7/dist-packages (from spacy>=2.2.2->es_core_news_md==2.2.5) (1.20.2)\n",
            "Requirement already satisfied: setuptools in /usr/local/lib/python3.7/dist-packages (from spacy>=2.2.2->es_core_news_md==2.2.5) (54.2.0)\n",
            "Requirement already satisfied: preshed<3.1.0,>=3.0.2 in /usr/local/lib/python3.7/dist-packages (from spacy>=2.2.2->es_core_news_md==2.2.5) (3.0.5)\n",
            "Requirement already satisfied: thinc==7.4.0 in /usr/local/lib/python3.7/dist-packages (from spacy>=2.2.2->es_core_news_md==2.2.5) (7.4.0)\n",
            "Requirement already satisfied: requests<3.0.0,>=2.13.0 in /usr/local/lib/python3.7/dist-packages (from spacy>=2.2.2->es_core_news_md==2.2.5) (2.23.0)\n",
            "Requirement already satisfied: importlib-metadata>=0.20; python_version < \"3.8\" in /usr/local/lib/python3.7/dist-packages (from catalogue<1.1.0,>=0.0.7->spacy>=2.2.2->es_core_news_md==2.2.5) (3.10.0)\n",
            "Requirement already satisfied: urllib3!=1.25.0,!=1.25.1,<1.26,>=1.21.1 in /usr/local/lib/python3.7/dist-packages (from requests<3.0.0,>=2.13.0->spacy>=2.2.2->es_core_news_md==2.2.5) (1.24.3)\n",
            "Requirement already satisfied: certifi>=2017.4.17 in /usr/local/lib/python3.7/dist-packages (from requests<3.0.0,>=2.13.0->spacy>=2.2.2->es_core_news_md==2.2.5) (2020.12.5)\n",
            "Requirement already satisfied: idna<3,>=2.5 in /usr/local/lib/python3.7/dist-packages (from requests<3.0.0,>=2.13.0->spacy>=2.2.2->es_core_news_md==2.2.5) (2.10)\n",
            "Requirement already satisfied: chardet<4,>=3.0.2 in /usr/local/lib/python3.7/dist-packages (from requests<3.0.0,>=2.13.0->spacy>=2.2.2->es_core_news_md==2.2.5) (3.0.4)\n",
            "Requirement already satisfied: zipp>=0.5 in /usr/local/lib/python3.7/dist-packages (from importlib-metadata>=0.20; python_version < \"3.8\"->catalogue<1.1.0,>=0.0.7->spacy>=2.2.2->es_core_news_md==2.2.5) (3.4.1)\n",
            "Requirement already satisfied: typing-extensions>=3.6.4; python_version < \"3.8\" in /usr/local/lib/python3.7/dist-packages (from importlib-metadata>=0.20; python_version < \"3.8\"->catalogue<1.1.0,>=0.0.7->spacy>=2.2.2->es_core_news_md==2.2.5) (3.7.4.3)\n",
            "\u001b[38;5;2m✔ Download and installation successful\u001b[0m\n",
            "You can now load the model via spacy.load('es_core_news_md')\n"
          ],
          "name": "stdout"
        }
      ]
    },
    {
      "cell_type": "code",
      "metadata": {
        "colab": {
          "base_uri": "https://localhost:8080/"
        },
        "id": "VjzSKN3ynf62",
        "outputId": "3a20e58b-bb8e-4145-cd6a-5107eb328e2b"
      },
      "source": [
        "!pip install python-Levenshtein"
      ],
      "execution_count": null,
      "outputs": [
        {
          "output_type": "stream",
          "text": [
            "Collecting python-Levenshtein\n",
            "\u001b[?25l  Downloading https://files.pythonhosted.org/packages/2a/dc/97f2b63ef0fa1fd78dcb7195aca577804f6b2b51e712516cc0e902a9a201/python-Levenshtein-0.12.2.tar.gz (50kB)\n",
            "\r\u001b[K     |██████▌                         | 10kB 16.2MB/s eta 0:00:01\r\u001b[K     |█████████████                   | 20kB 16.5MB/s eta 0:00:01\r\u001b[K     |███████████████████▌            | 30kB 7.7MB/s eta 0:00:01\r\u001b[K     |██████████████████████████      | 40kB 8.7MB/s eta 0:00:01\r\u001b[K     |████████████████████████████████| 51kB 3.0MB/s \n",
            "\u001b[?25hRequirement already satisfied: setuptools in /usr/local/lib/python3.7/dist-packages (from python-Levenshtein) (54.2.0)\n",
            "Building wheels for collected packages: python-Levenshtein\n",
            "  Building wheel for python-Levenshtein (setup.py) ... \u001b[?25l\u001b[?25hdone\n",
            "  Created wheel for python-Levenshtein: filename=python_Levenshtein-0.12.2-cp37-cp37m-linux_x86_64.whl size=149817 sha256=4bf27b508a4670724afaff042d8c6d956ae5eee22ac62a7afcbb04393c8e12ee\n",
            "  Stored in directory: /root/.cache/pip/wheels/b3/26/73/4b48503bac73f01cf18e52cd250947049a7f339e940c5df8fc\n",
            "Successfully built python-Levenshtein\n",
            "Installing collected packages: python-Levenshtein\n",
            "Successfully installed python-Levenshtein-0.12.2\n"
          ],
          "name": "stdout"
        }
      ]
    }
  ]
}